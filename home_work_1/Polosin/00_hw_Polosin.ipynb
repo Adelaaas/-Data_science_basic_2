{
  "nbformat": 4,
  "nbformat_minor": 0,
  "metadata": {
    "colab": {
      "name": "DA_LESSON1.ipynb",
      "provenance": [],
      "collapsed_sections": []
    },
    "kernelspec": {
      "name": "python3",
      "display_name": "Python 3"
    },
    "language_info": {
      "name": "python"
    }
  },
  "cells": [
    {
      "cell_type": "code",
      "metadata": {
        "id": "2vkNi4UrOukk",
        "colab": {
          "base_uri": "https://localhost:8080/"
        },
        "outputId": "7b38678d-4209-45e0-ba4f-0d4ec4dc5e9d"
      },
      "source": [
        "# Используя генераторы список вывести i-й элемент ряда и список из i элементов равных i в ряду четных цифр от 1 до 7\n",
        "# Для произвольного\n",
        "# n = int(input()) # число элементов\n",
        "# a = [int(input()) for x in range(n)]\n",
        "a = [1,2,3,4,5,6,7]; n = 7\n",
        "b = [[a[i] for k in range(a[i])] for i in range(n) if a[i] % 2 == 0]\n",
        "b"
      ],
      "execution_count": 39,
      "outputs": [
        {
          "output_type": "execute_result",
          "data": {
            "text/plain": [
              "[[2, 2], [4, 4, 4, 4], [6, 6, 6, 6, 6, 6]]"
            ]
          },
          "metadata": {},
          "execution_count": 39
        }
      ]
    },
    {
      "cell_type": "code",
      "metadata": {
        "id": "Li3JFaTS3c7q"
      },
      "source": [
        "# Task 2\n",
        "x = int(input())\n",
        "y = int(input())\n",
        "if ( -1 <= x <= 1 and -1 <= y <= 1):\n",
        "  print(\"YES\")\n",
        "else:\n",
        "  print(\"NO\")"
      ],
      "execution_count": null,
      "outputs": []
    },
    {
      "cell_type": "code",
      "metadata": {
        "id": "_i98cwg33i8R"
      },
      "source": [
        "# Task 3\n",
        "print(\"Input number of elements: \")\n",
        "n = int(input())\n",
        "a = []\n",
        "c = []\n",
        "for i in range(n):  \n",
        "  a.append(int(input()))\n",
        "for i in range(n):\n",
        "  if (a[i] % 2 ==0):\n",
        "    c.append(a[i])\n",
        "c"
      ],
      "execution_count": null,
      "outputs": []
    },
    {
      "cell_type": "code",
      "metadata": {
        "colab": {
          "base_uri": "https://localhost:8080/"
        },
        "id": "Jv4vPbDk6AKg",
        "outputId": "d7f2236f-bf20-4b0d-8d84-a754297a0437"
      },
      "source": [
        "# Task 4\n",
        "name = input()\n",
        "s = 'Привет, {}!'.format(name)\n",
        "print(s)"
      ],
      "execution_count": 48,
      "outputs": [
        {
          "output_type": "stream",
          "name": "stdout",
          "text": [
            "Петя\n",
            "Привет, Петя!\n"
          ]
        }
      ]
    },
    {
      "cell_type": "code",
      "metadata": {
        "colab": {
          "base_uri": "https://localhost:8080/"
        },
        "id": "Ta0Gp3Xv68I2",
        "outputId": "1e9af7e0-f24e-40fb-f68d-6e6976c8ac41"
      },
      "source": [
        "# Task 5\n",
        "number = input()\n",
        "s = 'The next number for the number {0} is {1}. The previous number for the number {0} is {2}.'.format(number, int(number) + 1, int(number) - 1)\n",
        "print(s)"
      ],
      "execution_count": 49,
      "outputs": [
        {
          "output_type": "stream",
          "name": "stdout",
          "text": [
            "1534\n",
            "The next number for the number 1534 is 1535. The previous number for the number 1534 is 1533.\n"
          ]
        }
      ]
    }
  ]
}