{
  "nbformat": 4,
  "nbformat_minor": 0,
  "metadata": {
    "colab": {
      "name": "HomeWork1.ipynb",
      "provenance": [],
      "collapsed_sections": []
    },
    "kernelspec": {
      "name": "python3",
      "display_name": "Python 3"
    },
    "language_info": {
      "name": "python"
    }
  },
  "cells": [
    {
      "cell_type": "markdown",
      "metadata": {
        "id": "F5BmjcXuR5n7"
      },
      "source": [
        "Задание 1"
      ]
    },
    {
      "cell_type": "code",
      "metadata": {
        "colab": {
          "base_uri": "https://localhost:8080/"
        },
        "id": "5CQE4nhlR4p1",
        "outputId": "7160b440-c8f3-4f04-b24f-70c3273c737d"
      },
      "source": [
        "a = [1,2,3,4,5,6,7]\n",
        "i = int(input())\n",
        "print(a[i])\n",
        "print([a[i] for n in range((i)+1)])"
      ],
      "execution_count": 23,
      "outputs": [
        {
          "output_type": "stream",
          "name": "stdout",
          "text": [
            "4\n",
            "5\n",
            "[5, 5, 5, 5, 5]\n"
          ]
        }
      ]
    },
    {
      "cell_type": "markdown",
      "metadata": {
        "id": "fK0s7rF8ObPl"
      },
      "source": [
        "Задача 2"
      ]
    },
    {
      "cell_type": "code",
      "metadata": {
        "colab": {
          "base_uri": "https://localhost:8080/"
        },
        "id": "Gk9mob5TJXZL",
        "outputId": "52a8942b-3775-464f-86f5-4a06d8259298"
      },
      "source": [
        "x = int(input())\n",
        "y = int(input())\n",
        "if (x<=1 and x >= -1) and (y<=1 and y >= -1):\n",
        "  print (\f"Точка Находиться по координатам {x,y} и принадлежит данному квадрату\")\n",
        "else:\n",
        "  print ('Не находиться')"
      ],
      "execution_count": null,
      "outputs": [
        {
          "output_type": "stream",
          "name": "stdout",
          "text": [
            "1\n",
            "-0.5\n",
            "Находиться\n"
          ]
        }
      ]
    },
    {
      "cell_type": "markdown",
      "metadata": {
        "id": "ClwDtC-6OgFW"
      },
      "source": [
        "Задача 3"
      ]
    },
    {
      "cell_type": "code",
      "metadata": {
        "id": "il1q7SJLOkmA",
        "colab": {
          "base_uri": "https://localhost:8080/"
        },
        "outputId": "d7c07941-b456-4fa7-f241-1582ea22782e"
      },
      "source": [
        "a = [6,8,10,9]\n",
        "arr = [i for i in a if i % 2 == 0]\n",
        "print (arr)"
      ],
      "execution_count": 13,
      "outputs": [
        {
          "output_type": "stream",
          "name": "stdout",
          "text": [
            "[6, 8, 10]\n"
          ]
        }
      ]
    },
    {
      "cell_type": "markdown",
      "metadata": {
        "id": "YoE1vzTXPwg5"
      },
      "source": [
        "Задача 4"
      ]
    },
    {
      "cell_type": "code",
      "metadata": {
        "colab": {
          "base_uri": "https://localhost:8080/"
        },
        "id": "kRJV-lqjP0C9",
        "outputId": "25cb8681-65d5-47cd-d4b8-dbfbca822275"
      },
      "source": [
        "name = input()\n",
        "print (f\"Привет, {name}!\")"
      ],
      "execution_count": 16,
      "outputs": [
        {
          "output_type": "stream",
          "name": "stdout",
          "text": [
            "Петя\n",
            "Привет, Петя!\n"
          ]
        }
      ]
    },
    {
      "cell_type": "markdown",
      "metadata": {
        "id": "2dnOt-kPQdGk"
      },
      "source": [
        "Задание 5"
      ]
    },
    {
      "cell_type": "code",
      "metadata": {
        "colab": {
          "base_uri": "https://localhost:8080/"
        },
        "id": "Z1e__-SYQe10",
        "outputId": "fe0c2dc4-5033-4525-c4a0-f153647af4f8"
      },
      "source": [
        "b = int(input())\n",
        "a = b-1\n",
        "c = b+1\n",
        "print (f'The next number for the number {b} is {c}. The previous number for the number {b} is {a}.')"
      ],
      "execution_count": 22,
      "outputs": [
        {
          "output_type": "stream",
          "name": "stdout",
          "text": [
            "1500\n",
            "The next number for the number 1500 is 1499. The previous number for the number 1500 is 1501.\n"
          ]
        }
      ]
    }
  ]
}
