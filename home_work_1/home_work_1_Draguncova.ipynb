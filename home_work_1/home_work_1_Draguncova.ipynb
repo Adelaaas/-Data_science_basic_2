{
  "nbformat": 4,
  "nbformat_minor": 0,
  "metadata": {
    "colab": {
      "name": "home_work_1_Draguncova.ipynb",
      "provenance": []
    },
    "kernelspec": {
      "name": "python3",
      "display_name": "Python 3"
    },
    "language_info": {
      "name": "python"
    }
  },
  "cells": [
    {
      "cell_type": "code",
      "metadata": {
        "id": "-CkIaGZpJ2_D"
      },
      "source": [
        "A = [1, 2, 3, 4, 5, 6, 7]\n",
        "i = int(input())\n",
        "B= [[i]*i for i in A if i % 2 == 0]\n",
        "print(f'{i+1} элемент ряда: {A[i]}')\n",
        "print(B)"
      ],
      "execution_count": null,
      "outputs": []
    },
    {
      "cell_type": "code",
      "metadata": {
        "id": "nkrFzqb4BcmL"
      },
      "source": [
        "x = int(input())\n",
        "y = int(input())\n",
        "if (x<=2 and x>=-2) and (y<=2 and y>=-2):\n",
        "  print(\"принадлежит\")\n",
        "else:\n",
        "  print(\"не принадлежит\")"
      ],
      "execution_count": null,
      "outputs": []
    },
    {
      "cell_type": "code",
      "metadata": {
        "id": "uoIbYZ8-oiF1"
      },
      "source": [
        "N=int(input())\n",
        "A=[int(i) for i in input().split()]\n",
        "R=[]\n",
        "for i in A:\n",
        "  if i%2==0:\n",
        "    R.append(i)\n",
        "print(R)"
      ],
      "execution_count": null,
      "outputs": []
    },
    {
      "cell_type": "code",
      "metadata": {
        "id": "2dQr6xRav56P"
      },
      "source": [
        "n= input()\n",
        "print(f'привет, {n}!')"
      ],
      "execution_count": null,
      "outputs": []
    },
    {
      "cell_type": "code",
      "metadata": {
        "id": "fWNMJD24C6Px"
      },
      "source": [
        "n=int(input())\n",
        "print(f'The next number for the number {n} is {n+1}. The previous number for the number {n} is {n-1}.')"
      ],
      "execution_count": null,
      "outputs": []
    }
  ]
}