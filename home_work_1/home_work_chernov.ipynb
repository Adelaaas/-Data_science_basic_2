{
  "nbformat": 4,
  "nbformat_minor": 0,
  "metadata": {
    "colab": {
      "name": "home_work_chernov.ipynb",
      "provenance": [],
      "collapsed_sections": []
    },
    "kernelspec": {
      "name": "python3",
      "display_name": "Python 3"
    },
    "language_info": {
      "name": "python"
    }
  },
  "cells": [
    {
      "cell_type": "code",
      "metadata": {
        "colab": {
          "base_uri": "https://localhost:8080/"
        },
        "id": "nMxx-uKzUjhl",
        "outputId": "b15002df-7d5e-4603-ee96-6bd46a3ae2c1"
      },
      "source": [
        "# Задача 1\n",
        "print(*[[[i]*i, i] for i in range(1, 7) if i % 2 == 0])"
      ],
      "execution_count": 70,
      "outputs": [
        {
          "output_type": "stream",
          "name": "stdout",
          "text": [
            "[[2, 2], 2] [[4, 4, 4, 4], 4] [[6, 6, 6, 6, 6, 6], 6]\n"
          ]
        }
      ]
    },
    {
      "cell_type": "code",
      "metadata": {
        "colab": {
          "base_uri": "https://localhost:8080/",
          "height": 72
        },
        "id": "APQnUVhkWyKr",
        "outputId": "0aca7cde-c21c-472d-ed99-faf96162c18f"
      },
      "source": [
        "# Задача 2\n",
        "(lambda a, b: f\"Точка{' не' if not (abs(a) <= 1 and abs(b) <= 1) else ''} принадлежит квадрату.\")(float(input()), float(input()))"
      ],
      "execution_count": 71,
      "outputs": [
        {
          "name": "stdout",
          "output_type": "stream",
          "text": [
            "-0.9572\n",
            "9999\n"
          ]
        },
        {
          "output_type": "execute_result",
          "data": {
            "application/vnd.google.colaboratory.intrinsic+json": {
              "type": "string"
            },
            "text/plain": [
              "'Точка не принадлежит квадрату.'"
            ]
          },
          "metadata": {},
          "execution_count": 71
        }
      ]
    },
    {
      "cell_type": "code",
      "metadata": {
        "colab": {
          "base_uri": "https://localhost:8080/"
        },
        "id": "q-HRiPTWZBj5",
        "outputId": "a16e5d7b-a288-44ec-dc6a-0f7c145252b3"
      },
      "source": [
        "# Задача 3\n",
        "print(*[i for i in input().split() if int(i) % 2 == 0])"
      ],
      "execution_count": 72,
      "outputs": [
        {
          "output_type": "stream",
          "name": "stdout",
          "text": [
            "-295 67 1592 0 -300 12\n",
            "1592 0 -300 12\n"
          ]
        }
      ]
    },
    {
      "cell_type": "code",
      "metadata": {
        "colab": {
          "base_uri": "https://localhost:8080/"
        },
        "id": "6PN7RxJ9eHFc",
        "outputId": "9ec11b8e-6005-4ebd-dd96-c6d3327b8ed8"
      },
      "source": [
        "# Задача 4\n",
        "print(f'Привет, {input()}!')"
      ],
      "execution_count": 73,
      "outputs": [
        {
          "output_type": "stream",
          "name": "stdout",
          "text": [
            "Скруша\n",
            "Привет, Скруша!\n"
          ]
        }
      ]
    },
    {
      "cell_type": "code",
      "metadata": {
        "colab": {
          "base_uri": "https://localhost:8080/"
        },
        "id": "edaOr9zle1Dt",
        "outputId": "18f5e535-f95c-4f1b-e84f-3fc1bb6c5e44"
      },
      "source": [
        "# Задача 5\n",
        "print((lambda x: f'The next number for the number {x} is {x+1}. The previous number for the number {x} is {x-1}')(int(input())))"
      ],
      "execution_count": 74,
      "outputs": [
        {
          "output_type": "stream",
          "name": "stdout",
          "text": [
            "1511\n",
            "The next number for the number 1511 is 1512. The previous number for the number 1511 is 1510\n"
          ]
        }
      ]
    },
    {
      "cell_type": "markdown",
      "metadata": {
        "id": "a67RADt0hIzR"
      },
      "source": [
        "Нет, это не флекс, вам показалось."
      ]
    }
  ]
}