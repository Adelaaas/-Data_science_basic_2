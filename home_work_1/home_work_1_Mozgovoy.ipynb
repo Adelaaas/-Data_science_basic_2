{
  "nbformat": 4,
  "nbformat_minor": 0,
  "metadata": {
    "colab": {
      "name": "home_work_1_Mozgovoy.ipynb",
      "provenance": []
    },
    "kernelspec": {
      "name": "python3",
      "display_name": "Python 3"
    },
    "language_info": {
      "name": "python"
    }
  },
  "cells": [
    {
      "cell_type": "code",
      "metadata": {
        "id": "6_Qpvr3BzepN"
      },
      "source": [
        "listpart1 = [1, 2, 3, 4, 5, 6, 7]\n",
        "i = int(input())\n",
        "print(i)\n",
        "listpart2 = []\n",
        "for i in listpart1:\n",
        "    if i % 2 == 0:\n",
        "       listpart2.append([i]*i)\n",
        "print(listpart2)"
      ],
      "execution_count": null,
      "outputs": []
    },
    {
      "cell_type": "code",
      "metadata": {
        "id": "Ds0zAtz4zv8s"
      },
      "source": [
        "x = float(input())\n",
        "y = float(input())\n",
        "if x >= -1 and x <= 1 and y >= -1 and y <= 1:\n",
        "    print('YES')\n",
        "else:\n",
        "    print('NO')"
      ],
      "execution_count": null,
      "outputs": []
    },
    {
      "cell_type": "code",
      "metadata": {
        "id": "k-5wrY4Oz1Pp"
      },
      "source": [
        "lists = list(map(int, input().split()))\n",
        "for i in lists:\n",
        "    if i % 2 == 0:\n",
        "        print(i, end=' ')"
      ],
      "execution_count": null,
      "outputs": []
    },
    {
      "cell_type": "code",
      "metadata": {
        "id": "ACksvP07z4fM"
      },
      "source": [
        "   \n",
        "name = input()\n",
        "print(f'Привет, {name}!')"
      ],
      "execution_count": null,
      "outputs": []
    },
    {
      "cell_type": "code",
      "metadata": {
        "colab": {
          "base_uri": "https://localhost:8080/"
        },
        "id": "Gsnw7YKuz8Yx",
        "outputId": "afe440c9-6804-448c-8cc2-ac66de77601a"
      },
      "source": [
        "n = int(input())\n",
        "print(f'The next number for the number {n} is {n + 1}. The previous number for the number {n} is {n - 1}.')"
      ],
      "execution_count": 1,
      "outputs": [
        {
          "output_type": "stream",
          "name": "stdout",
          "text": [
            "1534\n",
            "The next number for the number 1534 is 1535. The previous number for the number 1534 is 1533.\n"
          ]
        }
      ]
    }
  ]
}