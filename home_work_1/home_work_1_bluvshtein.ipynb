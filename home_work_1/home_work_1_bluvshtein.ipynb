{
  "nbformat": 4,
  "nbformat_minor": 0,
  "metadata": {
    "colab": {
      "name": "Untitled1.ipynb",
      "provenance": [],
      "collapsed_sections": []
    },
    "kernelspec": {
      "name": "python3",
      "display_name": "Python 3"
    },
    "language_info": {
      "name": "python"
    }
  },
  "cells": [
    {
      "cell_type": "markdown",
      "metadata": {
        "id": "nHshKlinItI_"
      },
      "source": [
        "задание 1 "
      ]
    },
    {
      "cell_type": "code",
      "metadata": {
        "id": "XeMhP0wFIyzE",
        "colab": {
          "base_uri": "https://localhost:8080/"
        },
        "outputId": "466c8a04-ec7c-4268-f0fd-c2fff88888c5"
      },
      "source": [
        "list1 = [1,2,3,4,5,6,7]\n",
        "i = int(input())\n",
        "print(f\"{i+1}-й элемент ряда: {list1[i]}\")\n",
        "list2= [[i]*i for i in list1 if i % 2 == 0]\n",
        "print(list2)\n"
      ],
      "execution_count": 23,
      "outputs": [
        {
          "output_type": "stream",
          "name": "stdout",
          "text": [
            "4\n",
            "5-й элемент ряда: 5\n",
            "[[2, 2], [4, 4, 4, 4], [6, 6, 6, 6, 6, 6]]\n"
          ]
        }
      ]
    },
    {
      "cell_type": "markdown",
      "metadata": {
        "id": "uhurG1LsIzTE"
      },
      "source": [
        "задание 2"
      ]
    },
    {
      "cell_type": "code",
      "metadata": {
        "id": "ZODC0i1II1I7"
      },
      "source": [
        "x=int(input())\n",
        "y=int(input())\n",
        "if (x<=2 and x>=-2) and (y<=2 and y>=-2):\n",
        "  print('принадлежит')\n",
        "else:\n",
        "  print(\"не принадлежат\")"
      ],
      "execution_count": null,
      "outputs": []
    },
    {
      "cell_type": "markdown",
      "metadata": {
        "id": "SIxWbugFI2C8"
      },
      "source": [
        "задание 3 "
      ]
    },
    {
      "cell_type": "code",
      "metadata": {
        "id": "HeQHzKQZI3zb"
      },
      "source": [
        "n=int(input())\n",
        "A=[int(n) for n in input().split()]\n",
        "b=[]\n",
        "for i in A:\n",
        "  if i%2==0:\n",
        "    b.append(i)\n",
        "print(b)"
      ],
      "execution_count": null,
      "outputs": []
    },
    {
      "cell_type": "markdown",
      "metadata": {
        "id": "S9xDXP6KI4jb"
      },
      "source": [
        "задание 4"
      ]
    },
    {
      "cell_type": "code",
      "metadata": {
        "id": "KhWN71TPI8Fk"
      },
      "source": [
        "name=input()\n",
        "print(f'Привет, {name}!')"
      ],
      "execution_count": null,
      "outputs": []
    },
    {
      "cell_type": "markdown",
      "metadata": {
        "id": "9kelU7E9I8s8"
      },
      "source": [
        "задание 5"
      ]
    },
    {
      "cell_type": "code",
      "metadata": {
        "id": "9uWbck6VI98k"
      },
      "source": [
        "number=int(input())\n",
        "print(f'The next number for the number {number} is {number+1}. The previous number for the number {number} is {number-1}.')"
      ],
      "execution_count": null,
      "outputs": []
    }
  ]
}
