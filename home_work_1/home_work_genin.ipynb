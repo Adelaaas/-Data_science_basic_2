{
  "nbformat": 4,
  "nbformat_minor": 0,
  "metadata": {
    "colab": {
      "name": "home_work_genin.ipynb",
      "provenance": [],
      "collapsed_sections": []
    },
    "kernelspec": {
      "name": "python3",
      "display_name": "Python 3"
    },
    "language_info": {
      "name": "python"
    }
  },
  "cells": [
    {
      "cell_type": "code",
      "metadata": {
        "id": "c6v9F9N7Fk6d"
      },
      "source": [
        "#№1\n",
        "a=[1, 2, 3, 4, 5, 6, 7]\n",
        "print(*[[i,[i]*i] for i in a[1:7:2]])\n"
      ],
      "execution_count": null,
      "outputs": []
    },
    {
      "cell_type": "code",
      "metadata": {
        "id": "yWmbT2veIaxy"
      },
      "source": [
        "#№2\n",
        "x=int(input())\n",
        "y=int(input())\n",
        "if abs(x)<=1 and abs(y)<=1:\n",
        "  print('Точка принадлежит квадрату с центром в (0,0) и размером стороны 2.')\n",
        "else:\n",
        "  print('Точка не принадлежит квадрату с центром в (0,0) и размером стороны 2.')"
      ],
      "execution_count": null,
      "outputs": []
    },
    {
      "cell_type": "code",
      "metadata": {
        "id": "H9ue30ASIa-N"
      },
      "source": [
        "#№3\n",
        "a=[6,1,3,5,12,6,9,5,4,3,3,5,1]\n",
        "b=[i for i in a if i%2==0]\n",
        "b"
      ],
      "execution_count": null,
      "outputs": []
    },
    {
      "cell_type": "code",
      "metadata": {
        "id": "oJ2TYjR3IbGe"
      },
      "source": [
        "#№4\n",
        "name=input()\n",
        "print(f'Привет,{name}!')"
      ],
      "execution_count": null,
      "outputs": []
    },
    {
      "cell_type": "code",
      "metadata": {
        "id": "OyeICGZ2IbQ7"
      },
      "source": [
        "#№5\n",
        "a=int(input())\n",
        "print(f'The next number for the number {a} is {a+1}. The previous number for the number {a} is {a-1}.')"
      ],
      "execution_count": null,
      "outputs": []
    }
  ]
}