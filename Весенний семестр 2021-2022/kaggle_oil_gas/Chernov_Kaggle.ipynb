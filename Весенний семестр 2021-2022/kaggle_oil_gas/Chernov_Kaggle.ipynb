{
 "cells": [
  {
   "cell_type": "code",
   "execution_count": 1,
   "id": "9e48ed32-f086-4087-8680-b0be38d277cb",
   "metadata": {},
   "outputs": [],
   "source": [
    "import pandas as pd\n",
    "import numpy as np\n",
    "import matplotlib.pyplot as plt\n",
    "from sklearn.linear_model import LogisticRegression\n",
    "from sklearn import preprocessing\n",
    "from sklearn.metrics import accuracy_score\n",
    "from sklearn.model_selection import train_test_split\n",
    "from sklearn.preprocessing import StandardScaler, MinMaxScaler\n",
    "from imblearn.over_sampling import SMOTE\n",
    "train2 = pd.read_csv('train_final.csv')\n",
    "train = pd.DataFrame(train2.loc[245:])\n",
    "test = pd.read_csv('test_final.csv')"
   ]
  },
  {
   "cell_type": "code",
   "execution_count": 2,
   "id": "22ca7a57-4542-426d-9e58-a933c71cdbe5",
   "metadata": {},
   "outputs": [],
   "source": [
    "dict, dict1 = [], []\n",
    "for element in train2['Tectonic regime']:\n",
    "    strs = element.split(\"/\")\n",
    "    for str in strs:\n",
    "        if dict.count(str) == 0:\n",
    "            dict.append(str)\n",
    "for typ in dict:\n",
    "    for index in train.index:\n",
    "        train.at[index, typ] = 1 if train.at[index, 'Tectonic regime'].split('/').count(typ) != 0 else 0\n",
    "        \n",
    "for element in train2['Structural setting']:\n",
    "    strs = element.split(\"/\")\n",
    "    for str in strs:\n",
    "        if dict1.count(str) == 0:\n",
    "            dict1.append(str)\n",
    "for typ in dict1:\n",
    "    for index in train.index:\n",
    "        train.at[index, typ] = 1 if train.at[index, 'Structural setting'].split('/').count(typ) != 0 else 0\n",
    "\n",
    "for name in ['Onshore/Offshore', 'Hydrocarbon type', 'Reservoir status', 'Period', 'Lithology']:\n",
    "    label_encoder = preprocessing.LabelEncoder() \n",
    "    train[name] = label_encoder.fit_transform(train[name]);"
   ]
  },
  {
   "cell_type": "code",
   "execution_count": 3,
   "id": "729ce9e6-6f92-48df-975a-556d9a8ed5e6",
   "metadata": {},
   "outputs": [],
   "source": [
    "for typ in dict:\n",
    "    for index in test.index:\n",
    "        test.at[index, typ] = 1 if test.at[index, 'Tectonic regime'].split('/').count(typ) != 0 else 0\n",
    "for typ in dict1:\n",
    "    for index in test.index:\n",
    "        test.at[index, typ] = 1 if test.at[index, 'Structural setting'].split('/').count(typ) != 0 else 0\n",
    "\n",
    "for name in ['Hydrocarbon type', 'Reservoir status', 'Period', 'Lithology']:\n",
    "    label_encoder = preprocessing.LabelEncoder() \n",
    "    test[name] = label_encoder.fit_transform(test[name]);"
   ]
  },
  {
   "cell_type": "code",
   "execution_count": 4,
   "id": "abc60526-7161-4bed-a7b5-6915afa03d80",
   "metadata": {},
   "outputs": [],
   "source": [
    "X1 = train.drop(['Onshore/Offshore', 'Structural setting', 'Tectonic regime'], axis=1)\n",
    "test = test.drop(['Structural setting', 'Tectonic regime'], axis = 1)\n",
    "y1 = train['Onshore/Offshore']\n",
    "\"\"\"\n",
    "scaler = MinMaxScaler([0,1])\n",
    "X_st = scaler.fit_transform(X)\n",
    "\"\"\"\n",
    "scaler = StandardScaler()\n",
    "X_st = scaler.fit_transform(X1)\n",
    "oversample = SMOTE(k_neighbors=4)\n",
    "X, y = oversample.fit_resample(X_st, y1)\n",
    "scaler2 = StandardScaler()\n",
    "test = scaler2.fit_transform(test)"
   ]
  },
  {
   "cell_type": "code",
   "execution_count": 5,
   "id": "ee6e9d79-953f-4620-8f75-690549c0a2eb",
   "metadata": {},
   "outputs": [
    {
     "data": {
      "text/plain": [
       "0.8"
      ]
     },
     "execution_count": 5,
     "metadata": {},
     "output_type": "execute_result"
    }
   ],
   "source": [
    "X_train, X_test, y_train, y_test = train_test_split(X, y, test_size=0.3)\n",
    "model = LogisticRegression()\n",
    "model.fit(X_train, y_train)\n",
    "answers_pred = model.predict(X_test)\n",
    "accuracy_score(y_test,answers_pred)"
   ]
  },
  {
   "cell_type": "code",
   "execution_count": 6,
   "id": "a520742e-dbac-4946-9ee2-782965bcc03e",
   "metadata": {},
   "outputs": [],
   "source": [
    "predictions = model.predict(test)\n",
    "dic = ['OFFSHORE', 'ONSHORE', 'ONSHORE-OFFSHORE']\n",
    "a, b, y = [], [], 0\n",
    "for predict in predictions:\n",
    "    a.append(y)\n",
    "    b.append(dic[predict])\n",
    "    y += 1\n",
    "final_prediction = pd.DataFrame({'index':a,'Onshore/Offshore':b})\n",
    "final_prediction.shape\n",
    "final_prediction.to_csv('final_prediction.csv', index=False)"
   ]
  },
  {
   "cell_type": "code",
   "execution_count": null,
   "id": "a45bb521-15cc-47b8-b049-cb665f3127c4",
   "metadata": {},
   "outputs": [],
   "source": []
  }
 ],
 "metadata": {
  "kernelspec": {
   "display_name": "Python 3 (ipykernel)",
   "language": "python",
   "name": "python3"
  },
  "language_info": {
   "codemirror_mode": {
    "name": "ipython",
    "version": 3
   },
   "file_extension": ".py",
   "mimetype": "text/x-python",
   "name": "python",
   "nbconvert_exporter": "python",
   "pygments_lexer": "ipython3",
   "version": "3.10.2"
  }
 },
 "nbformat": 4,
 "nbformat_minor": 5
}
