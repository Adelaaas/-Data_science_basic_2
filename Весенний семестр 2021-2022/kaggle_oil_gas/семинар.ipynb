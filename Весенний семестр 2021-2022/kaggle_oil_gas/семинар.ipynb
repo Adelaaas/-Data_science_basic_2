{
  "nbformat": 4,
  "nbformat_minor": 0,
  "metadata": {
    "colab": {
      "name": "семинар.ipynb",
      "provenance": [],
      "toc_visible": true
    },
    "kernelspec": {
      "name": "python3",
      "display_name": "Python 3"
    },
    "language_info": {
      "name": "python"
    }
  },
  "cells": [
    {
      "cell_type": "code",
      "execution_count": 213,
      "metadata": {
        "id": "4tVlMKBWPrw_"
      },
      "outputs": [],
      "source": [
        "import pandas as pd\n",
        "from google.colab import files\n",
        "from sklearn import preprocessing\n",
        "from sklearn.model_selection import train_test_split\n",
        "import numpy as np\n",
        "import matplotlib.pyplot as plt\n",
        "from sklearn.metrics import accuracy_score\n",
        "from sklearn.linear_model import LogisticRegression\n",
        "from sklearn.preprocessing import StandardScaler\n",
        "from sklearn.neighbors import KNeighborsClassifier\n",
        "from sklearn.metrics import accuracy_score\n",
        "from sklearn.tree import DecisionTreeClassifier\n",
        "from xgboost import XGBClassifier\n",
        "import xgboost as xgb"
      ]
    },
    {
      "cell_type": "code",
      "source": [
        "#uploaded = files.upload()\n",
        "train=pd.read_csv('train_final.csv' )"
      ],
      "metadata": {
        "id": "Pj9ftzXLQPzL"
      },
      "execution_count": 219,
      "outputs": []
    },
    {
      "cell_type": "code",
      "source": [
        "#uploaded = files.upload()\n",
        "test=pd.read_csv('test_final.csv' )"
      ],
      "metadata": {
        "id": "mlO8OHN5AGKh"
      },
      "execution_count": 220,
      "outputs": []
    },
    {
      "cell_type": "code",
      "source": [
        "def ready1(df):\n",
        "  train1=df['Tectonic regime'].str.get_dummies('/')\n",
        "  train1 = train1.add_prefix('Structural setting_').reset_index()\n",
        "  train1=train1.drop(['index'], axis=1, inplace=True)\n",
        "  df=pd.concat([df, train1], axis=1)\n",
        "  df=df.drop(['Tectonic regime'], axis=1)\n",
        "  df=pd.concat([df, train1], axis=1)\n",
        "  # df=df.drop(['Tectonic regime'], axis=1)\n",
        "  d={'ONSHORE' : 0, 'OFFSHORE': 1, 'ONSHORE-OFFSHORE': 2}\n",
        "  label_encoder = preprocessing.LabelEncoder() \n",
        "  label_encoder.fit(df['Hydrocarbon type']) \n",
        "  df['Hydrocarbon type'] = label_encoder.transform(df['Hydrocarbon type']) \n",
        "  label_encoder = preprocessing.LabelEncoder() \n",
        "  label_encoder.fit(df['Reservoir status']) \n",
        "  df['Reservoir status'] = label_encoder.transform(df['Reservoir status']) \n",
        "  label_encoder = preprocessing.LabelEncoder() \n",
        "  label_encoder.fit(df['Period']) \n",
        "  df['Period'] = label_encoder.transform(df['Period']) \n",
        "  label_encoder = preprocessing.LabelEncoder() \n",
        "  label_encoder.fit(df['Lithology']) \n",
        "  df['Lithology'] = label_encoder.transform(df['Lithology'])\n",
        "  train1=df['Structural setting'].str.get_dummies('/')\n",
        "  df=pd.concat([df, train1], axis=1)\n",
        "  df=df.drop(['Structural setting'], axis=1)\n",
        "  return df\n"
      ],
      "metadata": {
        "id": "MBLrgoYHAGtl"
      },
      "execution_count": 221,
      "outputs": []
    },
    {
      "cell_type": "code",
      "source": [
        "test.columns"
      ],
      "metadata": {
        "colab": {
          "base_uri": "https://localhost:8080/"
        },
        "id": "doaIJmVnpTGs",
        "outputId": "842c8fe6-9f94-46f4-e120-a5149f7649ec"
      },
      "execution_count": 222,
      "outputs": [
        {
          "output_type": "execute_result",
          "data": {
            "text/plain": [
              "Index(['Tectonic regime', 'Hydrocarbon type', 'Reservoir status',\n",
              "       'Structural setting', 'Depth', 'Period', 'Lithology', 'Gross', 'Netpay',\n",
              "       'Porosity', 'Permeability'],\n",
              "      dtype='object')"
            ]
          },
          "metadata": {},
          "execution_count": 222
        }
      ]
    },
    {
      "cell_type": "code",
      "source": [
        "test=ready1(test)"
      ],
      "metadata": {
        "id": "CL5Q4ETKAwc4"
      },
      "execution_count": 226,
      "outputs": []
    },
    {
      "cell_type": "code",
      "source": [
        "test"
      ],
      "metadata": {
        "colab": {
          "base_uri": "https://localhost:8080/",
          "height": 505
        },
        "id": "uJNWjuv2tbIh",
        "outputId": "54d8fad5-9c94-40cb-91d3-385f954befa7"
      },
      "execution_count": 227,
      "outputs": [
        {
          "output_type": "execute_result",
          "data": {
            "text/plain": [
              "     Hydrocarbon type  Reservoir status        Depth  Period  Lithology  \\\n",
              "0                   0                 2  7420.000000      11          6   \n",
              "1                   2                 5  4843.000000      10          6   \n",
              "2                   2                 3  8450.000000       3          5   \n",
              "3                   2                 4  5463.000000       5          6   \n",
              "4                   2                 3  3520.000000       9          6   \n",
              "..                ...               ...          ...     ...        ...   \n",
              "273                 2                 5  1683.811578       9          8   \n",
              "274                 2                 5  5877.960131       3          3   \n",
              "275                 2                 5  1695.923184       9          8   \n",
              "276                 2                 4  1429.162420       9          6   \n",
              "277                 2                 5  6417.577091       3          3   \n",
              "\n",
              "           Gross      Netpay   Porosity  Permeability  BACKARC  ...  FORELAND  \\\n",
              "0     715.000000  580.000000  11.000000      0.500000        0  ...         0   \n",
              "1    2133.000000   72.000000  23.000000    350.000000        0  ...         0   \n",
              "2     145.000000   45.000000  18.000000    700.000000        0  ...         0   \n",
              "3     115.000000   29.000000  19.000000    375.000000        0  ...         1   \n",
              "4    2460.000000  220.000000  20.000000     45.000000        0  ...         0   \n",
              "..           ...         ...        ...           ...      ...  ...       ...   \n",
              "273   639.294026  147.858805  34.129412   2157.646429        0  ...         1   \n",
              "274   973.664850  178.946119  13.947543     47.896985        0  ...         1   \n",
              "275   645.238373  149.047675  34.092260   2198.513813        0  ...         1   \n",
              "276   514.312844  122.862569  34.910545   1298.400805        0  ...         1   \n",
              "277  1235.696896  195.851413  11.580802     17.467457        0  ...         1   \n",
              "\n",
              "     INTRACRATONIC  INVERSION  PASSIVE  RIFT  SALT  SUB-SALT  SUB-THRUST  \\\n",
              "0                0          1        0     0     0         1           0   \n",
              "1                0          0        1     0     0         0           0   \n",
              "2                0          1        0     1     0         0           0   \n",
              "3                0          0        0     0     0         0           0   \n",
              "4                0          1        0     0     0         0           0   \n",
              "..             ...        ...      ...   ...   ...       ...         ...   \n",
              "273              0          0        0     0     0         0           0   \n",
              "274              0          1        0     1     0         0           0   \n",
              "275              0          0        0     0     0         0           0   \n",
              "276              0          0        0     0     0         0           0   \n",
              "277              0          1        0     1     0         0           0   \n",
              "\n",
              "     THRUST  WRENCH  \n",
              "0         0       0  \n",
              "1         0       0  \n",
              "2         0       0  \n",
              "3         0       0  \n",
              "4         0       1  \n",
              "..      ...     ...  \n",
              "273       0       1  \n",
              "274       0       0  \n",
              "275       0       1  \n",
              "276       0       1  \n",
              "277       0       0  \n",
              "\n",
              "[278 rows x 22 columns]"
            ],
            "text/html": [
              "\n",
              "  <div id=\"df-871361f2-7ed3-45c9-895f-40e43a0a04f1\">\n",
              "    <div class=\"colab-df-container\">\n",
              "      <div>\n",
              "<style scoped>\n",
              "    .dataframe tbody tr th:only-of-type {\n",
              "        vertical-align: middle;\n",
              "    }\n",
              "\n",
              "    .dataframe tbody tr th {\n",
              "        vertical-align: top;\n",
              "    }\n",
              "\n",
              "    .dataframe thead th {\n",
              "        text-align: right;\n",
              "    }\n",
              "</style>\n",
              "<table border=\"1\" class=\"dataframe\">\n",
              "  <thead>\n",
              "    <tr style=\"text-align: right;\">\n",
              "      <th></th>\n",
              "      <th>Hydrocarbon type</th>\n",
              "      <th>Reservoir status</th>\n",
              "      <th>Depth</th>\n",
              "      <th>Period</th>\n",
              "      <th>Lithology</th>\n",
              "      <th>Gross</th>\n",
              "      <th>Netpay</th>\n",
              "      <th>Porosity</th>\n",
              "      <th>Permeability</th>\n",
              "      <th>BACKARC</th>\n",
              "      <th>...</th>\n",
              "      <th>FORELAND</th>\n",
              "      <th>INTRACRATONIC</th>\n",
              "      <th>INVERSION</th>\n",
              "      <th>PASSIVE</th>\n",
              "      <th>RIFT</th>\n",
              "      <th>SALT</th>\n",
              "      <th>SUB-SALT</th>\n",
              "      <th>SUB-THRUST</th>\n",
              "      <th>THRUST</th>\n",
              "      <th>WRENCH</th>\n",
              "    </tr>\n",
              "  </thead>\n",
              "  <tbody>\n",
              "    <tr>\n",
              "      <th>0</th>\n",
              "      <td>0</td>\n",
              "      <td>2</td>\n",
              "      <td>7420.000000</td>\n",
              "      <td>11</td>\n",
              "      <td>6</td>\n",
              "      <td>715.000000</td>\n",
              "      <td>580.000000</td>\n",
              "      <td>11.000000</td>\n",
              "      <td>0.500000</td>\n",
              "      <td>0</td>\n",
              "      <td>...</td>\n",
              "      <td>0</td>\n",
              "      <td>0</td>\n",
              "      <td>1</td>\n",
              "      <td>0</td>\n",
              "      <td>0</td>\n",
              "      <td>0</td>\n",
              "      <td>1</td>\n",
              "      <td>0</td>\n",
              "      <td>0</td>\n",
              "      <td>0</td>\n",
              "    </tr>\n",
              "    <tr>\n",
              "      <th>1</th>\n",
              "      <td>2</td>\n",
              "      <td>5</td>\n",
              "      <td>4843.000000</td>\n",
              "      <td>10</td>\n",
              "      <td>6</td>\n",
              "      <td>2133.000000</td>\n",
              "      <td>72.000000</td>\n",
              "      <td>23.000000</td>\n",
              "      <td>350.000000</td>\n",
              "      <td>0</td>\n",
              "      <td>...</td>\n",
              "      <td>0</td>\n",
              "      <td>0</td>\n",
              "      <td>0</td>\n",
              "      <td>1</td>\n",
              "      <td>0</td>\n",
              "      <td>0</td>\n",
              "      <td>0</td>\n",
              "      <td>0</td>\n",
              "      <td>0</td>\n",
              "      <td>0</td>\n",
              "    </tr>\n",
              "    <tr>\n",
              "      <th>2</th>\n",
              "      <td>2</td>\n",
              "      <td>3</td>\n",
              "      <td>8450.000000</td>\n",
              "      <td>3</td>\n",
              "      <td>5</td>\n",
              "      <td>145.000000</td>\n",
              "      <td>45.000000</td>\n",
              "      <td>18.000000</td>\n",
              "      <td>700.000000</td>\n",
              "      <td>0</td>\n",
              "      <td>...</td>\n",
              "      <td>0</td>\n",
              "      <td>0</td>\n",
              "      <td>1</td>\n",
              "      <td>0</td>\n",
              "      <td>1</td>\n",
              "      <td>0</td>\n",
              "      <td>0</td>\n",
              "      <td>0</td>\n",
              "      <td>0</td>\n",
              "      <td>0</td>\n",
              "    </tr>\n",
              "    <tr>\n",
              "      <th>3</th>\n",
              "      <td>2</td>\n",
              "      <td>4</td>\n",
              "      <td>5463.000000</td>\n",
              "      <td>5</td>\n",
              "      <td>6</td>\n",
              "      <td>115.000000</td>\n",
              "      <td>29.000000</td>\n",
              "      <td>19.000000</td>\n",
              "      <td>375.000000</td>\n",
              "      <td>0</td>\n",
              "      <td>...</td>\n",
              "      <td>1</td>\n",
              "      <td>0</td>\n",
              "      <td>0</td>\n",
              "      <td>0</td>\n",
              "      <td>0</td>\n",
              "      <td>0</td>\n",
              "      <td>0</td>\n",
              "      <td>0</td>\n",
              "      <td>0</td>\n",
              "      <td>0</td>\n",
              "    </tr>\n",
              "    <tr>\n",
              "      <th>4</th>\n",
              "      <td>2</td>\n",
              "      <td>3</td>\n",
              "      <td>3520.000000</td>\n",
              "      <td>9</td>\n",
              "      <td>6</td>\n",
              "      <td>2460.000000</td>\n",
              "      <td>220.000000</td>\n",
              "      <td>20.000000</td>\n",
              "      <td>45.000000</td>\n",
              "      <td>0</td>\n",
              "      <td>...</td>\n",
              "      <td>0</td>\n",
              "      <td>0</td>\n",
              "      <td>1</td>\n",
              "      <td>0</td>\n",
              "      <td>0</td>\n",
              "      <td>0</td>\n",
              "      <td>0</td>\n",
              "      <td>0</td>\n",
              "      <td>0</td>\n",
              "      <td>1</td>\n",
              "    </tr>\n",
              "    <tr>\n",
              "      <th>...</th>\n",
              "      <td>...</td>\n",
              "      <td>...</td>\n",
              "      <td>...</td>\n",
              "      <td>...</td>\n",
              "      <td>...</td>\n",
              "      <td>...</td>\n",
              "      <td>...</td>\n",
              "      <td>...</td>\n",
              "      <td>...</td>\n",
              "      <td>...</td>\n",
              "      <td>...</td>\n",
              "      <td>...</td>\n",
              "      <td>...</td>\n",
              "      <td>...</td>\n",
              "      <td>...</td>\n",
              "      <td>...</td>\n",
              "      <td>...</td>\n",
              "      <td>...</td>\n",
              "      <td>...</td>\n",
              "      <td>...</td>\n",
              "      <td>...</td>\n",
              "    </tr>\n",
              "    <tr>\n",
              "      <th>273</th>\n",
              "      <td>2</td>\n",
              "      <td>5</td>\n",
              "      <td>1683.811578</td>\n",
              "      <td>9</td>\n",
              "      <td>8</td>\n",
              "      <td>639.294026</td>\n",
              "      <td>147.858805</td>\n",
              "      <td>34.129412</td>\n",
              "      <td>2157.646429</td>\n",
              "      <td>0</td>\n",
              "      <td>...</td>\n",
              "      <td>1</td>\n",
              "      <td>0</td>\n",
              "      <td>0</td>\n",
              "      <td>0</td>\n",
              "      <td>0</td>\n",
              "      <td>0</td>\n",
              "      <td>0</td>\n",
              "      <td>0</td>\n",
              "      <td>0</td>\n",
              "      <td>1</td>\n",
              "    </tr>\n",
              "    <tr>\n",
              "      <th>274</th>\n",
              "      <td>2</td>\n",
              "      <td>5</td>\n",
              "      <td>5877.960131</td>\n",
              "      <td>3</td>\n",
              "      <td>3</td>\n",
              "      <td>973.664850</td>\n",
              "      <td>178.946119</td>\n",
              "      <td>13.947543</td>\n",
              "      <td>47.896985</td>\n",
              "      <td>0</td>\n",
              "      <td>...</td>\n",
              "      <td>1</td>\n",
              "      <td>0</td>\n",
              "      <td>1</td>\n",
              "      <td>0</td>\n",
              "      <td>1</td>\n",
              "      <td>0</td>\n",
              "      <td>0</td>\n",
              "      <td>0</td>\n",
              "      <td>0</td>\n",
              "      <td>0</td>\n",
              "    </tr>\n",
              "    <tr>\n",
              "      <th>275</th>\n",
              "      <td>2</td>\n",
              "      <td>5</td>\n",
              "      <td>1695.923184</td>\n",
              "      <td>9</td>\n",
              "      <td>8</td>\n",
              "      <td>645.238373</td>\n",
              "      <td>149.047675</td>\n",
              "      <td>34.092260</td>\n",
              "      <td>2198.513813</td>\n",
              "      <td>0</td>\n",
              "      <td>...</td>\n",
              "      <td>1</td>\n",
              "      <td>0</td>\n",
              "      <td>0</td>\n",
              "      <td>0</td>\n",
              "      <td>0</td>\n",
              "      <td>0</td>\n",
              "      <td>0</td>\n",
              "      <td>0</td>\n",
              "      <td>0</td>\n",
              "      <td>1</td>\n",
              "    </tr>\n",
              "    <tr>\n",
              "      <th>276</th>\n",
              "      <td>2</td>\n",
              "      <td>4</td>\n",
              "      <td>1429.162420</td>\n",
              "      <td>9</td>\n",
              "      <td>6</td>\n",
              "      <td>514.312844</td>\n",
              "      <td>122.862569</td>\n",
              "      <td>34.910545</td>\n",
              "      <td>1298.400805</td>\n",
              "      <td>0</td>\n",
              "      <td>...</td>\n",
              "      <td>1</td>\n",
              "      <td>0</td>\n",
              "      <td>0</td>\n",
              "      <td>0</td>\n",
              "      <td>0</td>\n",
              "      <td>0</td>\n",
              "      <td>0</td>\n",
              "      <td>0</td>\n",
              "      <td>0</td>\n",
              "      <td>1</td>\n",
              "    </tr>\n",
              "    <tr>\n",
              "      <th>277</th>\n",
              "      <td>2</td>\n",
              "      <td>5</td>\n",
              "      <td>6417.577091</td>\n",
              "      <td>3</td>\n",
              "      <td>3</td>\n",
              "      <td>1235.696896</td>\n",
              "      <td>195.851413</td>\n",
              "      <td>11.580802</td>\n",
              "      <td>17.467457</td>\n",
              "      <td>0</td>\n",
              "      <td>...</td>\n",
              "      <td>1</td>\n",
              "      <td>0</td>\n",
              "      <td>1</td>\n",
              "      <td>0</td>\n",
              "      <td>1</td>\n",
              "      <td>0</td>\n",
              "      <td>0</td>\n",
              "      <td>0</td>\n",
              "      <td>0</td>\n",
              "      <td>0</td>\n",
              "    </tr>\n",
              "  </tbody>\n",
              "</table>\n",
              "<p>278 rows × 22 columns</p>\n",
              "</div>\n",
              "      <button class=\"colab-df-convert\" onclick=\"convertToInteractive('df-871361f2-7ed3-45c9-895f-40e43a0a04f1')\"\n",
              "              title=\"Convert this dataframe to an interactive table.\"\n",
              "              style=\"display:none;\">\n",
              "        \n",
              "  <svg xmlns=\"http://www.w3.org/2000/svg\" height=\"24px\"viewBox=\"0 0 24 24\"\n",
              "       width=\"24px\">\n",
              "    <path d=\"M0 0h24v24H0V0z\" fill=\"none\"/>\n",
              "    <path d=\"M18.56 5.44l.94 2.06.94-2.06 2.06-.94-2.06-.94-.94-2.06-.94 2.06-2.06.94zm-11 1L8.5 8.5l.94-2.06 2.06-.94-2.06-.94L8.5 2.5l-.94 2.06-2.06.94zm10 10l.94 2.06.94-2.06 2.06-.94-2.06-.94-.94-2.06-.94 2.06-2.06.94z\"/><path d=\"M17.41 7.96l-1.37-1.37c-.4-.4-.92-.59-1.43-.59-.52 0-1.04.2-1.43.59L10.3 9.45l-7.72 7.72c-.78.78-.78 2.05 0 2.83L4 21.41c.39.39.9.59 1.41.59.51 0 1.02-.2 1.41-.59l7.78-7.78 2.81-2.81c.8-.78.8-2.07 0-2.86zM5.41 20L4 18.59l7.72-7.72 1.47 1.35L5.41 20z\"/>\n",
              "  </svg>\n",
              "      </button>\n",
              "      \n",
              "  <style>\n",
              "    .colab-df-container {\n",
              "      display:flex;\n",
              "      flex-wrap:wrap;\n",
              "      gap: 12px;\n",
              "    }\n",
              "\n",
              "    .colab-df-convert {\n",
              "      background-color: #E8F0FE;\n",
              "      border: none;\n",
              "      border-radius: 50%;\n",
              "      cursor: pointer;\n",
              "      display: none;\n",
              "      fill: #1967D2;\n",
              "      height: 32px;\n",
              "      padding: 0 0 0 0;\n",
              "      width: 32px;\n",
              "    }\n",
              "\n",
              "    .colab-df-convert:hover {\n",
              "      background-color: #E2EBFA;\n",
              "      box-shadow: 0px 1px 2px rgba(60, 64, 67, 0.3), 0px 1px 3px 1px rgba(60, 64, 67, 0.15);\n",
              "      fill: #174EA6;\n",
              "    }\n",
              "\n",
              "    [theme=dark] .colab-df-convert {\n",
              "      background-color: #3B4455;\n",
              "      fill: #D2E3FC;\n",
              "    }\n",
              "\n",
              "    [theme=dark] .colab-df-convert:hover {\n",
              "      background-color: #434B5C;\n",
              "      box-shadow: 0px 1px 3px 1px rgba(0, 0, 0, 0.15);\n",
              "      filter: drop-shadow(0px 1px 2px rgba(0, 0, 0, 0.3));\n",
              "      fill: #FFFFFF;\n",
              "    }\n",
              "  </style>\n",
              "\n",
              "      <script>\n",
              "        const buttonEl =\n",
              "          document.querySelector('#df-871361f2-7ed3-45c9-895f-40e43a0a04f1 button.colab-df-convert');\n",
              "        buttonEl.style.display =\n",
              "          google.colab.kernel.accessAllowed ? 'block' : 'none';\n",
              "\n",
              "        async function convertToInteractive(key) {\n",
              "          const element = document.querySelector('#df-871361f2-7ed3-45c9-895f-40e43a0a04f1');\n",
              "          const dataTable =\n",
              "            await google.colab.kernel.invokeFunction('convertToInteractive',\n",
              "                                                     [key], {});\n",
              "          if (!dataTable) return;\n",
              "\n",
              "          const docLinkHtml = 'Like what you see? Visit the ' +\n",
              "            '<a target=\"_blank\" href=https://colab.research.google.com/notebooks/data_table.ipynb>data table notebook</a>'\n",
              "            + ' to learn more about interactive tables.';\n",
              "          element.innerHTML = '';\n",
              "          dataTable['output_type'] = 'display_data';\n",
              "          await google.colab.output.renderOutput(dataTable, element);\n",
              "          const docLink = document.createElement('div');\n",
              "          docLink.innerHTML = docLinkHtml;\n",
              "          element.appendChild(docLink);\n",
              "        }\n",
              "      </script>\n",
              "    </div>\n",
              "  </div>\n",
              "  "
            ]
          },
          "metadata": {},
          "execution_count": 227
        }
      ]
    },
    {
      "cell_type": "code",
      "source": [
        "scaler = StandardScaler()\n",
        "test1 = scaler.fit_transform(test)"
      ],
      "metadata": {
        "id": "6PQwbE-2UiK4"
      },
      "execution_count": 228,
      "outputs": []
    },
    {
      "cell_type": "markdown",
      "source": [
        "# исследование данных"
      ],
      "metadata": {
        "id": "8lzpPiEaioWu"
      }
    },
    {
      "cell_type": "code",
      "source": [
        "train"
      ],
      "metadata": {
        "id": "zRruwFqBQz87"
      },
      "execution_count": null,
      "outputs": []
    },
    {
      "cell_type": "code",
      "source": [
        "# df.isna() - проверку на пустые значение\n",
        "print(train.isna().sum())"
      ],
      "metadata": {
        "id": "vHsAOE7tRZAf"
      },
      "execution_count": null,
      "outputs": []
    },
    {
      "cell_type": "code",
      "source": [
        "print(train.info()) #информация о датасете\n",
        "print('-'*50)\n",
        "train.shape"
      ],
      "metadata": {
        "id": "i-6j3keOREli"
      },
      "execution_count": null,
      "outputs": []
    },
    {
      "cell_type": "code",
      "source": [
        "print(train['Tectonic regime'].unique())\n",
        "print('__'*100)\n",
        "print(train['Onshore/Offshore'].unique())\n",
        "print('__'*100)\n",
        "print(train['Hydrocarbon type'].unique())\n",
        "print('__'*100)\n",
        "print(train['Reservoir status'].unique())\n",
        "print('__'*100)\n",
        "print(train['Structural setting'].unique())\n",
        "print('__'*100)\n",
        "print(train['Period'].unique())\n",
        "print('__'*100)\n",
        "print(train['Lithology'].unique())\n"
      ],
      "metadata": {
        "id": "UV_6nuX9RK0q"
      },
      "execution_count": null,
      "outputs": []
    },
    {
      "cell_type": "code",
      "source": [
        "train1=train['Tectonic regime'].str.get_dummies('/')\n",
        "\n",
        "\n",
        "train1 = train1.add_prefix('Structural setting_').reset_index()\n",
        "train1=train1.drop(['index'], axis=1, inplace=True)\n",
        "train=pd.concat([train, train1], axis=1)\n",
        "train=train.drop(['Tectonic regime'], axis=1)\n",
        "\n",
        "d={'ONSHORE' : 0, 'OFFSHORE': 1, 'ONSHORE-OFFSHORE': 2}\n",
        "train['Onshore/Offshore']=train['Onshore/Offshore'].map(d)\n",
        "\n",
        "label_encoder = preprocessing.LabelEncoder() \n",
        "label_encoder.fit(train['Hydrocarbon type']) \n",
        "train['Hydrocarbon type'] = label_encoder.transform(train['Hydrocarbon type']) \n",
        "\n",
        "label_encoder = preprocessing.LabelEncoder() \n",
        "label_encoder.fit(train['Reservoir status']) \n",
        "train['Reservoir status'] = label_encoder.transform(train['Reservoir status']) \n",
        "\n",
        "label_encoder = preprocessing.LabelEncoder() \n",
        "label_encoder.fit(train['Period']) \n",
        "train['Period'] = label_encoder.transform(train['Period']) \n",
        "\n",
        "label_encoder = preprocessing.LabelEncoder() \n",
        "label_encoder.fit(train['Lithology']) \n",
        "train['Lithology'] = label_encoder.transform(train['Lithology'])\n",
        "\n",
        "train1=train['Structural setting'].str.get_dummies('/')\n",
        "train=pd.concat([train, train1], axis=1)\n",
        "train=train.drop(['Structural setting'], axis=1)"
      ],
      "metadata": {
        "id": "PzKVqzCSoFHO"
      },
      "execution_count": 233,
      "outputs": []
    },
    {
      "cell_type": "code",
      "source": [
        "from imblearn.over_sampling import SMOTE\n",
        "\n",
        "os = SMOTE(random_state=0, k_neighbors=3)\n",
        "\n",
        "X= train.drop(['Onshore/Offshore'], axis=1)\n",
        "y = train['Onshore/Offshore']\n",
        "\n",
        "column = X.columns\n",
        "\n",
        "print(\"До балансировки\")\n",
        "print(X.shape)\n",
        "print(y.value_counts())\n",
        "\n",
        "os_data_X, os_data_y = os.fit_resample(X, y)\n",
        "os_data_X = pd.DataFrame(data=os_data_X, columns=column)\n",
        "os_data_y = pd.DataFrame(data=os_data_y, columns=['Onshore/Offshore'])\n",
        "\n",
        "print(\"После балансировки\")\n",
        "print(os_data_X.shape)\n",
        "print(os_data_y.value_counts())"
      ],
      "metadata": {
        "colab": {
          "base_uri": "https://localhost:8080/"
        },
        "id": "0o1jV7n1nAKI",
        "outputId": "75d2f45c-f42e-4b34-8ac4-11f2889df881"
      },
      "execution_count": 235,
      "outputs": [
        {
          "output_type": "stream",
          "name": "stdout",
          "text": [
            "До балансировки\n",
            "(355, 22)\n",
            "0    177\n",
            "1    173\n",
            "2      5\n",
            "Name: Onshore/Offshore, dtype: int64\n",
            "После балансировки\n",
            "(531, 22)\n",
            "Onshore/Offshore\n",
            "0                   177\n",
            "1                   177\n",
            "2                   177\n",
            "dtype: int64\n"
          ]
        }
      ]
    },
    {
      "cell_type": "code",
      "source": [
        "os_data_X.info()"
      ],
      "metadata": {
        "colab": {
          "base_uri": "https://localhost:8080/"
        },
        "id": "VkBQknqEtqm0",
        "outputId": "7b8ab56d-843e-435a-e2f1-b212bc8f452a"
      },
      "execution_count": 237,
      "outputs": [
        {
          "output_type": "stream",
          "name": "stdout",
          "text": [
            "<class 'pandas.core.frame.DataFrame'>\n",
            "RangeIndex: 531 entries, 0 to 530\n",
            "Data columns (total 22 columns):\n",
            " #   Column            Non-Null Count  Dtype  \n",
            "---  ------            --------------  -----  \n",
            " 0   Hydrocarbon type  531 non-null    int64  \n",
            " 1   Reservoir status  531 non-null    int64  \n",
            " 2   Depth             531 non-null    float64\n",
            " 3   Period            531 non-null    int64  \n",
            " 4   Lithology         531 non-null    int64  \n",
            " 5   Gross             531 non-null    float64\n",
            " 6   Netpay            531 non-null    float64\n",
            " 7   Porosity          531 non-null    float64\n",
            " 8   Permeability      531 non-null    float64\n",
            " 9   BACKARC           531 non-null    int64  \n",
            " 10  DELTA             531 non-null    int64  \n",
            " 11  FOREARC           531 non-null    int64  \n",
            " 12  FORELAND          531 non-null    int64  \n",
            " 13  INTRACRATONIC     531 non-null    int64  \n",
            " 14  INVERSION         531 non-null    int64  \n",
            " 15  PASSIVE           531 non-null    int64  \n",
            " 16  RIFT              531 non-null    int64  \n",
            " 17  SALT              531 non-null    int64  \n",
            " 18  SUB-SALT          531 non-null    int64  \n",
            " 19  SUB-THRUST        531 non-null    int64  \n",
            " 20  THRUST            531 non-null    int64  \n",
            " 21  WRENCH            531 non-null    int64  \n",
            "dtypes: float64(5), int64(17)\n",
            "memory usage: 91.4 KB\n"
          ]
        }
      ]
    },
    {
      "cell_type": "code",
      "source": [
        "test"
      ],
      "metadata": {
        "id": "MU5UFt_AoqjD"
      },
      "execution_count": null,
      "outputs": []
    },
    {
      "cell_type": "code",
      "source": [
        "column1=os_data_X.columns\n",
        "column2=test.columns\n",
        "\n",
        "\n",
        "cols=set(column1) & set (column2)\n",
        "train=os_data_X[cols]\n",
        "test=test[cols]\n"
      ],
      "metadata": {
        "id": "VbiGeV1FC7Sb"
      },
      "execution_count": 251,
      "outputs": []
    },
    {
      "cell_type": "code",
      "source": [
        "len(cols)"
      ],
      "metadata": {
        "colab": {
          "base_uri": "https://localhost:8080/"
        },
        "id": "Fc6t_E_Jjzzb",
        "outputId": "8aa0e94b-06c5-4c94-8040-2e5f97e5e6f1"
      },
      "execution_count": 252,
      "outputs": [
        {
          "output_type": "execute_result",
          "data": {
            "text/plain": [
              "22"
            ]
          },
          "metadata": {},
          "execution_count": 252
        }
      ]
    },
    {
      "cell_type": "code",
      "source": [
        "train.info"
      ],
      "metadata": {
        "colab": {
          "base_uri": "https://localhost:8080/"
        },
        "id": "h3Q911AWughr",
        "outputId": "caf8868c-f29c-4c30-fe2b-f8ed62866b99"
      },
      "execution_count": 253,
      "outputs": [
        {
          "output_type": "execute_result",
          "data": {
            "text/plain": [
              "<bound method DataFrame.info of      Lithology  INTRACRATONIC  SALT   Porosity  BACKARC  Hydrocarbon type  \\\n",
              "0           10              0     0   5.000000        0                 4   \n",
              "1           10              0     1  16.000000        0                 2   \n",
              "2            6              0     0   8.000000        0                 4   \n",
              "3           10              0     1  14.984042        0                 4   \n",
              "4           10              0     0   9.500000        0                 4   \n",
              "..         ...            ...   ...        ...      ...               ...   \n",
              "526         12              0     0  25.591712        0                 4   \n",
              "527         12              0     0  32.395297        0                 4   \n",
              "528         10              0     0  34.720696        0                 4   \n",
              "529          9              0     0  17.506705        0                 4   \n",
              "530         12              0     0  34.330083        0                 4   \n",
              "\n",
              "     Reservoir status  INVERSION  THRUST  DELTA  ...      Netpay  \\\n",
              "0                   5          0       0      0  ...  575.000000   \n",
              "1                   7          0       0      0  ...  490.000000   \n",
              "2                   2          0       0      0  ...   21.000000   \n",
              "3                   4          0       0      0  ...   41.595776   \n",
              "4                   6          0       0      0  ...   15.000000   \n",
              "..                ...        ...     ...    ...  ...         ...   \n",
              "526                 5          0       0      0  ...  320.813525   \n",
              "527                 5          0       0      0  ...  151.799412   \n",
              "528                 4          0       0      0  ...  120.492889   \n",
              "529                 2          0       0      0  ...  153.523534   \n",
              "530                 5          0       0      0  ...  141.437329   \n",
              "\n",
              "     Permeability  PASSIVE  FORELAND  SUB-THRUST  SUB-SALT  Period  RIFT  \\\n",
              "0        0.100000        0         1           0         0      13     0   \n",
              "1       10.000000        0         0           0         0       9     1   \n",
              "2        0.500000        0         1           0         0      16     0   \n",
              "3       29.920211        0         1           0         0       6     1   \n",
              "4       10.000000        0         1           0         0       6     0   \n",
              "..            ...      ...       ...         ...       ...     ...   ...   \n",
              "526    327.751366        0         0           0         0      12     0   \n",
              "527   2079.353327        0         0           0         0      11     0   \n",
              "528   1181.927407        0         0           0         0      11     0   \n",
              "529     93.657639        0         0           0         0      18     0   \n",
              "530   1936.908201        0         0           0         0      11     0   \n",
              "\n",
              "     WRENCH  FOREARC  \n",
              "0         0        0  \n",
              "1         0        0  \n",
              "2         0        0  \n",
              "3         0        0  \n",
              "4         0        0  \n",
              "..      ...      ...  \n",
              "526       0        0  \n",
              "527       0        0  \n",
              "528       0        0  \n",
              "529       0        0  \n",
              "530       1        0  \n",
              "\n",
              "[531 rows x 22 columns]>"
            ]
          },
          "metadata": {},
          "execution_count": 253
        }
      ]
    },
    {
      "cell_type": "code",
      "source": [
        "os_data_y.info"
      ],
      "metadata": {
        "colab": {
          "base_uri": "https://localhost:8080/"
        },
        "id": "cv8zmh_yu-ee",
        "outputId": "10e27c40-66a5-470f-e96e-7a972643fed1"
      },
      "execution_count": 254,
      "outputs": [
        {
          "output_type": "execute_result",
          "data": {
            "text/plain": [
              "<bound method DataFrame.info of      Onshore/Offshore\n",
              "0                   0\n",
              "1                   1\n",
              "2                   0\n",
              "3                   1\n",
              "4                   0\n",
              "..                ...\n",
              "526                 2\n",
              "527                 2\n",
              "528                 2\n",
              "529                 2\n",
              "530                 2\n",
              "\n",
              "[531 rows x 1 columns]>"
            ]
          },
          "metadata": {},
          "execution_count": 254
        }
      ]
    },
    {
      "cell_type": "code",
      "source": [
        "X=train\n",
        "\n",
        "X_train,X_test,y_train,y_test = train_test_split(X, os_data_y, test_size=1/3, random_state=42)"
      ],
      "metadata": {
        "id": "uapNQYwPeOXw"
      },
      "execution_count": 255,
      "outputs": []
    },
    {
      "cell_type": "code",
      "source": [
        "scaler = StandardScaler()\n",
        "X_st = scaler.fit_transform(X)"
      ],
      "metadata": {
        "id": "eQlWRq6Rdbfa"
      },
      "execution_count": 256,
      "outputs": []
    },
    {
      "cell_type": "markdown",
      "source": [
        "# xgb regration"
      ],
      "metadata": {
        "id": "4cOTu0TAfkgd"
      }
    },
    {
      "cell_type": "code",
      "source": [
        "r=list(X_train.columns)\n",
        "r.sort()\n",
        "r"
      ],
      "metadata": {
        "colab": {
          "base_uri": "https://localhost:8080/"
        },
        "id": "CUgVW_AZgw25",
        "outputId": "12d0910e-6f33-428f-d50a-016d35798582"
      },
      "execution_count": 258,
      "outputs": [
        {
          "output_type": "execute_result",
          "data": {
            "text/plain": [
              "['BACKARC',\n",
              " 'DELTA',\n",
              " 'Depth',\n",
              " 'FOREARC',\n",
              " 'FORELAND',\n",
              " 'Gross',\n",
              " 'Hydrocarbon type',\n",
              " 'INTRACRATONIC',\n",
              " 'INVERSION',\n",
              " 'Lithology',\n",
              " 'Netpay',\n",
              " 'PASSIVE',\n",
              " 'Period',\n",
              " 'Permeability',\n",
              " 'Porosity',\n",
              " 'RIFT',\n",
              " 'Reservoir status',\n",
              " 'SALT',\n",
              " 'SUB-SALT',\n",
              " 'SUB-THRUST',\n",
              " 'THRUST',\n",
              " 'WRENCH']"
            ]
          },
          "metadata": {},
          "execution_count": 258
        }
      ]
    },
    {
      "cell_type": "code",
      "source": [
        "len(set(X_train.columns))"
      ],
      "metadata": {
        "colab": {
          "base_uri": "https://localhost:8080/"
        },
        "id": "-oVx-yrkg7hY",
        "outputId": "64addd22-3475-4670-a06b-6a5a18e004c6"
      },
      "execution_count": 259,
      "outputs": [
        {
          "output_type": "execute_result",
          "data": {
            "text/plain": [
              "22"
            ]
          },
          "metadata": {},
          "execution_count": 259
        }
      ]
    },
    {
      "cell_type": "code",
      "source": [
        "xgb_clf = xgb.XGBClassifier(max_depth=3, n_estimators=100,\n",
        "                            objective='binary:logistic', booster='gbtree',\n",
        "                            n_jobs=2, random_state=1)\n",
        "xgb_clf.fit(X_train, y_train)"
      ],
      "metadata": {
        "colab": {
          "base_uri": "https://localhost:8080/"
        },
        "id": "OagZ9U8ufk_k",
        "outputId": "0cee255d-5757-4ebc-d8c4-02fc7351c1d8"
      },
      "execution_count": 260,
      "outputs": [
        {
          "output_type": "stream",
          "name": "stderr",
          "text": [
            "/usr/local/lib/python3.7/dist-packages/sklearn/preprocessing/_label.py:98: DataConversionWarning: A column-vector y was passed when a 1d array was expected. Please change the shape of y to (n_samples, ), for example using ravel().\n",
            "  y = column_or_1d(y, warn=True)\n",
            "/usr/local/lib/python3.7/dist-packages/sklearn/preprocessing/_label.py:133: DataConversionWarning: A column-vector y was passed when a 1d array was expected. Please change the shape of y to (n_samples, ), for example using ravel().\n",
            "  y = column_or_1d(y, warn=True)\n"
          ]
        },
        {
          "output_type": "execute_result",
          "data": {
            "text/plain": [
              "XGBClassifier(n_jobs=2, objective='multi:softprob', random_state=1)"
            ]
          },
          "metadata": {},
          "execution_count": 260
        }
      ]
    },
    {
      "cell_type": "code",
      "source": [
        "y_pred = xgb_clf.predict(X_test)\n",
        "\n",
        "print(accuracy_score(y_test,y_pred), \"-точность модели\")"
      ],
      "metadata": {
        "colab": {
          "base_uri": "https://localhost:8080/"
        },
        "id": "w0WEirTaj-5Z",
        "outputId": "5b44aaf0-be19-45bb-fc5f-f7a9457a3f79"
      },
      "execution_count": 261,
      "outputs": [
        {
          "output_type": "stream",
          "name": "stdout",
          "text": [
            "0.8983050847457628 -точность модели\n"
          ]
        }
      ]
    },
    {
      "cell_type": "code",
      "source": [
        "X_train.info()"
      ],
      "metadata": {
        "colab": {
          "base_uri": "https://localhost:8080/"
        },
        "id": "XrSArD5TsYAX",
        "outputId": "13e40dd6-b34a-4b3b-d518-9652f031881f"
      },
      "execution_count": 262,
      "outputs": [
        {
          "output_type": "stream",
          "name": "stdout",
          "text": [
            "<class 'pandas.core.frame.DataFrame'>\n",
            "Int64Index: 354 entries, 432 to 102\n",
            "Data columns (total 22 columns):\n",
            " #   Column            Non-Null Count  Dtype  \n",
            "---  ------            --------------  -----  \n",
            " 0   Lithology         354 non-null    int64  \n",
            " 1   INTRACRATONIC     354 non-null    int64  \n",
            " 2   SALT              354 non-null    int64  \n",
            " 3   Porosity          354 non-null    float64\n",
            " 4   BACKARC           354 non-null    int64  \n",
            " 5   Hydrocarbon type  354 non-null    int64  \n",
            " 6   Reservoir status  354 non-null    int64  \n",
            " 7   INVERSION         354 non-null    int64  \n",
            " 8   THRUST            354 non-null    int64  \n",
            " 9   DELTA             354 non-null    int64  \n",
            " 10  Depth             354 non-null    float64\n",
            " 11  Gross             354 non-null    float64\n",
            " 12  Netpay            354 non-null    float64\n",
            " 13  Permeability      354 non-null    float64\n",
            " 14  PASSIVE           354 non-null    int64  \n",
            " 15  FORELAND          354 non-null    int64  \n",
            " 16  SUB-THRUST        354 non-null    int64  \n",
            " 17  SUB-SALT          354 non-null    int64  \n",
            " 18  Period            354 non-null    int64  \n",
            " 19  RIFT              354 non-null    int64  \n",
            " 20  WRENCH            354 non-null    int64  \n",
            " 21  FOREARC           354 non-null    int64  \n",
            "dtypes: float64(5), int64(17)\n",
            "memory usage: 63.6 KB\n"
          ]
        }
      ]
    },
    {
      "cell_type": "code",
      "source": [
        "test.info()"
      ],
      "metadata": {
        "colab": {
          "base_uri": "https://localhost:8080/"
        },
        "id": "6K_XFRlVsT2P",
        "outputId": "6253a655-9c71-4e8e-eec6-668419adfba5"
      },
      "execution_count": 263,
      "outputs": [
        {
          "output_type": "stream",
          "name": "stdout",
          "text": [
            "<class 'pandas.core.frame.DataFrame'>\n",
            "RangeIndex: 278 entries, 0 to 277\n",
            "Data columns (total 22 columns):\n",
            " #   Column            Non-Null Count  Dtype  \n",
            "---  ------            --------------  -----  \n",
            " 0   Lithology         278 non-null    int64  \n",
            " 1   INTRACRATONIC     278 non-null    int64  \n",
            " 2   SALT              278 non-null    int64  \n",
            " 3   Porosity          278 non-null    float64\n",
            " 4   BACKARC           278 non-null    int64  \n",
            " 5   Hydrocarbon type  278 non-null    int64  \n",
            " 6   Reservoir status  278 non-null    int64  \n",
            " 7   INVERSION         278 non-null    int64  \n",
            " 8   THRUST            278 non-null    int64  \n",
            " 9   DELTA             278 non-null    int64  \n",
            " 10  Depth             278 non-null    float64\n",
            " 11  Gross             278 non-null    float64\n",
            " 12  Netpay            278 non-null    float64\n",
            " 13  Permeability      278 non-null    float64\n",
            " 14  PASSIVE           278 non-null    int64  \n",
            " 15  FORELAND          278 non-null    int64  \n",
            " 16  SUB-THRUST        278 non-null    int64  \n",
            " 17  SUB-SALT          278 non-null    int64  \n",
            " 18  Period            278 non-null    int64  \n",
            " 19  RIFT              278 non-null    int64  \n",
            " 20  WRENCH            278 non-null    int64  \n",
            " 21  FOREARC           278 non-null    int64  \n",
            "dtypes: float64(5), int64(17)\n",
            "memory usage: 47.9 KB\n"
          ]
        }
      ]
    },
    {
      "cell_type": "code",
      "source": [
        "y_pred = xgb_clf.predict(test)\n",
        "y_pred"
      ],
      "metadata": {
        "colab": {
          "base_uri": "https://localhost:8080/"
        },
        "id": "hS9VFpidroFa",
        "outputId": "4ed1a0a5-1815-4c83-d282-574eb4a1f141"
      },
      "execution_count": 264,
      "outputs": [
        {
          "output_type": "execute_result",
          "data": {
            "text/plain": [
              "array([0, 1, 1, 0, 1, 0, 1, 0, 0, 1, 1, 0, 1, 0, 0, 0, 1, 0, 0, 1, 0, 1,\n",
              "       0, 1, 1, 0, 1, 1, 1, 0, 1, 0, 1, 1, 0, 0, 1, 1, 0, 1, 0, 0, 1, 1,\n",
              "       0, 1, 1, 0, 0, 1, 0, 0, 0, 1, 1, 1, 0, 1, 1, 1, 0, 0, 1, 1, 1, 0,\n",
              "       1, 2, 0, 1, 0, 2, 1, 2, 2, 2, 2, 1, 2, 2, 1, 2, 2, 1, 2, 1, 2, 1,\n",
              "       1, 2, 1, 1, 2, 2, 2, 2, 2, 2, 2, 1, 2, 2, 2, 2, 1, 1, 1, 2, 2, 1,\n",
              "       2, 2, 2, 1, 2, 2, 2, 1, 2, 1, 1, 1, 1, 2, 2, 2, 1, 1, 1, 1, 2, 2,\n",
              "       2, 2, 2, 2, 1, 1, 2, 1, 2, 1, 1, 1, 2, 1, 1, 1, 2, 1, 2, 2, 2, 1,\n",
              "       1, 2, 2, 2, 1, 2, 1, 2, 2, 2, 2, 2, 2, 1, 2, 2, 2, 2, 2, 2, 2, 1,\n",
              "       2, 2, 2, 2, 2, 2, 1, 1, 2, 2, 1, 2, 1, 1, 2, 2, 2, 2, 2, 2, 2, 2,\n",
              "       2, 2, 2, 2, 2, 1, 2, 2, 2, 2, 2, 2, 2, 2, 2, 2, 2, 2, 2, 2, 1, 2,\n",
              "       1, 2, 1, 2, 2, 1, 1, 2, 2, 2, 2, 1, 2, 1, 1, 2, 1, 2, 2, 1, 2, 2,\n",
              "       1, 2, 2, 1, 2, 2, 2, 1, 1, 1, 2, 2, 2, 2, 2, 2, 1, 2, 2, 2, 2, 2,\n",
              "       1, 2, 2, 1, 2, 2, 2, 2, 1, 2, 1, 2, 2, 1])"
            ]
          },
          "metadata": {},
          "execution_count": 264
        }
      ]
    },
    {
      "cell_type": "code",
      "source": [
        "\n",
        "ans=pd.DataFrame(y_pred)\n",
        "ans['index']=21\n",
        "ind=ans.index\n",
        "ans['index']=ind\n",
        "d={ 0: 'ONSHORE',  1 :'OFFSHORE',  2: 'ONSHORE-OFFSHORE'}\n",
        "ans['Onshore/Offshore']=ans[0].map(d)\n",
        "ans=ans.drop([0], axis=1)\n",
        "\n",
        "\n",
        "ans"
      ],
      "metadata": {
        "colab": {
          "base_uri": "https://localhost:8080/",
          "height": 424
        },
        "id": "_zZ14fjWrBKz",
        "outputId": "3e696e15-9dca-47f5-91a4-0936ab684130"
      },
      "execution_count": 265,
      "outputs": [
        {
          "output_type": "execute_result",
          "data": {
            "text/plain": [
              "     index  Onshore/Offshore\n",
              "0        0           ONSHORE\n",
              "1        1          OFFSHORE\n",
              "2        2          OFFSHORE\n",
              "3        3           ONSHORE\n",
              "4        4          OFFSHORE\n",
              "..     ...               ...\n",
              "273    273  ONSHORE-OFFSHORE\n",
              "274    274          OFFSHORE\n",
              "275    275  ONSHORE-OFFSHORE\n",
              "276    276  ONSHORE-OFFSHORE\n",
              "277    277          OFFSHORE\n",
              "\n",
              "[278 rows x 2 columns]"
            ],
            "text/html": [
              "\n",
              "  <div id=\"df-ed3287f1-b107-43b1-8af1-1d7807135f0b\">\n",
              "    <div class=\"colab-df-container\">\n",
              "      <div>\n",
              "<style scoped>\n",
              "    .dataframe tbody tr th:only-of-type {\n",
              "        vertical-align: middle;\n",
              "    }\n",
              "\n",
              "    .dataframe tbody tr th {\n",
              "        vertical-align: top;\n",
              "    }\n",
              "\n",
              "    .dataframe thead th {\n",
              "        text-align: right;\n",
              "    }\n",
              "</style>\n",
              "<table border=\"1\" class=\"dataframe\">\n",
              "  <thead>\n",
              "    <tr style=\"text-align: right;\">\n",
              "      <th></th>\n",
              "      <th>index</th>\n",
              "      <th>Onshore/Offshore</th>\n",
              "    </tr>\n",
              "  </thead>\n",
              "  <tbody>\n",
              "    <tr>\n",
              "      <th>0</th>\n",
              "      <td>0</td>\n",
              "      <td>ONSHORE</td>\n",
              "    </tr>\n",
              "    <tr>\n",
              "      <th>1</th>\n",
              "      <td>1</td>\n",
              "      <td>OFFSHORE</td>\n",
              "    </tr>\n",
              "    <tr>\n",
              "      <th>2</th>\n",
              "      <td>2</td>\n",
              "      <td>OFFSHORE</td>\n",
              "    </tr>\n",
              "    <tr>\n",
              "      <th>3</th>\n",
              "      <td>3</td>\n",
              "      <td>ONSHORE</td>\n",
              "    </tr>\n",
              "    <tr>\n",
              "      <th>4</th>\n",
              "      <td>4</td>\n",
              "      <td>OFFSHORE</td>\n",
              "    </tr>\n",
              "    <tr>\n",
              "      <th>...</th>\n",
              "      <td>...</td>\n",
              "      <td>...</td>\n",
              "    </tr>\n",
              "    <tr>\n",
              "      <th>273</th>\n",
              "      <td>273</td>\n",
              "      <td>ONSHORE-OFFSHORE</td>\n",
              "    </tr>\n",
              "    <tr>\n",
              "      <th>274</th>\n",
              "      <td>274</td>\n",
              "      <td>OFFSHORE</td>\n",
              "    </tr>\n",
              "    <tr>\n",
              "      <th>275</th>\n",
              "      <td>275</td>\n",
              "      <td>ONSHORE-OFFSHORE</td>\n",
              "    </tr>\n",
              "    <tr>\n",
              "      <th>276</th>\n",
              "      <td>276</td>\n",
              "      <td>ONSHORE-OFFSHORE</td>\n",
              "    </tr>\n",
              "    <tr>\n",
              "      <th>277</th>\n",
              "      <td>277</td>\n",
              "      <td>OFFSHORE</td>\n",
              "    </tr>\n",
              "  </tbody>\n",
              "</table>\n",
              "<p>278 rows × 2 columns</p>\n",
              "</div>\n",
              "      <button class=\"colab-df-convert\" onclick=\"convertToInteractive('df-ed3287f1-b107-43b1-8af1-1d7807135f0b')\"\n",
              "              title=\"Convert this dataframe to an interactive table.\"\n",
              "              style=\"display:none;\">\n",
              "        \n",
              "  <svg xmlns=\"http://www.w3.org/2000/svg\" height=\"24px\"viewBox=\"0 0 24 24\"\n",
              "       width=\"24px\">\n",
              "    <path d=\"M0 0h24v24H0V0z\" fill=\"none\"/>\n",
              "    <path d=\"M18.56 5.44l.94 2.06.94-2.06 2.06-.94-2.06-.94-.94-2.06-.94 2.06-2.06.94zm-11 1L8.5 8.5l.94-2.06 2.06-.94-2.06-.94L8.5 2.5l-.94 2.06-2.06.94zm10 10l.94 2.06.94-2.06 2.06-.94-2.06-.94-.94-2.06-.94 2.06-2.06.94z\"/><path d=\"M17.41 7.96l-1.37-1.37c-.4-.4-.92-.59-1.43-.59-.52 0-1.04.2-1.43.59L10.3 9.45l-7.72 7.72c-.78.78-.78 2.05 0 2.83L4 21.41c.39.39.9.59 1.41.59.51 0 1.02-.2 1.41-.59l7.78-7.78 2.81-2.81c.8-.78.8-2.07 0-2.86zM5.41 20L4 18.59l7.72-7.72 1.47 1.35L5.41 20z\"/>\n",
              "  </svg>\n",
              "      </button>\n",
              "      \n",
              "  <style>\n",
              "    .colab-df-container {\n",
              "      display:flex;\n",
              "      flex-wrap:wrap;\n",
              "      gap: 12px;\n",
              "    }\n",
              "\n",
              "    .colab-df-convert {\n",
              "      background-color: #E8F0FE;\n",
              "      border: none;\n",
              "      border-radius: 50%;\n",
              "      cursor: pointer;\n",
              "      display: none;\n",
              "      fill: #1967D2;\n",
              "      height: 32px;\n",
              "      padding: 0 0 0 0;\n",
              "      width: 32px;\n",
              "    }\n",
              "\n",
              "    .colab-df-convert:hover {\n",
              "      background-color: #E2EBFA;\n",
              "      box-shadow: 0px 1px 2px rgba(60, 64, 67, 0.3), 0px 1px 3px 1px rgba(60, 64, 67, 0.15);\n",
              "      fill: #174EA6;\n",
              "    }\n",
              "\n",
              "    [theme=dark] .colab-df-convert {\n",
              "      background-color: #3B4455;\n",
              "      fill: #D2E3FC;\n",
              "    }\n",
              "\n",
              "    [theme=dark] .colab-df-convert:hover {\n",
              "      background-color: #434B5C;\n",
              "      box-shadow: 0px 1px 3px 1px rgba(0, 0, 0, 0.15);\n",
              "      filter: drop-shadow(0px 1px 2px rgba(0, 0, 0, 0.3));\n",
              "      fill: #FFFFFF;\n",
              "    }\n",
              "  </style>\n",
              "\n",
              "      <script>\n",
              "        const buttonEl =\n",
              "          document.querySelector('#df-ed3287f1-b107-43b1-8af1-1d7807135f0b button.colab-df-convert');\n",
              "        buttonEl.style.display =\n",
              "          google.colab.kernel.accessAllowed ? 'block' : 'none';\n",
              "\n",
              "        async function convertToInteractive(key) {\n",
              "          const element = document.querySelector('#df-ed3287f1-b107-43b1-8af1-1d7807135f0b');\n",
              "          const dataTable =\n",
              "            await google.colab.kernel.invokeFunction('convertToInteractive',\n",
              "                                                     [key], {});\n",
              "          if (!dataTable) return;\n",
              "\n",
              "          const docLinkHtml = 'Like what you see? Visit the ' +\n",
              "            '<a target=\"_blank\" href=https://colab.research.google.com/notebooks/data_table.ipynb>data table notebook</a>'\n",
              "            + ' to learn more about interactive tables.';\n",
              "          element.innerHTML = '';\n",
              "          dataTable['output_type'] = 'display_data';\n",
              "          await google.colab.output.renderOutput(dataTable, element);\n",
              "          const docLink = document.createElement('div');\n",
              "          docLink.innerHTML = docLinkHtml;\n",
              "          element.appendChild(docLink);\n",
              "        }\n",
              "      </script>\n",
              "    </div>\n",
              "  </div>\n",
              "  "
            ]
          },
          "metadata": {},
          "execution_count": 265
        }
      ]
    },
    {
      "cell_type": "code",
      "source": [
        "ans.to_csv('name.csv',index=False)\n",
        "files.download(\"name.csv\")"
      ],
      "metadata": {
        "colab": {
          "base_uri": "https://localhost:8080/",
          "height": 17
        },
        "id": "W4azucslvqr9",
        "outputId": "66438ebc-449d-4bd2-9886-6ffa390afc4a"
      },
      "execution_count": 266,
      "outputs": [
        {
          "output_type": "display_data",
          "data": {
            "text/plain": [
              "<IPython.core.display.Javascript object>"
            ],
            "application/javascript": [
              "\n",
              "    async function download(id, filename, size) {\n",
              "      if (!google.colab.kernel.accessAllowed) {\n",
              "        return;\n",
              "      }\n",
              "      const div = document.createElement('div');\n",
              "      const label = document.createElement('label');\n",
              "      label.textContent = `Downloading \"${filename}\": `;\n",
              "      div.appendChild(label);\n",
              "      const progress = document.createElement('progress');\n",
              "      progress.max = size;\n",
              "      div.appendChild(progress);\n",
              "      document.body.appendChild(div);\n",
              "\n",
              "      const buffers = [];\n",
              "      let downloaded = 0;\n",
              "\n",
              "      const channel = await google.colab.kernel.comms.open(id);\n",
              "      // Send a message to notify the kernel that we're ready.\n",
              "      channel.send({})\n",
              "\n",
              "      for await (const message of channel.messages) {\n",
              "        // Send a message to notify the kernel that we're ready.\n",
              "        channel.send({})\n",
              "        if (message.buffers) {\n",
              "          for (const buffer of message.buffers) {\n",
              "            buffers.push(buffer);\n",
              "            downloaded += buffer.byteLength;\n",
              "            progress.value = downloaded;\n",
              "          }\n",
              "        }\n",
              "      }\n",
              "      const blob = new Blob(buffers, {type: 'application/binary'});\n",
              "      const a = document.createElement('a');\n",
              "      a.href = window.URL.createObjectURL(blob);\n",
              "      a.download = filename;\n",
              "      div.appendChild(a);\n",
              "      a.click();\n",
              "      div.remove();\n",
              "    }\n",
              "  "
            ]
          },
          "metadata": {}
        },
        {
          "output_type": "display_data",
          "data": {
            "text/plain": [
              "<IPython.core.display.Javascript object>"
            ],
            "application/javascript": [
              "download(\"download_3d188fee-f830-47b1-8705-e23b16f48402\", \"name.csv\", 4622)"
            ]
          },
          "metadata": {}
        }
      ]
    },
    {
      "cell_type": "markdown",
      "source": [
        "# метод ближних соседей с маштабированием"
      ],
      "metadata": {
        "id": "zUwFtBi5dkRD"
      }
    },
    {
      "cell_type": "code",
      "source": [
        "scores = []\n",
        "for i in range(1,20):\n",
        "\n",
        "    knn = KNeighborsClassifier(i)\n",
        "    knn.fit(X_train_m,y_train_m)\n",
        "    answers = knn.predict(X_test_m)\n",
        "    \n",
        "    scores.append(knn.score(X_test_m,y_test_m))\n",
        "\n",
        "print(scores)"
      ],
      "metadata": {
        "colab": {
          "base_uri": "https://localhost:8080/"
        },
        "id": "pD_pDYTpdjYR",
        "outputId": "c0a677de-56bb-4c25-953c-2ca6dafe48c0"
      },
      "execution_count": 97,
      "outputs": [
        {
          "output_type": "stream",
          "name": "stdout",
          "text": [
            "[0.8067226890756303, 0.7394957983193278, 0.7478991596638656, 0.7394957983193278, 0.7899159663865546, 0.7815126050420168, 0.7899159663865546, 0.7899159663865546, 0.7647058823529411, 0.7983193277310925, 0.773109243697479, 0.773109243697479, 0.7647058823529411, 0.773109243697479, 0.7815126050420168, 0.8067226890756303, 0.8067226890756303, 0.8067226890756303, 0.8151260504201681]\n"
          ]
        }
      ]
    },
    {
      "cell_type": "code",
      "source": [
        "max_score = max(scores)\n",
        "scores_ind = [i for i, v in enumerate(scores) if v == max_score]\n",
        "scores_ind"
      ],
      "metadata": {
        "colab": {
          "base_uri": "https://localhost:8080/"
        },
        "id": "RWK2XYzbgJea",
        "outputId": "455f26ac-0dd4-4e91-975a-701f372c9b32"
      },
      "execution_count": 98,
      "outputs": [
        {
          "output_type": "execute_result",
          "data": {
            "text/plain": [
              "[18]"
            ]
          },
          "metadata": {},
          "execution_count": 98
        }
      ]
    },
    {
      "cell_type": "code",
      "source": [
        "knn = KNeighborsClassifier(1)\n",
        "\n",
        "knn.fit(X_train_m, y_train_m)\n",
        "\n",
        "\n",
        "y_pred = knn.predict(X_test)\n",
        "\n",
        "print(accuracy_score(y_test,y_pred), \"-точность модели\")"
      ],
      "metadata": {
        "colab": {
          "base_uri": "https://localhost:8080/"
        },
        "id": "kRRzbb5rgSa7",
        "outputId": "edb1dcb3-7de8-4050-b977-eda0187ea0c9"
      },
      "execution_count": 99,
      "outputs": [
        {
          "output_type": "stream",
          "name": "stdout",
          "text": [
            "0.453781512605042 -точность модели\n"
          ]
        },
        {
          "output_type": "stream",
          "name": "stderr",
          "text": [
            "/usr/local/lib/python3.7/dist-packages/sklearn/base.py:444: UserWarning: X has feature names, but KNeighborsClassifier was fitted without feature names\n",
            "  f\"X has feature names, but {self.__class__.__name__} was fitted without\"\n"
          ]
        }
      ]
    },
    {
      "cell_type": "markdown",
      "source": [
        "# метод ближайших соседей без маштабирования 79%"
      ],
      "metadata": {
        "id": "5okI30UBgdwL"
      }
    },
    {
      "cell_type": "code",
      "source": [
        "X_train,X_test,y_train,y_test = train_test_split(X, y, test_size=1/3, random_state=42)"
      ],
      "metadata": {
        "id": "_WgUoN0hgYDB"
      },
      "execution_count": null,
      "outputs": []
    },
    {
      "cell_type": "code",
      "source": [
        "scores = []\n",
        "for i in range(1,20):\n",
        "\n",
        "    knn = KNeighborsClassifier(i)\n",
        "    knn.fit(X_train,y_train)\n",
        "    answers = knn.predict(X_test)\n",
        "    \n",
        "    scores.append(knn.score(X_test,y_test))\n",
        "\n",
        "print(scores)"
      ],
      "metadata": {
        "colab": {
          "base_uri": "https://localhost:8080/"
        },
        "id": "j2xCQZYNgn__",
        "outputId": "d6cce027-be93-4b7a-b0c1-b3e2adb551f4"
      },
      "execution_count": null,
      "outputs": [
        {
          "output_type": "stream",
          "name": "stdout",
          "text": [
            "[0.7647058823529411, 0.7899159663865546, 0.7310924369747899, 0.773109243697479, 0.7563025210084033, 0.7226890756302521, 0.6974789915966386, 0.6890756302521008, 0.7226890756302521, 0.7058823529411765, 0.7058823529411765, 0.6722689075630253, 0.6890756302521008, 0.6386554621848739, 0.680672268907563, 0.6386554621848739, 0.6890756302521008, 0.6722689075630253, 0.6974789915966386]\n"
          ]
        }
      ]
    },
    {
      "cell_type": "code",
      "source": [
        "max_score = max(scores)\n",
        "scores_ind = [i for i, v in enumerate(scores) if v == max_score]\n",
        "scores_ind"
      ],
      "metadata": {
        "colab": {
          "base_uri": "https://localhost:8080/"
        },
        "id": "O-N4yOgwgvD2",
        "outputId": "c07ac248-70a5-4d40-fd89-a09496c03b52"
      },
      "execution_count": null,
      "outputs": [
        {
          "output_type": "execute_result",
          "data": {
            "text/plain": [
              "[1]"
            ]
          },
          "metadata": {},
          "execution_count": 171
        }
      ]
    },
    {
      "cell_type": "code",
      "source": [
        "knn = KNeighborsClassifier(2)\n",
        "\n",
        "knn.fit(X_train, y_train)\n",
        "\n",
        "\n",
        "y_pred = knn.predict(X_test)\n",
        "\n",
        "print(accuracy_score(y_test,y_pred), \"-точность модели\")"
      ],
      "metadata": {
        "colab": {
          "base_uri": "https://localhost:8080/"
        },
        "id": "wr7RRZUhg714",
        "outputId": "7e28809e-c6ee-4f9f-a79e-6cebcc90fe6a"
      },
      "execution_count": null,
      "outputs": [
        {
          "output_type": "stream",
          "name": "stdout",
          "text": [
            "0.7899159663865546 -точность модели\n"
          ]
        }
      ]
    },
    {
      "cell_type": "markdown",
      "source": [
        "# дерево решений с маштабированием 53%"
      ],
      "metadata": {
        "id": "a4HiKwk5jTn4"
      }
    },
    {
      "cell_type": "code",
      "source": [
        "from sklearn.tree import DecisionTreeClassifier\n",
        "# DecisionTreeRegression\n",
        "from sklearn.model_selection import train_test_split\n",
        "\n",
        "\n",
        "tree = DecisionTreeClassifier(max_depth=8, random_state=1)\n",
        "# model = LogistiResression()\n",
        "# knn = KNearestNeighbor()\n",
        "\n",
        "tree.fit(X_train_m, y_train_m)\n",
        "y_pred_tree = tree.predict(X_test)"
      ],
      "metadata": {
        "colab": {
          "base_uri": "https://localhost:8080/"
        },
        "id": "BD81XTo0imGF",
        "outputId": "d9b6f7d4-eecf-4e32-92d6-3a9606649f47"
      },
      "execution_count": null,
      "outputs": [
        {
          "output_type": "stream",
          "name": "stderr",
          "text": [
            "/usr/local/lib/python3.7/dist-packages/sklearn/base.py:444: UserWarning: X has feature names, but DecisionTreeClassifier was fitted without feature names\n",
            "  f\"X has feature names, but {self.__class__.__name__} was fitted without\"\n"
          ]
        }
      ]
    },
    {
      "cell_type": "code",
      "source": [
        "print(\"Accuracy:\", accuracy_score(y_test,y_pred_tree))"
      ],
      "metadata": {
        "colab": {
          "base_uri": "https://localhost:8080/"
        },
        "id": "0Bvxp6GpkJT0",
        "outputId": "234bd7d7-635e-4376-bad2-5157fed75de6"
      },
      "execution_count": null,
      "outputs": [
        {
          "output_type": "stream",
          "name": "stdout",
          "text": [
            "Accuracy: 0.5378151260504201\n"
          ]
        }
      ]
    },
    {
      "cell_type": "code",
      "source": [
        "y_pred = knn.predict(test1)\n",
        "y_pred"
      ],
      "metadata": {
        "colab": {
          "base_uri": "https://localhost:8080/"
        },
        "id": "bbLKou9JVMWT",
        "outputId": "b42c9f60-091a-4126-9bdc-71462da571e2"
      },
      "execution_count": null,
      "outputs": [
        {
          "output_type": "stream",
          "name": "stderr",
          "text": [
            "/usr/local/lib/python3.7/dist-packages/sklearn/base.py:451: UserWarning: X does not have valid feature names, but KNeighborsClassifier was fitted with feature names\n",
            "  \"X does not have valid feature names, but\"\n"
          ]
        },
        {
          "output_type": "execute_result",
          "data": {
            "text/plain": [
              "array([0, 0, 0, 0, 0, 0, 0, 0, 0, 0, 0, 0, 0, 0, 0, 0, 0, 0, 0, 0, 0, 0,\n",
              "       0, 0, 0, 0, 0, 0, 0, 0, 0, 0, 0, 0, 0, 0, 0, 0, 0, 0, 0, 0, 0, 0,\n",
              "       0, 0, 0, 0, 0, 0, 0, 0, 0, 0, 0, 0, 0, 0, 0, 0, 0, 0, 0, 0, 0, 0,\n",
              "       0, 0, 0, 0, 0, 0, 0, 0, 0, 0, 0, 0, 0, 0, 0, 0, 0, 0, 0, 0, 0, 0,\n",
              "       0, 0, 0, 0, 0, 0, 0, 0, 0, 0, 0, 0, 0, 0, 0, 0, 0, 0, 0, 0, 0, 0,\n",
              "       0, 0, 0, 0, 0, 0, 0, 0, 0, 0, 0, 0, 0, 0, 0, 0, 0, 0, 0, 0, 0, 0,\n",
              "       0, 0, 0, 0, 0, 0, 0, 0, 0, 0, 0, 0, 0, 0, 0, 0, 0, 0, 0, 0, 0, 0,\n",
              "       0, 0, 0, 0, 0, 0, 0, 0, 0, 0, 0, 0, 0, 0, 0, 0, 0, 0, 0, 0, 0, 0,\n",
              "       0, 0, 0, 0, 0, 0, 0, 0, 0, 0, 0, 0, 0, 0, 0, 0, 0, 0, 0, 0, 0, 0,\n",
              "       0, 0, 0, 0, 0, 0, 0, 0, 0, 0, 0, 0, 0, 0, 0, 0, 0, 0, 0, 0, 0, 0,\n",
              "       0, 0, 0, 0, 0, 0, 0, 0, 0, 0, 0, 0, 0, 0, 0, 0, 0, 0, 0, 0, 0, 0,\n",
              "       0, 0, 0, 0, 0, 0, 0, 0, 0, 0, 0, 0, 0, 0, 0, 0, 0, 0, 0, 0, 0, 0,\n",
              "       0, 0, 0, 0, 0, 0, 0, 0, 0, 0, 0, 0, 0, 0])"
            ]
          },
          "metadata": {},
          "execution_count": 180
        }
      ]
    },
    {
      "cell_type": "code",
      "source": [
        "ans=pd.DataFrame(y_pred)\n",
        "ans['index']=21\n",
        "ind=ans.index\n",
        "ans['index']=ind\n",
        "d={ 0: 'ONSHORE',  1 :'OFFSHORE',  2: 'ONSHORE-OFFSHORE'}\n",
        "ans['Onshore/Offshore']=ans[0].map(d)\n",
        "ans=ans.drop([0], axis=1)"
      ],
      "metadata": {
        "id": "2uVCvYf_VLqx"
      },
      "execution_count": null,
      "outputs": []
    },
    {
      "cell_type": "code",
      "source": [
        "ans.to_csv('name.csv',index=False)\n",
        "files.download(\"name.csv\")"
      ],
      "metadata": {
        "id": "lRT2ywe-VVSn"
      },
      "execution_count": null,
      "outputs": []
    },
    {
      "cell_type": "markdown",
      "source": [
        "# дерево решений без маштабированием 85%"
      ],
      "metadata": {
        "id": "f-RdXwbPkdNJ"
      }
    },
    {
      "cell_type": "code",
      "source": [
        "from sklearn.tree import DecisionTreeClassifier\n",
        "# DecisionTreeRegression\n",
        "from sklearn.model_selection import train_test_split\n",
        "\n",
        "\n",
        "tree = DecisionTreeClassifier(max_depth=4, random_state=1)\n",
        "# model = LogistiResression()\n",
        "# knn = KNearestNeighbor()\n",
        "\n",
        "tree.fit(X_train, y_train)\n",
        "y_pred_tree = tree.predict(X_test)"
      ],
      "metadata": {
        "id": "_vi_4qqIktRn"
      },
      "execution_count": null,
      "outputs": []
    },
    {
      "cell_type": "code",
      "source": [
        "print(\"Accuracy:\", accuracy_score(y_test,y_pred_tree))"
      ],
      "metadata": {
        "colab": {
          "base_uri": "https://localhost:8080/"
        },
        "id": "zRSnaweNk4Nc",
        "outputId": "17911941-b495-4efc-c1e5-6989a8eb62d2"
      },
      "execution_count": null,
      "outputs": [
        {
          "output_type": "stream",
          "name": "stdout",
          "text": [
            "Accuracy: 0.8487394957983193\n"
          ]
        }
      ]
    },
    {
      "cell_type": "code",
      "source": [
        ""
      ],
      "metadata": {
        "id": "Yv5_FqXUVkoX"
      },
      "execution_count": null,
      "outputs": []
    },
    {
      "cell_type": "code",
      "source": [
        "model = LogisticRegression()\n",
        "model.fit(X_train, y_train)\n",
        "\n",
        "answers_pred = model.predict(X_test)\n",
        "answers_pred\n",
        "#print(\"Accuracy:\", accuracy_score(y_test,answers_pred))"
      ],
      "metadata": {
        "colab": {
          "base_uri": "https://localhost:8080/"
        },
        "id": "bjvSECPfWpv4",
        "outputId": "d21d2b45-d341-45d2-f5d4-4348dd87ad36"
      },
      "execution_count": null,
      "outputs": [
        {
          "output_type": "stream",
          "name": "stderr",
          "text": [
            "/usr/local/lib/python3.7/dist-packages/sklearn/linear_model/_logistic.py:818: ConvergenceWarning: lbfgs failed to converge (status=1):\n",
            "STOP: TOTAL NO. of ITERATIONS REACHED LIMIT.\n",
            "\n",
            "Increase the number of iterations (max_iter) or scale the data as shown in:\n",
            "    https://scikit-learn.org/stable/modules/preprocessing.html\n",
            "Please also refer to the documentation for alternative solver options:\n",
            "    https://scikit-learn.org/stable/modules/linear_model.html#logistic-regression\n",
            "  extra_warning_msg=_LOGISTIC_SOLVER_CONVERGENCE_MSG,\n"
          ]
        },
        {
          "output_type": "execute_result",
          "data": {
            "text/plain": [
              "array([1, 1, 1, 1, 0, 0, 0, 0, 1, 0, 1, 1, 0, 0, 0, 0, 0, 1, 1, 0, 0, 1,\n",
              "       1, 0, 1, 1, 0, 0, 1, 0, 0, 0, 1, 0, 0, 1, 0, 1, 1, 1, 0, 1, 1, 0,\n",
              "       0, 1, 0, 0, 1, 0, 0, 0, 0, 1, 1, 1, 0, 1, 0, 0, 1, 0, 1, 0, 1, 1,\n",
              "       1, 1, 1, 1, 0, 0, 0, 0, 1, 1, 0, 1, 0, 0, 1, 0, 0, 1, 1, 1, 0, 0,\n",
              "       0, 1, 1, 0, 1, 1, 1, 1, 0, 1, 1, 0, 1, 1, 1, 1, 0, 0, 0, 1, 1, 0,\n",
              "       1, 0, 0, 1, 0, 1, 0, 1, 1])"
            ]
          },
          "metadata": {},
          "execution_count": 190
        }
      ]
    },
    {
      "cell_type": "markdown",
      "source": [
        "# тестовая выборка"
      ],
      "metadata": {
        "id": "xKObwXag8oln"
      }
    },
    {
      "cell_type": "code",
      "source": [
        "y_pred = model.predict(test1)\n",
        "y_pred"
      ],
      "metadata": {
        "colab": {
          "base_uri": "https://localhost:8080/"
        },
        "id": "WScIg7ftSmN3",
        "outputId": "9500edda-80c8-492b-d4cf-c26f917c7905"
      },
      "execution_count": null,
      "outputs": [
        {
          "output_type": "stream",
          "name": "stderr",
          "text": [
            "/usr/local/lib/python3.7/dist-packages/sklearn/base.py:451: UserWarning: X does not have valid feature names, but LogisticRegression was fitted with feature names\n",
            "  \"X does not have valid feature names, but\"\n"
          ]
        },
        {
          "output_type": "execute_result",
          "data": {
            "text/plain": [
              "array([1, 0, 1, 0, 1, 1, 0, 1, 1, 1, 1, 1, 1, 1, 0, 1, 1, 1, 1, 1, 1, 1,\n",
              "       1, 0, 1, 1, 1, 2, 1, 0, 0, 0, 1, 1, 0, 0, 1, 1, 1, 1, 1, 1, 1, 1,\n",
              "       1, 0, 1, 1, 1, 1, 0, 1, 0, 1, 1, 1, 1, 1, 1, 1, 1, 1, 2, 1, 1, 1,\n",
              "       1, 1, 0, 0, 2, 0, 1, 0, 0, 0, 0, 1, 0, 0, 1, 0, 0, 1, 0, 1, 0, 1,\n",
              "       1, 0, 1, 1, 0, 0, 0, 0, 0, 0, 0, 1, 0, 0, 0, 0, 1, 1, 1, 0, 0, 1,\n",
              "       0, 0, 0, 1, 0, 0, 0, 1, 0, 1, 1, 1, 1, 0, 0, 0, 1, 1, 1, 1, 0, 0,\n",
              "       0, 0, 0, 0, 1, 1, 0, 1, 0, 1, 1, 1, 0, 1, 1, 1, 0, 1, 0, 0, 0, 1,\n",
              "       1, 0, 0, 0, 1, 0, 1, 0, 0, 0, 0, 0, 0, 1, 0, 0, 0, 0, 0, 0, 0, 1,\n",
              "       0, 0, 0, 0, 0, 0, 1, 1, 0, 0, 1, 0, 1, 1, 0, 0, 0, 0, 0, 0, 0, 0,\n",
              "       0, 0, 0, 0, 0, 1, 0, 0, 0, 0, 0, 0, 0, 0, 0, 0, 0, 0, 0, 0, 1, 0,\n",
              "       1, 0, 1, 0, 0, 1, 1, 0, 0, 0, 0, 1, 0, 1, 1, 0, 1, 0, 0, 1, 0, 0,\n",
              "       1, 0, 0, 1, 0, 0, 0, 1, 1, 1, 0, 0, 0, 0, 0, 0, 1, 0, 0, 0, 0, 0,\n",
              "       1, 0, 0, 1, 0, 0, 0, 0, 1, 0, 1, 0, 0, 1])"
            ]
          },
          "metadata": {},
          "execution_count": 191
        }
      ]
    },
    {
      "cell_type": "code",
      "source": [
        "\n",
        "\n",
        "ans=pd.DataFrame(y_pred)\n",
        "ans['index']=21\n",
        "ind=ans.index\n",
        "ans['index']=ind\n",
        "d={ 0: 'ONSHORE',  1 :'OFFSHORE',  2: 'ONSHORE-OFFSHORE'}\n",
        "ans['Onshore/Offshore']=ans[0].map(d)\n",
        "ans=ans.drop([0], axis=1)\n",
        "\n",
        "\n",
        "ans"
      ],
      "metadata": {
        "colab": {
          "base_uri": "https://localhost:8080/",
          "height": 424
        },
        "id": "Rr8gmYG1DzJ_",
        "outputId": "8b67308a-b4bc-40b5-afbc-02609e2c5e0a"
      },
      "execution_count": null,
      "outputs": [
        {
          "output_type": "execute_result",
          "data": {
            "text/plain": [
              "     index Onshore/Offshore\n",
              "0        0         OFFSHORE\n",
              "1        1          ONSHORE\n",
              "2        2         OFFSHORE\n",
              "3        3          ONSHORE\n",
              "4        4         OFFSHORE\n",
              "..     ...              ...\n",
              "273    273          ONSHORE\n",
              "274    274         OFFSHORE\n",
              "275    275          ONSHORE\n",
              "276    276          ONSHORE\n",
              "277    277         OFFSHORE\n",
              "\n",
              "[278 rows x 2 columns]"
            ],
            "text/html": [
              "\n",
              "  <div id=\"df-251ac618-d8d4-4fec-8512-58755ff195d7\">\n",
              "    <div class=\"colab-df-container\">\n",
              "      <div>\n",
              "<style scoped>\n",
              "    .dataframe tbody tr th:only-of-type {\n",
              "        vertical-align: middle;\n",
              "    }\n",
              "\n",
              "    .dataframe tbody tr th {\n",
              "        vertical-align: top;\n",
              "    }\n",
              "\n",
              "    .dataframe thead th {\n",
              "        text-align: right;\n",
              "    }\n",
              "</style>\n",
              "<table border=\"1\" class=\"dataframe\">\n",
              "  <thead>\n",
              "    <tr style=\"text-align: right;\">\n",
              "      <th></th>\n",
              "      <th>index</th>\n",
              "      <th>Onshore/Offshore</th>\n",
              "    </tr>\n",
              "  </thead>\n",
              "  <tbody>\n",
              "    <tr>\n",
              "      <th>0</th>\n",
              "      <td>0</td>\n",
              "      <td>OFFSHORE</td>\n",
              "    </tr>\n",
              "    <tr>\n",
              "      <th>1</th>\n",
              "      <td>1</td>\n",
              "      <td>ONSHORE</td>\n",
              "    </tr>\n",
              "    <tr>\n",
              "      <th>2</th>\n",
              "      <td>2</td>\n",
              "      <td>OFFSHORE</td>\n",
              "    </tr>\n",
              "    <tr>\n",
              "      <th>3</th>\n",
              "      <td>3</td>\n",
              "      <td>ONSHORE</td>\n",
              "    </tr>\n",
              "    <tr>\n",
              "      <th>4</th>\n",
              "      <td>4</td>\n",
              "      <td>OFFSHORE</td>\n",
              "    </tr>\n",
              "    <tr>\n",
              "      <th>...</th>\n",
              "      <td>...</td>\n",
              "      <td>...</td>\n",
              "    </tr>\n",
              "    <tr>\n",
              "      <th>273</th>\n",
              "      <td>273</td>\n",
              "      <td>ONSHORE</td>\n",
              "    </tr>\n",
              "    <tr>\n",
              "      <th>274</th>\n",
              "      <td>274</td>\n",
              "      <td>OFFSHORE</td>\n",
              "    </tr>\n",
              "    <tr>\n",
              "      <th>275</th>\n",
              "      <td>275</td>\n",
              "      <td>ONSHORE</td>\n",
              "    </tr>\n",
              "    <tr>\n",
              "      <th>276</th>\n",
              "      <td>276</td>\n",
              "      <td>ONSHORE</td>\n",
              "    </tr>\n",
              "    <tr>\n",
              "      <th>277</th>\n",
              "      <td>277</td>\n",
              "      <td>OFFSHORE</td>\n",
              "    </tr>\n",
              "  </tbody>\n",
              "</table>\n",
              "<p>278 rows × 2 columns</p>\n",
              "</div>\n",
              "      <button class=\"colab-df-convert\" onclick=\"convertToInteractive('df-251ac618-d8d4-4fec-8512-58755ff195d7')\"\n",
              "              title=\"Convert this dataframe to an interactive table.\"\n",
              "              style=\"display:none;\">\n",
              "        \n",
              "  <svg xmlns=\"http://www.w3.org/2000/svg\" height=\"24px\"viewBox=\"0 0 24 24\"\n",
              "       width=\"24px\">\n",
              "    <path d=\"M0 0h24v24H0V0z\" fill=\"none\"/>\n",
              "    <path d=\"M18.56 5.44l.94 2.06.94-2.06 2.06-.94-2.06-.94-.94-2.06-.94 2.06-2.06.94zm-11 1L8.5 8.5l.94-2.06 2.06-.94-2.06-.94L8.5 2.5l-.94 2.06-2.06.94zm10 10l.94 2.06.94-2.06 2.06-.94-2.06-.94-.94-2.06-.94 2.06-2.06.94z\"/><path d=\"M17.41 7.96l-1.37-1.37c-.4-.4-.92-.59-1.43-.59-.52 0-1.04.2-1.43.59L10.3 9.45l-7.72 7.72c-.78.78-.78 2.05 0 2.83L4 21.41c.39.39.9.59 1.41.59.51 0 1.02-.2 1.41-.59l7.78-7.78 2.81-2.81c.8-.78.8-2.07 0-2.86zM5.41 20L4 18.59l7.72-7.72 1.47 1.35L5.41 20z\"/>\n",
              "  </svg>\n",
              "      </button>\n",
              "      \n",
              "  <style>\n",
              "    .colab-df-container {\n",
              "      display:flex;\n",
              "      flex-wrap:wrap;\n",
              "      gap: 12px;\n",
              "    }\n",
              "\n",
              "    .colab-df-convert {\n",
              "      background-color: #E8F0FE;\n",
              "      border: none;\n",
              "      border-radius: 50%;\n",
              "      cursor: pointer;\n",
              "      display: none;\n",
              "      fill: #1967D2;\n",
              "      height: 32px;\n",
              "      padding: 0 0 0 0;\n",
              "      width: 32px;\n",
              "    }\n",
              "\n",
              "    .colab-df-convert:hover {\n",
              "      background-color: #E2EBFA;\n",
              "      box-shadow: 0px 1px 2px rgba(60, 64, 67, 0.3), 0px 1px 3px 1px rgba(60, 64, 67, 0.15);\n",
              "      fill: #174EA6;\n",
              "    }\n",
              "\n",
              "    [theme=dark] .colab-df-convert {\n",
              "      background-color: #3B4455;\n",
              "      fill: #D2E3FC;\n",
              "    }\n",
              "\n",
              "    [theme=dark] .colab-df-convert:hover {\n",
              "      background-color: #434B5C;\n",
              "      box-shadow: 0px 1px 3px 1px rgba(0, 0, 0, 0.15);\n",
              "      filter: drop-shadow(0px 1px 2px rgba(0, 0, 0, 0.3));\n",
              "      fill: #FFFFFF;\n",
              "    }\n",
              "  </style>\n",
              "\n",
              "      <script>\n",
              "        const buttonEl =\n",
              "          document.querySelector('#df-251ac618-d8d4-4fec-8512-58755ff195d7 button.colab-df-convert');\n",
              "        buttonEl.style.display =\n",
              "          google.colab.kernel.accessAllowed ? 'block' : 'none';\n",
              "\n",
              "        async function convertToInteractive(key) {\n",
              "          const element = document.querySelector('#df-251ac618-d8d4-4fec-8512-58755ff195d7');\n",
              "          const dataTable =\n",
              "            await google.colab.kernel.invokeFunction('convertToInteractive',\n",
              "                                                     [key], {});\n",
              "          if (!dataTable) return;\n",
              "\n",
              "          const docLinkHtml = 'Like what you see? Visit the ' +\n",
              "            '<a target=\"_blank\" href=https://colab.research.google.com/notebooks/data_table.ipynb>data table notebook</a>'\n",
              "            + ' to learn more about interactive tables.';\n",
              "          element.innerHTML = '';\n",
              "          dataTable['output_type'] = 'display_data';\n",
              "          await google.colab.output.renderOutput(dataTable, element);\n",
              "          const docLink = document.createElement('div');\n",
              "          docLink.innerHTML = docLinkHtml;\n",
              "          element.appendChild(docLink);\n",
              "        }\n",
              "      </script>\n",
              "    </div>\n",
              "  </div>\n",
              "  "
            ]
          },
          "metadata": {},
          "execution_count": 192
        }
      ]
    },
    {
      "cell_type": "code",
      "source": [
        "ans.to_csv('name.csv',index=False)\n",
        "files.download(\"name.csv\")"
      ],
      "metadata": {
        "colab": {
          "base_uri": "https://localhost:8080/",
          "height": 17
        },
        "id": "yjTzTfcaIMaJ",
        "outputId": "42147618-eecb-4085-b007-621e379092e1"
      },
      "execution_count": null,
      "outputs": [
        {
          "output_type": "display_data",
          "data": {
            "text/plain": [
              "<IPython.core.display.Javascript object>"
            ],
            "application/javascript": [
              "\n",
              "    async function download(id, filename, size) {\n",
              "      if (!google.colab.kernel.accessAllowed) {\n",
              "        return;\n",
              "      }\n",
              "      const div = document.createElement('div');\n",
              "      const label = document.createElement('label');\n",
              "      label.textContent = `Downloading \"${filename}\": `;\n",
              "      div.appendChild(label);\n",
              "      const progress = document.createElement('progress');\n",
              "      progress.max = size;\n",
              "      div.appendChild(progress);\n",
              "      document.body.appendChild(div);\n",
              "\n",
              "      const buffers = [];\n",
              "      let downloaded = 0;\n",
              "\n",
              "      const channel = await google.colab.kernel.comms.open(id);\n",
              "      // Send a message to notify the kernel that we're ready.\n",
              "      channel.send({})\n",
              "\n",
              "      for await (const message of channel.messages) {\n",
              "        // Send a message to notify the kernel that we're ready.\n",
              "        channel.send({})\n",
              "        if (message.buffers) {\n",
              "          for (const buffer of message.buffers) {\n",
              "            buffers.push(buffer);\n",
              "            downloaded += buffer.byteLength;\n",
              "            progress.value = downloaded;\n",
              "          }\n",
              "        }\n",
              "      }\n",
              "      const blob = new Blob(buffers, {type: 'application/binary'});\n",
              "      const a = document.createElement('a');\n",
              "      a.href = window.URL.createObjectURL(blob);\n",
              "      a.download = filename;\n",
              "      div.appendChild(a);\n",
              "      a.click();\n",
              "      div.remove();\n",
              "    }\n",
              "  "
            ]
          },
          "metadata": {}
        },
        {
          "output_type": "display_data",
          "data": {
            "text/plain": [
              "<IPython.core.display.Javascript object>"
            ],
            "application/javascript": [
              "download(\"download_9641cd5b-107d-4a11-ad5a-ea5aa18cd9e6\", \"name.csv\", 3396)"
            ]
          },
          "metadata": {}
        }
      ]
    }
  ]
}