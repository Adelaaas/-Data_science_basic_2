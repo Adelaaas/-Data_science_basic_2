{
  "nbformat": 4,
  "nbformat_minor": 0,
  "metadata": {
    "colab": {
      "name": "DA_LA_3.ipynb",
      "provenance": []
    },
    "kernelspec": {
      "name": "python3",
      "display_name": "Python 3"
    },
    "language_info": {
      "name": "python"
    }
  },
  "cells": [
    {
      "cell_type": "code",
      "metadata": {
        "colab": {
          "base_uri": "https://localhost:8080/"
        },
        "id": "asVTWhWyOapx",
        "outputId": "38f134a8-7fdc-49f1-8614-ac62a96757bd"
      },
      "source": [
        "# Task 1\n",
        "import numpy as np\n",
        "\n",
        "a = np.array([[1,2,3], [9, 0, 8], [7, 8, 5]], int)\n",
        "print(a[0, 0], a[1, 1], a[2, 2])"
      ],
      "execution_count": 2,
      "outputs": [
        {
          "output_type": "stream",
          "name": "stdout",
          "text": [
            "1 0 5\n"
          ]
        }
      ]
    },
    {
      "cell_type": "code",
      "metadata": {
        "colab": {
          "base_uri": "https://localhost:8080/"
        },
        "id": "q0vbiMZPP8sp",
        "outputId": "02a23750-8ea1-4096-b94e-d687c5d4d1b0"
      },
      "source": [
        "# Task 2\n",
        "print(a[1, :])"
      ],
      "execution_count": 6,
      "outputs": [
        {
          "output_type": "stream",
          "name": "stdout",
          "text": [
            "[9 0 8]\n"
          ]
        }
      ]
    },
    {
      "cell_type": "code",
      "metadata": {
        "colab": {
          "base_uri": "https://localhost:8080/"
        },
        "id": "sQ1XfRrPUhq5",
        "outputId": "62eafb5d-5b9b-4b99-8c0c-29a179a7fafa"
      },
      "source": [
        "# Task 3\n",
        "for i in range(a.shape[1]):\n",
        "  for j in range(a.shape[0]):\n",
        "    print(a[j, i], end = \" \")\n",
        "  print()"
      ],
      "execution_count": 8,
      "outputs": [
        {
          "output_type": "stream",
          "name": "stdout",
          "text": [
            "1 9 7 \n",
            "2 0 8 \n",
            "3 8 5 \n"
          ]
        }
      ]
    }
  ]
}