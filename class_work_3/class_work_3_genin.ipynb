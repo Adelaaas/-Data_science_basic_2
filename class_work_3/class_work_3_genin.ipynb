{
  "nbformat": 4,
  "nbformat_minor": 0,
  "metadata": {
    "colab": {
      "name": "class_work_3_genin",
      "provenance": [],
      "collapsed_sections": []
    },
    "kernelspec": {
      "name": "python3",
      "display_name": "Python 3"
    },
    "language_info": {
      "name": "python"
    }
  },
  "cells": [
    {
      "cell_type": "code",
      "metadata": {
        "colab": {
          "base_uri": "https://localhost:8080/"
        },
        "id": "mGjcJJpOJ-54",
        "outputId": "64512df4-ac46-4b50-e390-0193ea5f2bd6"
      },
      "source": [
        "import numpy as np\n",
        "a=np.array([[1,2,3],[9,0,8],[7,8,5]],int)\n",
        "print(a[0,0],a[1,1],a[2,2])"
      ],
      "execution_count": 25,
      "outputs": [
        {
          "output_type": "stream",
          "name": "stdout",
          "text": [
            "1 0 5\n"
          ]
        }
      ]
    },
    {
      "cell_type": "code",
      "metadata": {
        "colab": {
          "base_uri": "https://localhost:8080/"
        },
        "id": "nO1c1PIjP_5M",
        "outputId": "0c0b22bd-316a-4e72-86f8-ce09f3dbb40e"
      },
      "source": [
        "print(a[1, :])"
      ],
      "execution_count": 26,
      "outputs": [
        {
          "output_type": "stream",
          "name": "stdout",
          "text": [
            "[9 0 8]\n"
          ]
        }
      ]
    },
    {
      "cell_type": "code",
      "metadata": {
        "colab": {
          "base_uri": "https://localhost:8080/"
        },
        "id": "PWXULUDgb9MV",
        "outputId": "c01ebc04-f9ff-4f13-feb5-0518c139d1fe"
      },
      "source": [
        "for y in range(a.shape[1]):\n",
        "  for x in range(a.shape[0]):\n",
        "    print(a[x,y])"
      ],
      "execution_count": 30,
      "outputs": [
        {
          "output_type": "stream",
          "name": "stdout",
          "text": [
            "1\n",
            "9\n",
            "7\n",
            "2\n",
            "0\n",
            "8\n",
            "3\n",
            "8\n",
            "5\n"
          ]
        }
      ]
    },
    {
      "cell_type": "code",
      "metadata": {
        "colab": {
          "base_uri": "https://localhost:8080/"
        },
        "id": "CYzdPz-1WHD2",
        "outputId": "10b23b69-1a7e-455c-f352-81756ad99b76"
      },
      "source": [
        "print(a.shape)\n",
        "b=a.flatten()\n",
        "print(b)\n",
        "b.shape"
      ],
      "execution_count": 28,
      "outputs": [
        {
          "output_type": "stream",
          "name": "stdout",
          "text": [
            "(3, 3)\n",
            "[1 2 3 9 0 8 7 8 5]\n"
          ]
        },
        {
          "output_type": "execute_result",
          "data": {
            "text/plain": [
              "(9,)"
            ]
          },
          "metadata": {},
          "execution_count": 28
        }
      ]
    }
  ]
}