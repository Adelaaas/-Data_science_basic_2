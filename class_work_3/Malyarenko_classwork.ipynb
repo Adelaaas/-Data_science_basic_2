{
  "nbformat": 4,
  "nbformat_minor": 0,
  "metadata": {
    "colab": {
      "name": "Untitled2.ipynb",
      "provenance": []
    },
    "kernelspec": {
      "name": "python3",
      "display_name": "Python 3"
    },
    "language_info": {
      "name": "python"
    }
  },
  "cells": [
    {
      "cell_type": "code",
      "metadata": {
        "colab": {
          "base_uri": "https://localhost:8080/"
        },
        "id": "8dN1HRpQQURw",
        "outputId": "4533192f-0866-4778-9778-a9023451d147"
      },
      "source": [
        "import numpy as np\n",
        "b = np.array([[1, 2, 3], [4, 5, 6],[7,8,9]])\n",
        "print(b[0][0], b[1][1], b[2][2])"
      ],
      "execution_count": 5,
      "outputs": [
        {
          "output_type": "stream",
          "name": "stdout",
          "text": [
            "1 5 9\n"
          ]
        }
      ]
    },
    {
      "cell_type": "code",
      "metadata": {
        "colab": {
          "base_uri": "https://localhost:8080/"
        },
        "id": "F-RRYII_QrOC",
        "outputId": "edae5a02-f39a-4b9b-b687-d1edd63a61bd"
      },
      "source": [
        "print(b[1][0], b[1][1], b[1][2])"
      ],
      "execution_count": 6,
      "outputs": [
        {
          "output_type": "stream",
          "name": "stdout",
          "text": [
            "4 5 6\n"
          ]
        }
      ]
    },
    {
      "cell_type": "code",
      "metadata": {
        "colab": {
          "base_uri": "https://localhost:8080/"
        },
        "id": "diPBh3GTUkW0",
        "outputId": "86b246ea-9c07-4701-b330-e58246dbe554"
      },
      "source": [
        "for i in range(b.shape[0]):\n",
        "  for j in range(b[0].shape[0]):\n",
        "    print(b[i][j], end=' ')\n",
        "  print()"
      ],
      "execution_count": 12,
      "outputs": [
        {
          "output_type": "stream",
          "name": "stdout",
          "text": [
            "1 2 3 \n",
            "4 5 6 \n",
            "7 8 9 \n"
          ]
        }
      ]
    }
  ]
}