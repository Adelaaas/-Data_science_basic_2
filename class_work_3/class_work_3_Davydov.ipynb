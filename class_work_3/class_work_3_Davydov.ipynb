{
  "nbformat": 4,
  "nbformat_minor": 0,
  "metadata": {
    "colab": {
      "name": "class_work_3_Davydov.ipynb",
      "provenance": []
    },
    "kernelspec": {
      "name": "python3",
      "display_name": "Python 3"
    },
    "language_info": {
      "name": "python"
    }
  },
  "cells": [
    {
      "cell_type": "code",
      "metadata": {
        "colab": {
          "base_uri": "https://localhost:8080/"
        },
        "id": "lQFSqvlsLHn8",
        "outputId": "a709f6f9-47e8-4f16-b73c-3a5b95af5b78"
      },
      "source": [
        "#1\n",
        "import numpy as np\n",
        "a = np.array([[1, 2, 3], [4, 5, 6], [7, 8, 9]], int)\n",
        "print(a[0, 0], a[1, 1], a[2, 2])"
      ],
      "execution_count": 69,
      "outputs": [
        {
          "output_type": "stream",
          "name": "stdout",
          "text": [
            "1 5 9\n"
          ]
        }
      ]
    },
    {
      "cell_type": "code",
      "metadata": {
        "colab": {
          "base_uri": "https://localhost:8080/"
        },
        "id": "A4ZVdYAuMwgS",
        "outputId": "dce32636-2666-4244-ddda-dde3c3967786"
      },
      "source": [
        "#2\n",
        "a = np.array([[1, 2, 3], [4, 5, 6], [7, 8, 9]], int)\n",
        "print(a[1:2:])"
      ],
      "execution_count": 72,
      "outputs": [
        {
          "output_type": "stream",
          "name": "stdout",
          "text": [
            "[[4 5 6]]\n"
          ]
        }
      ]
    },
    {
      "cell_type": "code",
      "metadata": {
        "colab": {
          "base_uri": "https://localhost:8080/"
        },
        "id": "U89a4r7OR0wD",
        "outputId": "2297ae0a-c269-4d15-fdfc-c2c26b6f39c3"
      },
      "source": [
        "#3\n",
        "a = np.array([[1, 2, 3], [4, 5, 6], [7, 8, 9]], int)\n",
        "for i in range(a.shape[0]):\n",
        "  for j in range(a.shape[0]):\n",
        "    print(a[i, j], end= ' ')\n",
        "  print()"
      ],
      "execution_count": 81,
      "outputs": [
        {
          "output_type": "stream",
          "name": "stdout",
          "text": [
            "1 2 3 \n",
            "4 5 6 \n",
            "7 8 9 \n"
          ]
        }
      ]
    },
    {
      "cell_type": "code",
      "metadata": {
        "id": "suv8owLAfe44"
      },
      "source": [
        ""
      ],
      "execution_count": 80,
      "outputs": []
    }
  ]
}