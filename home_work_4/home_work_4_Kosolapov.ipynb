{
  "nbformat": 4,
  "nbformat_minor": 0,
  "metadata": {
    "colab": {
      "name": "Untitled10.ipynb",
      "provenance": [],
      "collapsed_sections": []
    },
    "kernelspec": {
      "name": "python3",
      "display_name": "Python 3"
    },
    "language_info": {
      "name": "python"
    }
  },
  "cells": [
    {
      "cell_type": "code",
      "metadata": {
        "colab": {
          "base_uri": "https://localhost:8080/"
        },
        "id": "UKjLPbHgGsPl",
        "outputId": "5de89424-1eaa-47d0-977f-01ad256c2aa7"
      },
      "source": [
        "!pip install pandas"
      ],
      "execution_count": 1,
      "outputs": [
        {
          "output_type": "stream",
          "name": "stdout",
          "text": [
            "Requirement already satisfied: pandas in /usr/local/lib/python3.7/dist-packages (1.1.5)\n",
            "Requirement already satisfied: pytz>=2017.2 in /usr/local/lib/python3.7/dist-packages (from pandas) (2018.9)\n",
            "Requirement already satisfied: python-dateutil>=2.7.3 in /usr/local/lib/python3.7/dist-packages (from pandas) (2.8.2)\n",
            "Requirement already satisfied: numpy>=1.15.4 in /usr/local/lib/python3.7/dist-packages (from pandas) (1.19.5)\n",
            "Requirement already satisfied: six>=1.5 in /usr/local/lib/python3.7/dist-packages (from python-dateutil>=2.7.3->pandas) (1.15.0)\n"
          ]
        }
      ]
    },
    {
      "cell_type": "code",
      "metadata": {
        "id": "VGfENSVJHcNv"
      },
      "source": [
        "import pandas as pd"
      ],
      "execution_count": 2,
      "outputs": []
    },
    {
      "cell_type": "markdown",
      "metadata": {
        "id": "b6C2mIbVOPmm"
      },
      "source": [
        "Number 1"
      ]
    },
    {
      "cell_type": "code",
      "metadata": {
        "colab": {
          "base_uri": "https://localhost:8080/"
        },
        "id": "MmYEZOazOP-u",
        "outputId": "b8b5bd10-e232-4bc0-ee4f-3e38cb41451b"
      },
      "source": [
        "import numpy as np\n",
        "import pandas as pd\n",
        "\n",
        "r = np.random.RandomState(1)\n",
        "s = pd.Series(r.uniform(0, 10, 100))\n",
        "\n",
        "d = s[s>5].index[0]\n",
        "d"
      ],
      "execution_count": 8,
      "outputs": [
        {
          "output_type": "execute_result",
          "data": {
            "text/plain": [
              "1"
            ]
          },
          "metadata": {},
          "execution_count": 8
        }
      ]
    },
    {
      "cell_type": "markdown",
      "metadata": {
        "id": "Uvv39qbgOT-t"
      },
      "source": [
        "Number 2"
      ]
    },
    {
      "cell_type": "code",
      "metadata": {
        "colab": {
          "base_uri": "https://localhost:8080/",
          "height": 173
        },
        "id": "tq5qk9rfOULy",
        "outputId": "cab8afd7-bac1-484a-ff90-1a0105fa65a8"
      },
      "source": [
        "df = pd.DataFrame({\n",
        "    'имя': ['Петя', 'Вася', 'Аня', 'Света'],\n",
        "    'возраст': [45, 26, 41 , 21],\n",
        "    'доход': [100000, 80000, 150000, 60000],\n",
        "    'надежность клиента (0..1)': [0.65, 0.74, 0.87, 0.68],\n",
        "    'пол': ['муж', 'муж', 'жен', 'жен']},\n",
        "    index=[0, 1, 2, 3])\n",
        "\n",
        "age = df[df['возраст'] > 40]\n",
        "\n",
        "sum = 0\n",
        "averege = df['доход'].mean()\n",
        "earn = df[df['доход'] > averege]\n",
        "\n",
        "trust = df['надежность клиента (0..1)'].mean()\n",
        "df[(df['доход'] > averege) & (df['надежность клиента (0..1)'] < trust)]\n",
        "\n",
        "df['важность клиента'] = df['доход'] * df['надежность клиента (0..1)']\n",
        "df['возможная долгосрочность клиента'] = df['важность клиента'] * df['возраст'].mean()\n",
        "df"
      ],
      "execution_count": 36,
      "outputs": [
        {
          "output_type": "execute_result",
          "data": {
            "text/html": [
              "<div>\n",
              "<style scoped>\n",
              "    .dataframe tbody tr th:only-of-type {\n",
              "        vertical-align: middle;\n",
              "    }\n",
              "\n",
              "    .dataframe tbody tr th {\n",
              "        vertical-align: top;\n",
              "    }\n",
              "\n",
              "    .dataframe thead th {\n",
              "        text-align: right;\n",
              "    }\n",
              "</style>\n",
              "<table border=\"1\" class=\"dataframe\">\n",
              "  <thead>\n",
              "    <tr style=\"text-align: right;\">\n",
              "      <th></th>\n",
              "      <th>имя</th>\n",
              "      <th>возраст</th>\n",
              "      <th>доход</th>\n",
              "      <th>надежность клиента (0..1)</th>\n",
              "      <th>пол</th>\n",
              "      <th>важность клиента</th>\n",
              "      <th>возможная долгосрочность клиента</th>\n",
              "    </tr>\n",
              "  </thead>\n",
              "  <tbody>\n",
              "    <tr>\n",
              "      <th>0</th>\n",
              "      <td>Петя</td>\n",
              "      <td>45</td>\n",
              "      <td>100000</td>\n",
              "      <td>0.65</td>\n",
              "      <td>муж</td>\n",
              "      <td>65000.0</td>\n",
              "      <td>2161250.0</td>\n",
              "    </tr>\n",
              "    <tr>\n",
              "      <th>1</th>\n",
              "      <td>Вася</td>\n",
              "      <td>26</td>\n",
              "      <td>80000</td>\n",
              "      <td>0.74</td>\n",
              "      <td>муж</td>\n",
              "      <td>59200.0</td>\n",
              "      <td>1968400.0</td>\n",
              "    </tr>\n",
              "    <tr>\n",
              "      <th>2</th>\n",
              "      <td>Аня</td>\n",
              "      <td>41</td>\n",
              "      <td>150000</td>\n",
              "      <td>0.87</td>\n",
              "      <td>жен</td>\n",
              "      <td>130500.0</td>\n",
              "      <td>4339125.0</td>\n",
              "    </tr>\n",
              "    <tr>\n",
              "      <th>3</th>\n",
              "      <td>Света</td>\n",
              "      <td>21</td>\n",
              "      <td>60000</td>\n",
              "      <td>0.68</td>\n",
              "      <td>жен</td>\n",
              "      <td>40800.0</td>\n",
              "      <td>1356600.0</td>\n",
              "    </tr>\n",
              "  </tbody>\n",
              "</table>\n",
              "</div>"
            ],
            "text/plain": [
              "     имя  возраст  ...  важность клиента  возможная долгосрочность клиента\n",
              "0   Петя       45  ...           65000.0                         2161250.0\n",
              "1   Вася       26  ...           59200.0                         1968400.0\n",
              "2    Аня       41  ...          130500.0                         4339125.0\n",
              "3  Света       21  ...           40800.0                         1356600.0\n",
              "\n",
              "[4 rows x 7 columns]"
            ]
          },
          "metadata": {},
          "execution_count": 36
        }
      ]
    },
    {
      "cell_type": "markdown",
      "metadata": {
        "id": "9oDfPWCpUrnj"
      },
      "source": [
        "Number 3"
      ]
    },
    {
      "cell_type": "code",
      "metadata": {
        "colab": {
          "base_uri": "https://localhost:8080/"
        },
        "id": "rd9nV9i1UuXH",
        "outputId": "7a4d8b45-b8a8-40b9-fc50-3017bbc4d213"
      },
      "source": [
        "df1 = pd.DataFrame({'fruit': ['apple', 'banana', 'orange'] * 3,\n",
        "                    'weight': ['low', 'medium', 'high'] * 3,\n",
        "                    'price': np.random.randint(0, 100, 9)})\n",
        "\n",
        "df2 = pd.DataFrame({'frukt': ['apple', 'banana', 'melon'] * 2,\n",
        "                    'ves': ['low', 'high'] * 3,\n",
        "                    'price': np.random.randint(0, 100, 6)})\n",
        "pd.concat([df1['price'], df2['price']])\n",
        "pd.concat([df1.iloc[:, 0:2], df2.iloc[:,0:2]],)\n"
      ],
      "execution_count": 45,
      "outputs": [
        {
          "output_type": "execute_result",
          "data": {
            "text/plain": [
              "0    36\n",
              "1    86\n",
              "2    74\n",
              "3    58\n",
              "4    12\n",
              "5    18\n",
              "6    46\n",
              "7    67\n",
              "8    62\n",
              "0    54\n",
              "1    50\n",
              "2    27\n",
              "3    68\n",
              "4    61\n",
              "5    33\n",
              "Name: price, dtype: int64"
            ]
          },
          "metadata": {},
          "execution_count": 45
        }
      ]
    },
    {
      "cell_type": "markdown",
      "metadata": {
        "id": "fcrQnhtoXd0M"
      },
      "source": [
        "Number 4.3"
      ]
    },
    {
      "cell_type": "code",
      "metadata": {
        "colab": {
          "base_uri": "https://localhost:8080/"
        },
        "id": "YEjIcV7AXeDN",
        "outputId": "db71b85f-e65b-4fa7-a845-b3a7f72ec725"
      },
      "source": [
        "import pandas as pd\n",
        "import numpy as np\n",
        "\n",
        "df = pd.DataFrame({\n",
        "    'name': ['Иван', 'Анна', 'Мария', 'Василий', 'Анастасия'],\n",
        "    'math': [5, 3, 3, 4, 4],\n",
        "    'russian': [4, 4, 4, 5, 3],\n",
        "    'history': [5, 4, 3, 4, 5]})\n",
        "\n",
        "for i in range(5):\n",
        "  df.loc[i, 'mean'] = df.iloc[i, 1:].mean()\n",
        "df['класс в котором учится ученик'] = ['11А', '11А', '11Б', '11Г', '11Б']\n",
        "df.drop(4)\n",
        "df\n",
        "\n",
        "\n",
        "print(df.iloc[0, 0:4],df.iloc[3, 0:4])"
      ],
      "execution_count": 71,
      "outputs": [
        {
          "output_type": "stream",
          "name": "stdout",
          "text": [
            "name       Иван\n",
            "math          5\n",
            "russian       4\n",
            "history       5\n",
            "Name: 0, dtype: object name       Василий\n",
            "math             4\n",
            "russian          5\n",
            "history          4\n",
            "Name: 3, dtype: object\n"
          ]
        }
      ]
    }
  ]
}