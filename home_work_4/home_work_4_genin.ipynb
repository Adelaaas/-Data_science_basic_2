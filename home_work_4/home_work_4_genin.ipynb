{
  "nbformat": 4,
  "nbformat_minor": 0,
  "metadata": {
    "colab": {
      "name": "home_work_4_genin.ipynb",
      "provenance": []
    },
    "kernelspec": {
      "name": "python3",
      "display_name": "Python 3"
    },
    "language_info": {
      "name": "python"
    }
  },
  "cells": [
    {
      "cell_type": "code",
      "metadata": {
        "id": "ZXi6vSxYUIa2"
      },
      "source": [
        "#1\n",
        "import numpy as np\n",
        "import pandas as pd\n",
        "r = np.random.RandomState(1)\n",
        "s = pd.Series(r.uniform(0, 10, 100))\n",
        "a=[]\n",
        "for i in s[s>5]:\n",
        "  a.append(i)\n",
        "a.sort()\n",
        "for i in range(100):\n",
        "  if s[i]==a[0]:\n",
        "    break\n",
        "print(i)"
      ],
      "execution_count": null,
      "outputs": []
    },
    {
      "cell_type": "code",
      "metadata": {
        "id": "W15KAv12beUj"
      },
      "source": [
        "#2\n",
        "df = pd.DataFrame({\n",
        "    'имя': ['Петя', 'Вася', 'Аня', 'Света'],\n",
        "    'возраст': [45, 26, 41 , 21],\n",
        "    'доход': [100000, 80000, 150000, 60000],\n",
        "    'надежность клиента (0..1)': [0.65, 0.74, 0.87, 0.68],\n",
        "    'пол': ['муж', 'муж', 'жен', 'жен']},\n",
        "    index=[0, 1, 2, 3])\n",
        "df['важность клиента']=df['доход']*df['надежность клиента (0..1)']\n",
        "df['возможная долгосрочность клиента']=df['важность клиента']*(df['возраст'].mean()-df['возраст'])\n",
        "print(df[df['возраст']>40])\n",
        "print(df[df2['доход']>df['доход'].mean()])\n",
        "print(df[(df2['доход']>df['доход'].mean())&(df2['надежность клиента (0..1)']<df['надежность клиента (0..1)'].mean())])"
      ],
      "execution_count": null,
      "outputs": []
    },
    {
      "cell_type": "code",
      "metadata": {
        "id": "fu7lOf84nhX3"
      },
      "source": [
        "#3\n",
        "df1 = pd.DataFrame({'fruit': ['apple', 'banana', 'orange'] * 3,\n",
        "                    'weight': ['low', 'medium', 'high'] * 3,\n",
        "                    'price': np.random.randint(0, 100, 9)})\n",
        "df2 = pd.DataFrame({'frukt': ['apple', 'banana', 'melon'] * 2,\n",
        "                    'ves': ['low', 'high'] * 3,\n",
        "                    'price': np.random.randint(0, 100, 6)})\n",
        "df1.merge(df2,left_on=['fruit','weight'],right_on=['frukt','ves'])"
      ],
      "execution_count": null,
      "outputs": []
    },
    {
      "cell_type": "code",
      "metadata": {
        "id": "1flsG4S5sBQL"
      },
      "source": [
        "#4.1\n",
        "df = pd.DataFrame({\n",
        "    'country': ['Kazakhstan', 'Russia', 'Belarus', 'Ukraine'],\n",
        "    'population': [17.04, 143.5, 9.5, 45.5],\n",
        "    'square': [2724902, 17125191, 207600, 603628]})\n",
        "df['code']=['KZ','RU','BY','UA']\n",
        "df['density']=df['population']*1000000/df['square']\n",
        "usa={'country':'USA','population':329.5,'square':9834,'code':'US','density':329500000/9834}\n",
        "uk={'country':'United Kingdom','population':55.98,'square':130279,'code':'UK','density':55980000/130279}\n",
        "df=df.append(usa,ignore_index=True)\n",
        "df=df.append(uk,ignore_index=True)\n",
        "avg=0\n",
        "for i in df.loc[:,'square']:\n",
        "  avg+=i\n",
        "avg/=df.shape[0]\n",
        "print(df)\n",
        "avg"
      ],
      "execution_count": null,
      "outputs": []
    }
  ]
}