{
  "nbformat": 4,
  "nbformat_minor": 0,
  "metadata": {
    "colab": {
      "name": "homework4_Bluvshtein.ipynb",
      "provenance": [],
      "collapsed_sections": []
    },
    "kernelspec": {
      "name": "python3",
      "display_name": "Python 3"
    },
    "language_info": {
      "name": "python"
    }
  },
  "cells": [
    {
      "cell_type": "markdown",
      "metadata": {
        "id": "NEyqV_ob5Di6"
      },
      "source": [
        "**задание 1**\n",
        "\n",
        "Задан Series объект s, найти индекс первого элемента отсортированного s, где значения больше 5."
      ]
    },
    {
      "cell_type": "code",
      "metadata": {
        "id": "p2pngTOa5ELq"
      },
      "source": [
        "import pandas as pd\n",
        "\n",
        "r = np.random.RandomState(1)\n",
        "s = pd.Series(r.uniform(0, 10, 100))\n",
        "s=s[s>5]\n",
        "t=s.sort_values()\n",
        "print(s)\n",
        "print(t)\n",
        "t.index[0]\n"
      ],
      "execution_count": null,
      "outputs": []
    },
    {
      "cell_type": "markdown",
      "metadata": {
        "id": "E36OB7WV5hof"
      },
      "source": [
        "**Задание 2.**\n",
        "\n",
        "Имеется небольшой игрушечный DataFrame, в котором необходимо провести несколько типов фильтраций и отобразить результат:\n",
        "\n",
        "всех, кто старше 40\n",
        "\n",
        "всех, кто имеет доход выше среднего по датасету\n",
        "\n",
        "всех, кто имеет доход выше среднего по датасету, но надежность ниже среднего по датасету\n",
        "\n",
        "создать новые столбцы:\n",
        "\n",
        "важность клиента = доход * надежность\n",
        "\n",
        "возможная долгосрочность клиента = важность клиента * (средний возраст по датасету - возраст клиента)\n",
        "подсказка: двойные условия записываются так: (условие 1) & (условие 2)"
      ]
    },
    {
      "cell_type": "code",
      "metadata": {
        "colab": {
          "base_uri": "https://localhost:8080/",
          "height": 306
        },
        "id": "7APhdLCd5vNG",
        "outputId": "da03a902-8c91-4b0a-ec62-603ca122c2ba"
      },
      "source": [
        "import pandas as pd\n",
        "df = pd.DataFrame({\n",
        "    'имя': ['Петя', 'Вася', 'Аня', 'Света'],\n",
        "    'возраст': [45, 26, 41 , 21],\n",
        "    'доход': [100000, 80000, 150000, 60000],\n",
        "    'надежность клиента (0..1)': [0.65, 0.74, 0.87, 0.68],\n",
        "    'пол': ['муж', 'муж', 'жен', 'жен']},\n",
        "    index=[0, 1, 2, 3])\n",
        "print(df[df['возраст'] >= 40])\n",
        "print(df[df['доход'] > df['доход'].mean()])\n",
        "print(df[(df['надежность клиента (0..1)'] < df['надежность клиента (0..1)'].mean()) & (df['доход'] > df['доход'].mean())])\n",
        "df['важность клиента']=df['доход']*df['надежность клиента (0..1)']\n",
        "df['возможная долгосрочность клиента']=df['надежность клиента (0..1)']*(df['возраст'].mean()-df['возраст'])\n",
        "df"
      ],
      "execution_count": null,
      "outputs": [
        {
          "output_type": "stream",
          "name": "stdout",
          "text": [
            "    имя  возраст   доход  надежность клиента (0..1)  пол\n",
            "0  Петя       45  100000                       0.65  муж\n",
            "2   Аня       41  150000                       0.87  жен\n",
            "    имя  возраст   доход  надежность клиента (0..1)  пол\n",
            "0  Петя       45  100000                       0.65  муж\n",
            "2   Аня       41  150000                       0.87  жен\n",
            "    имя  возраст   доход  надежность клиента (0..1)  пол\n",
            "0  Петя       45  100000                       0.65  муж\n"
          ]
        },
        {
          "output_type": "execute_result",
          "data": {
            "text/html": [
              "<div>\n",
              "<style scoped>\n",
              "    .dataframe tbody tr th:only-of-type {\n",
              "        vertical-align: middle;\n",
              "    }\n",
              "\n",
              "    .dataframe tbody tr th {\n",
              "        vertical-align: top;\n",
              "    }\n",
              "\n",
              "    .dataframe thead th {\n",
              "        text-align: right;\n",
              "    }\n",
              "</style>\n",
              "<table border=\"1\" class=\"dataframe\">\n",
              "  <thead>\n",
              "    <tr style=\"text-align: right;\">\n",
              "      <th></th>\n",
              "      <th>имя</th>\n",
              "      <th>возраст</th>\n",
              "      <th>доход</th>\n",
              "      <th>надежность клиента (0..1)</th>\n",
              "      <th>пол</th>\n",
              "      <th>важность клиента</th>\n",
              "      <th>возможная долгосрочность клиента</th>\n",
              "    </tr>\n",
              "  </thead>\n",
              "  <tbody>\n",
              "    <tr>\n",
              "      <th>0</th>\n",
              "      <td>Петя</td>\n",
              "      <td>45</td>\n",
              "      <td>100000</td>\n",
              "      <td>0.65</td>\n",
              "      <td>муж</td>\n",
              "      <td>65000.0</td>\n",
              "      <td>-7.6375</td>\n",
              "    </tr>\n",
              "    <tr>\n",
              "      <th>1</th>\n",
              "      <td>Вася</td>\n",
              "      <td>26</td>\n",
              "      <td>80000</td>\n",
              "      <td>0.74</td>\n",
              "      <td>муж</td>\n",
              "      <td>59200.0</td>\n",
              "      <td>5.3650</td>\n",
              "    </tr>\n",
              "    <tr>\n",
              "      <th>2</th>\n",
              "      <td>Аня</td>\n",
              "      <td>41</td>\n",
              "      <td>150000</td>\n",
              "      <td>0.87</td>\n",
              "      <td>жен</td>\n",
              "      <td>130500.0</td>\n",
              "      <td>-6.7425</td>\n",
              "    </tr>\n",
              "    <tr>\n",
              "      <th>3</th>\n",
              "      <td>Света</td>\n",
              "      <td>21</td>\n",
              "      <td>60000</td>\n",
              "      <td>0.68</td>\n",
              "      <td>жен</td>\n",
              "      <td>40800.0</td>\n",
              "      <td>8.3300</td>\n",
              "    </tr>\n",
              "  </tbody>\n",
              "</table>\n",
              "</div>"
            ],
            "text/plain": [
              "     имя  возраст  ...  важность клиента  возможная долгосрочность клиента\n",
              "0   Петя       45  ...           65000.0                           -7.6375\n",
              "1   Вася       26  ...           59200.0                            5.3650\n",
              "2    Аня       41  ...          130500.0                           -6.7425\n",
              "3  Света       21  ...           40800.0                            8.3300\n",
              "\n",
              "[4 rows x 7 columns]"
            ]
          },
          "metadata": {},
          "execution_count": 1
        }
      ]
    },
    {
      "cell_type": "markdown",
      "metadata": {
        "id": "-TZ1f7wsLJqK"
      },
      "source": [
        "**задание 3**\n",
        "\n",
        "Как объединить два DataFrame по двум столбцам так, чтобы остались только общие строки\n",
        "\n",
        "Объедините df1 и df2 по столбцам fruit-frukt и weight-ves."
      ]
    },
    {
      "cell_type": "code",
      "metadata": {
        "id": "wGUaNHgfJ16k"
      },
      "source": [
        "import pandas as pd\n",
        "df1 = pd.DataFrame({'fruit': ['apple', 'banana', 'orange'] * 3,\n",
        "                    'weight': ['low', 'medium', 'high'] * 3,\n",
        "                    'price': np.random.randint(0, 100, 9)})\n",
        "\n",
        "df2 = pd.DataFrame({'frukt': ['apple', 'banana', 'melon'] * 2,\n",
        "                    'ves': ['low', 'high'] * 3,\n",
        "                    'price': np.random.randint(0, 100, 6)})\n",
        "\n",
        "\n",
        "pd.merge(df1, df2, how='inner', left_on=['fruit', 'weight'], right_on=['frukt', 'ves'])\n"
      ],
      "execution_count": null,
      "outputs": []
    },
    {
      "cell_type": "markdown",
      "metadata": {
        "id": "k8--NIv98rhV"
      },
      "source": [
        "**задание 4**\n",
        "\n",
        "1. Создайте новые столбцы, которые будут содержать:\n",
        "\n",
        "Коды страны: 'KZ', 'RU', 'BY', 'UA'\n",
        "\n",
        "Плотность населения = население (в миллионах) поделить на площадь страны\n",
        "2. Добавьте в датафрейм данные еще о двух странах:\n",
        "\n",
        "USA; 329,5; 9834\n",
        "\n",
        "United Kingdom; 55,98; 130279\n",
        "3. Найдите среднюю площадь всех стран"
      ]
    },
    {
      "cell_type": "code",
      "metadata": {
        "id": "AeKLZwYP8wIi"
      },
      "source": [
        "import pandas as pd\n",
        "\n",
        "df = pd.DataFrame({\n",
        "    'country': ['Kazakhstan', 'Russia', 'Belarus', 'Ukraine'],\n",
        "    'population': [17.04, 143.5, 9.5, 45.5],\n",
        "    'square': [2724902, 17125191, 207600, 603628]})\n",
        "\n",
        "df['code of the country']=[ 'KZ', 'RU', 'BY', 'UA']\n",
        "print(df)\n",
        "df['population density']=df['population']/df['square']*10**6\n",
        "print(df)\n",
        "df1=pd.DataFrame({\n",
        "    'country': ['USA', 'United Kingdom'],\n",
        "    'population': [329.5, 55.98],\n",
        "    'square': [9834, 130279]})\n",
        "df=pd.concat([df1, df], ignore_index=True)\n",
        "print(df)\n",
        "print(df['square'].mean())"
      ],
      "execution_count": null,
      "outputs": []
    }
  ]
}