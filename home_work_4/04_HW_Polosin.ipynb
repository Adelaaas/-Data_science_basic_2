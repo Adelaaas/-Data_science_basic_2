{
  "nbformat": 4,
  "nbformat_minor": 0,
  "metadata": {
    "colab": {
      "name": "04_HW_Polosin.ipynb",
      "provenance": [],
      "collapsed_sections": []
    },
    "kernelspec": {
      "name": "python3",
      "display_name": "Python 3"
    },
    "language_info": {
      "name": "python"
    }
  },
  "cells": [
    {
      "cell_type": "markdown",
      "metadata": {
        "id": "8IERyOaNbknY"
      },
      "source": [
        "\n",
        "Задание 1.\n",
        "\n",
        "Задан Series объект s, найти индекс первого элемента отсортированного s, где значения больше 5."
      ]
    },
    {
      "cell_type": "code",
      "metadata": {
        "colab": {
          "base_uri": "https://localhost:8080/"
        },
        "id": "5yemx8Kka1wh",
        "outputId": "a2428273-dba7-45c9-9ce7-b7b0f7874e44"
      },
      "source": [
        "# задано изначально\n",
        "import numpy as np\n",
        "import pandas as pd\n",
        "\n",
        "r = np.random.RandomState(1)\n",
        "s = pd.Series(r.uniform(0, 10, 100))\n",
        "\n",
        "s = sorted(s)\n",
        "s = pd.Series(s)\n",
        "# Далее ваше решение\n",
        "for i in range(len(s)):\n",
        "  if s[i] > 5:\n",
        "    print(i)\n",
        "    break\n",
        "# s[30:60]"
      ],
      "execution_count": null,
      "outputs": [
        {
          "output_type": "stream",
          "name": "stdout",
          "text": [
            "51\n"
          ]
        }
      ]
    },
    {
      "cell_type": "code",
      "metadata": {
        "colab": {
          "base_uri": "https://localhost:8080/",
          "height": 225
        },
        "id": "3KCTY14WeO7a",
        "outputId": "19637e2e-0179-4c09-951b-4c1c2da45f24"
      },
      "source": [
        "# task 2\n",
        "# создадим тестовый датасет\n",
        "df = pd.DataFrame({\n",
        "    'имя': ['Петя', 'Вася', 'Аня', 'Света'],\n",
        "    'возраст': [45, 26, 41 , 21],\n",
        "    'доход': [100000, 80000, 150000, 60000],\n",
        "    'надежность клиента (0..1)': [0.65, 0.74, 0.87, 0.68],\n",
        "    'пол': ['муж', 'муж', 'жен', 'жен']},\n",
        "    index=[0, 1, 2, 3])\n",
        "\n",
        "df[\"важность\"] = df['доход']*df['надежность клиента (0..1)']\n",
        "df[\"возможная долгосрочность клиента\"] = df[\"важность\"]*(df['возраст'].mean()-df['возраст'])\n",
        "\n",
        "# ваш код тут\n",
        "# Все, кто старше сорока:\n",
        "print(\"Возраст хотя бы сорок лет: \", list(df[df['возраст'] >= 40]['имя']))\n",
        "print(\"Доход выше среднего: \", list(df[df['доход'] > df['доход'].mean()]['имя']))\n",
        "print(\"Имеет доход выше среднего, но надежность ниже среднего: \", list(df[(df['доход'] > df['доход'].mean())&(df['надежность клиента (0..1)'] < df['надежность клиента (0..1)'].mean()) ]['имя']))\n",
        "df"
      ],
      "execution_count": null,
      "outputs": [
        {
          "output_type": "stream",
          "name": "stdout",
          "text": [
            "Возраст хотя бы сорок лет:  ['Петя', 'Аня']\n",
            "Доход выше среднего:  ['Петя', 'Аня']\n",
            "Имеет доход выше среднего, но надежность ниже среднего:  ['Петя']\n"
          ]
        },
        {
          "output_type": "execute_result",
          "data": {
            "text/html": [
              "<div>\n",
              "<style scoped>\n",
              "    .dataframe tbody tr th:only-of-type {\n",
              "        vertical-align: middle;\n",
              "    }\n",
              "\n",
              "    .dataframe tbody tr th {\n",
              "        vertical-align: top;\n",
              "    }\n",
              "\n",
              "    .dataframe thead th {\n",
              "        text-align: right;\n",
              "    }\n",
              "</style>\n",
              "<table border=\"1\" class=\"dataframe\">\n",
              "  <thead>\n",
              "    <tr style=\"text-align: right;\">\n",
              "      <th></th>\n",
              "      <th>имя</th>\n",
              "      <th>возраст</th>\n",
              "      <th>доход</th>\n",
              "      <th>надежность клиента (0..1)</th>\n",
              "      <th>пол</th>\n",
              "      <th>важность</th>\n",
              "      <th>возможная долгосрочность клиента</th>\n",
              "    </tr>\n",
              "  </thead>\n",
              "  <tbody>\n",
              "    <tr>\n",
              "      <th>0</th>\n",
              "      <td>Петя</td>\n",
              "      <td>45</td>\n",
              "      <td>100000</td>\n",
              "      <td>0.65</td>\n",
              "      <td>муж</td>\n",
              "      <td>65000.0</td>\n",
              "      <td>-763750.0</td>\n",
              "    </tr>\n",
              "    <tr>\n",
              "      <th>1</th>\n",
              "      <td>Вася</td>\n",
              "      <td>26</td>\n",
              "      <td>80000</td>\n",
              "      <td>0.74</td>\n",
              "      <td>муж</td>\n",
              "      <td>59200.0</td>\n",
              "      <td>429200.0</td>\n",
              "    </tr>\n",
              "    <tr>\n",
              "      <th>2</th>\n",
              "      <td>Аня</td>\n",
              "      <td>41</td>\n",
              "      <td>150000</td>\n",
              "      <td>0.87</td>\n",
              "      <td>жен</td>\n",
              "      <td>130500.0</td>\n",
              "      <td>-1011375.0</td>\n",
              "    </tr>\n",
              "    <tr>\n",
              "      <th>3</th>\n",
              "      <td>Света</td>\n",
              "      <td>21</td>\n",
              "      <td>60000</td>\n",
              "      <td>0.68</td>\n",
              "      <td>жен</td>\n",
              "      <td>40800.0</td>\n",
              "      <td>499800.0</td>\n",
              "    </tr>\n",
              "  </tbody>\n",
              "</table>\n",
              "</div>"
            ],
            "text/plain": [
              "     имя  возраст   доход  ...  пол  важность  возможная долгосрочность клиента\n",
              "0   Петя       45  100000  ...  муж   65000.0                         -763750.0\n",
              "1   Вася       26   80000  ...  муж   59200.0                          429200.0\n",
              "2    Аня       41  150000  ...  жен  130500.0                        -1011375.0\n",
              "3  Света       21   60000  ...  жен   40800.0                          499800.0\n",
              "\n",
              "[4 rows x 7 columns]"
            ]
          },
          "metadata": {},
          "execution_count": 24
        }
      ]
    },
    {
      "cell_type": "code",
      "metadata": {
        "colab": {
          "base_uri": "https://localhost:8080/",
          "height": 143
        },
        "id": "3bKXoeHsASuc",
        "outputId": "9e2aa66f-8d94-41aa-e176-25bbd70833a9"
      },
      "source": [
        "# Task 3\n",
        "df1 = pd.DataFrame({'fruit': ['apple', 'banana', 'orange'] * 3,\n",
        "                    'weight': ['low', 'medium', 'high'] * 3,\n",
        "                    'price': np.random.randint(0, 100, 9)})\n",
        "df2 = pd.DataFrame({'frukt': ['apple', 'banana', 'melon'] * 2,\n",
        "                    'ves': ['low', 'high'] * 3,\n",
        "                    'price': np.random.randint(0, 100, 6)})\n",
        "\n",
        "# how inner = использовать пересечение ключей из обоих фреймов\n",
        "\n",
        "pd.merge(df1, df2, how='inner', left_on=['fruit', 'weight'], right_on=['frukt', 'ves'])"
      ],
      "execution_count": null,
      "outputs": [
        {
          "output_type": "execute_result",
          "data": {
            "text/html": [
              "<div>\n",
              "<style scoped>\n",
              "    .dataframe tbody tr th:only-of-type {\n",
              "        vertical-align: middle;\n",
              "    }\n",
              "\n",
              "    .dataframe tbody tr th {\n",
              "        vertical-align: top;\n",
              "    }\n",
              "\n",
              "    .dataframe thead th {\n",
              "        text-align: right;\n",
              "    }\n",
              "</style>\n",
              "<table border=\"1\" class=\"dataframe\">\n",
              "  <thead>\n",
              "    <tr style=\"text-align: right;\">\n",
              "      <th></th>\n",
              "      <th>fruit</th>\n",
              "      <th>weight</th>\n",
              "      <th>price_x</th>\n",
              "      <th>frukt</th>\n",
              "      <th>ves</th>\n",
              "      <th>price_y</th>\n",
              "    </tr>\n",
              "  </thead>\n",
              "  <tbody>\n",
              "    <tr>\n",
              "      <th>0</th>\n",
              "      <td>apple</td>\n",
              "      <td>low</td>\n",
              "      <td>31</td>\n",
              "      <td>apple</td>\n",
              "      <td>low</td>\n",
              "      <td>39</td>\n",
              "    </tr>\n",
              "    <tr>\n",
              "      <th>1</th>\n",
              "      <td>apple</td>\n",
              "      <td>low</td>\n",
              "      <td>53</td>\n",
              "      <td>apple</td>\n",
              "      <td>low</td>\n",
              "      <td>39</td>\n",
              "    </tr>\n",
              "    <tr>\n",
              "      <th>2</th>\n",
              "      <td>apple</td>\n",
              "      <td>low</td>\n",
              "      <td>14</td>\n",
              "      <td>apple</td>\n",
              "      <td>low</td>\n",
              "      <td>39</td>\n",
              "    </tr>\n",
              "  </tbody>\n",
              "</table>\n",
              "</div>"
            ],
            "text/plain": [
              "   fruit weight  price_x  frukt  ves  price_y\n",
              "0  apple    low       31  apple  low       39\n",
              "1  apple    low       53  apple  low       39\n",
              "2  apple    low       14  apple  low       39"
            ]
          },
          "metadata": {},
          "execution_count": 18
        }
      ]
    },
    {
      "cell_type": "code",
      "metadata": {
        "colab": {
          "base_uri": "https://localhost:8080/",
          "height": 339
        },
        "id": "uKuUaAwxDPiF",
        "outputId": "79f329fb-a2a3-4bed-c3b8-f67371a22c36"
      },
      "source": [
        "# Task 4\n",
        "\n",
        "import pandas as pd\n",
        "import numpy as np\n",
        "\n",
        "df = pd.DataFrame({\n",
        "    'fruit': ['Apple', 'Watermelon', 'Cherry', 'Orange', 'Banana'],\n",
        "    'price': [25, 33.5, 19.5, 9.6, 10],\n",
        "    'quantity': [100, 34, np.NaN, 56, 120]})\n",
        "\n",
        "# Посчитать сколько пропусков в датасете и удалить строки которые содержат пропуски\n",
        "print(sum(list(df.isna().sum())))\n",
        "df = df.dropna(axis=0, how='any')\n",
        "#  Добавить новый столбец:\n",
        "# Общая стоимость фрукта = количество на складе*цену за кг\n",
        "df['total cost'] = df['quantity']*df['price']\n",
        "print(df)\n",
        "#Создать новый датасет, в котором содержать данные еще о трех фруктах:\n",
        "\n",
        "df_new = pd.DataFrame({\n",
        "    'fruit': ['Apple', 'Melon', 'Peach'],\n",
        "    'price': [25.0, 30.0, 98.0],\n",
        "    'quantity': [100, 55, 11]})\n",
        "df_new['total cost'] = df_new['quantity']*df_new['price']\n",
        "df.merge(df_new, how='outer')\n"
      ],
      "execution_count": 4,
      "outputs": [
        {
          "output_type": "stream",
          "name": "stdout",
          "text": [
            "1\n",
            "        fruit  price  quantity  total cost\n",
            "0       Apple   25.0     100.0      2500.0\n",
            "1  Watermelon   33.5      34.0      1139.0\n",
            "3      Orange    9.6      56.0       537.6\n",
            "4      Banana   10.0     120.0      1200.0\n"
          ]
        },
        {
          "output_type": "execute_result",
          "data": {
            "text/html": [
              "<div>\n",
              "<style scoped>\n",
              "    .dataframe tbody tr th:only-of-type {\n",
              "        vertical-align: middle;\n",
              "    }\n",
              "\n",
              "    .dataframe tbody tr th {\n",
              "        vertical-align: top;\n",
              "    }\n",
              "\n",
              "    .dataframe thead th {\n",
              "        text-align: right;\n",
              "    }\n",
              "</style>\n",
              "<table border=\"1\" class=\"dataframe\">\n",
              "  <thead>\n",
              "    <tr style=\"text-align: right;\">\n",
              "      <th></th>\n",
              "      <th>fruit</th>\n",
              "      <th>price</th>\n",
              "      <th>quantity</th>\n",
              "      <th>total cost</th>\n",
              "    </tr>\n",
              "  </thead>\n",
              "  <tbody>\n",
              "    <tr>\n",
              "      <th>0</th>\n",
              "      <td>Apple</td>\n",
              "      <td>25.0</td>\n",
              "      <td>100.0</td>\n",
              "      <td>2500.0</td>\n",
              "    </tr>\n",
              "    <tr>\n",
              "      <th>1</th>\n",
              "      <td>Watermelon</td>\n",
              "      <td>33.5</td>\n",
              "      <td>34.0</td>\n",
              "      <td>1139.0</td>\n",
              "    </tr>\n",
              "    <tr>\n",
              "      <th>2</th>\n",
              "      <td>Orange</td>\n",
              "      <td>9.6</td>\n",
              "      <td>56.0</td>\n",
              "      <td>537.6</td>\n",
              "    </tr>\n",
              "    <tr>\n",
              "      <th>3</th>\n",
              "      <td>Banana</td>\n",
              "      <td>10.0</td>\n",
              "      <td>120.0</td>\n",
              "      <td>1200.0</td>\n",
              "    </tr>\n",
              "    <tr>\n",
              "      <th>4</th>\n",
              "      <td>Melon</td>\n",
              "      <td>30.0</td>\n",
              "      <td>55.0</td>\n",
              "      <td>1650.0</td>\n",
              "    </tr>\n",
              "    <tr>\n",
              "      <th>5</th>\n",
              "      <td>Peach</td>\n",
              "      <td>98.0</td>\n",
              "      <td>11.0</td>\n",
              "      <td>1078.0</td>\n",
              "    </tr>\n",
              "  </tbody>\n",
              "</table>\n",
              "</div>"
            ],
            "text/plain": [
              "        fruit  price  quantity  total cost\n",
              "0       Apple   25.0     100.0      2500.0\n",
              "1  Watermelon   33.5      34.0      1139.0\n",
              "2      Orange    9.6      56.0       537.6\n",
              "3      Banana   10.0     120.0      1200.0\n",
              "4       Melon   30.0      55.0      1650.0\n",
              "5       Peach   98.0      11.0      1078.0"
            ]
          },
          "metadata": {},
          "execution_count": 4
        }
      ]
    },
    {
      "cell_type": "code",
      "metadata": {
        "id": "iFG1NUc6A1Ug"
      },
      "source": [
        ""
      ],
      "execution_count": null,
      "outputs": []
    }
  ]
}