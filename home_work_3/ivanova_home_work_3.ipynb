{
  "nbformat": 4,
  "nbformat_minor": 0,
  "metadata": {
    "colab": {
      "name": "ivanova_home_work_3.ipynb",
      "provenance": []
    },
    "kernelspec": {
      "name": "python3",
      "display_name": "Python 3"
    },
    "language_info": {
      "name": "python"
    }
  },
  "cells": [
    {
      "cell_type": "code",
      "metadata": {
        "id": "ynYwOl-jATVB"
      },
      "source": [
        "import numpy as np"
      ],
      "execution_count": 1,
      "outputs": []
    },
    {
      "cell_type": "markdown",
      "metadata": {
        "id": "dw-GybEHB4NP"
      },
      "source": [
        "1. Создать матрицу размером 10х10 с 0 внутри, и 1 на границах."
      ]
    },
    {
      "cell_type": "code",
      "metadata": {
        "colab": {
          "base_uri": "https://localhost:8080/"
        },
        "id": "HH4N0uo9AeRx",
        "outputId": "94a7608c-24be-429d-fde8-85729f9e4c23"
      },
      "source": [
        "x = np.ones((10, 10))\n",
        "x[1:9, 1:9] = 0\n",
        "print(x)"
      ],
      "execution_count": 8,
      "outputs": [
        {
          "output_type": "stream",
          "name": "stdout",
          "text": [
            "[[1. 1. 1. 1. 1. 1. 1. 1. 1. 1.]\n",
            " [1. 0. 0. 0. 0. 0. 0. 0. 0. 1.]\n",
            " [1. 0. 0. 0. 0. 0. 0. 0. 0. 1.]\n",
            " [1. 0. 0. 0. 0. 0. 0. 0. 0. 1.]\n",
            " [1. 0. 0. 0. 0. 0. 0. 0. 0. 1.]\n",
            " [1. 0. 0. 0. 0. 0. 0. 0. 0. 1.]\n",
            " [1. 0. 0. 0. 0. 0. 0. 0. 0. 1.]\n",
            " [1. 0. 0. 0. 0. 0. 0. 0. 0. 1.]\n",
            " [1. 0. 0. 0. 0. 0. 0. 0. 0. 1.]\n",
            " [1. 1. 1. 1. 1. 1. 1. 1. 1. 1.]]\n"
          ]
        }
      ]
    },
    {
      "cell_type": "markdown",
      "metadata": {
        "id": "YoL6A-KuB-Y9"
      },
      "source": [
        "2. Создать 5x5 матрицу с 1,2,3,4 над диагональю. Все остальные элементы - 0."
      ]
    },
    {
      "cell_type": "code",
      "metadata": {
        "colab": {
          "base_uri": "https://localhost:8080/"
        },
        "id": "39hc8A38CFZF",
        "outputId": "33f345f7-e4a9-418c-eaf7-a8267c4c6ad8"
      },
      "source": [
        "t = np.diag((np.arange(5, 5)), k = 1)\n",
        "print(t)"
      ],
      "execution_count": 9,
      "outputs": [
        {
          "output_type": "stream",
          "name": "stdout",
          "text": [
            "[[0 1 0 0 0]\n",
            " [0 0 2 0 0]\n",
            " [0 0 0 3 0]\n",
            " [0 0 0 0 4]\n",
            " [0 0 0 0 0]]\n"
          ]
        }
      ]
    },
    {
      "cell_type": "markdown",
      "metadata": {
        "id": "3LeEOX1sDT3J"
      },
      "source": [
        "3. Создайте случайную матрицу и вычтите из каждой строки среднее.\n"
      ]
    },
    {
      "cell_type": "code",
      "metadata": {
        "colab": {
          "base_uri": "https://localhost:8080/"
        },
        "id": "mEb6qxSzB3cA",
        "outputId": "f40a7d2e-a377-4c1c-d916-bc1171c7610e"
      },
      "source": [
        "m = np.random.rand(5, 10)\n",
        "n = m - m.mean()\n",
        "print(m)\n",
        "print(n)"
      ],
      "execution_count": 13,
      "outputs": [
        {
          "output_type": "stream",
          "name": "stdout",
          "text": [
            "[[0.12229328 0.92855735 0.31730599 0.56812323 0.66230311 0.97630657\n",
            "  0.49051425 0.27618459 0.10676862 0.0623856 ]\n",
            " [0.21833933 0.32822505 0.63704518 0.14271202 0.21691638 0.69834843\n",
            "  0.62653131 0.09816125 0.52562616 0.25459251]\n",
            " [0.72348706 0.46195026 0.40966276 0.73901095 0.90471985 0.57629137\n",
            "  0.0942437  0.0590221  0.48451262 0.80756978]\n",
            " [0.2061582  0.03469658 0.09789543 0.15563414 0.87124816 0.5426034\n",
            "  0.79099199 0.29723026 0.25440334 0.77465414]\n",
            " [0.11816345 0.53469139 0.40998737 0.36185675 0.55803649 0.75257391\n",
            "  0.48565935 0.42504364 0.77425036 0.36331614]]\n",
            "[[-0.32424282  0.48202125 -0.12923011  0.12158713  0.21576701  0.52977047\n",
            "   0.04397815 -0.17035151 -0.33976748 -0.3841505 ]\n",
            " [-0.22819677 -0.11831105  0.19050908 -0.30382409 -0.22961972  0.25181233\n",
            "   0.1799952  -0.34837485  0.07909006 -0.1919436 ]\n",
            " [ 0.27695095  0.01541416 -0.03687334  0.29247485  0.45818375  0.12975527\n",
            "  -0.3522924  -0.38751401  0.03797652  0.36103367]\n",
            " [-0.2403779  -0.41183953 -0.34864067 -0.29090197  0.42471205  0.09606729\n",
            "   0.34445589 -0.14930585 -0.19213277  0.32811804]\n",
            " [-0.32837266  0.08815529 -0.03654873 -0.08467936  0.11150038  0.30603781\n",
            "   0.03912325 -0.02149246  0.32771426 -0.08321997]]\n"
          ]
        }
      ]
    },
    {
      "cell_type": "markdown",
      "metadata": {
        "id": "3SvXC_cLERfk"
      },
      "source": [
        "4. Создать Массив размерностью (6,7). Поменять в массиве 3 строку с последней."
      ]
    },
    {
      "cell_type": "code",
      "metadata": {
        "colab": {
          "base_uri": "https://localhost:8080/"
        },
        "id": "cnhnO6zPEIxG",
        "outputId": "96489a86-76ec-4328-998b-157433ae6a29"
      },
      "source": [
        "v = np.random.rand(6, 7)\n",
        "v[[0, 2]] = v[[0, 5]]\n",
        "print(v)"
      ],
      "execution_count": 17,
      "outputs": [
        {
          "output_type": "stream",
          "name": "stdout",
          "text": [
            "[[0.01217375 0.18041189 0.16789811 0.27474246 0.68266154 0.71075465\n",
            "  0.81115605]\n",
            " [0.32715699 0.29700318 0.17278318 0.2836255  0.50316505 0.07084786\n",
            "  0.9016004 ]\n",
            " [0.45097466 0.32315324 0.32895797 0.64248045 0.40191294 0.32335504\n",
            "  0.88185098]\n",
            " [0.72311632 0.32256497 0.06357241 0.78715398 0.25535027 0.19392664\n",
            "  0.79238431]\n",
            " [0.87022577 0.75270951 0.2904453  0.91572141 0.56657772 0.55987124\n",
            "  0.77806104]\n",
            " [0.45097466 0.32315324 0.32895797 0.64248045 0.40191294 0.32335504\n",
            "  0.88185098]]\n"
          ]
        }
      ]
    },
    {
      "cell_type": "markdown",
      "metadata": {
        "id": "AIkM7T94E_Jl"
      },
      "source": [
        "5. Создать двумерный список и заполнить его рандомными числами."
      ]
    },
    {
      "cell_type": "code",
      "metadata": {
        "colab": {
          "base_uri": "https://localhost:8080/"
        },
        "id": "jjrkRgCpE-PU",
        "outputId": "990d455a-b0aa-4fb8-f483-348e5f3b5dcc"
      },
      "source": [
        "a = [[1, 2, 3], [4, 5, 6]]\n",
        "b = np.asarray(a, dtype = np.int32)\n",
        "print(b, type(b))"
      ],
      "execution_count": 20,
      "outputs": [
        {
          "output_type": "stream",
          "name": "stdout",
          "text": [
            "[[1 2 3]\n",
            " [4 5 6]] <class 'numpy.ndarray'>\n"
          ]
        }
      ]
    },
    {
      "cell_type": "markdown",
      "metadata": {
        "id": "5r14le3sIHdk"
      },
      "source": [
        "7. Считайте 2 числа: n, m.\n",
        "\n",
        "Создайте матрицу размера n*m и \"раскрасьте\" её в шахматную раскраску.\n",
        "\n",
        "0 - \"чёрное\"\n",
        "\n",
        "1 - \"белое\"\n",
        "\n",
        "Ячейка с координатами (0, 0) всегда \"чёрная\" (т.е. элемент (0, 0) равен 0). Матрицу сохраните в переменную Z."
      ]
    },
    {
      "cell_type": "code",
      "metadata": {
        "colab": {
          "base_uri": "https://localhost:8080/"
        },
        "id": "ys7dvXC8GMSi",
        "outputId": "cdda6f2a-b42c-4104-d273-8a134960d6f5"
      },
      "source": [
        "n = int(input())\n",
        "m = int(input())\n",
        "z = np.zeros((n, m))\n",
        "z[1::2, ::2] = 1\n",
        "z[::2, 1::2] = 1\n",
        "print(z)"
      ],
      "execution_count": 28,
      "outputs": [
        {
          "output_type": "stream",
          "name": "stdout",
          "text": [
            "3\n",
            "5\n",
            "[[0. 1. 0. 1. 0.]\n",
            " [1. 0. 1. 0. 1.]\n",
            " [0. 1. 0. 1. 0.]]\n"
          ]
        }
      ]
    },
    {
      "cell_type": "markdown",
      "metadata": {
        "id": "etTxRoZMIMUi"
      },
      "source": [
        "8. Вектор A содержит float числа как больше, так и меньше нуля.\n",
        "\n",
        "Округлите их до целых и результат запишите в переменную Z. Округление должно быть \"от нуля\", т.е.:\n",
        "\n",
        "положительные числа округляем всегда вверх до целого отрицательные числа округляем всегда вниз до целого 0 остаётся 0"
      ]
    },
    {
      "cell_type": "code",
      "metadata": {
        "colab": {
          "base_uri": "https://localhost:8080/"
        },
        "id": "UNxNdm1iIF63",
        "outputId": "45f4210f-edfc-4eb7-871e-b0c9205ee728"
      },
      "source": [
        "a = np.array([[-2.3, 8.5, 3.6], [-1.2, 5.7, 0]], float)\n",
        "b = np.trunc(a)\n",
        "print(b)"
      ],
      "execution_count": 30,
      "outputs": [
        {
          "output_type": "stream",
          "name": "stdout",
          "text": [
            "[[-2.  8.  3.]\n",
            " [-1.  5.  0.]]\n"
          ]
        }
      ]
    },
    {
      "cell_type": "markdown",
      "metadata": {
        "id": "XNfiNTuyKNRN"
      },
      "source": [
        "9. Даны 2 вектора целых чисел A и B.\n",
        "\n",
        "Найдите числа, встречающиеся в обоих векторах и составьте их по возрастанию в вектор Z.\n",
        "\n",
        "Если пересечений нет, то вектор Z будет пустым."
      ]
    },
    {
      "cell_type": "code",
      "metadata": {
        "colab": {
          "base_uri": "https://localhost:8080/"
        },
        "id": "zw_7ZKCjKTDZ",
        "outputId": "49ce46ba-e773-4572-d92d-564e55b21388"
      },
      "source": [
        "from numpy.lib.arraysetops import intersect1d\n",
        "a = np.array([1, 2, 3, 4, 5, 6, 7], int)\n",
        "b = np.array([1, 3, 5, 7, 9], int)\n",
        "c = intersect1d(a, b)\n",
        "print(c)"
      ],
      "execution_count": 31,
      "outputs": [
        {
          "output_type": "stream",
          "name": "stdout",
          "text": [
            "[1 3 5 7]\n"
          ]
        }
      ]
    }
  ]
}