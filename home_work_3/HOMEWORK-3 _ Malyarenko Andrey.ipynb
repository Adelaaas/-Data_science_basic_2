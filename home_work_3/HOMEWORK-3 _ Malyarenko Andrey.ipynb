{
  "nbformat": 4,
  "nbformat_minor": 0,
  "metadata": {
    "colab": {
      "name": "Untitled3.ipynb",
      "provenance": [],
      "collapsed_sections": []
    },
    "kernelspec": {
      "name": "python3",
      "display_name": "Python 3"
    },
    "language_info": {
      "name": "python"
    }
  },
  "cells": [
    {
      "cell_type": "code",
      "metadata": {
        "id": "-QYVU3MvUKKR"
      },
      "source": [
        "import numpy as np"
      ],
      "execution_count": 42,
      "outputs": []
    },
    {
      "cell_type": "markdown",
      "metadata": {
        "id": "ysuymZirS5Nh"
      },
      "source": [
        "Номер 1\n",
        "\n",
        "\n"
      ]
    },
    {
      "cell_type": "code",
      "metadata": {
        "colab": {
          "base_uri": "https://localhost:8080/"
        },
        "id": "s-UJ_f2uTBXB",
        "outputId": "6661ef1a-28a8-4547-9072-cf6fca87f339"
      },
      "source": [
        "a = np.ones((10,10), int)\n",
        "a[1:9,1:9]=0\n",
        "a"
      ],
      "execution_count": 43,
      "outputs": [
        {
          "output_type": "execute_result",
          "data": {
            "text/plain": [
              "array([[1, 1, 1, 1, 1, 1, 1, 1, 1, 1],\n",
              "       [1, 0, 0, 0, 0, 0, 0, 0, 0, 1],\n",
              "       [1, 0, 0, 0, 0, 0, 0, 0, 0, 1],\n",
              "       [1, 0, 0, 0, 0, 0, 0, 0, 0, 1],\n",
              "       [1, 0, 0, 0, 0, 0, 0, 0, 0, 1],\n",
              "       [1, 0, 0, 0, 0, 0, 0, 0, 0, 1],\n",
              "       [1, 0, 0, 0, 0, 0, 0, 0, 0, 1],\n",
              "       [1, 0, 0, 0, 0, 0, 0, 0, 0, 1],\n",
              "       [1, 0, 0, 0, 0, 0, 0, 0, 0, 1],\n",
              "       [1, 1, 1, 1, 1, 1, 1, 1, 1, 1]])"
            ]
          },
          "metadata": {},
          "execution_count": 43
        }
      ]
    },
    {
      "cell_type": "markdown",
      "metadata": {
        "id": "vwBC0iN4X7w3"
      },
      "source": [
        "Номер 2"
      ]
    },
    {
      "cell_type": "code",
      "metadata": {
        "colab": {
          "base_uri": "https://localhost:8080/"
        },
        "id": "4iodNcv0X9G3",
        "outputId": "7568737b-c24d-400b-81db-386f542ba071"
      },
      "source": [
        "a = np.diag([1, 2, 3, 4], k=1)\n",
        "a"
      ],
      "execution_count": 47,
      "outputs": [
        {
          "output_type": "execute_result",
          "data": {
            "text/plain": [
              "array([[0, 1, 0, 0, 0],\n",
              "       [0, 0, 2, 0, 0],\n",
              "       [0, 0, 0, 3, 0],\n",
              "       [0, 0, 0, 0, 4],\n",
              "       [0, 0, 0, 0, 0]])"
            ]
          },
          "metadata": {},
          "execution_count": 47
        }
      ]
    },
    {
      "cell_type": "markdown",
      "metadata": {
        "id": "Dqr5pt5XS6T9"
      },
      "source": [
        "Номер 3"
      ]
    },
    {
      "cell_type": "code",
      "metadata": {
        "colab": {
          "base_uri": "https://localhost:8080/"
        },
        "id": "n2XZttMUS3Cm",
        "outputId": "7215413c-8798-4ce0-dc05-c52bba635b99"
      },
      "source": [
        "a = np.random.rand(5, 10)\n",
        "a-=a.mean()\n",
        "a"
      ],
      "execution_count": 45,
      "outputs": [
        {
          "output_type": "execute_result",
          "data": {
            "text/plain": [
              "array([[ 0.41705846, -0.02189941,  0.4021004 , -0.38931288, -0.39785345,\n",
              "         0.42494106,  0.36399443, -0.24104316, -0.16065478, -0.20980377],\n",
              "       [ 0.08008859,  0.12906009,  0.01670713, -0.12690639, -0.20609831,\n",
              "         0.32614493,  0.44686534,  0.11390992, -0.05953017,  0.36731008],\n",
              "       [-0.41528728, -0.11255831, -0.30556072, -0.12401941,  0.25637943,\n",
              "        -0.19546382,  0.4806201 , -0.33352958,  0.25528549,  0.06259792],\n",
              "       [-0.05747836,  0.41956753, -0.37985012, -0.16012238,  0.32147486,\n",
              "         0.07878861, -0.00963761, -0.45023142,  0.06141337,  0.20249434],\n",
              "       [ 0.07598599,  0.0476093 ,  0.18585289,  0.45711223, -0.3590681 ,\n",
              "        -0.37698457, -0.43795785, -0.37416092,  0.20369195, -0.29204168]])"
            ]
          },
          "metadata": {},
          "execution_count": 45
        }
      ]
    },
    {
      "cell_type": "markdown",
      "metadata": {
        "id": "-K2XnLgdYHuV"
      },
      "source": [
        "Номер 4"
      ]
    },
    {
      "cell_type": "code",
      "metadata": {
        "colab": {
          "base_uri": "https://localhost:8080/"
        },
        "id": "WnACZsUsYH1A",
        "outputId": "c9046b7e-8af1-4204-a0a7-790ad6623fa4"
      },
      "source": [
        "a = np.random.rand(6,7)\n",
        "temp = a[2].copy()\n",
        "a[2]=a[-1]\n",
        "a[-1]=temp\n",
        "a"
      ],
      "execution_count": 36,
      "outputs": [
        {
          "output_type": "execute_result",
          "data": {
            "text/plain": [
              "array([[0.7919566 , 0.14922235, 0.68716289, 0.5442894 , 0.24534735,\n",
              "        0.36346413, 0.00232986],\n",
              "       [0.0478805 , 0.83645947, 0.35999007, 0.90669497, 0.1583667 ,\n",
              "        0.29544545, 0.50676906],\n",
              "       [0.51179529, 0.16861394, 0.64964465, 0.49302353, 0.63274446,\n",
              "        0.2483871 , 0.36936153],\n",
              "       [0.21613789, 0.99581226, 0.15424869, 0.32005059, 0.54786194,\n",
              "        0.59650252, 0.59069119],\n",
              "       [0.9965698 , 0.01041409, 0.46900582, 0.25646425, 0.01565184,\n",
              "        0.03215363, 0.18353228],\n",
              "       [0.86853207, 0.44276158, 0.18254932, 0.04284461, 0.57892454,\n",
              "        0.80507403, 0.85444251]])"
            ]
          },
          "metadata": {},
          "execution_count": 36
        }
      ]
    },
    {
      "cell_type": "markdown",
      "metadata": {
        "id": "GqztuMc6ZfqK"
      },
      "source": [
        "Номер 5"
      ]
    },
    {
      "cell_type": "code",
      "metadata": {
        "colab": {
          "base_uri": "https://localhost:8080/"
        },
        "id": "AqxPlKQjZg66",
        "outputId": "c7b45a12-b50e-4fb2-f919-1ccb6d1b0033"
      },
      "source": [
        "import random\n",
        "a = [random.randint(0, 10) for i in range(10)]\n",
        "b=np.array(a,dtype='i')\n",
        "b"
      ],
      "execution_count": 38,
      "outputs": [
        {
          "output_type": "execute_result",
          "data": {
            "text/plain": [
              "array([ 1,  9, 10,  3, 10,  3,  8,  8, 10, 10], dtype=int32)"
            ]
          },
          "metadata": {},
          "execution_count": 38
        }
      ]
    },
    {
      "cell_type": "markdown",
      "metadata": {
        "id": "5cpI6D4_Zu37"
      },
      "source": [
        "Номер 6"
      ]
    },
    {
      "cell_type": "code",
      "metadata": {
        "colab": {
          "base_uri": "https://localhost:8080/"
        },
        "id": "CP2iCYYZZvIC",
        "outputId": "48269899-146c-4bce-bbf2-123dde6c2cf4"
      },
      "source": [
        "a = np.random.randint(-50,50, size = (89, 67))\n",
        "print(a)"
      ],
      "execution_count": null,
      "outputs": [
        {
          "output_type": "stream",
          "name": "stdout",
          "text": [
            "[[ 47   6 -15 ...  23  -6 -34]\n",
            " [-29  -7  -7 ...  37  42  47]\n",
            " [ 30 -22 -49 ... -36  46 -38]\n",
            " ...\n",
            " [ 34 -22   6 ... -17  47 -10]\n",
            " [ 21 -17  11 ...  -2 -45   0]\n",
            " [ 26 -39 -39 ...  21 -50 -19]]\n",
            "[ -8  11  27  39 -13  39 -14 -28  22  42 -38 -29  42  32 -11  -9  22 -21\n",
            " -33  49  14 -31 -11  11  46 -28  35  -6  16 -27 -15 -27  43  13   5  30\n",
            "  25  43  11 -35 -20   5   6 -36  33  33 -42 -14   7  -4 -35  30  19  22\n",
            "  37 -27 -45 -13 -48 -49 -35  32  43  19 -10   8 -14]\n"
          ]
        }
      ]
    },
    {
      "cell_type": "markdown",
      "metadata": {
        "id": "CISo-H28agu5"
      },
      "source": [
        "Номер 7"
      ]
    },
    {
      "cell_type": "code",
      "metadata": {
        "colab": {
          "base_uri": "https://localhost:8080/"
        },
        "id": "b7N9A7NzajgC",
        "outputId": "d85a800c-630b-4ba1-d34e-9de4d3021a7d"
      },
      "source": [
        "n = int(input())\n",
        "m = int(input())\n",
        "a = np.ones((n,m), int)\n",
        "for i in range(n):\n",
        "  for j in range(0,m,2):\n",
        "    if i%2==0: a[i][j]=0\n",
        "    else: a[i][j-1]=0\n",
        "print(a)"
      ],
      "execution_count": null,
      "outputs": [
        {
          "output_type": "stream",
          "name": "stdout",
          "text": [
            "5\n",
            "10\n",
            "[[0 1 0 1 0 1 0 1 0 1]\n",
            " [1 0 1 0 1 0 1 0 1 0]\n",
            " [0 1 0 1 0 1 0 1 0 1]\n",
            " [1 0 1 0 1 0 1 0 1 0]\n",
            " [0 1 0 1 0 1 0 1 0 1]]\n"
          ]
        }
      ]
    },
    {
      "cell_type": "markdown",
      "metadata": {
        "id": "dvjEeNnkez3a"
      },
      "source": [
        "Задача 8.\n",
        "\n",
        "Вектор A содержит float числа как больше, так и меньше нуля.\n",
        "\n",
        "Округлите их до целых и результат запишите в переменную Z. Округление должно быть \"от нуля\", т.е.:\n",
        "\n",
        "положительные числа округляем всегда вверх до целого отрицательные числа округляем всегда вниз до целого 0 остаётся 0"
      ]
    },
    {
      "cell_type": "code",
      "metadata": {
        "colab": {
          "base_uri": "https://localhost:8080/"
        },
        "id": "CVwFNZcme1MI",
        "outputId": "3d576690-9b0b-462f-a8c1-8617d83da0b9"
      },
      "source": [
        "a = np.array([-5.2], float)\n",
        "if a[0]>0: a=np.ceil(a)\n",
        "elif a[0]<0: a=np.floor(a)\n",
        "a"
      ],
      "execution_count": 41,
      "outputs": [
        {
          "output_type": "execute_result",
          "data": {
            "text/plain": [
              "array([-6.])"
            ]
          },
          "metadata": {},
          "execution_count": 41
        }
      ]
    },
    {
      "cell_type": "markdown",
      "metadata": {
        "id": "hv0ITB1wiM7i"
      },
      "source": [
        "\n",
        "Задача 9.\n",
        "\n",
        "Даны 2 вектора целых чисел A и B.\n",
        "\n",
        "Найдите числа, встречающиеся в обоих векторах и составьте их по возрастанию в вектор Z.\n",
        "\n",
        "Если пересечений нет, то вектор Z будет пустым."
      ]
    },
    {
      "cell_type": "code",
      "metadata": {
        "colab": {
          "base_uri": "https://localhost:8080/"
        },
        "id": "2uSNdk1OiXBs",
        "outputId": "d3b68032-6c2d-4a2e-cc4f-2e8503ffcd8e"
      },
      "source": [
        "a = np.array([-5, 2,4,3,4,11], int)\n",
        "b = np.array([11,4,3,4,2], int)\n",
        "z = []\n",
        "if len(a)>len(b):\n",
        "  for i in b:\n",
        "    c = np.where(a == i)\n",
        "    if len(c[0])!=0 and (i in z)==False: z.append(i)\n",
        "else:\n",
        "  for i in a:\n",
        "    c = np.where(b == i)\n",
        "    if len(c[0])!=0 and (i in z)==False: z.append(i)\n",
        "z.sort()\n",
        "z"
      ],
      "execution_count": 48,
      "outputs": [
        {
          "output_type": "execute_result",
          "data": {
            "text/plain": [
              "[2, 3, 4, 11]"
            ]
          },
          "metadata": {},
          "execution_count": 48
        }
      ]
    }
  ]
}