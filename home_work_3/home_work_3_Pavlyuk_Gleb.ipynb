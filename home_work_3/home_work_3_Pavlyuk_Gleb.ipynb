{
  "nbformat": 4,
  "nbformat_minor": 0,
  "metadata": {
    "colab": {
      "name": "home_work_3_Pavlyuk_Gleb.ipynb",
      "provenance": []
    },
    "kernelspec": {
      "name": "python3",
      "display_name": "Python 3"
    },
    "language_info": {
      "name": "python"
    }
  },
  "cells": [
    {
      "cell_type": "code",
      "metadata": {
        "id": "AGTR-Sph7NG5"
      },
      "source": [
        "import numpy as np"
      ],
      "execution_count": 2,
      "outputs": []
    },
    {
      "cell_type": "markdown",
      "metadata": {
        "id": "baTLSLeN6ZT4"
      },
      "source": [
        "***Задание 1***\n",
        " \n",
        "Создать матрицу размером 10х10 с 0 внутри, и 1 на границах. Например для 3х3.\n",
        "\n",
        "1 1 1\n",
        "\n",
        "1 0 1\n",
        "\n",
        "1 1 1"
      ]
    },
    {
      "cell_type": "code",
      "metadata": {
        "colab": {
          "base_uri": "https://localhost:8080/"
        },
        "id": "CbBIMltv6Yc3",
        "outputId": "f5ede912-b1b5-4819-9b89-7a0ff633caa1"
      },
      "source": [
        "npArray1 = np.zeros((10, 10), int)\n",
        "npArray1[0::9, ::] = npArray1[::, 0::9] = 1\n",
        "print(npArray1)"
      ],
      "execution_count": null,
      "outputs": [
        {
          "output_type": "stream",
          "name": "stdout",
          "text": [
            "[[1 1 1 1 1 1 1 1 1 1]\n",
            " [1 0 0 0 0 0 0 0 0 1]\n",
            " [1 0 0 0 0 0 0 0 0 1]\n",
            " [1 0 0 0 0 0 0 0 0 1]\n",
            " [1 0 0 0 0 0 0 0 0 1]\n",
            " [1 0 0 0 0 0 0 0 0 1]\n",
            " [1 0 0 0 0 0 0 0 0 1]\n",
            " [1 0 0 0 0 0 0 0 0 1]\n",
            " [1 0 0 0 0 0 0 0 0 1]\n",
            " [1 1 1 1 1 1 1 1 1 1]]\n"
          ]
        }
      ]
    },
    {
      "cell_type": "markdown",
      "metadata": {
        "id": "UKsJ_cyU-wgH"
      },
      "source": [
        "***Задание 2***\n",
        "\n",
        "Создать 5x5 матрицу с 1,2,3,4 над диагональю. Все остальные элементы - 0.\n",
        "\n",
        "Количество строк кода идеального решения: 1\n",
        "Кроме print()"
      ]
    },
    {
      "cell_type": "code",
      "metadata": {
        "colab": {
          "base_uri": "https://localhost:8080/"
        },
        "id": "EJ8NkLWE-2eA",
        "outputId": "13be11fa-9c98-4baa-b452-b3058901b896"
      },
      "source": [
        "npArray2 = np.diag(range(1,5), k=1)\n",
        "print(npArray2)"
      ],
      "execution_count": 49,
      "outputs": [
        {
          "output_type": "stream",
          "name": "stdout",
          "text": [
            "[[0 1 0 0 0]\n",
            " [0 0 2 0 0]\n",
            " [0 0 0 3 0]\n",
            " [0 0 0 0 4]\n",
            " [0 0 0 0 0]]\n"
          ]
        }
      ]
    },
    {
      "cell_type": "markdown",
      "metadata": {
        "id": "0h9SMUzW_9LZ"
      },
      "source": [
        "***Задание 3***\n",
        "\n",
        "Создайте случайную матрицу и вычтите из каждой строки среднее. Количество строк кода идеального решения (кроме создания исходной матрицы): 1\n",
        "Кроме print()"
      ]
    },
    {
      "cell_type": "code",
      "metadata": {
        "id": "OViTFRFdAFhl",
        "colab": {
          "base_uri": "https://localhost:8080/"
        },
        "outputId": "4f34c52c-0d28-44e4-8f30-b70da4ace56d"
      },
      "source": [
        "npArray3 = np.random.rand(5, 10)\n",
        "print(f'before mod : {npArray3}')\n",
        "npArray3_modified = [npArray3[i] - npArray3[i].mean() for i in range(npArray3.shape[0])]\n",
        "print(f'after mod : {npArray3_modified}')"
      ],
      "execution_count": 6,
      "outputs": [
        {
          "output_type": "stream",
          "name": "stdout",
          "text": [
            "before mod : [[0.07791049 0.7900536  0.45675417 0.00208565 0.21360948 0.59146365\n",
            "  0.71421107 0.45906812 0.06076816 0.68584397]\n",
            " [0.32115517 0.01330955 0.08165572 0.33561692 0.57066251 0.43978579\n",
            "  0.09281027 0.74524838 0.22230612 0.94458484]\n",
            " [0.36577162 0.82784473 0.11601309 0.82047886 0.56795685 0.52567589\n",
            "  0.99518401 0.06272867 0.47032525 0.85113735]\n",
            " [0.69237082 0.84311797 0.36063825 0.61171703 0.48729523 0.87466224\n",
            "  0.22626468 0.66123656 0.27129122 0.455304  ]\n",
            " [0.91327732 0.01962349 0.4143555  0.99435012 0.57783152 0.74382447\n",
            "  0.93686891 0.77478617 0.85112867 0.26593191]]\n",
            "after mod : [array([-0.32726634,  0.38487676,  0.05157733, -0.40309119, -0.19156736,\n",
            "        0.18628681,  0.30903424,  0.05389129, -0.34440867,  0.28066713]), array([-0.05555835, -0.36340398, -0.2950578 , -0.0410966 ,  0.19394898,\n",
            "        0.06307227, -0.28390326,  0.36853485, -0.15440741,  0.56787131]), array([-0.19454001,  0.2675331 , -0.44429854,  0.26016722,  0.00764522,\n",
            "       -0.03463574,  0.43487238, -0.49758296, -0.08998638,  0.29082572]), array([ 0.14398101,  0.29472817, -0.18775155,  0.06332723, -0.06109457,\n",
            "        0.32627244, -0.32212512,  0.11284676, -0.27709858, -0.0930858 ]), array([ 0.26407952, -0.62957432, -0.23484231,  0.34515231, -0.07136629,\n",
            "        0.09462666,  0.2876711 ,  0.12558836,  0.20193087, -0.3832659 ])]\n"
          ]
        }
      ]
    },
    {
      "cell_type": "markdown",
      "metadata": {
        "id": "z6j53guXePe7"
      },
      "source": [
        "***Задание 4.***\n",
        "\n",
        "Создать Массив размерностью (6,7). Поменять в массиве 3 строку с последней."
      ]
    },
    {
      "cell_type": "code",
      "metadata": {
        "colab": {
          "base_uri": "https://localhost:8080/"
        },
        "id": "JSYn1ZHevtE0",
        "outputId": "87342ba2-503d-47ec-f921-d64e5bd0687e"
      },
      "source": [
        "npArray4 = np.random.rand(6, 4)\n",
        "print(f\"Before - \\n{npArray4}\") \n",
        "npArray4[2::3,::] = npArray4[5::-3,::]\n",
        "print(f\"After - \\n{npArray4}\") \n"
      ],
      "execution_count": 10,
      "outputs": [
        {
          "output_type": "stream",
          "name": "stdout",
          "text": [
            "Before - \n",
            "[[0.92914084 0.41680372 0.1360087  0.00585335]\n",
            " [0.32331468 0.19686508 0.60991473 0.82372393]\n",
            " [0.71506166 0.97439366 0.41136405 0.55675485]\n",
            " [0.54325108 0.29061504 0.78134502 0.50463873]\n",
            " [0.72606703 0.16820344 0.21077341 0.64905526]\n",
            " [0.66000064 0.29447344 0.36952052 0.61034055]]\n",
            "After - \n",
            "[[0.92914084 0.41680372 0.1360087  0.00585335]\n",
            " [0.32331468 0.19686508 0.60991473 0.82372393]\n",
            " [0.66000064 0.29447344 0.36952052 0.61034055]\n",
            " [0.54325108 0.29061504 0.78134502 0.50463873]\n",
            " [0.72606703 0.16820344 0.21077341 0.64905526]\n",
            " [0.71506166 0.97439366 0.41136405 0.55675485]]\n"
          ]
        }
      ]
    },
    {
      "cell_type": "markdown",
      "metadata": {
        "id": "VIIo-ccn9QDh"
      },
      "source": [
        "\n",
        "***Задание 5.***\n",
        "\n",
        "Создать двумерный список и заполнить его рандомными числами. Преобразовать созданный список в NumPy массив (с типом int32)."
      ]
    },
    {
      "cell_type": "code",
      "metadata": {
        "colab": {
          "base_uri": "https://localhost:8080/"
        },
        "id": "7mvq-uza9WzI",
        "outputId": "5bf6a2be-138d-4524-d8bb-17a23dec9c39"
      },
      "source": [
        "list5 = []\n",
        "for i in range(4):\n",
        "  list5.append([])\n",
        "  for q in range(6):\n",
        "    list5[i].append(np.random.randint(1, 9))\n",
        "\n",
        "npArray5 = np.array(np.int32(list5), int)\n",
        "print(npArray5)"
      ],
      "execution_count": 18,
      "outputs": [
        {
          "output_type": "stream",
          "name": "stdout",
          "text": [
            "[[2 3 5 2 2 1]\n",
            " [1 4 7 3 6 3]\n",
            " [1 5 3 2 2 1]\n",
            " [4 3 7 2 6 4]]\n"
          ]
        }
      ]
    },
    {
      "cell_type": "markdown",
      "metadata": {
        "id": "50fGAASu_R_X"
      },
      "source": [
        "***Задание 6.***\n",
        "\n",
        "Создать массив размерностью (89, 67) и заполнить его случайными числами от -50 до 50. Посчитать количество ненулевых элементов полученного массива."
      ]
    },
    {
      "cell_type": "code",
      "metadata": {
        "colab": {
          "base_uri": "https://localhost:8080/"
        },
        "id": "Gy4Q416r_VZC",
        "outputId": "718db047-5464-41a5-b7fe-9dd115571bb6"
      },
      "source": [
        "npArray6 = np.array(np.random.rand(89, 67) * 100 - 50, int)\n",
        "print(npArray6)\n",
        "print(npArray6 != 0)\n",
        "print(f'Колличество ненулевых - {np.array([npArray6 != 0], int).sum()}')"
      ],
      "execution_count": 45,
      "outputs": [
        {
          "output_type": "stream",
          "name": "stdout",
          "text": [
            "[[-15  43  10 ...  14  46   6]\n",
            " [-35  -4  18 ...  15  46  11]\n",
            " [-37  15 -13 ...  40 -46  31]\n",
            " ...\n",
            " [-21  17  -5 ...  46 -43  48]\n",
            " [ 44 -22 -44 ...  26   0  20]\n",
            " [ 31  24   2 ...  13 -12 -13]]\n",
            "[[ True  True  True ...  True  True  True]\n",
            " [ True  True  True ...  True  True  True]\n",
            " [ True  True  True ...  True  True  True]\n",
            " ...\n",
            " [ True  True  True ...  True  True  True]\n",
            " [ True  True  True ...  True False  True]\n",
            " [ True  True  True ...  True  True  True]]\n",
            "Колличество ненулевых - 5824\n"
          ]
        }
      ]
    },
    {
      "cell_type": "markdown",
      "metadata": {
        "id": "4c3ThrK-FD3z"
      },
      "source": [
        "***Задача 7.***\n",
        "\n",
        "Считайте 2 числа: n, m.\n",
        "\n",
        "Создайте матрицу размера n*m и \"раскрасьте\" её в шахматную раскраску.\n",
        "\n",
        "0 - \"чёрное\"\n",
        "\n",
        "1 - \"белое\"\n",
        "\n",
        "Ячейка с координатами (0, 0) всегда \"чёрная\" (т.е. элемент (0, 0) равен 0). Матрицу сохраните в переменную Z."
      ]
    },
    {
      "cell_type": "code",
      "metadata": {
        "colab": {
          "base_uri": "https://localhost:8080/"
        },
        "id": "HU682QzHFDk8",
        "outputId": "2ac7be6d-9f80-4b3b-e4a0-b07b7c83c1bf"
      },
      "source": [
        "n = int(input())\n",
        "m = int(input())\n",
        "\n",
        "npArray7 = np.ones((n,m), int)\n",
        "\n",
        "for i in range(n):\n",
        "  for q in range(0,m,2):\n",
        "    delta = int(i % 2)\n",
        "    if (q + delta < m):\n",
        "      npArray7[i, q + delta] = 0\n",
        "\n",
        "print(npArray7)"
      ],
      "execution_count": 55,
      "outputs": [
        {
          "output_type": "stream",
          "name": "stdout",
          "text": [
            "5\n",
            "7\n",
            "[[0 1 0 1 0 1 0]\n",
            " [1 0 1 0 1 0 1]\n",
            " [0 1 0 1 0 1 0]\n",
            " [1 0 1 0 1 0 1]\n",
            " [0 1 0 1 0 1 0]]\n"
          ]
        }
      ]
    },
    {
      "cell_type": "markdown",
      "metadata": {
        "id": "_6VUaTpKKDei"
      },
      "source": [
        "\n",
        "***Задача 8.***\n",
        "\n",
        "Вектор A содержит float числа как больше, так и меньше нуля.\n",
        "\n",
        "Округлите их до целых и результат запишите в переменную Z. Округление должно быть \"от нуля\", т.е.:\n",
        "\n",
        "положительные числа округляем всегда вверх до целого, отрицательные числа округляем всегда вниз до целого, 0 остаётся 0"
      ]
    },
    {
      "cell_type": "code",
      "metadata": {
        "colab": {
          "base_uri": "https://localhost:8080/"
        },
        "id": "zvuVtjdRKG4J",
        "outputId": "cb3a3cd0-1c78-4b3c-d47a-c90b72303d6c"
      },
      "source": [
        "npArray8 = np.random.rand(10) * 100 - 50\n",
        "print(npArray8)\n",
        "\n",
        "for i in range(npArray8.shape[0]):\n",
        "  if npArray8[i] > 0:\n",
        "    npArray8[i] = np.ceil(npArray8[i])\n",
        "  elif npArray8[i] < 0:\n",
        "    npArray8[i] = np.floor(npArray8[i])\n",
        "  else:\n",
        "    npArray8[i] = 0\n",
        "\n",
        "print(npArray8)"
      ],
      "execution_count": 65,
      "outputs": [
        {
          "output_type": "stream",
          "name": "stdout",
          "text": [
            "[ 24.10115493 -15.10903319 -48.2862659  -22.24911963  28.09319618\n",
            "  -9.80157405  46.69199795  39.08150504 -46.69071773 -17.09090418]\n",
            "[ 25. -16. -49. -23.  29. -10.  47.  40. -47. -18.]\n"
          ]
        }
      ]
    },
    {
      "cell_type": "markdown",
      "metadata": {
        "id": "-WPCgJw2NJMJ"
      },
      "source": [
        "***Задача 9.***\n",
        "\n",
        "Даны 2 вектора целых чисел A и B.\n",
        "\n",
        "Найдите числа, встречающиеся в обоих векторах и составьте их по возрастанию в вектор Z.\n",
        "\n",
        "Если пересечений нет, то вектор Z будет пустым."
      ]
    },
    {
      "cell_type": "code",
      "metadata": {
        "colab": {
          "base_uri": "https://localhost:8080/"
        },
        "id": "PXoRB3O8NLUf",
        "outputId": "cd8945bb-4b30-4056-9ed2-b184c05c0db4"
      },
      "source": [
        "npArray9A = np.array(np.random.rand(10) * 10, int)\n",
        "npArray9B = np.array(np.random.rand(10) * 10, int)\n",
        "outVect = []\n",
        "\n",
        "print(npArray9A)\n",
        "print(npArray9B)\n",
        "\n",
        "for i in range(10):\n",
        "    if any(npArray9B == npArray9A[i]):\n",
        "        outVect.append(npArray9A[i])\n",
        "\n",
        "print(sorted(set(outVect)))"
      ],
      "execution_count": 86,
      "outputs": [
        {
          "output_type": "stream",
          "name": "stdout",
          "text": [
            "[9 0 3 5 2 0 3 0 7 0]\n",
            "[4 9 5 4 9 1 6 3 4 6]\n",
            "[3, 5, 9]\n"
          ]
        }
      ]
    }
  ]
}