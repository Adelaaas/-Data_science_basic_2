{
  "nbformat": 4,
  "nbformat_minor": 0,
  "metadata": {
    "colab": {
      "name": "home_work3_ozerov",
      "provenance": [],
      "collapsed_sections": []
    },
    "kernelspec": {
      "name": "python3",
      "display_name": "Python 3"
    },
    "language_info": {
      "name": "python"
    }
  },
  "cells": [
    {
      "cell_type": "markdown",
      "metadata": {
        "id": "s4eCs3bEIKr8"
      },
      "source": [
        "n1\n"
      ]
    },
    {
      "cell_type": "code",
      "metadata": {
        "id": "C_BfucOzNPH0"
      },
      "source": [
        "import numpy as np"
      ],
      "execution_count": null,
      "outputs": []
    },
    {
      "cell_type": "code",
      "metadata": {
        "colab": {
          "base_uri": "https://localhost:8080/"
        },
        "id": "vs1rL_ckILuq",
        "outputId": "c5bb3370-1675-454f-c820-2fe0e64838eb"
      },
      "source": [
        "arr = np.ones((10, 10))\n",
        "arr[1:-1, 1:-1] = 0\n",
        "print(arr)"
      ],
      "execution_count": 1,
      "outputs": [
        {
          "output_type": "stream",
          "name": "stdout",
          "text": [
            "[[1. 1. 1. 1. 1. 1. 1. 1. 1. 1.]\n",
            " [1. 0. 0. 0. 0. 0. 0. 0. 0. 1.]\n",
            " [1. 0. 0. 0. 0. 0. 0. 0. 0. 1.]\n",
            " [1. 0. 0. 0. 0. 0. 0. 0. 0. 1.]\n",
            " [1. 0. 0. 0. 0. 0. 0. 0. 0. 1.]\n",
            " [1. 0. 0. 0. 0. 0. 0. 0. 0. 1.]\n",
            " [1. 0. 0. 0. 0. 0. 0. 0. 0. 1.]\n",
            " [1. 0. 0. 0. 0. 0. 0. 0. 0. 1.]\n",
            " [1. 0. 0. 0. 0. 0. 0. 0. 0. 1.]\n",
            " [1. 1. 1. 1. 1. 1. 1. 1. 1. 1.]]\n"
          ]
        }
      ]
    },
    {
      "cell_type": "markdown",
      "metadata": {
        "id": "IWSY7lQoLKlF"
      },
      "source": [
        "n2\n"
      ]
    },
    {
      "cell_type": "code",
      "metadata": {
        "colab": {
          "base_uri": "https://localhost:8080/"
        },
        "id": "KPKd7DiQLMDw",
        "outputId": "46a67340-1964-48c5-9b1b-b4cd0fe358d6"
      },
      "source": [
        "arr = np.diag(range(1,5), k=1)\n",
        "print(arr)"
      ],
      "execution_count": 35,
      "outputs": [
        {
          "output_type": "stream",
          "name": "stdout",
          "text": [
            "[[0 1 0 0 0]\n",
            " [0 0 2 0 0]\n",
            " [0 0 0 3 0]\n",
            " [0 0 0 0 4]\n",
            " [0 0 0 0 0]]\n"
          ]
        }
      ]
    },
    {
      "cell_type": "markdown",
      "metadata": {
        "id": "yRAv0XyoMMpy"
      },
      "source": [
        "n3"
      ]
    },
    {
      "cell_type": "code",
      "metadata": {
        "colab": {
          "base_uri": "https://localhost:8080/"
        },
        "id": "NLlAbkAyMNi4",
        "outputId": "b3bcc6c6-4a2d-4905-861f-a473a0fdfe53"
      },
      "source": [
        "arr=np.random.rand(3,4)\n",
        "arr1=arr-arr.mean()\n",
        "print(arr)\n",
        "print(arr1)"
      ],
      "execution_count": 5,
      "outputs": [
        {
          "output_type": "stream",
          "name": "stdout",
          "text": [
            "[[0.92025087 0.50232488 0.16218878 0.15663135]\n",
            " [0.15215891 0.84947696 0.9846093  0.2171997 ]\n",
            " [0.9951364  0.80562039 0.28248223 0.13269122]]\n",
            "[[ 0.40685329 -0.0110727  -0.35120881 -0.35676624]\n",
            " [-0.36123867  0.33607938  0.47121172 -0.29619788]\n",
            " [ 0.48173881  0.29222281 -0.23091535 -0.38070636]]\n"
          ]
        }
      ]
    },
    {
      "cell_type": "markdown",
      "metadata": {
        "id": "titBwEq_NIiV"
      },
      "source": [
        "n4\n"
      ]
    },
    {
      "cell_type": "code",
      "metadata": {
        "colab": {
          "base_uri": "https://localhost:8080/"
        },
        "id": "wdBcdPGCNJyj",
        "outputId": "25f2e25a-26be-4588-d4a7-8e88d76f9c21"
      },
      "source": [
        "arr=np.random.rand(6,7)\n",
        "print(arr)\n",
        "arr[[0,2]]=arr[[0,5]]\n",
        "print(arr)"
      ],
      "execution_count": 41,
      "outputs": [
        {
          "output_type": "stream",
          "name": "stdout",
          "text": [
            "[[0.49485026 0.00923863 0.38617223 0.10214603 0.5645791  0.05223514\n",
            "  0.03387371]\n",
            " [0.01514787 0.35184544 0.66603396 0.945806   0.04180876 0.45586299\n",
            "  0.87229621]\n",
            " [0.77907997 0.95413275 0.43557976 0.43664323 0.8928012  0.76408009\n",
            "  0.70732961]\n",
            " [0.71235918 0.08729043 0.80587812 0.01405574 0.20748534 0.16940915\n",
            "  0.32157653]\n",
            " [0.00393991 0.57622594 0.8794986  0.86586705 0.84110195 0.12006543\n",
            "  0.93034351]\n",
            " [0.08387706 0.82740093 0.8826584  0.04655711 0.74995579 0.50347059\n",
            "  0.62361603]]\n",
            "[[0.49485026 0.00923863 0.38617223 0.10214603 0.5645791  0.05223514\n",
            "  0.03387371]\n",
            " [0.01514787 0.35184544 0.66603396 0.945806   0.04180876 0.45586299\n",
            "  0.87229621]\n",
            " [0.08387706 0.82740093 0.8826584  0.04655711 0.74995579 0.50347059\n",
            "  0.62361603]\n",
            " [0.71235918 0.08729043 0.80587812 0.01405574 0.20748534 0.16940915\n",
            "  0.32157653]\n",
            " [0.00393991 0.57622594 0.8794986  0.86586705 0.84110195 0.12006543\n",
            "  0.93034351]\n",
            " [0.08387706 0.82740093 0.8826584  0.04655711 0.74995579 0.50347059\n",
            "  0.62361603]]\n"
          ]
        }
      ]
    },
    {
      "cell_type": "markdown",
      "metadata": {
        "id": "UkGbbeo9NxKy"
      },
      "source": [
        "n5"
      ]
    },
    {
      "cell_type": "code",
      "metadata": {
        "colab": {
          "base_uri": "https://localhost:8080/"
        },
        "id": "Bu6exIirNx4a",
        "outputId": "c8408dc4-2fd3-480d-ecdd-8008108a5749"
      },
      "source": [
        "x=[[64,32,1],[1,2,3]]\n",
        "y=np.array(x,dtype = np.int32)\n",
        "print(y)"
      ],
      "execution_count": 12,
      "outputs": [
        {
          "output_type": "stream",
          "name": "stdout",
          "text": [
            "[[64 32  1]\n",
            " [ 1  2  3]]\n"
          ]
        }
      ]
    },
    {
      "cell_type": "markdown",
      "metadata": {
        "id": "5mpSIIyVOo4a"
      },
      "source": [
        "n6"
      ]
    },
    {
      "cell_type": "code",
      "metadata": {
        "colab": {
          "base_uri": "https://localhost:8080/"
        },
        "id": "cDZpsDIDO0nu",
        "outputId": "adc65f81-3c3b-4e2b-8906-6d5e44db8f17"
      },
      "source": [
        "arr = np.random.randint(-50,50, size = (89, 67))\n",
        "print(arr)"
      ],
      "execution_count": 34,
      "outputs": [
        {
          "output_type": "stream",
          "name": "stdout",
          "text": [
            "[[  0  11  -6 ...  -4  12   9]\n",
            " [ 45 -26  47 ...  42 -16  34]\n",
            " [ 30  30   1 ...  -9 -31 -40]\n",
            " ...\n",
            " [-39 -45  -6 ...  37 -15  23]\n",
            " [ 42 -15  29 ...  -4 -27 -45]\n",
            " [-15  26 -14 ...  19 -15 -14]]\n"
          ]
        }
      ]
    },
    {
      "cell_type": "markdown",
      "metadata": {
        "id": "ALVE9gRzQyH1"
      },
      "source": [
        "n7"
      ]
    },
    {
      "cell_type": "code",
      "metadata": {
        "colab": {
          "base_uri": "https://localhost:8080/"
        },
        "id": "3l1HTbTmQyxC",
        "outputId": "f79cf302-2043-40fd-ca38-fd041d006992"
      },
      "source": [
        "n=int(input())\n",
        "m=int(input())\n",
        "arr=np.zeros((n,m))\n",
        "arr[::2,1::2]=1\n",
        "arr[1::2,::2]=1\n",
        "print(arr)"
      ],
      "execution_count": 27,
      "outputs": [
        {
          "output_type": "stream",
          "name": "stdout",
          "text": [
            "5\n",
            "5\n",
            "[[0. 1. 0. 1. 0.]\n",
            " [1. 0. 1. 0. 1.]\n",
            " [0. 1. 0. 1. 0.]\n",
            " [1. 0. 1. 0. 1.]\n",
            " [0. 1. 0. 1. 0.]]\n"
          ]
        }
      ]
    },
    {
      "cell_type": "markdown",
      "metadata": {
        "id": "P4Iix9PRR8yO"
      },
      "source": [
        "n8"
      ]
    },
    {
      "cell_type": "code",
      "metadata": {
        "colab": {
          "base_uri": "https://localhost:8080/"
        },
        "id": "20uJX5qgR9tL",
        "outputId": "4aef1192-b3ed-43cd-d52c-cacf8f728ffb"
      },
      "source": [
        "arr = np.array([-5.2,-3.2,-9.8,3.2,5.2,9.8,0], float)\n",
        "for i in range(len(arr)):\n",
        "  if arr[i]>0: \n",
        "    arr[i]=np.ceil(arr[i])\n",
        "  elif arr[i]<0: \n",
        "    arr[i]=np.floor(arr[i])\n",
        "  else:\n",
        "    arr[i]=0\n",
        "print(arr)"
      ],
      "execution_count": 45,
      "outputs": [
        {
          "output_type": "stream",
          "name": "stdout",
          "text": [
            "[ -6.  -4. -10.   4.   6.  10.   0.]\n"
          ]
        }
      ]
    }
  ]
}