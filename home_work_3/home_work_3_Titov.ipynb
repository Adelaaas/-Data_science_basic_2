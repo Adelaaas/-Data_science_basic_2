{
  "nbformat": 4,
  "nbformat_minor": 0,
  "metadata": {
    "colab": {
      "name": "Untitled0.ipynb",
      "provenance": [],
      "collapsed_sections": []
    },
    "kernelspec": {
      "name": "python3",
      "display_name": "Python 3"
    },
    "language_info": {
      "name": "python"
    }
  },
  "cells": [
    {
      "cell_type": "code",
      "metadata": {
        "id": "o_-eGT-nEjcM"
      },
      "source": [
        "import numpy as np"
      ],
      "execution_count": 2,
      "outputs": []
    },
    {
      "cell_type": "markdown",
      "metadata": {
        "id": "nQ3Na9A3M5lq"
      },
      "source": [
        "Номер 1"
      ]
    },
    {
      "cell_type": "code",
      "metadata": {
        "id": "tSGrfB4r_p7F",
        "colab": {
          "base_uri": "https://localhost:8080/"
        },
        "outputId": "ded56207-fff9-4ed1-8204-0036d1630d8e"
      },
      "source": [
        "x = np.ones((10, 10))\n",
        "x[1:9, 1:9] = 0\n",
        "print(x)"
      ],
      "execution_count": 3,
      "outputs": [
        {
          "output_type": "stream",
          "name": "stdout",
          "text": [
            "[[1. 1. 1. 1. 1. 1. 1. 1. 1. 1.]\n",
            " [1. 0. 0. 0. 0. 0. 0. 0. 0. 1.]\n",
            " [1. 0. 0. 0. 0. 0. 0. 0. 0. 1.]\n",
            " [1. 0. 0. 0. 0. 0. 0. 0. 0. 1.]\n",
            " [1. 0. 0. 0. 0. 0. 0. 0. 0. 1.]\n",
            " [1. 0. 0. 0. 0. 0. 0. 0. 0. 1.]\n",
            " [1. 0. 0. 0. 0. 0. 0. 0. 0. 1.]\n",
            " [1. 0. 0. 0. 0. 0. 0. 0. 0. 1.]\n",
            " [1. 0. 0. 0. 0. 0. 0. 0. 0. 1.]\n",
            " [1. 1. 1. 1. 1. 1. 1. 1. 1. 1.]]\n"
          ]
        }
      ]
    },
    {
      "cell_type": "markdown",
      "metadata": {
        "id": "MRH7gcmLM8WI"
      },
      "source": [
        "Номер 2"
      ]
    },
    {
      "cell_type": "code",
      "metadata": {
        "colab": {
          "base_uri": "https://localhost:8080/"
        },
        "id": "SYHdpHT9M9pX",
        "outputId": "482ace81-b1d9-43a0-a3bb-8eab016f1386"
      },
      "source": [
        "x = np.diag([1, 2, 3, 4], k=1)\n",
        "x"
      ],
      "execution_count": 4,
      "outputs": [
        {
          "output_type": "execute_result",
          "data": {
            "text/plain": [
              "array([[0, 1, 0, 0, 0],\n",
              "       [0, 0, 2, 0, 0],\n",
              "       [0, 0, 0, 3, 0],\n",
              "       [0, 0, 0, 0, 4],\n",
              "       [0, 0, 0, 0, 0]])"
            ]
          },
          "metadata": {},
          "execution_count": 4
        }
      ]
    },
    {
      "cell_type": "markdown",
      "metadata": {
        "id": "szGAQ5PlEqx7"
      },
      "source": [
        "Номер 3"
      ]
    },
    {
      "cell_type": "code",
      "metadata": {
        "colab": {
          "base_uri": "https://localhost:8080/"
        },
        "id": "qLRfL9jYEsbR",
        "outputId": "689b8cbd-3f27-4e2c-e476-e2dc0ada3cbd"
      },
      "source": [
        "x = np.random.rand(5, 10)\n",
        "x -= x.mean()\n",
        "x"
      ],
      "execution_count": 22,
      "outputs": [
        {
          "output_type": "execute_result",
          "data": {
            "text/plain": [
              "array([[ 0.46750622,  0.0796319 , -0.01228167, -0.33266374,  0.21406515,\n",
              "        -0.2142737 , -0.39395994, -0.38452939, -0.43685429, -0.35964907],\n",
              "       [ 0.35778355,  0.49532659,  0.35687039, -0.44967925,  0.19532528,\n",
              "        -0.3015525 ,  0.1430614 ,  0.4366774 ,  0.11200221,  0.03716322],\n",
              "       [ 0.44230769,  0.40960198,  0.21006496,  0.12347825, -0.41878143,\n",
              "         0.06889914,  0.17268271, -0.28725618, -0.21905899, -0.25469449],\n",
              "       [-0.29483489,  0.13401197, -0.40837542, -0.12944252, -0.32239668,\n",
              "         0.36122531,  0.26718789, -0.48999673,  0.46170894, -0.11260012],\n",
              "       [-0.26097782,  0.01004557, -0.00060528,  0.44766279,  0.23150134,\n",
              "        -0.1736727 , -0.34406746,  0.21964969,  0.13324815,  0.01351457]])"
            ]
          },
          "metadata": {},
          "execution_count": 22
        }
      ]
    },
    {
      "cell_type": "markdown",
      "metadata": {
        "id": "KA8oSjiRE4y5"
      },
      "source": [
        "Номер 4"
      ]
    },
    {
      "cell_type": "code",
      "metadata": {
        "colab": {
          "base_uri": "https://localhost:8080/"
        },
        "id": "qGghYBAYE6TS",
        "outputId": "54ed22d2-12bb-48ec-ddf1-57249f186179"
      },
      "source": [
        "x = np.random.rand(6,7)\n",
        "temp = x[2].copy()\n",
        "x[2] = x[-1]\n",
        "x[-1] = temp\n",
        "x"
      ],
      "execution_count": 6,
      "outputs": [
        {
          "output_type": "execute_result",
          "data": {
            "text/plain": [
              "array([[0.34890928, 0.30281504, 0.79250082, 0.5548014 , 0.44157907,\n",
              "        0.11794738, 0.24347212],\n",
              "       [0.01004058, 0.9135295 , 0.55444319, 0.19652115, 0.65837902,\n",
              "        0.11410409, 0.18612483],\n",
              "       [0.96391744, 0.94632585, 0.41477382, 0.18854336, 0.37139103,\n",
              "        0.13542152, 0.33608238],\n",
              "       [0.64234813, 0.54163229, 0.03463542, 0.75711434, 0.0561455 ,\n",
              "        0.31532612, 0.45273808],\n",
              "       [0.01666815, 0.98683959, 0.71120219, 0.11569605, 0.94025283,\n",
              "        0.05492113, 0.92645063],\n",
              "       [0.75192005, 0.23741641, 0.74565012, 0.17491637, 0.58777564,\n",
              "        0.15080831, 0.47027947]])"
            ]
          },
          "metadata": {},
          "execution_count": 6
        }
      ]
    },
    {
      "cell_type": "markdown",
      "metadata": {
        "id": "A43YkE92FEDx"
      },
      "source": [
        "Номер 5"
      ]
    },
    {
      "cell_type": "code",
      "metadata": {
        "colab": {
          "base_uri": "https://localhost:8080/"
        },
        "id": "pmrHYnHsFFX5",
        "outputId": "14e35a79-c5fb-4287-8f8d-574be88e64fa"
      },
      "source": [
        "import random\n",
        "a = []\n",
        "for i in range(5):\n",
        "   a.append([random.randint(0, 10) for j in range(5)])\n",
        "q = np.array(a,dtype = np.int32)\n",
        "q"
      ],
      "execution_count": 21,
      "outputs": [
        {
          "output_type": "execute_result",
          "data": {
            "text/plain": [
              "array([[ 5,  3,  4,  9,  3],\n",
              "       [ 6,  3,  3,  3,  6],\n",
              "       [ 6,  0,  4,  2,  2],\n",
              "       [ 7,  8, 10,  0,  4],\n",
              "       [ 1, 10, 10,  8,  2]], dtype=int32)"
            ]
          },
          "metadata": {},
          "execution_count": 21
        }
      ]
    },
    {
      "cell_type": "markdown",
      "metadata": {
        "id": "KwTBJ1siLAum"
      },
      "source": [
        "Номер 6"
      ]
    },
    {
      "cell_type": "code",
      "metadata": {
        "colab": {
          "base_uri": "https://localhost:8080/"
        },
        "id": "dkYrzP_KLAbG",
        "outputId": "8483ef95-25bd-4278-eb7a-c2d952c96738"
      },
      "source": [
        "q = np.random.randint(-50,51,size = (89,67))\n",
        "print(q)\n",
        "k = 0\n",
        "for x in range(q.shape[0]):\n",
        "  for y in range(q.shape[1]):\n",
        "    if q[x,y] != 0:\n",
        "      k += 1"
      ],
      "execution_count": 20,
      "outputs": [
        {
          "output_type": "stream",
          "name": "stdout",
          "text": [
            "[[-48 -46 -43 ...  -4  -5  -5]\n",
            " [  5 -46 -45 ...  11  18 -38]\n",
            " [ 18  19 -27 ... -16  16  40]\n",
            " ...\n",
            " [ 47 -50 -11 ...  -1 -36  -6]\n",
            " [ 20   1 -33 ...   3  15  32]\n",
            " [-28 -47  -1 ...  10  -2  31]]\n"
          ]
        }
      ]
    },
    {
      "cell_type": "markdown",
      "metadata": {
        "id": "aYAljSxBMm8O"
      },
      "source": [
        "Номер 8"
      ]
    },
    {
      "cell_type": "code",
      "metadata": {
        "colab": {
          "base_uri": "https://localhost:8080/"
        },
        "id": "z4V9TwFmMpz-",
        "outputId": "94834938-d572-499b-cc8f-35e53af58e37"
      },
      "source": [
        "q = np.array([0.0, 9.5, 13.3, -3.9, 368.3, 120.1, -907.0, -51.8, 16.6], float)\n",
        "for i in range(len(q)):\n",
        "  if q[i] > 0: \n",
        "    q[i] = np.ceil(q[i])\n",
        "  else: \n",
        "    q[i] = np.floor(q[i])\n",
        "print(q)"
      ],
      "execution_count": 19,
      "outputs": [
        {
          "output_type": "stream",
          "name": "stdout",
          "text": [
            "[   0.   10.   14.   -4.  369.  121. -907.  -52.   17.]\n"
          ]
        }
      ]
    },
    {
      "cell_type": "markdown",
      "metadata": {
        "id": "jJ2Oc5hJT_ul"
      },
      "source": [
        "Номер 9"
      ]
    },
    {
      "cell_type": "code",
      "metadata": {
        "colab": {
          "base_uri": "https://localhost:8080/"
        },
        "id": "5lBIEwt9T_TY",
        "outputId": "1d2c93e4-12ab-43c5-f805-30526f47cb30"
      },
      "source": [
        "list1 = np.array([1,2,3,4,5,6,7,8,9,10])\n",
        "list2 = np.array([0,2,0,6,0,4,0,8,0])\n",
        "z = np.array([])\n",
        "for i in list1:\n",
        "  for j in list2:\n",
        "    if i == j:\n",
        "      z = np.append(z,i)\n",
        "print(np.sort(z))"
      ],
      "execution_count": 17,
      "outputs": [
        {
          "output_type": "stream",
          "name": "stdout",
          "text": [
            "[2. 4. 6. 8.]\n"
          ]
        }
      ]
    }
  ]
}