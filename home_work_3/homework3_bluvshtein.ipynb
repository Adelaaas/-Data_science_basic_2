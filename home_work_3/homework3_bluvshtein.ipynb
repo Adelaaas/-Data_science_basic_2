{
  "nbformat": 4,
  "nbformat_minor": 0,
  "metadata": {
    "colab": {
      "name": "homework3_bluvshtein.ipynb",
      "provenance": [],
      "collapsed_sections": []
    },
    "kernelspec": {
      "name": "python3",
      "display_name": "Python 3"
    },
    "language_info": {
      "name": "python"
    }
  },
  "cells": [
    {
      "cell_type": "markdown",
      "metadata": {
        "id": "NwhB7c6hWMaL"
      },
      "source": [
        "**Задание 1.**\n",
        "\n",
        " Создать матрицу размером 10х10 с 0 внутри, и 1 на границах. Например для 3х3.\n",
        "\n",
        "1 1 1\n",
        "\n",
        "1 0 1\n",
        "\n",
        "1 1 1\n",
        "\n",
        "Количество строк кода идеального решения: 2\n",
        "Кроме print()"
      ]
    },
    {
      "cell_type": "code",
      "metadata": {
        "colab": {
          "base_uri": "https://localhost:8080/"
        },
        "id": "kN6D2icIWYBz",
        "outputId": "2a4752c8-2b04-4496-93a0-688e88fb1e86"
      },
      "source": [
        "import numpy as np\n",
        "arr = np.array([[1, 1, 1], [1, 0, 1], [1, 1, 1]], int)\n",
        "arr"
      ],
      "execution_count": null,
      "outputs": [
        {
          "output_type": "execute_result",
          "data": {
            "text/plain": [
              "array([[1, 1, 1],\n",
              "       [1, 0, 1],\n",
              "       [1, 1, 1]])"
            ]
          },
          "metadata": {},
          "execution_count": 8
        }
      ]
    },
    {
      "cell_type": "markdown",
      "metadata": {
        "id": "jr5Hox4ZWYmD"
      },
      "source": [
        "**Задание 2.** \n",
        "\n",
        "Создать 5x5 матрицу с 1,2,3,4 над диагональю. Все остальные элементы - 0.\n",
        "\n",
        "Количество строк кода идеального решения: 1\n",
        "Кроме print()"
      ]
    },
    {
      "cell_type": "code",
      "metadata": {
        "colab": {
          "base_uri": "https://localhost:8080/"
        },
        "id": "nLGhKMiBWnLL",
        "outputId": "4bfc32c3-a68b-4a41-dc41-363f10566bc0"
      },
      "source": [
        "import numpy as np\n",
        "arr = np.diag(np.arange(1, 5), k=1)\n",
        "arr"
      ],
      "execution_count": 3,
      "outputs": [
        {
          "output_type": "execute_result",
          "data": {
            "text/plain": [
              "array([[0, 1, 0, 0, 0],\n",
              "       [0, 0, 2, 0, 0],\n",
              "       [0, 0, 0, 3, 0],\n",
              "       [0, 0, 0, 0, 4],\n",
              "       [0, 0, 0, 0, 0]])"
            ]
          },
          "metadata": {},
          "execution_count": 3
        }
      ]
    },
    {
      "cell_type": "markdown",
      "metadata": {
        "id": "HQw8JDIHWlQp"
      },
      "source": [
        "\n",
        " **задание 3.**\n",
        "\n",
        "Создайте случайную матрицу и вычтите из каждой строки среднее. Количество строк кода идеального решения (кроме создания исходной матрицы): 1\n",
        "Кроме print()"
      ]
    },
    {
      "cell_type": "code",
      "metadata": {
        "id": "sCFSqmGuWZHJ",
        "colab": {
          "base_uri": "https://localhost:8080/"
        },
        "outputId": "8bc11d4d-5884-4ee8-9299-7cf40d985cfe"
      },
      "source": [
        "import numpy as np\n",
        "arr=np.random.rand(3,4)\n",
        "arr1=arr-arr.mean()\n",
        "print(arr)\n",
        "print(arr1)"
      ],
      "execution_count": 2,
      "outputs": [
        {
          "output_type": "stream",
          "name": "stdout",
          "text": [
            "[[0.53281903 0.09740751 0.72302009 0.65526448]\n",
            " [0.67570047 0.82343831 0.7302921  0.21174583]\n",
            " [0.66632248 0.95158295 0.3274     0.20004978]]\n",
            "[[-0.01676789 -0.45217941  0.17343317  0.10567756]\n",
            " [ 0.12611355  0.27385139  0.18070518 -0.33784109]\n",
            " [ 0.11673556  0.40199603 -0.22218692 -0.34953714]]\n"
          ]
        }
      ]
    },
    {
      "cell_type": "markdown",
      "metadata": {
        "id": "4Ek2hBe6W7A8"
      },
      "source": [
        "**Задание 4.**\n",
        "\n",
        "Создать Массив размерностью (6,7). Поменять в массиве 3 строку с последней."
      ]
    },
    {
      "cell_type": "code",
      "metadata": {
        "colab": {
          "base_uri": "https://localhost:8080/"
        },
        "id": "EEHRFXUKW7M5",
        "outputId": "12aa402a-d2d9-4040-ed31-26a5c06caf1f"
      },
      "source": [
        "import numpy as np\n",
        "z = np.random.random((6,7))\n",
        "print(z)\n",
        "z[[0,2]]=z[[0,5]]\n",
        "print(z)\n"
      ],
      "execution_count": 3,
      "outputs": [
        {
          "output_type": "stream",
          "name": "stdout",
          "text": [
            "[[0.18674333 0.40747553 0.25849598 0.02148929 0.62784693 0.18211291\n",
            "  0.3233692 ]\n",
            " [0.93164305 0.91272368 0.72972707 0.53233633 0.45907481 0.34157449\n",
            "  0.4068263 ]\n",
            " [0.05937955 0.13202533 0.74084294 0.23202693 0.94115063 0.14980038\n",
            "  0.38138906]\n",
            " [0.0789802  0.79027709 0.06261793 0.71919654 0.83662388 0.91489294\n",
            "  0.67782602]\n",
            " [0.7147042  0.6404951  0.38450433 0.57224528 0.30106946 0.22319488\n",
            "  0.22143904]\n",
            " [0.6491798  0.43734487 0.85322163 0.42426101 0.94547243 0.33172397\n",
            "  0.7161504 ]]\n",
            "[[0.18674333 0.40747553 0.25849598 0.02148929 0.62784693 0.18211291\n",
            "  0.3233692 ]\n",
            " [0.93164305 0.91272368 0.72972707 0.53233633 0.45907481 0.34157449\n",
            "  0.4068263 ]\n",
            " [0.6491798  0.43734487 0.85322163 0.42426101 0.94547243 0.33172397\n",
            "  0.7161504 ]\n",
            " [0.0789802  0.79027709 0.06261793 0.71919654 0.83662388 0.91489294\n",
            "  0.67782602]\n",
            " [0.7147042  0.6404951  0.38450433 0.57224528 0.30106946 0.22319488\n",
            "  0.22143904]\n",
            " [0.6491798  0.43734487 0.85322163 0.42426101 0.94547243 0.33172397\n",
            "  0.7161504 ]]\n"
          ]
        }
      ]
    },
    {
      "cell_type": "markdown",
      "metadata": {
        "id": "TDtI2qxiXAFK"
      },
      "source": [
        "**Задание 5.**\n",
        "\n",
        "Создать двумерный список и заполнить его рандомными числами. Преобразовать созданный список в NumPy массив (с типом int32)."
      ]
    },
    {
      "cell_type": "code",
      "metadata": {
        "id": "pHp075PUNUfA",
        "colab": {
          "base_uri": "https://localhost:8080/"
        },
        "outputId": "5e6bbcb9-295f-44d2-cf02-df92165790c8"
      },
      "source": [
        "import random\n",
        "import numpy as np\n",
        "a=[]\n",
        "for i in range(5):\n",
        "   a.append([random.randint(0, 100) for _ in range(5)])\n",
        "b=np.array(b,dtype = np.int32)\n",
        "print(type(a))\n",
        "print(type (b))"
      ],
      "execution_count": 5,
      "outputs": [
        {
          "output_type": "stream",
          "name": "stdout",
          "text": [
            "<class 'list'>\n",
            "<class 'numpy.ndarray'>\n"
          ]
        }
      ]
    },
    {
      "cell_type": "markdown",
      "metadata": {
        "id": "fcJ_WMDdXEZy"
      },
      "source": [
        "**Задание 6.**\n",
        "\n",
        "Создать массив размерностью (89, 67) и заполнить его случайными числами от -50 до 50. Посчитать количество ненулевых элементов полученного массива."
      ]
    },
    {
      "cell_type": "code",
      "metadata": {
        "colab": {
          "base_uri": "https://localhost:8080/"
        },
        "id": "tuaFNnk4XLLa",
        "outputId": "410add2e-63ce-4970-b781-50455e7975f2"
      },
      "source": [
        "z= np.random.randint(-50, 50, size=(89, 67))\n",
        "c=0\n",
        "for x in range(z.shape[0]):\n",
        "  for y in range(z.shape[1]):\n",
        "    if z[x, y]==0:\n",
        "      c+=1\n",
        "print(c)"
      ],
      "execution_count": null,
      "outputs": [
        {
          "output_type": "stream",
          "name": "stdout",
          "text": [
            "59\n"
          ]
        }
      ]
    },
    {
      "cell_type": "markdown",
      "metadata": {
        "id": "kTbhc7OhXLRo"
      },
      "source": [
        "**Задача 7.**\n",
        "\n",
        "Считайте 2 числа: n, m.\n",
        "\n",
        "Создайте матрицу размера n*m и \"раскрасьте\" её в шахматную раскраску.\n",
        "\n",
        "0 - \"чёрное\"\n",
        "\n",
        "1 - \"белое\"\n",
        "\n",
        "Ячейка с координатами (0, 0) всегда \"чёрная\" (т.е. элемент (0, 0) равен 0). Матрицу сохраните в переменную Z."
      ]
    },
    {
      "cell_type": "code",
      "metadata": {
        "id": "0kbShTBUXEQo",
        "colab": {
          "base_uri": "https://localhost:8080/"
        },
        "outputId": "93fc6274-3a44-45a0-d7fe-d6081e1bfb8b"
      },
      "source": [
        "import numpy as np\n",
        "m=int(input())\n",
        "n=int(input())\n",
        "z=np.ones((m,n))\n",
        "for x in range(z.shape[0]):\n",
        "  for y in range(z.shape[1]):\n",
        "    if y%2==0 and x%2==0:\n",
        "      z[x, y]=0\n",
        "    elif y%2==1 and x%2==1:\n",
        "      z[x, y]=0\n",
        "z\n"
      ],
      "execution_count": 6,
      "outputs": [
        {
          "name": "stdout",
          "output_type": "stream",
          "text": [
            "3\n",
            "9\n"
          ]
        },
        {
          "output_type": "execute_result",
          "data": {
            "text/plain": [
              "array([[0., 1., 0., 1., 0., 1., 0., 1., 0.],\n",
              "       [1., 0., 1., 0., 1., 0., 1., 0., 1.],\n",
              "       [0., 1., 0., 1., 0., 1., 0., 1., 0.]])"
            ]
          },
          "metadata": {},
          "execution_count": 6
        }
      ]
    },
    {
      "cell_type": "markdown",
      "metadata": {
        "id": "VpvKqA5FXPoy"
      },
      "source": [
        "**Задача 8.**\n",
        "\n",
        "Вектор A содержит float числа как больше, так и меньше нуля.\n",
        "\n",
        "Округлите их до целых и результат запишите в переменную Z. Округление должно быть \"от нуля\", т.е.:\n",
        "\n",
        "положительные числа округляем всегда вверх до целого отрицательные числа округляем всегда вниз до целого 0 остаётся 0"
      ]
    },
    {
      "cell_type": "code",
      "metadata": {
        "colab": {
          "base_uri": "https://localhost:8080/"
        },
        "id": "DhjRRb-fYEs0",
        "outputId": "dcf5f630-6092-4e96-c10c-aba62aa3e8d3"
      },
      "source": [
        "import numpy as np\n",
        "arr = np.array([0.1, -4.2, 1.7, 8.9, -36.3], float)\n",
        "for i in range(len(arr)):\n",
        "  if arr[i]>0: \n",
        "    arr[i]=np.ceil(arr[i])\n",
        "  elif arr[i]<0: \n",
        "    arr[i]=np.floor(arr[i])\n",
        "  else:\n",
        "    arr[i]=0\n",
        "print(arr)\n",
        "\n"
      ],
      "execution_count": 14,
      "outputs": [
        {
          "output_type": "stream",
          "name": "stdout",
          "text": [
            "[  1.  -5.   2.   9. -37.]\n"
          ]
        }
      ]
    },
    {
      "cell_type": "markdown",
      "metadata": {
        "id": "hgoazxpEYE2j"
      },
      "source": [
        "**Задача 9.**\n",
        "\n",
        "Даны 2 вектора целых чисел A и B.\n",
        "\n",
        "Найдите числа, встречающиеся в обоих векторах и составьте их по возрастанию в вектор Z.\n",
        "\n",
        "Если пересечений нет, то вектор Z будет пустым."
      ]
    },
    {
      "cell_type": "code",
      "metadata": {
        "id": "VXs9-GYzDnEv"
      },
      "source": [
        ""
      ],
      "execution_count": null,
      "outputs": []
    }
  ]
}