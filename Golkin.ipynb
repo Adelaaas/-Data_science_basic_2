{
  "nbformat": 4,
  "nbformat_minor": 0,
  "metadata": {
    "colab": {
      "name": "Golkin.ipynb",
      "provenance": []
    },
    "kernelspec": {
      "name": "python3",
      "display_name": "Python 3"
    },
    "language_info": {
      "name": "python"
    }
  },
  "cells": [
    {
      "cell_type": "code",
      "metadata": {
        "colab": {
          "base_uri": "https://localhost:8080/"
        },
        "id": "ZG_0wQMO-OWJ",
        "outputId": "cabee67b-df2c-437e-9f74-d252c598f94d"
      },
      "source": [
        "name = ['i','g','o','r',17]\n",
        "name [1:-1]"
      ],
      "execution_count": 3,
      "outputs": [
        {
          "output_type": "execute_result",
          "data": {
            "text/plain": [
              "['g', 'o', 'r']"
            ]
          },
          "metadata": {},
          "execution_count": 3
        }
      ]
    },
    {
      "cell_type": "code",
      "metadata": {
        "colab": {
          "base_uri": "https://localhost:8080/"
        },
        "id": "-zdZdp1rUxH4",
        "outputId": "977d717e-efbf-4ed8-8e33-c7ca285d5a97"
      },
      "source": [
        "x = '11П'\n",
        "name.append(x)\n",
        "print (name)"
      ],
      "execution_count": 7,
      "outputs": [
        {
          "output_type": "stream",
          "name": "stdout",
          "text": [
            "['i', 'g', 'o', 'r', 17, '11П', 'g', 'o', 'l', 'k', 'i', 'n', '11П']\n"
          ]
        }
      ]
    },
    {
      "cell_type": "code",
      "metadata": {
        "colab": {
          "base_uri": "https://localhost:8080/"
        },
        "id": "JHD_L72uVzi9",
        "outputId": "bd79c30c-68df-42f2-e873-c323e494e0d6"
      },
      "source": [
        "x = '11П'\n",
        "name.append(x)\n",
        "surname='golkin'\n",
        "name += list(surname)\n",
        "print (name)"
      ],
      "execution_count": 8,
      "outputs": [
        {
          "output_type": "stream",
          "name": "stdout",
          "text": [
            "['i', 'g', 'o', 'r', 17, '11П', 'g', 'o', 'l', 'k', 'i', 'n', '11П', '11П', 'g', 'o', 'l', 'k', 'i', 'n']\n"
          ]
        }
      ]
    }
  ]
}