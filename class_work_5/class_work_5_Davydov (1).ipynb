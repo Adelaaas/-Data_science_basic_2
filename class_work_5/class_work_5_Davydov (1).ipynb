{
  "nbformat": 4,
  "nbformat_minor": 0,
  "metadata": {
    "colab": {
      "name": "class_work_5_Davydov.ipynb",
      "provenance": []
    },
    "kernelspec": {
      "name": "python3",
      "display_name": "Python 3"
    },
    "language_info": {
      "name": "python"
    }
  },
  "cells": [
    {
      "cell_type": "code",
      "metadata": {
        "colab": {
          "base_uri": "https://localhost:8080/"
        },
        "id": "l7cBkHNIgb38",
        "outputId": "62965f51-5857-4c20-e0f3-afa3226f8af6"
      },
      "source": [
        "# Задание 1\n",
        "b = int(input())\n",
        "def a(b):\n",
        "  return b*4, b**2, b*(2**0.5)\n",
        "a(b)"
      ],
      "execution_count": 4,
      "outputs": [
        {
          "name": "stdout",
          "output_type": "stream",
          "text": [
            "3\n"
          ]
        },
        {
          "output_type": "execute_result",
          "data": {
            "text/plain": [
              "(12, 9, 4.242640687119286)"
            ]
          },
          "metadata": {},
          "execution_count": 4
        }
      ]
    },
    {
      "cell_type": "code",
      "metadata": {
        "colab": {
          "base_uri": "https://localhost:8080/"
        },
        "id": "vvC6BS7kg-u2",
        "outputId": "fbad0c6c-9ace-4a09-8c5f-bb1ab04ebefc"
      },
      "source": [
        "# Задание 2\n",
        "x = [1, 2, 5, 10]\n",
        "y = [1, 2, 5]\n",
        "for i in x:\n",
        "  if i not in y:\n",
        "    print(i)"
      ],
      "execution_count": 8,
      "outputs": [
        {
          "output_type": "stream",
          "name": "stdout",
          "text": [
            "10\n"
          ]
        }
      ]
    },
    {
      "cell_type": "code",
      "metadata": {
        "colab": {
          "base_uri": "https://localhost:8080/"
        },
        "id": "S5tUkD8whXoC",
        "outputId": "c34dbb74-f509-4ca6-df20-fed90ab08b21"
      },
      "source": [
        "# Задание 3\n",
        "import numpy as np\n",
        "b = np.array([6, 2, 0, 3, 0, 0, 5, 7, 0])\n",
        "a=b==0\n",
        "print (b[1:][a[:-1]].max())"
      ],
      "execution_count": 9,
      "outputs": [
        {
          "output_type": "stream",
          "name": "stdout",
          "text": [
            "5\n"
          ]
        }
      ]
    }
  ]
}