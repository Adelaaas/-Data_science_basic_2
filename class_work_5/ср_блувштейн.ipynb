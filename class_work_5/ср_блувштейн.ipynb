{
  "nbformat": 4,
  "nbformat_minor": 0,
  "metadata": {
    "colab": {
      "name": "ср_блувштейн.ipynb",
      "provenance": []
    },
    "kernelspec": {
      "name": "python3",
      "display_name": "Python 3"
    },
    "language_info": {
      "name": "python"
    }
  },
  "cells": [
    {
      "cell_type": "markdown",
      "metadata": {
        "id": "X5u1fGNNcGmR"
      },
      "source": [
        "\n",
        "Задание 1.\n",
        "\n",
        "Написать функцию, которая принимающая 1 аргумент - сторону квадрата, и возращающую 3 значения (с помощью кортежа): периметр квадрата, площать квадрата, диагональ квадрата)."
      ]
    },
    {
      "cell_type": "code",
      "metadata": {
        "colab": {
          "base_uri": "https://localhost:8080/"
        },
        "id": "F06tvd5HcIM3",
        "outputId": "3e1c4eed-a89b-4025-bf00-d162d6ad4803"
      },
      "source": [
        "x = int(input())\n",
        "def q(x):\n",
        "  return x*4, x*x, x*(2**0.5)\n",
        "q(x)"
      ],
      "execution_count": 13,
      "outputs": [
        {
          "name": "stdout",
          "output_type": "stream",
          "text": [
            "5\n"
          ]
        },
        {
          "output_type": "execute_result",
          "data": {
            "text/plain": [
              "(20, 25, 7.0710678118654755)"
            ]
          },
          "metadata": {},
          "execution_count": 13
        }
      ]
    },
    {
      "cell_type": "markdown",
      "metadata": {
        "id": "PHmOlAlHcV1Q"
      },
      "source": [
        "Напишите программу, которая принимает два списка и выводит все элементы первого, которых нет во втором."
      ]
    },
    {
      "cell_type": "code",
      "metadata": {
        "colab": {
          "base_uri": "https://localhost:8080/"
        },
        "id": "teNzwTjTcXXO",
        "outputId": "d904fa0e-f4f2-47a3-8b5c-d1d7e2a419b1"
      },
      "source": [
        "x = list(map(int, input().split()))\n",
        "y = list(map(int, input().split()))\n",
        "for i in x:\n",
        "  if i not in y:\n",
        "    print(i)"
      ],
      "execution_count": 14,
      "outputs": [
        {
          "output_type": "stream",
          "name": "stdout",
          "text": [
            "7 5 9 3 \n",
            "8 5 3 10\n",
            "7\n",
            "9\n"
          ]
        }
      ]
    },
    {
      "cell_type": "markdown",
      "metadata": {
        "id": "5C-ZQwEpdIV6"
      },
      "source": [
        "Найти максимальный элемент в векторе x среди элементов, перед которыми стоит нулевой.\n",
        "\n",
        "Для x = np.array([6, 2, 0, 3, 0, 0, 5, 7, 0]) ответ 5."
      ]
    },
    {
      "cell_type": "code",
      "metadata": {
        "id": "1yrLP3BMdNrC"
      },
      "source": [
        "\n",
        "import numpy as np\n",
        "\n",
        "x = np.array([6, 2, 0, 3, 0, 0, 5, 7, 0])\n",
        "max(x[j] for j in range(1, len(x)) if not x[j-1])"
      ],
      "execution_count": null,
      "outputs": []
    }
  ]
}