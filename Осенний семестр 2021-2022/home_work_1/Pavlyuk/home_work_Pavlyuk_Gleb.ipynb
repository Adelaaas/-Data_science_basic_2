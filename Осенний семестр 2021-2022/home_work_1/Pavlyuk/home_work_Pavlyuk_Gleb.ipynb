{
  "nbformat": 4,
  "nbformat_minor": 0,
  "metadata": {
    "colab": {
      "name": "Untitled1.ipynb",
      "provenance": [],
      "collapsed_sections": []
    },
    "kernelspec": {
      "name": "python3",
      "display_name": "Python 3"
    },
    "language_info": {
      "name": "python"
    }
  },
  "cells": [
    {
      "cell_type": "markdown",
      "metadata": {
        "id": "U6t9REGoxDOd"
      },
      "source": [
        "***Задача номер 1***"
      ]
    },
    {
      "cell_type": "code",
      "metadata": {
        "colab": {
          "base_uri": "https://localhost:8080/"
        },
        "id": "ChiT1U5PjxkY",
        "outputId": "ffb411ac-ff8c-499d-80a7-ff68a41dfa0b"
      },
      "source": [
        "arrayList = []\n",
        "for i in range(7):\n",
        "  arrayList.append(i)\n",
        "printingIdx = int(input())\n",
        "print(f\"элемент i - {arrayList[i]}\")\n",
        "\n",
        "arrayLen = int(input())\n",
        "secondList = [arrayLen for i in range(arrayLen)]\n",
        "print(secondList)"
      ],
      "execution_count": 7,
      "outputs": [
        {
          "output_type": "stream",
          "name": "stdout",
          "text": [
            "1\n",
            "элемент i - 6\n",
            "8\n",
            "[8, 8, 8, 8, 8, 8, 8, 8]\n"
          ]
        }
      ]
    },
    {
      "cell_type": "markdown",
      "metadata": {
        "id": "ntTwbfuuxQOv"
      },
      "source": [
        "***Задача номер 2***"
      ]
    },
    {
      "cell_type": "code",
      "metadata": {
        "colab": {
          "base_uri": "https://localhost:8080/"
        },
        "id": "FZC0CwCJxTpQ",
        "outputId": "58e6b6d8-d011-44bb-c1f2-8a18c4188cd2"
      },
      "source": [
        "x = int(input())\n",
        "y = int(input())\n",
        "isInCube = False\n",
        "if (x >= -1 and x <= 1):\n",
        "  if (y >= -1 and y<= 1):\n",
        "    isInCube = True\n",
        "\n",
        "if (isInCube): \n",
        "  print(\"Is in Cube\")\n",
        "else:\n",
        "  print(\"Is't in Cube\")"
      ],
      "execution_count": 17,
      "outputs": [
        {
          "output_type": "stream",
          "name": "stdout",
          "text": [
            "1\n",
            "1\n",
            "is in Cube\n"
          ]
        }
      ]
    },
    {
      "cell_type": "markdown",
      "metadata": {
        "id": "vRBTtKDMy5tl"
      },
      "source": [
        "***Задача номер 3***"
      ]
    },
    {
      "cell_type": "code",
      "metadata": {
        "colab": {
          "base_uri": "https://localhost:8080/"
        },
        "id": "saF2t346y8dj",
        "outputId": "36370b93-7e8f-473a-86c4-c46e2c78e2c1"
      },
      "source": [
        "ex = [1,2,4,5,6,7,7]\n",
        "modifiedA = [i for i in ex if i % 2 == 0]\n",
        "print(modifiedA)"
      ],
      "execution_count": 21,
      "outputs": [
        {
          "output_type": "stream",
          "name": "stdout",
          "text": [
            "[2, 4, 6]\n"
          ]
        }
      ]
    },
    {
      "cell_type": "markdown",
      "metadata": {
        "id": "1h1OMOwu0NH8"
      },
      "source": [
        "***Задача номер 4***"
      ]
    },
    {
      "cell_type": "code",
      "metadata": {
        "colab": {
          "base_uri": "https://localhost:8080/"
        },
        "id": "q_79xXjL0QmR",
        "outputId": "251a6d20-1d16-4bae-8d64-52fb20f0823a"
      },
      "source": [
        "name = input()\n",
        "print(f\"Привет, {name}! \")"
      ],
      "execution_count": 22,
      "outputs": [
        {
          "output_type": "stream",
          "name": "stdout",
          "text": [
            "Петя\n",
            "Привет, Петя!\n"
          ]
        }
      ]
    },
    {
      "cell_type": "markdown",
      "metadata": {
        "id": "6qlOIHTL43Y4"
      },
      "source": [
        "***Задача номер 5***"
      ]
    },
    {
      "cell_type": "code",
      "metadata": {
        "colab": {
          "base_uri": "https://localhost:8080/"
        },
        "id": "kDvaxupd45nC",
        "outputId": "4aa6f4cc-fe87-41eb-d3b7-d34ad4502a3f"
      },
      "source": [
        "num = int(input())\n",
        "print(f\"The next number for the number {num} is {num+1}. The previous number for the number {num} is {num-1}.\")"
      ],
      "execution_count": 25,
      "outputs": [
        {
          "output_type": "stream",
          "name": "stdout",
          "text": [
            "12\n",
            "The next number for the number 12 is 13. The previous number for the number 12 is 11.\n"
          ]
        }
      ]
    }
  ]
}