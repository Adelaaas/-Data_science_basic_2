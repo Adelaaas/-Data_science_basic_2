{
  "nbformat": 4,
  "nbformat_minor": 0,
  "metadata": {
    "colab": {
      "name": "Untitled0.ipynb",
      "provenance": [],
      "collapsed_sections": []
    },
    "kernelspec": {
      "name": "python3",
      "display_name": "Python 3"
    },
    "language_info": {
      "name": "python"
    }
  },
  "cells": [
    {
      "cell_type": "code",
      "metadata": {
        "colab": {
          "base_uri": "https://localhost:8080/"
        },
        "id": "2s2MOnFNgJy3",
        "outputId": "f807bca5-40d7-4a24-90b0-d29ff735cf6e"
      },
      "source": [
        "# Задание №1\n",
        "\n",
        "ex = [1, 2, 3, 4, 5, 6, 7]\n",
        "arr = [[i]*i for i in ex if i % 2 == 0]\n",
        "print(ex[i])\n",
        "print(arr)"
      ],
      "execution_count": 45,
      "outputs": [
        {
          "output_type": "stream",
          "name": "stdout",
          "text": [
            "2\n",
            "[[2, 2], [4, 4, 4, 4], [6, 6, 6, 6, 6, 6]]\n"
          ]
        }
      ]
    },
    {
      "cell_type": "code",
      "metadata": {
        "colab": {
          "base_uri": "https://localhost:8080/"
        },
        "id": "qjN9niVVgM8I",
        "outputId": "33073c9a-29d8-40be-80e9-8fe23a62b664"
      },
      "source": [
        "# Задание №2\n",
        "\n",
        "x = int(input())\n",
        "y = int(input())\n",
        "if x<2 and x>-2 and y<2 and y>-2:\n",
        "   print('Попал!')\n",
        "else:\n",
        "  print('Не принадлежит!')"
      ],
      "execution_count": 14,
      "outputs": [
        {
          "output_type": "stream",
          "name": "stdout",
          "text": [
            "0 \n",
            "0\n",
            "Попал!\n"
          ]
        }
      ]
    },
    {
      "cell_type": "code",
      "metadata": {
        "colab": {
          "base_uri": "https://localhost:8080/"
        },
        "id": "6wt8lsUogNE8",
        "outputId": "5e6fc6bb-049c-4a30-bcac-a72407cc5618"
      },
      "source": [
        "# Задание №3\n",
        "arr = []\n",
        "x=1\n",
        "while (x!=0):\n",
        "  x = int(input())\n",
        "  arr.append(x)\n",
        "print(arr[1:-1:2])\n",
        "          "
      ],
      "execution_count": 42,
      "outputs": [
        {
          "output_type": "stream",
          "name": "stdout",
          "text": [
            "6\n",
            "5\n",
            "1\n",
            "2\n",
            "3\n",
            "4\n",
            "0\n",
            "[5, 2, 4]\n"
          ]
        }
      ]
    },
    {
      "cell_type": "code",
      "metadata": {
        "colab": {
          "base_uri": "https://localhost:8080/"
        },
        "id": "YGUGKBTegPNg",
        "outputId": "13c1b2db-7c8d-43e0-c611-fde7e3ea5767"
      },
      "source": [
        "# Задание №4\n",
        "name = input()\n",
        "print(f'Привет, {name}!')"
      ],
      "execution_count": 6,
      "outputs": [
        {
          "output_type": "stream",
          "name": "stdout",
          "text": [
            "Komar\n",
            "Привет, Komar!\n"
          ]
        }
      ]
    },
    {
      "cell_type": "code",
      "metadata": {
        "colab": {
          "base_uri": "https://localhost:8080/"
        },
        "id": "xRboBxj-gNMn",
        "outputId": "321ed843-de49-4d6f-bea3-85f0ab8c7375"
      },
      "source": [
        "# Задание №5\n",
        "\n",
        "x = int(input())\n",
        "print(f'The next number for the number {x} is {x+1}. The previous number for the number {x} is {x-1}.')"
      ],
      "execution_count": 3,
      "outputs": [
        {
          "output_type": "stream",
          "name": "stdout",
          "text": [
            "5\n",
            "The next number for the number 5 is 6. The previous number for the number 5 is 4.\n"
          ]
        }
      ]
    }
  ]
}