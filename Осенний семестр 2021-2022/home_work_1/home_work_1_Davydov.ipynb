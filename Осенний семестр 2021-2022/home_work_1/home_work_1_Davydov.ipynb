{
  "nbformat": 4,
  "nbformat_minor": 0,
  "metadata": {
    "colab": {
      "name": "home_work_1_Davydov.ipynb",
      "provenance": []
    },
    "kernelspec": {
      "name": "python3",
      "display_name": "Python 3"
    },
    "language_info": {
      "name": "python"
    }
  },
  "cells": [
    {
      "cell_type": "code",
      "metadata": {
        "colab": {
          "base_uri": "https://localhost:8080/"
        },
        "id": "XhMyYejeLFFq",
        "outputId": "d5d47654-633e-46ab-f114-8a545a5e360f"
      },
      "source": [
        "# 1 задание\n",
        "lst = [1,2,3,4,5,6,7]\n",
        "i = int(input())\n",
        "print(lst[i]) # i-й элемент ряда\n",
        "print([lst[i] for k in range((i)+1)]) # список из i элементов равных i"
      ],
      "execution_count": 40,
      "outputs": [
        {
          "output_type": "stream",
          "name": "stdout",
          "text": [
            "3\n",
            "4\n",
            "[4, 4, 4, 4]\n"
          ]
        }
      ]
    },
    {
      "cell_type": "code",
      "metadata": {
        "colab": {
          "base_uri": "https://localhost:8080/"
        },
        "id": "Tl0tC97sOpMm",
        "outputId": "27c7826b-a79f-486c-b9b6-d64357af0114"
      },
      "source": [
        "# 2 задание\n",
        "x = int(input())\n",
        "y = int(input())\n",
        "if (x <= 1 and x >= -1) and (y <= 1 and y >= -1):\n",
        "  print (\"Принадлежит\")\n",
        "else:\n",
        "  print ('Не принадлежит')"
      ],
      "execution_count": 36,
      "outputs": [
        {
          "output_type": "stream",
          "name": "stdout",
          "text": [
            "0\n",
            "0\n",
            "Принадлежит\n"
          ]
        }
      ]
    },
    {
      "cell_type": "code",
      "metadata": {
        "colab": {
          "base_uri": "https://localhost:8080/"
        },
        "id": "50iJyM-BVFaO",
        "outputId": "0e28e80f-933b-43c1-c3b0-b5ae4ed55606"
      },
      "source": [
        "# 3 задание \n",
        "lst = [1,2,4,5,6,7,7]\n",
        "lst = [i for i in lst if i % 2 == 0]\n",
        "print (lst)"
      ],
      "execution_count": 48,
      "outputs": [
        {
          "output_type": "stream",
          "name": "stdout",
          "text": [
            "[2, 4, 6]\n"
          ]
        }
      ]
    },
    {
      "cell_type": "code",
      "metadata": {
        "colab": {
          "base_uri": "https://localhost:8080/"
        },
        "id": "sFcNv3B2TMzb",
        "outputId": "1e5b3641-f91e-4fd3-ce94-ba40e82659c4"
      },
      "source": [
        "# 4 задание\n",
        "name = input()\n",
        "print (f\"Привет, {name}!\")"
      ],
      "execution_count": 46,
      "outputs": [
        {
          "output_type": "stream",
          "name": "stdout",
          "text": [
            "Иван\n",
            "Привет, Иван!\n"
          ]
        }
      ]
    },
    {
      "cell_type": "code",
      "metadata": {
        "colab": {
          "base_uri": "https://localhost:8080/"
        },
        "id": "T7BUg8CvXDR3",
        "outputId": "fc41f065-bd15-41c6-e3d1-f679f460fc42"
      },
      "source": [
        "# 5 задание\n",
        "b = int(input())\n",
        "a = b-1\n",
        "c = b+1\n",
        "print (f'The next number for the number {b} is {c}. The previous number for the number {b} is {a}.')"
      ],
      "execution_count": 55,
      "outputs": [
        {
          "output_type": "stream",
          "name": "stdout",
          "text": [
            "1534\n",
            "The next number for the number 1534 is 1535. The previous number for the number 1534 is 1533.\n"
          ]
        }
      ]
    }
  ]
}