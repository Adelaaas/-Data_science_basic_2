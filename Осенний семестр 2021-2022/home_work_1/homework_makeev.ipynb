{
  "nbformat": 4,
  "nbformat_minor": 0,
  "metadata": {
    "colab": {
      "name": "Untitled0.ipynb",
      "provenance": []
    },
    "kernelspec": {
      "name": "python3",
      "display_name": "Python 3"
    },
    "language_info": {
      "name": "python"
    }
  },
  "cells": [
    {
      "cell_type": "code",
      "metadata": {
        "colab": {
          "base_uri": "https://localhost:8080/"
        },
        "id": "p_mM33_szTDT",
        "outputId": "28700a80-d6e4-49bb-c279-c73efc24ed68"
      },
      "source": [
        "#number 1\n",
        "ex = [1, 2, 3, 4, 5, 6, 7]\n",
        "print([i for i in ex])\n",
        "print([[i]*i for i in ex if i % 2 == 0])\n"
      ],
      "execution_count": 9,
      "outputs": [
        {
          "output_type": "stream",
          "name": "stdout",
          "text": [
            "[1, 2, 3, 4, 5, 6, 7]\n",
            "[[2, 2], [4, 4, 4, 4], [6, 6, 6, 6, 6, 6]]\n"
          ]
        }
      ]
    },
    {
      "cell_type": "code",
      "metadata": {
        "colab": {
          "base_uri": "https://localhost:8080/"
        },
        "id": "fe81RnAQzq8y",
        "outputId": "8e08f29c-fc73-4d17-c55d-5482b42eae9e"
      },
      "source": [
        "#number 2\n",
        "x = int(input())\n",
        "y = int(input())\n",
        "if -1 <= x <= 1 and  -1 <= y <= 1:\n",
        "    print(\"yes\")\n",
        "else:\n",
        "    print(\"no\")"
      ],
      "execution_count": 3,
      "outputs": [
        {
          "output_type": "stream",
          "name": "stdout",
          "text": [
            "1\n",
            "1\n",
            "yes\n"
          ]
        }
      ]
    },
    {
      "cell_type": "code",
      "metadata": {
        "colab": {
          "base_uri": "https://localhost:8080/"
        },
        "id": "ub-TzuKA1ZW8",
        "outputId": "bd508794-1245-4c28-9c88-45e367fb4a84"
      },
      "source": [
        "#number 3\n",
        "A = [1,2,4,5,6,7,7]\n",
        "print([i for i in A if i % 2 == 0])"
      ],
      "execution_count": 5,
      "outputs": [
        {
          "output_type": "stream",
          "name": "stdout",
          "text": [
            "[2, 4, 6]\n"
          ]
        }
      ]
    },
    {
      "cell_type": "code",
      "metadata": {
        "colab": {
          "base_uri": "https://localhost:8080/"
        },
        "id": "8E66vn6d1wDm",
        "outputId": "1de542e4-b29d-4162-9168-bd6eebde9e35"
      },
      "source": [
        "#number 4\n",
        "name = input()\n",
        "print(f\"Привет, {name}!\")"
      ],
      "execution_count": 10,
      "outputs": [
        {
          "output_type": "stream",
          "name": "stdout",
          "text": [
            "fat]\n",
            "Привет, fat]!\n"
          ]
        }
      ]
    },
    {
      "cell_type": "code",
      "metadata": {
        "colab": {
          "base_uri": "https://localhost:8080/"
        },
        "id": "od-Bghog190r",
        "outputId": "daad2636-a850-4988-9056-41dee6e492ff"
      },
      "source": [
        "#number 5\n",
        "i = int(input())\n",
        "print(f\"The next number for the number {i} is {i+1}. The previous number for the number {i} is {i-1}.\")"
      ],
      "execution_count": 7,
      "outputs": [
        {
          "output_type": "stream",
          "name": "stdout",
          "text": [
            "1523\n",
            "The next number for the number 1523 is 1524. The previous number for the number 1523 is 1522.\n"
          ]
        }
      ]
    }
  ]
}