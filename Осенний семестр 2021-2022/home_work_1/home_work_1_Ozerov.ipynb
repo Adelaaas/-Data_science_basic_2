{
  "nbformat": 4,
  "nbformat_minor": 0,
  "metadata": {
    "colab": {
      "name": "home_work_1_Ozerov.ipynb",
      "provenance": [],
      "collapsed_sections": []
    },
    "kernelspec": {
      "name": "python3",
      "display_name": "Python 3"
    },
    "language_info": {
      "name": "python"
    }
  },
  "cells": [
    {
      "cell_type": "code",
      "metadata": {
        "colab": {
          "base_uri": "https://localhost:8080/"
        },
        "id": "jgc8cv56H9bZ",
        "outputId": "3a17478c-fb89-47ff-898b-6748401aefec"
      },
      "source": [
        "arr=[1,2,3,4,5,6,7]\n",
        "i=int(input())\n",
        "print(arr[i])\n",
        "print([arr[i]for j in range(i+1)])"
      ],
      "execution_count": 5,
      "outputs": [
        {
          "output_type": "stream",
          "name": "stdout",
          "text": [
            "3\n",
            "4\n",
            "[4, 4, 4, 4]\n"
          ]
        }
      ]
    },
    {
      "cell_type": "code",
      "metadata": {
        "colab": {
          "base_uri": "https://localhost:8080/"
        },
        "id": "t8SzAN_iW5Hi",
        "outputId": "24af8bbd-6220-4bd2-f288-0af548bbd371"
      },
      "source": [
        "x,y=map(int,input().split())\n",
        "if x<=1 and x>=-1 and y>=-1 and y<=1:\n",
        "  print('Prinadlezhit')\n",
        "else:\n",
        "  print('ne prinadlezhit')"
      ],
      "execution_count": 10,
      "outputs": [
        {
          "output_type": "stream",
          "name": "stdout",
          "text": [
            "1 1\n",
            "Prinadlezhit\n"
          ]
        }
      ]
    },
    {
      "cell_type": "code",
      "metadata": {
        "colab": {
          "base_uri": "https://localhost:8080/"
        },
        "id": "Pp9yrHn9XoJe",
        "outputId": "296c4c0d-8e50-421f-ad2d-c1097386da0a"
      },
      "source": [
        "arr=[1,2,4,5,6,7,7]\n",
        "arr=[i for i in arr if i%2==0]\n",
        "print(arr)"
      ],
      "execution_count": 11,
      "outputs": [
        {
          "output_type": "stream",
          "name": "stdout",
          "text": [
            "[2, 4, 6]\n"
          ]
        }
      ]
    },
    {
      "cell_type": "code",
      "metadata": {
        "colab": {
          "base_uri": "https://localhost:8080/"
        },
        "id": "1Mxep3EpZGAi",
        "outputId": "e924b6f1-3f36-42f8-a380-9276a092da70"
      },
      "source": [
        "name=input()\n",
        "print('Привет,',name,'!')"
      ],
      "execution_count": 15,
      "outputs": [
        {
          "output_type": "stream",
          "name": "stdout",
          "text": [
            "петя\n",
            "Привет, петя !\n"
          ]
        }
      ]
    },
    {
      "cell_type": "code",
      "metadata": {
        "colab": {
          "base_uri": "https://localhost:8080/"
        },
        "id": "NdR4xnfXZqQv",
        "outputId": "09301416-0b08-4b63-9249-35b5472727fd"
      },
      "source": [
        "a=int(input())\n",
        "print(f'The next number for the number {a} is {a+1}. The previous number for the number {a} is {a-1}')"
      ],
      "execution_count": 16,
      "outputs": [
        {
          "output_type": "stream",
          "name": "stdout",
          "text": [
            "1534\n",
            "The next number for the number 1534 is 1535. The previous number for the number 1534 is 1533\n"
          ]
        }
      ]
    }
  ]
}