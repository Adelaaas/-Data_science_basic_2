{
  "nbformat": 4,
  "nbformat_minor": 0,
  "metadata": {
    "colab": {
      "name": "Untitled4.ipynb",
      "provenance": []
    },
    "kernelspec": {
      "name": "python3",
      "display_name": "Python 3"
    },
    "language_info": {
      "name": "python"
    }
  },
  "cells": [
    {
      "cell_type": "code",
      "metadata": {
        "id": "GpSYm3c3Wiu-"
      },
      "source": [
        "import numpy as np"
      ],
      "execution_count": 2,
      "outputs": []
    },
    {
      "cell_type": "code",
      "metadata": {
        "colab": {
          "base_uri": "https://localhost:8080/"
        },
        "id": "km7ZnQweWgbP",
        "outputId": "e4dd3fa4-6cc2-4f53-c79f-d533d343a3a4"
      },
      "source": [
        "a = np.random.randint(-50,50, size = (89, 67))\n",
        "n=0\n",
        "for i in range(a.shape[0]):\n",
        "  for j in range(a.shape[1]):\n",
        "    if a[i][j]!=0: n+=1\n",
        "print(a,n)"
      ],
      "execution_count": 5,
      "outputs": [
        {
          "output_type": "stream",
          "name": "stdout",
          "text": [
            "[[  1 -50 -29 ...   0  43 -29]\n",
            " [ -6 -34 -32 ... -24 -15 -30]\n",
            " [ 27   0  -7 ... -27  42  21]\n",
            " ...\n",
            " [  2 -35 -24 ...  44 -28 -23]\n",
            " [-21 -49 -19 ...  38  -1 -34]\n",
            " [-39  20 -42 ... -12  42 -30]] 5909\n"
          ]
        }
      ]
    }
  ]
}