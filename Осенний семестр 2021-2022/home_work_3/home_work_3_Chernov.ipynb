{
  "nbformat": 4,
  "nbformat_minor": 0,
  "metadata": {
    "colab": {
      "name": "home_work_3_Chernov.ipynb",
      "provenance": [],
      "collapsed_sections": []
    },
    "kernelspec": {
      "name": "python3",
      "display_name": "Python 3"
    },
    "language_info": {
      "name": "python"
    }
  },
  "cells": [
    {
      "cell_type": "code",
      "metadata": {
        "id": "omB8xgIB5jNC"
      },
      "source": [
        "import numpy as np"
      ],
      "execution_count": 19,
      "outputs": []
    },
    {
      "cell_type": "code",
      "metadata": {
        "colab": {
          "base_uri": "https://localhost:8080/"
        },
        "id": "pop6zBVN70FC",
        "outputId": "a84d81cf-9a96-483e-873f-057b546f8778"
      },
      "source": [
        "# Задание 1\n",
        "a = np.array([[[1] * 10] + [[1] + [0] * 8 + [1]] * 8 + [[1] * 10]][0])\n",
        "a"
      ],
      "execution_count": 20,
      "outputs": [
        {
          "output_type": "execute_result",
          "data": {
            "text/plain": [
              "array([[1, 1, 1, 1, 1, 1, 1, 1, 1, 1],\n",
              "       [1, 0, 0, 0, 0, 0, 0, 0, 0, 1],\n",
              "       [1, 0, 0, 0, 0, 0, 0, 0, 0, 1],\n",
              "       [1, 0, 0, 0, 0, 0, 0, 0, 0, 1],\n",
              "       [1, 0, 0, 0, 0, 0, 0, 0, 0, 1],\n",
              "       [1, 0, 0, 0, 0, 0, 0, 0, 0, 1],\n",
              "       [1, 0, 0, 0, 0, 0, 0, 0, 0, 1],\n",
              "       [1, 0, 0, 0, 0, 0, 0, 0, 0, 1],\n",
              "       [1, 0, 0, 0, 0, 0, 0, 0, 0, 1],\n",
              "       [1, 1, 1, 1, 1, 1, 1, 1, 1, 1]])"
            ]
          },
          "metadata": {},
          "execution_count": 20
        }
      ]
    },
    {
      "cell_type": "code",
      "metadata": {
        "colab": {
          "base_uri": "https://localhost:8080/"
        },
        "id": "vIhsLkKy768N",
        "outputId": "f5ac7d56-29df-4dc2-9ba5-fbdc037aac08"
      },
      "source": [
        "# Задание 2\n",
        "b = np.array([[0, 1, 0, 0, 0], [0, 0, 2, 0, 0], [0, 0, 0, 3 , 0], [0, 0, 0, 0, 4], [0, 0, 0, 0, 0]])\n",
        "b"
      ],
      "execution_count": 22,
      "outputs": [
        {
          "output_type": "execute_result",
          "data": {
            "text/plain": [
              "array([[0, 1, 0, 0, 0],\n",
              "       [0, 0, 2, 0, 0],\n",
              "       [0, 0, 0, 3, 0],\n",
              "       [0, 0, 0, 0, 4],\n",
              "       [0, 0, 0, 0, 0]])"
            ]
          },
          "metadata": {},
          "execution_count": 22
        }
      ]
    },
    {
      "cell_type": "code",
      "metadata": {
        "colab": {
          "base_uri": "https://localhost:8080/"
        },
        "id": "63ouWYuS8jtf",
        "outputId": "833a0111-60c5-4c58-a4d3-cb4ddd6daa79"
      },
      "source": [
        "# Задание 3\n",
        "c = np.array([[0, 2, 3, 4], [1, 6, 7, 8]])\n",
        "for i in range(c.shape[0]):\n",
        "  print(np.mean(c[i]))"
      ],
      "execution_count": 31,
      "outputs": [
        {
          "output_type": "stream",
          "name": "stdout",
          "text": [
            "2.25\n",
            "5.5\n"
          ]
        }
      ]
    },
    {
      "cell_type": "code",
      "metadata": {
        "colab": {
          "base_uri": "https://localhost:8080/"
        },
        "id": "aQYDKB5P-SOI",
        "outputId": "e53ec3b9-f680-4b03-e883-ce20ea53d13d"
      },
      "source": [
        "# Задание 4\n",
        "d = [[1] * 7] * 3 + [[2] * 7] * 3\n",
        "d = np.array(d[:2] + [d[-1]] + d[3:] + [d[2]])\n",
        "d"
      ],
      "execution_count": 46,
      "outputs": [
        {
          "output_type": "execute_result",
          "data": {
            "text/plain": [
              "array([[1, 1, 1, 1, 1, 1, 1],\n",
              "       [1, 1, 1, 1, 1, 1, 1],\n",
              "       [2, 2, 2, 2, 2, 2, 2],\n",
              "       [2, 2, 2, 2, 2, 2, 2],\n",
              "       [2, 2, 2, 2, 2, 2, 2],\n",
              "       [2, 2, 2, 2, 2, 2, 2],\n",
              "       [1, 1, 1, 1, 1, 1, 1]])"
            ]
          },
          "metadata": {},
          "execution_count": 46
        }
      ]
    },
    {
      "cell_type": "code",
      "metadata": {
        "colab": {
          "base_uri": "https://localhost:8080/"
        },
        "id": "DOLDOsUrAw1o",
        "outputId": "78a2e350-a89b-40f7-81d0-ec4149973fea"
      },
      "source": [
        "# Задание 5\n",
        "from random import randint\n",
        "e = []\n",
        "for i in range(4):\n",
        "  e.append([randint(0, 100), randint(0, 100), randint(0, 100)])\n",
        "e = np.array(e, \"int32\")\n",
        "e"
      ],
      "execution_count": 53,
      "outputs": [
        {
          "output_type": "execute_result",
          "data": {
            "text/plain": [
              "array([[97, 96, 74],\n",
              "       [ 1, 40, 40],\n",
              "       [15, 60,  4],\n",
              "       [ 7, 15, 50]], dtype=int32)"
            ]
          },
          "metadata": {},
          "execution_count": 53
        }
      ]
    },
    {
      "cell_type": "code",
      "metadata": {
        "colab": {
          "base_uri": "https://localhost:8080/"
        },
        "id": "NKq4fKToBls2",
        "outputId": "923d6b3a-1038-409d-d284-13068f44b029"
      },
      "source": [
        "# Задание 6\n",
        "f = []\n",
        "for i in range(89):\n",
        "  b2 = []\n",
        "  for i in range(67):\n",
        "    b2.append(randint(-50, 51))\n",
        "  f.append(b2)\n",
        "f = np.array(f)\n",
        "ct = 0\n",
        "for x in range(f.shape[0]):\n",
        "  for y in range(f.shape[1]):\n",
        "    if f[x, y] != 0:\n",
        "      ct += 1\n",
        "ct"
      ],
      "execution_count": 57,
      "outputs": [
        {
          "output_type": "execute_result",
          "data": {
            "text/plain": [
              "5888"
            ]
          },
          "metadata": {},
          "execution_count": 57
        }
      ]
    },
    {
      "cell_type": "code",
      "metadata": {
        "colab": {
          "base_uri": "https://localhost:8080/"
        },
        "id": "A1cbs7xxD105",
        "outputId": "b1d5cc53-bf04-4544-a788-57f3ade10aad"
      },
      "source": [
        "# Задание 7\n",
        "n, m = int(input()), int(input())\n",
        "z = []\n",
        "for i in range(n):\n",
        "  z2 = []\n",
        "  if i % 2 == 0:\n",
        "    for i in range(m):\n",
        "      if (i % 2 == 0):\n",
        "        z2.append(1)\n",
        "      else:\n",
        "        z2.append(0)\n",
        "  else:\n",
        "    for i in range(m):\n",
        "      if (i % 2 == 0):\n",
        "        z2.append(0)\n",
        "      else:\n",
        "        z2.append(1)\n",
        "  z.append(z2)\n",
        "z = np.array(z)\n",
        "z"
      ],
      "execution_count": 60,
      "outputs": [
        {
          "name": "stdout",
          "output_type": "stream",
          "text": [
            "8\n",
            "8\n"
          ]
        },
        {
          "output_type": "execute_result",
          "data": {
            "text/plain": [
              "array([[1, 0, 1, 0, 1, 0, 1, 0],\n",
              "       [0, 1, 0, 1, 0, 1, 0, 1],\n",
              "       [1, 0, 1, 0, 1, 0, 1, 0],\n",
              "       [0, 1, 0, 1, 0, 1, 0, 1],\n",
              "       [1, 0, 1, 0, 1, 0, 1, 0],\n",
              "       [0, 1, 0, 1, 0, 1, 0, 1],\n",
              "       [1, 0, 1, 0, 1, 0, 1, 0],\n",
              "       [0, 1, 0, 1, 0, 1, 0, 1]])"
            ]
          },
          "metadata": {},
          "execution_count": 60
        }
      ]
    },
    {
      "cell_type": "code",
      "metadata": {
        "colab": {
          "base_uri": "https://localhost:8080/"
        },
        "id": "yb2sf5XRFqJG",
        "outputId": "e7cb1f82-9577-47b1-adf5-f2e9fedb44a5"
      },
      "source": [
        "# Задание 8\n",
        "import math\n",
        "\n",
        "A = np.array([1, -0.43, 4.4, -3.45])\n",
        "z = []\n",
        "for i in A:\n",
        "  if i >= 0:\n",
        "    z.append(math.ceil(i))\n",
        "  if i < 0:\n",
        "    z.append(math.floor(i))\n",
        "z"
      ],
      "execution_count": 61,
      "outputs": [
        {
          "output_type": "execute_result",
          "data": {
            "text/plain": [
              "[1, -1, 5, -4]"
            ]
          },
          "metadata": {},
          "execution_count": 61
        }
      ]
    },
    {
      "cell_type": "code",
      "metadata": {
        "colab": {
          "base_uri": "https://localhost:8080/"
        },
        "id": "VNB492LvGgmE",
        "outputId": "34690bf2-f366-4181-d7ba-408b9ff0e536"
      },
      "source": [
        "# Задание 9\n",
        "a = np.array([9, 2, 32, 56, 12])\n",
        "b = np.array([5, 7, 15, 32, 2])\n",
        "c2 = np.intersect1d(a, b)\n",
        "c2.sort()\n",
        "c2"
      ],
      "execution_count": 70,
      "outputs": [
        {
          "output_type": "execute_result",
          "data": {
            "text/plain": [
              "array([ 2, 32])"
            ]
          },
          "metadata": {},
          "execution_count": 70
        }
      ]
    }
  ]
}