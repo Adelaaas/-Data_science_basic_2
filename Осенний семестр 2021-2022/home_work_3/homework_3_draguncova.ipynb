{
  "nbformat": 4,
  "nbformat_minor": 0,
  "metadata": {
    "colab": {
      "name": "homework_3_draguncova.ipynb",
      "provenance": []
    },
    "kernelspec": {
      "name": "python3",
      "display_name": "Python 3"
    },
    "language_info": {
      "name": "python"
    }
  },
  "cells": [
    {
      "cell_type": "markdown",
      "metadata": {
        "id": "se22txihOZGJ"
      },
      "source": [
        "\n",
        "**Задание 1.**\n",
        "  Создать матрицу размером 10х10 с 0 внутри, и 1 на границах. Например для 3х3.\n",
        "\n",
        "1 1 1\n",
        "1 0 1\n",
        "1 1 1\n",
        "Количество строк кода идеального решения: 2\n",
        "Кроме print()"
      ]
    },
    {
      "cell_type": "code",
      "metadata": {
        "id": "4gDg0bx-Z_vi"
      },
      "source": [
        "import numpy as np\n",
        "a=np.ones((10, 10))\n",
        "a[1:-1, 1:-1]=0\n",
        "print(a)"
      ],
      "execution_count": null,
      "outputs": []
    },
    {
      "cell_type": "markdown",
      "metadata": {
        "id": "G8SPtpuSOncw"
      },
      "source": [
        "**Задание 2.** \n",
        "  Создать 5x5 матрицу с 1,2,3,4 над диагональю. Все остальные элементы - 0.\n",
        "\n",
        "Количество строк кода идеального решения: 1\n",
        "Кроме print()"
      ]
    },
    {
      "cell_type": "code",
      "metadata": {
        "id": "zWKdao3PdBUn"
      },
      "source": [
        "import numpy as np\n",
        "a=np.diag([1,2,3,4], k=1)\n",
        "print(a)"
      ],
      "execution_count": null,
      "outputs": []
    },
    {
      "cell_type": "markdown",
      "metadata": {
        "id": "JgDEF4sHO2PI"
      },
      "source": [
        "**Задание 3.**\n",
        "  Создайте случайную матрицу и вычтите из каждой строки среднее. Количество строк кода идеального решения (кроме создания исходной матрицы): 1\n",
        "Кроме print()"
      ]
    },
    {
      "cell_type": "code",
      "metadata": {
        "id": "rMcD8SsXgb_A"
      },
      "source": [
        "import numpy as np\n",
        "x1=np.random.rand(5, 10)\n",
        "x=x1-x1.mean()\n",
        "print(x)"
      ],
      "execution_count": null,
      "outputs": []
    },
    {
      "cell_type": "markdown",
      "metadata": {
        "id": "dhWt3slGO8lP"
      },
      "source": [
        "\n",
        "**Задание 4.**\n",
        "\n",
        "Создать Массив размерностью (6,7). Поменять в массиве 3 строку с последней."
      ]
    },
    {
      "cell_type": "code",
      "metadata": {
        "id": "oirON1pSA3iw"
      },
      "source": [
        "import numpy as np\n",
        "a=np.random.rand(6, 7)\n",
        "b=a.copy()\n",
        "b[5]=a[2]\n",
        "b[2]=a[5]\n",
        "print(b)"
      ],
      "execution_count": null,
      "outputs": []
    },
    {
      "cell_type": "markdown",
      "metadata": {
        "id": "4-t_BnZBPAMn"
      },
      "source": [
        "**Задание 5.**\n",
        "\n",
        "Создать двумерный список и заполнить его рандомными числами. Преобразовать созданный список в NumPy массив (с типом int32)."
      ]
    },
    {
      "cell_type": "code",
      "metadata": {
        "id": "_6F0auRhJYRc"
      },
      "source": [
        "import numpy as np\n",
        "import random\n",
        "a=[]\n",
        "for i in range(5):\n",
        "  a.append([random.randint(0,1000) for _ in range(7)])\n",
        "print(\"Список: \", a)\n",
        "b = np.array(a, dtype = np.int32)\n",
        "print(\"Массив: \", b)"
      ],
      "execution_count": null,
      "outputs": []
    },
    {
      "cell_type": "markdown",
      "metadata": {
        "id": "q46N-imqPEtI"
      },
      "source": [
        "**Задание 6.**\n",
        "\n",
        "Создать массив размерностью (89, 67) и заполнить его случайными числами от -50 до 50. Посчитать количество ненулевых элементов полученного массива."
      ]
    },
    {
      "cell_type": "code",
      "metadata": {
        "id": "TqGe4IQeZcOF"
      },
      "source": [
        "import numpy as np\n",
        "import random\n",
        "a = np.random.randint(low=-50, high=50, size=(89, 67))\n",
        "print(len(a[a==0]))"
      ],
      "execution_count": null,
      "outputs": []
    },
    {
      "cell_type": "markdown",
      "metadata": {
        "id": "op3wvCNtPIe-"
      },
      "source": [
        "**Задача 7.**\n",
        "\n",
        "Считайте 2 числа: n, m.\n",
        "\n",
        "Создайте матрицу размера n*m и \"раскрасьте\" её в шахматную раскраску.\n",
        "\n",
        "0 - \"чёрное\"\n",
        "\n",
        "1 - \"белое\"\n",
        "\n",
        "Ячейка с координатами (0, 0) всегда \"чёрная\" (т.е. элемент (0, 0) равен 0). Матрицу сохраните в переменную Z."
      ]
    },
    {
      "cell_type": "code",
      "metadata": {
        "id": "nxMoylYFoZBz"
      },
      "source": [
        "import numpy as np\n",
        "n, m = map(int, input().split())\n",
        "a = np.zeros((n,m), dtype=int)\n",
        "a[1::2, ::2] = 1\n",
        "a[::2, 1::2] = 1\n",
        "a"
      ],
      "execution_count": null,
      "outputs": []
    },
    {
      "cell_type": "markdown",
      "metadata": {
        "id": "FAfwiHc0PM1o"
      },
      "source": [
        "\n",
        "**Задача 8.**\n",
        "\n",
        "Вектор A содержит float числа как больше, так и меньше нуля.\n",
        "\n",
        "Округлите их до целых и результат запишите в переменную Z. Округление должно быть \"от нуля\", т.е.:\n",
        "\n",
        "положительные числа округляем всегда вверх до целого отрицательные числа округляем всегда вниз до целого 0 остаётся 0"
      ]
    },
    {
      "cell_type": "code",
      "metadata": {
        "colab": {
          "base_uri": "https://localhost:8080/"
        },
        "id": "AQ0i3y3NOKMc",
        "outputId": "73297c9b-8e62-46b3-c388-d025c1a40888"
      },
      "source": [
        "import numpy as np\n",
        "a = np.array([1.01, -2.12, 3.75, -4.567, -8.326, -9.05, 0.123], float)\n",
        "z = np.copy(a)\n",
        "for x in range(0,len(a)):\n",
        "  if (a[x]<0):\n",
        "      z[x] = np.floor(a[x])\n",
        "  else:\n",
        "      z[x] = np.ceil(a[x])\n",
        "print(z)"
      ],
      "execution_count": 5,
      "outputs": [
        {
          "output_type": "stream",
          "name": "stdout",
          "text": [
            "[  2.  -3.   4.  -5.  -9. -10.   1.]\n"
          ]
        }
      ]
    }
  ]
}