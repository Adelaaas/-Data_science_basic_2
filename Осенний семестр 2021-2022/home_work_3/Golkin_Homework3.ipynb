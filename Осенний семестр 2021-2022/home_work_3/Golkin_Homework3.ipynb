{
  "nbformat": 4,
  "nbformat_minor": 0,
  "metadata": {
    "colab": {
      "name": "Golkin_Homework3.ipynb",
      "provenance": []
    },
    "kernelspec": {
      "name": "python3",
      "display_name": "Python 3"
    },
    "language_info": {
      "name": "python"
    }
  },
  "cells": [
    {
      "cell_type": "code",
      "metadata": {
        "id": "9sBPiF4CIGfR"
      },
      "source": [
        "#1\n",
        "a = np.ones((10,10))\n",
        "a[1:-1,1:-1] = 0\n",
        "print(Z)"
      ],
      "execution_count": null,
      "outputs": []
    },
    {
      "cell_type": "code",
      "metadata": {
        "id": "9fIa8RMFbaVP"
      },
      "source": [
        "#2\n",
        "a = np.diag(np.arange(1, 5), k=1)\n",
        "print(a)"
      ],
      "execution_count": null,
      "outputs": []
    },
    {
      "cell_type": "code",
      "metadata": {
        "id": "qxiwm1Cdcci6"
      },
      "source": [
        "#3\n",
        "a = np.random.rand(5, 10)\n",
        "a-=a.mean()\n",
        "print(a)"
      ],
      "execution_count": null,
      "outputs": []
    },
    {
      "cell_type": "code",
      "metadata": {
        "id": "vKgyIXlqhP5l"
      },
      "source": [
        "#4\n",
        "a = np.random.rand(6,7)\n",
        "b = a[2].copy()\n",
        "a[2]=a[-1]\n",
        "a[-1]= b\n",
        "print(a)"
      ],
      "execution_count": null,
      "outputs": []
    },
    {
      "cell_type": "code",
      "metadata": {
        "id": "b1AJD8NOhopm"
      },
      "source": [
        "#5\n",
        "import random\n",
        "a = [random.randint(0, 10) for i in range(10)]\n",
        "b = np.array(a,dtype='i')\n",
        "print(b, type(b))"
      ],
      "execution_count": null,
      "outputs": []
    },
    {
      "cell_type": "code",
      "metadata": {
        "id": "xEM8UHcWiyVR"
      },
      "source": [
        "#6\n",
        "a = np.random.randint(-50,50, size = (89, 67))\n",
        "print(a)"
      ],
      "execution_count": null,
      "outputs": []
    },
    {
      "cell_type": "code",
      "metadata": {
        "id": "WVuAvjXTjI9L"
      },
      "source": [
        "#7\n",
        "n = int(input())\n",
        "m = int(input())\n",
        "a = np.ones((n,m), int)\n",
        "for i in range(n):\n",
        "  for j in range(0,m,2):\n",
        "    if i%2==0: a[i][j]=0\n",
        "    else: a[i][j-1]=0\n",
        "print(a)"
      ],
      "execution_count": null,
      "outputs": []
    },
    {
      "cell_type": "code",
      "metadata": {
        "id": "ERAr_aatjJnI"
      },
      "source": [
        "#8\n",
        "a = np.array([-5.2], float)\n",
        "if a[0] > 0: a = np.ceil(a)\n",
        "elif a[0] < 0 : a = np.floor(a)\n",
        "print(a)"
      ],
      "execution_count": null,
      "outputs": []
    }
  ]
}