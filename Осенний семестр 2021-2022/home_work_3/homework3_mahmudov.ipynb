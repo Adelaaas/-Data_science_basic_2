{
  "nbformat": 4,
  "nbformat_minor": 0,
  "metadata": {
    "colab": {
      "name": "Untitled2.ipynb",
      "provenance": [],
      "collapsed_sections": []
    },
    "kernelspec": {
      "name": "python3",
      "display_name": "Python 3"
    },
    "language_info": {
      "name": "python"
    }
  },
  "cells": [
    {
      "cell_type": "code",
      "metadata": {
        "colab": {
          "base_uri": "https://localhost:8080/"
        },
        "id": "tEnaYdwO4ZVl",
        "outputId": "126ece1f-e4e4-4c3b-ba45-a71a92137ab8"
      },
      "source": [
        "#1\n",
        "import numpy as np\n",
        "\n",
        "a = np.ones((10, 10))\n",
        "a[1:-1,1:-1] = 0\n",
        "print(a)"
      ],
      "execution_count": 13,
      "outputs": [
        {
          "output_type": "stream",
          "name": "stdout",
          "text": [
            "[[1. 1. 1. 1. 1. 1. 1. 1. 1. 1.]\n",
            " [1. 0. 0. 0. 0. 0. 0. 0. 0. 1.]\n",
            " [1. 0. 0. 0. 0. 0. 0. 0. 0. 1.]\n",
            " [1. 0. 0. 0. 0. 0. 0. 0. 0. 1.]\n",
            " [1. 0. 0. 0. 0. 0. 0. 0. 0. 1.]\n",
            " [1. 0. 0. 0. 0. 0. 0. 0. 0. 1.]\n",
            " [1. 0. 0. 0. 0. 0. 0. 0. 0. 1.]\n",
            " [1. 0. 0. 0. 0. 0. 0. 0. 0. 1.]\n",
            " [1. 0. 0. 0. 0. 0. 0. 0. 0. 1.]\n",
            " [1. 1. 1. 1. 1. 1. 1. 1. 1. 1.]]\n"
          ]
        }
      ]
    },
    {
      "cell_type": "code",
      "metadata": {
        "colab": {
          "base_uri": "https://localhost:8080/"
        },
        "id": "mYMUbSrGJDzN",
        "outputId": "81718f11-5101-49dd-fa18-efc09e8c065a"
      },
      "source": [
        "#2\n",
        "a = np.diag(range(1, 5), k=-1)\n",
        "print(a)"
      ],
      "execution_count": 17,
      "outputs": [
        {
          "output_type": "stream",
          "name": "stdout",
          "text": [
            "[[0 0 0 0 0]\n",
            " [1 0 0 0 0]\n",
            " [0 2 0 0 0]\n",
            " [0 0 3 0 0]\n",
            " [0 0 0 4 0]]\n"
          ]
        }
      ]
    },
    {
      "cell_type": "code",
      "metadata": {
        "colab": {
          "base_uri": "https://localhost:8080/"
        },
        "id": "7pzlLbitJvOL",
        "outputId": "1885a8be-e370-455e-e5e2-563bce2e4a25"
      },
      "source": [
        "\n",
        "#3\n",
        "y= X - np.sum(X)\n",
        "print(X)\n",
        "print(y)"
      ],
      "execution_count": 20,
      "outputs": [
        {
          "output_type": "stream",
          "name": "stdout",
          "text": [
            "[[0.49032467 0.66362102 0.71143455 0.86566136 0.79629912 0.61464234\n",
            "  0.07640011 0.99106393 0.13571603 0.89518519]\n",
            " [0.30852857 0.23848062 0.90847535 0.57073553 0.47498776 0.03183624\n",
            "  0.84400011 0.32646296 0.44928502 0.57633291]\n",
            " [0.12495096 0.27842627 0.18944088 0.63881152 0.05630498 0.31762818\n",
            "  0.66861367 0.738902   0.9397777  0.50063799]\n",
            " [0.58355244 0.28258864 0.13976941 0.50503487 0.23820038 0.34880218\n",
            "  0.35091582 0.92712248 0.85329859 0.40560396]\n",
            " [0.28016405 0.43912322 0.10849332 0.39343235 0.42238982 0.32416652\n",
            "  0.0562426  0.35568515 0.29060826 0.15527725]]\n",
            "[[-22.39311415 -22.21981779 -22.17200426 -22.01777745 -22.0871397\n",
            "  -22.26879648 -22.80703871 -21.89237488 -22.74772278 -21.98825362]\n",
            " [-22.57491024 -22.64495819 -21.97496346 -22.31270328 -22.40845105\n",
            "  -22.85160257 -22.03943871 -22.55697585 -22.43415379 -22.3071059 ]\n",
            " [-22.75848785 -22.60501254 -22.69399794 -22.2446273  -22.82713384\n",
            "  -22.56581063 -22.21482515 -22.14453681 -21.94366111 -22.38280083]\n",
            " [-22.29988637 -22.60085017 -22.7436694  -22.37840394 -22.64523843\n",
            "  -22.53463664 -22.532523   -21.95631634 -22.03014022 -22.47783486]\n",
            " [-22.60327476 -22.4443156  -22.7749455  -22.49000646 -22.46104899\n",
            "  -22.5592723  -22.82719621 -22.52775366 -22.59283055 -22.72816156]]\n"
          ]
        }
      ]
    },
    {
      "cell_type": "code",
      "metadata": {
        "colab": {
          "base_uri": "https://localhost:8080/"
        },
        "id": "i4zN5ILXLHtK",
        "outputId": "019043bb-41ad-46cf-e0ec-226a3b2c1d33"
      },
      "source": [
        "#4-?????\n",
        "A = np.random.randint(0, 10, size=(6, 7))\n",
        "print(A)\n",
        "A[2,::]=A[5,::]\n",
        "\n",
        "print(\"A1\")\n",
        "print(A)"
      ],
      "execution_count": 50,
      "outputs": [
        {
          "output_type": "stream",
          "name": "stdout",
          "text": [
            "[[6 1 2 7 0 3 5]\n",
            " [1 8 1 1 3 5 0]\n",
            " [2 3 8 6 3 4 4]\n",
            " [5 5 0 1 0 3 7]\n",
            " [7 1 1 0 1 8 4]\n",
            " [6 0 1 4 8 8 3]]\n",
            "A1\n",
            "[[6 1 2 7 0 3 5]\n",
            " [1 8 1 1 3 5 0]\n",
            " [6 0 1 4 8 8 3]\n",
            " [5 5 0 1 0 3 7]\n",
            " [7 1 1 0 1 8 4]\n",
            " [6 0 1 4 8 8 3]]\n"
          ]
        }
      ]
    },
    {
      "cell_type": "code",
      "metadata": {
        "colab": {
          "base_uri": "https://localhost:8080/"
        },
        "id": "3iJJq9yFVfN-",
        "outputId": "ebb9edff-8bdc-44c9-d9e0-c14f1aa72dd3"
      },
      "source": [
        "#5\n",
        "listx = []\n",
        "for i in range(3):\n",
        "  listx.append([])\n",
        "  for q in range(6):\n",
        "    listx[i].append(np.random.randint(0, 10))\n",
        "\n",
        "arr = np.array(np.int32(list), int)\n",
        "print(arr)"
      ],
      "execution_count": 54,
      "outputs": [
        {
          "output_type": "stream",
          "name": "stdout",
          "text": [
            "[[4 0 4 6 5 6]\n",
            " [6 3 6 8 7 9]\n",
            " [3 7 6 9 1 1]]\n"
          ]
        }
      ]
    },
    {
      "cell_type": "code",
      "metadata": {
        "colab": {
          "base_uri": "https://localhost:8080/"
        },
        "id": "8jEzumlsXH3O",
        "outputId": "2f9574e8-7d0b-4754-8a2c-cb82cf0ccaad"
      },
      "source": [
        "#6\n",
        "A = np.random.randint(-50, 50, size=(89, 67))\n",
        "x=np.array([A != 0], int).sum()\n",
        "print(x)"
      ],
      "execution_count": 81,
      "outputs": [
        {
          "output_type": "stream",
          "name": "stdout",
          "text": [
            "5883\n"
          ]
        }
      ]
    },
    {
      "cell_type": "code",
      "metadata": {
        "colab": {
          "base_uri": "https://localhost:8080/"
        },
        "id": "Gnj-ui0Cas_b",
        "outputId": "a0837f9d-0875-4b16-8306-a6af92823c8a"
      },
      "source": [
        "#7\n",
        "\n",
        "n = int(input())\n",
        "m = int(input())\n",
        "x = np.ones((n,m))\n",
        "x[0,0]=1\n",
        "for i in range(n):\n",
        "  for j in range(0,m,2):\n",
        "    a = int(i % 2)\n",
        "    if (j + a < m):\n",
        "      x[i, j + a] = 0\n",
        "print(x)"
      ],
      "execution_count": 86,
      "outputs": [
        {
          "output_type": "stream",
          "name": "stdout",
          "text": [
            "4\n",
            "4\n",
            "[[0. 1. 0. 1.]\n",
            " [1. 0. 1. 0.]\n",
            " [0. 1. 0. 1.]\n",
            " [1. 0. 1. 0.]]\n"
          ]
        }
      ]
    }
  ]
}