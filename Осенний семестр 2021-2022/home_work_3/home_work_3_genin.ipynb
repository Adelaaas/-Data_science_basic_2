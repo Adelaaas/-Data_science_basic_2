{
  "nbformat": 4,
  "nbformat_minor": 0,
  "metadata": {
    "colab": {
      "name": "home_work_3_genin.ipynb",
      "provenance": [],
      "collapsed_sections": []
    },
    "kernelspec": {
      "name": "python3",
      "display_name": "Python 3"
    },
    "language_info": {
      "name": "python"
    }
  },
  "cells": [
    {
      "cell_type": "code",
      "metadata": {
        "id": "8EPmhQgDzzLS"
      },
      "source": [
        "import numpy as np\n",
        "#1\n",
        "list=np.ones((10,10),int)\n",
        "list[1:9,1:9]=0\n",
        "list"
      ],
      "execution_count": null,
      "outputs": []
    },
    {
      "cell_type": "code",
      "metadata": {
        "id": "Q4_QHu9N1OXZ"
      },
      "source": [
        "#2\n",
        "list=np.diag(range(1,5),k=1)\n",
        "list"
      ],
      "execution_count": null,
      "outputs": []
    },
    {
      "cell_type": "code",
      "metadata": {
        "id": "SdTqqQ-d391F"
      },
      "source": [
        "#3\n",
        "list=np.random.rand(5,10)\n",
        "list-list.mean()"
      ],
      "execution_count": null,
      "outputs": []
    },
    {
      "cell_type": "code",
      "metadata": {
        "id": "vjhe-GoH6fqL"
      },
      "source": [
        "#4\n",
        "list=np.random.rand(6,7)\n",
        "a=np.copy(list[2, :])\n",
        "print(list)\n",
        "print(a)\n",
        "list[2, :]=list[5, :]\n",
        "list[5, :]=a\n",
        "list"
      ],
      "execution_count": null,
      "outputs": []
    },
    {
      "cell_type": "code",
      "metadata": {
        "id": "Uepz_2c79QUf"
      },
      "source": [
        "#5\n",
        "import random\n",
        "a=[]\n",
        "for i in range(5):\n",
        "   a.append([random.randint(0, 10) for j in range(5)])\n",
        "list=np.array(a,dtype=np.int32)\n",
        "list"
      ],
      "execution_count": null,
      "outputs": []
    },
    {
      "cell_type": "code",
      "metadata": {
        "id": "5GCJk6LU-RBu"
      },
      "source": [
        "#6\n",
        "list=np.random.randint(-50,51,size=(89,67))\n",
        "print(list)\n",
        "k=0\n",
        "for x in range(list.shape[0]):\n",
        "  for y in range(list.shape[1]):\n",
        "    if list[x,y]!=0:\n",
        "      k+=1"
      ],
      "execution_count": null,
      "outputs": []
    },
    {
      "cell_type": "code",
      "metadata": {
        "id": "Huh86kbe__QU"
      },
      "source": [
        "#7\n",
        "n=int(input())\n",
        "m=int(input())\n",
        "z=np.zeros((n,m),int)\n",
        "for i in range(n):\n",
        "  for k in range(m):\n",
        "    if abs(i-k)%2==1:\n",
        "      z[i,k]=1\n",
        "z\n",
        "\n"
      ],
      "execution_count": null,
      "outputs": []
    },
    {
      "cell_type": "code",
      "metadata": {
        "id": "BqqDzpPoESMA"
      },
      "source": [
        "#8\n",
        "list = np.array([0.0, 9.5, 13.3, -3.9, 368.3, 120.1, -907.0, -51.8, 16.6], float)\n",
        "for i in range(len(list)):\n",
        "  if list[i]>0: \n",
        "    list[i]=np.ceil(list[i])\n",
        "  else: \n",
        "    list[i]=np.floor(list[i])\n",
        "print(list)"
      ],
      "execution_count": null,
      "outputs": []
    },
    {
      "cell_type": "code",
      "metadata": {
        "id": "aq_WZpVoId1v"
      },
      "source": [
        "#9\n",
        "list1 = np.array([1,2,3,4,5,6,7,8,9,10])\n",
        "list2 = np.array([0,2,0,6,0,4,0,8,0])\n",
        "z = np.array([])\n",
        "for i in list1:\n",
        "  for j in list2:\n",
        "    if i == j:\n",
        "      z=np.append(z,i)\n",
        "print(np.sort(z))\n",
        "\n"
      ],
      "execution_count": null,
      "outputs": []
    }
  ]
}