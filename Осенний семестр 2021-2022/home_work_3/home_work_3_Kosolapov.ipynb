{
  "nbformat": 4,
  "nbformat_minor": 0,
  "metadata": {
    "colab": {
      "name": "Untitled6.ipynb",
      "provenance": [],
      "collapsed_sections": []
    },
    "kernelspec": {
      "name": "python3",
      "display_name": "Python 3"
    },
    "language_info": {
      "name": "python"
    }
  },
  "cells": [
    {
      "cell_type": "code",
      "metadata": {
        "colab": {
          "base_uri": "https://localhost:8080/"
        },
        "id": "uXBoPyHal2j-",
        "outputId": "d75d6322-7883-457e-a9b5-50d8232e63b5"
      },
      "source": [
        "!pip install numpy\n",
        "import numpy as np"
      ],
      "execution_count": 1,
      "outputs": [
        {
          "output_type": "stream",
          "name": "stdout",
          "text": [
            "Requirement already satisfied: numpy in /usr/local/lib/python3.7/dist-packages (1.19.5)\n"
          ]
        }
      ]
    },
    {
      "cell_type": "markdown",
      "metadata": {
        "id": "sBiNQa8zmIbX"
      },
      "source": [
        "Задача 1"
      ]
    },
    {
      "cell_type": "code",
      "metadata": {
        "id": "uhpwVdmlmK5C",
        "colab": {
          "base_uri": "https://localhost:8080/"
        },
        "outputId": "5a1f8147-0de2-42bd-9bd9-e40435ab32e4"
      },
      "source": [
        "a = np.ones((10,10))\n",
        "a[1:-1,1:-1] = 0\n",
        "a"
      ],
      "execution_count": 61,
      "outputs": [
        {
          "output_type": "execute_result",
          "data": {
            "text/plain": [
              "array([[1., 1., 1., 1., 1., 1., 1., 1., 1., 1.],\n",
              "       [1., 0., 0., 0., 0., 0., 0., 0., 0., 1.],\n",
              "       [1., 0., 0., 0., 0., 0., 0., 0., 0., 1.],\n",
              "       [1., 0., 0., 0., 0., 0., 0., 0., 0., 1.],\n",
              "       [1., 0., 0., 0., 0., 0., 0., 0., 0., 1.],\n",
              "       [1., 0., 0., 0., 0., 0., 0., 0., 0., 1.],\n",
              "       [1., 0., 0., 0., 0., 0., 0., 0., 0., 1.],\n",
              "       [1., 0., 0., 0., 0., 0., 0., 0., 0., 1.],\n",
              "       [1., 0., 0., 0., 0., 0., 0., 0., 0., 1.],\n",
              "       [1., 1., 1., 1., 1., 1., 1., 1., 1., 1.]])"
            ]
          },
          "metadata": {},
          "execution_count": 61
        }
      ]
    },
    {
      "cell_type": "markdown",
      "metadata": {
        "id": "T1IORlqBokTJ"
      },
      "source": [
        "Задача 2 (Done)"
      ]
    },
    {
      "cell_type": "code",
      "metadata": {
        "colab": {
          "base_uri": "https://localhost:8080/"
        },
        "id": "sUEiZnbVoknn",
        "outputId": "9536856f-8a40-460a-c423-3621a5a0f402"
      },
      "source": [
        "a = np.diag([1,2,3,4], 1)\n",
        "for i in a"
      ],
      "execution_count": null,
      "outputs": [
        {
          "output_type": "execute_result",
          "data": {
            "text/plain": [
              "array([[0, 1, 0, 0, 0],\n",
              "       [0, 0, 2, 0, 0],\n",
              "       [0, 0, 0, 3, 0],\n",
              "       [0, 0, 0, 0, 4],\n",
              "       [0, 0, 0, 0, 0]])"
            ]
          },
          "metadata": {},
          "execution_count": 12
        }
      ]
    },
    {
      "cell_type": "markdown",
      "metadata": {
        "id": "_1EwN_8FrMFn"
      },
      "source": [
        "Задача 3 (Done)"
      ]
    },
    {
      "cell_type": "code",
      "metadata": {
        "colab": {
          "base_uri": "https://localhost:8080/"
        },
        "id": "TaPGbAG1rMa0",
        "outputId": "407c8741-14e7-4401-ad38-5f886fd73f7b"
      },
      "source": [
        "x = np.random.rand(5, 10)\n",
        "a = 0\n",
        "m = x.mean()\n",
        "for i in x:\n",
        "  x[a] = i.mean() - m\n",
        "  a += 1\n",
        "print(x)"
      ],
      "execution_count": 21,
      "outputs": [
        {
          "output_type": "stream",
          "name": "stdout",
          "text": [
            "[[ 0.14254203  0.14254203  0.14254203  0.14254203  0.14254203  0.14254203\n",
            "   0.14254203  0.14254203  0.14254203  0.14254203]\n",
            " [-0.05633849 -0.05633849 -0.05633849 -0.05633849 -0.05633849 -0.05633849\n",
            "  -0.05633849 -0.05633849 -0.05633849 -0.05633849]\n",
            " [ 0.06355209  0.06355209  0.06355209  0.06355209  0.06355209  0.06355209\n",
            "   0.06355209  0.06355209  0.06355209  0.06355209]\n",
            " [-0.06260055 -0.06260055 -0.06260055 -0.06260055 -0.06260055 -0.06260055\n",
            "  -0.06260055 -0.06260055 -0.06260055 -0.06260055]\n",
            " [-0.08715508 -0.08715508 -0.08715508 -0.08715508 -0.08715508 -0.08715508\n",
            "  -0.08715508 -0.08715508 -0.08715508 -0.08715508]]\n"
          ]
        }
      ]
    },
    {
      "cell_type": "markdown",
      "metadata": {
        "id": "w3TlQVlctobC"
      },
      "source": [
        "Задача 4 (Done)"
      ]
    },
    {
      "cell_type": "code",
      "metadata": {
        "colab": {
          "base_uri": "https://localhost:8080/"
        },
        "id": "TWmUq90ktowf",
        "outputId": "f3b4e127-5524-41df-b176-83846e5852a7"
      },
      "source": [
        "a = np.random.rand(6, 7)\n",
        "b = np.copy(a)\n",
        "b"
      ],
      "execution_count": null,
      "outputs": [
        {
          "output_type": "execute_result",
          "data": {
            "text/plain": [
              "array([[0.82877269, 0.45221297, 0.08808513, 0.25891946, 0.83358724,\n",
              "        0.4276195 , 0.09861454],\n",
              "       [0.08406379, 0.1762034 , 0.59384299, 0.23098309, 0.47327198,\n",
              "        0.30199721, 0.99705732],\n",
              "       [0.39332293, 0.04617879, 0.26646708, 0.37546454, 0.87692308,\n",
              "        0.46560088, 0.01757413],\n",
              "       [0.22701831, 0.11127574, 0.98438897, 0.57952442, 0.43749989,\n",
              "        0.07400853, 0.70281242],\n",
              "       [0.0555235 , 0.53535212, 0.691234  , 0.99492271, 0.07133522,\n",
              "        0.67995146, 0.43782852],\n",
              "       [0.34508691, 0.21974082, 0.05052063, 0.8428663 , 0.49787425,\n",
              "        0.50510512, 0.91656575]])"
            ]
          },
          "metadata": {},
          "execution_count": 28
        }
      ]
    },
    {
      "cell_type": "code",
      "metadata": {
        "colab": {
          "base_uri": "https://localhost:8080/"
        },
        "id": "QFXzuyTAtOPH",
        "outputId": "fa1f7a03-cc16-47ee-c64b-956543f2652f"
      },
      "source": [
        "\n",
        "a[2] = b[5]\n",
        "a[5] = b[2]\n",
        "a"
      ],
      "execution_count": null,
      "outputs": [
        {
          "output_type": "execute_result",
          "data": {
            "text/plain": [
              "array([[0.82877269, 0.45221297, 0.08808513, 0.25891946, 0.83358724,\n",
              "        0.4276195 , 0.09861454],\n",
              "       [0.08406379, 0.1762034 , 0.59384299, 0.23098309, 0.47327198,\n",
              "        0.30199721, 0.99705732],\n",
              "       [0.34508691, 0.21974082, 0.05052063, 0.8428663 , 0.49787425,\n",
              "        0.50510512, 0.91656575],\n",
              "       [0.22701831, 0.11127574, 0.98438897, 0.57952442, 0.43749989,\n",
              "        0.07400853, 0.70281242],\n",
              "       [0.0555235 , 0.53535212, 0.691234  , 0.99492271, 0.07133522,\n",
              "        0.67995146, 0.43782852],\n",
              "       [0.39332293, 0.04617879, 0.26646708, 0.37546454, 0.87692308,\n",
              "        0.46560088, 0.01757413]])"
            ]
          },
          "metadata": {},
          "execution_count": 30
        }
      ]
    },
    {
      "cell_type": "markdown",
      "metadata": {
        "id": "AMfk7jxtwK9N"
      },
      "source": [
        "Задача 5 (Done)"
      ]
    },
    {
      "cell_type": "code",
      "metadata": {
        "id": "m8lXzvILwLSo",
        "colab": {
          "base_uri": "https://localhost:8080/"
        },
        "outputId": "038e0d6d-8ccf-4a98-dba5-f95a51e915cb"
      },
      "source": [
        "X = np.random.rand(5)\n",
        "a = X.astype('int32')\n",
        "print(a)"
      ],
      "execution_count": null,
      "outputs": [
        {
          "output_type": "stream",
          "name": "stdout",
          "text": [
            "[0 0 0 0 0]\n"
          ]
        }
      ]
    },
    {
      "cell_type": "markdown",
      "metadata": {
        "id": "WN6h_sOJ9qR4"
      },
      "source": [
        "Задача 6 (Done)"
      ]
    },
    {
      "cell_type": "code",
      "metadata": {
        "colab": {
          "base_uri": "https://localhost:8080/"
        },
        "id": "3zfgmBVt9qrq",
        "outputId": "d701486e-8c0a-4bb2-f053-13e73ba369aa"
      },
      "source": [
        "a = np.empty((89, 67), dtype = \"int8\")\n",
        "amount = 0\n",
        "for i in range(a.shape[0]):\n",
        "  for j in range(a.shape[1]):\n",
        "    a[i][j] = np.random.randint(-50, 51)\n",
        "    if a[i][j] == 0:\n",
        "      amount += 1\n",
        "print(amount)"
      ],
      "execution_count": 35,
      "outputs": [
        {
          "output_type": "stream",
          "name": "stdout",
          "text": [
            "72\n"
          ]
        }
      ]
    },
    {
      "cell_type": "markdown",
      "metadata": {
        "id": "L4o_Wucv9uun"
      },
      "source": [
        "Задача 7 (Done)"
      ]
    },
    {
      "cell_type": "code",
      "metadata": {
        "id": "kSx-gXzC9vCf",
        "colab": {
          "base_uri": "https://localhost:8080/"
        },
        "outputId": "dc42cfd5-8470-4ca7-a4c3-d6ac61dc79d2"
      },
      "source": [
        "n = int(input())\n",
        "m = int(input())\n",
        "z = np.empty((n,m))\n",
        "for i in range(n):\n",
        "  for j in range(m):\n",
        "    if np.logical_or(np.logical_and(i % 2 == 0, j % 2 == 0),np.logical_and(i % 2 == 1, j % 2 == 1)):\n",
        "      z[i][j] = 0\n",
        "    else:\n",
        "      z[i][j] = 1\n",
        "z"
      ],
      "execution_count": 41,
      "outputs": [
        {
          "name": "stdout",
          "output_type": "stream",
          "text": [
            "10\n",
            "5\n"
          ]
        },
        {
          "output_type": "execute_result",
          "data": {
            "text/plain": [
              "array([[0, 1, 0, 1, 0],\n",
              "       [1, 0, 1, 0, 1],\n",
              "       [0, 1, 0, 1, 0],\n",
              "       [1, 0, 1, 0, 1],\n",
              "       [0, 1, 0, 1, 0],\n",
              "       [1, 0, 1, 0, 1],\n",
              "       [0, 1, 0, 1, 0],\n",
              "       [1, 0, 1, 0, 1],\n",
              "       [0, 1, 0, 1, 0],\n",
              "       [1, 0, 1, 0, 1]], dtype=int8)"
            ]
          },
          "metadata": {},
          "execution_count": 41
        }
      ]
    },
    {
      "cell_type": "markdown",
      "metadata": {
        "id": "wUrAvLVZKW4-"
      },
      "source": [
        "Задача 8 (Done)"
      ]
    },
    {
      "cell_type": "code",
      "metadata": {
        "colab": {
          "base_uri": "https://localhost:8080/"
        },
        "id": "apnNQ5t1KXOm",
        "outputId": "ade8bc3f-5aea-40c0-94bc-e9550b1f12d2"
      },
      "source": [
        "x = float(input())\n",
        "y = float(input())\n",
        "z = np.array([x,y] )\n",
        "for i in range(z.shape[0]):\n",
        "  if z[i] > 0:\n",
        "    z[i] = np.ceil(z[i])\n",
        "  else:\n",
        "    z[i] = np.floor(z[i])\n",
        "z"
      ],
      "execution_count": 43,
      "outputs": [
        {
          "name": "stdout",
          "output_type": "stream",
          "text": [
            "5.5\n",
            "-4.1\n"
          ]
        },
        {
          "output_type": "execute_result",
          "data": {
            "text/plain": [
              "array([ 6., -5.])"
            ]
          },
          "metadata": {},
          "execution_count": 43
        }
      ]
    },
    {
      "cell_type": "markdown",
      "metadata": {
        "id": "xMsW12EdPvmZ"
      },
      "source": [
        "Задача 9 (Done)"
      ]
    },
    {
      "cell_type": "code",
      "metadata": {
        "colab": {
          "base_uri": "https://localhost:8080/"
        },
        "id": "l1r9ql62PwBq",
        "outputId": "814a4df3-8c22-48bb-90ee-af5181dabba8"
      },
      "source": [
        "a = np.array([1,2,3,4,6,5])\n",
        "b = np.array([4,5,6,7,8,9,10])\n",
        "z = np.array([])\n",
        "for i in a:\n",
        "  for j in b:\n",
        "    if i == j:\n",
        "      z = np.append(z, i)\n",
        "print(z)\n",
        "print(np.sort(z))"
      ],
      "execution_count": 58,
      "outputs": [
        {
          "output_type": "stream",
          "name": "stdout",
          "text": [
            "[4. 6. 5.]\n",
            "[4. 5. 6.]\n"
          ]
        }
      ]
    }
  ]
}