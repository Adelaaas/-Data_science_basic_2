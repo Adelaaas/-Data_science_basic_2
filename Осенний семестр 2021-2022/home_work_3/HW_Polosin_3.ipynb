{
  "nbformat": 4,
  "nbformat_minor": 0,
  "metadata": {
    "colab": {
      "name": "HW_Polosin_3.ipynb",
      "provenance": [],
      "collapsed_sections": []
    },
    "kernelspec": {
      "name": "python3",
      "display_name": "Python 3"
    },
    "language_info": {
      "name": "python"
    }
  },
  "cells": [
    {
      "cell_type": "code",
      "metadata": {
        "id": "wwdLNB797QqU"
      },
      "source": [
        "import numpy as np"
      ],
      "execution_count": 2,
      "outputs": []
    },
    {
      "cell_type": "code",
      "metadata": {
        "colab": {
          "base_uri": "https://localhost:8080/"
        },
        "id": "m9u6vEHt7bfM",
        "outputId": "6cbf6826-e9dc-4ae7-9e6c-e464a5c3cd0c"
      },
      "source": [
        "# task 1\n",
        "a = np.ones((10,10))\n",
        "a[1:9,1:9]=0\n",
        "print(a)"
      ],
      "execution_count": 3,
      "outputs": [
        {
          "output_type": "stream",
          "name": "stdout",
          "text": [
            "[[1. 1. 1. 1. 1. 1. 1. 1. 1. 1.]\n",
            " [1. 0. 0. 0. 0. 0. 0. 0. 0. 1.]\n",
            " [1. 0. 0. 0. 0. 0. 0. 0. 0. 1.]\n",
            " [1. 0. 0. 0. 0. 0. 0. 0. 0. 1.]\n",
            " [1. 0. 0. 0. 0. 0. 0. 0. 0. 1.]\n",
            " [1. 0. 0. 0. 0. 0. 0. 0. 0. 1.]\n",
            " [1. 0. 0. 0. 0. 0. 0. 0. 0. 1.]\n",
            " [1. 0. 0. 0. 0. 0. 0. 0. 0. 1.]\n",
            " [1. 0. 0. 0. 0. 0. 0. 0. 0. 1.]\n",
            " [1. 1. 1. 1. 1. 1. 1. 1. 1. 1.]]\n"
          ]
        }
      ]
    },
    {
      "cell_type": "code",
      "metadata": {
        "colab": {
          "base_uri": "https://localhost:8080/"
        },
        "id": "QaLAc7lJ8ewc",
        "outputId": "d567db1a-6e33-4b1e-cf50-9ac92dc84b72"
      },
      "source": [
        "# task 2\n",
        "a = np.zeros((5,5))\n",
        "for i in range(1, 5):\n",
        "  a[i-1, i] = i\n",
        "a "
      ],
      "execution_count": null,
      "outputs": [
        {
          "output_type": "execute_result",
          "data": {
            "text/plain": [
              "array([[0., 1., 0., 0., 0.],\n",
              "       [0., 0., 2., 0., 0.],\n",
              "       [0., 0., 0., 3., 0.],\n",
              "       [0., 0., 0., 0., 4.],\n",
              "       [0., 0., 0., 0., 0.]])"
            ]
          },
          "metadata": {},
          "execution_count": 12
        }
      ]
    },
    {
      "cell_type": "code",
      "metadata": {
        "id": "XU49arQD9lSB"
      },
      "source": [
        "# task 3\n",
        "X = np.random.rand(5, 10)\n",
        "for i in range(5):\n",
        "  for j in range(10):\n",
        "    X[i][j] = X[i][j] - X.mean()\n",
        "Y = X\n",
        "Y"
      ],
      "execution_count": null,
      "outputs": []
    },
    {
      "cell_type": "code",
      "metadata": {
        "id": "qZbPjmbh-8-R"
      },
      "source": [
        "# task 4\n",
        "a = np.random.rand(6, 7)\n",
        "def get_arr(arr):\n",
        "  temp = []\n",
        "  for el in arr:\n",
        "    temp.append(el)\n",
        "  temp = np.array(temp)\n",
        "  return temp\n",
        "temp_1 = get_arr(a[2])\n",
        "temp_2 = get_arr(a[5])\n",
        "a[2] = temp_2\n",
        "a[5] = temp_1\n",
        "a"
      ],
      "execution_count": null,
      "outputs": []
    },
    {
      "cell_type": "code",
      "metadata": {
        "colab": {
          "base_uri": "https://localhost:8080/"
        },
        "id": "XWhlVoSID_gx",
        "outputId": "f28bfc5d-8960-433d-b0bc-424d5e6d53de"
      },
      "source": [
        "# task 5\n",
        "import random\n",
        "a = [[random.randint(1, 100) for x in range(5)] for x in range(5)]\n",
        "a = np.array(a, dtype=np.int32)\n",
        "a\n"
      ],
      "execution_count": null,
      "outputs": [
        {
          "output_type": "execute_result",
          "data": {
            "text/plain": [
              "array([[ 92,  98,  37,  66,  89],\n",
              "       [ 75,  70,  60,  73,  60],\n",
              "       [ 84,  41, 100,  92, 100],\n",
              "       [ 99,  91,   7,  33,  16],\n",
              "       [  9,  61,   9,  34,  15]], dtype=int32)"
            ]
          },
          "metadata": {},
          "execution_count": 56
        }
      ]
    },
    {
      "cell_type": "code",
      "metadata": {
        "colab": {
          "base_uri": "https://localhost:8080/"
        },
        "id": "hzy8Gt6k-BxH",
        "outputId": "d0dad878-559b-4234-b74d-1b5a6ec213f0"
      },
      "source": [
        "# task 6\n",
        "a = np.random.randint(-50, 50, (89, 67))\n",
        "cnt = 0\n",
        "for i in range(89):\n",
        "  for j in range(67):\n",
        "    if a[i][j] != 0:\n",
        "      cnt += 1\n",
        "cnt"
      ],
      "execution_count": null,
      "outputs": [
        {
          "output_type": "execute_result",
          "data": {
            "text/plain": [
              "5897"
            ]
          },
          "metadata": {},
          "execution_count": 73
        }
      ]
    },
    {
      "cell_type": "code",
      "metadata": {
        "id": "bDCivh9SGePa",
        "colab": {
          "base_uri": "https://localhost:8080/"
        },
        "outputId": "fb672d81-5f3b-4222-d118-60c17d233a1e"
      },
      "source": [
        "#task 7\n",
        "n = int(input())\n",
        "m = int(input())\n",
        "\n",
        "c = np.ones((n,m), int)\n",
        "\n",
        "for i in range(n):\n",
        "  for j in range(0, m,2):\n",
        "    if (j+ (i % 2) < m):\n",
        "      c[i, j + (i % 2)] = 0\n",
        "\n",
        "print(c)\n",
        "\n"
      ],
      "execution_count": 21,
      "outputs": [
        {
          "output_type": "stream",
          "name": "stdout",
          "text": [
            "5\n",
            "7\n",
            "[[0 1 0 1 0 1 0]\n",
            " [1 0 1 0 1 0 1]\n",
            " [0 1 0 1 0 1 0]\n",
            " [1 0 1 0 1 0 1]\n",
            " [0 1 0 1 0 1 0]]\n"
          ]
        }
      ]
    },
    {
      "cell_type": "code",
      "metadata": {
        "colab": {
          "base_uri": "https://localhost:8080/"
        },
        "id": "pT051CMZBneZ",
        "outputId": "bf271206-e653-48eb-ad25-a987671bf4f4"
      },
      "source": [
        "# task 8\n",
        "a = np.random.rand(7) * 50 -np.random.rand(7)*50\n",
        "print(a)\n",
        "\n",
        "for i in range(a.shape[0]):\n",
        "  if a[i] > 0:\n",
        "    a[i] = np.ceil(a[i])\n",
        "  elif a[i] < 0:\n",
        "    a[i] = np.floor(a[i])\n",
        "  else:\n",
        "    a[i] = 0\n",
        "\n",
        "print(a)"
      ],
      "execution_count": 26,
      "outputs": [
        {
          "output_type": "stream",
          "name": "stdout",
          "text": [
            "[ 16.62670213 -26.11766959   6.27767023 -19.53625341  -3.48808698\n",
            " -32.60510048  13.42646902]\n",
            "[ 17. -27.   7. -20.  -4. -33.  14.]\n"
          ]
        }
      ]
    },
    {
      "cell_type": "code",
      "metadata": {
        "colab": {
          "base_uri": "https://localhost:8080/"
        },
        "id": "rYta3hXYCdk-",
        "outputId": "8292a7a6-0290-40be-da22-010a6d94ef21"
      },
      "source": [
        "a_1 = np.array(np.random.rand(7) * 10 - np.random.rand(7) * 10, int)\n",
        "a_2 = np.array(np.random.rand(7) * 10 - np.random.rand(7) * 10, int)\n",
        "Z = []\n",
        "\n",
        "for i in range(7):\n",
        "    if any(a_1 == a_2[i]):\n",
        "        Z.append(a_2[i])\n",
        "\n",
        "print(sorted(set(Z)))"
      ],
      "execution_count": 59,
      "outputs": [
        {
          "output_type": "stream",
          "name": "stdout",
          "text": [
            "[-4, 0]\n"
          ]
        }
      ]
    }
  ]
}