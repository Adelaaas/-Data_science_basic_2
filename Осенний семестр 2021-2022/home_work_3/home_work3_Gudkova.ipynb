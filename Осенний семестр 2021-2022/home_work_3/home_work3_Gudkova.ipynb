{
  "nbformat": 4,
  "nbformat_minor": 0,
  "metadata": {
    "colab": {
      "name": "home_work3_Gudkova.ipynb",
      "provenance": [],
      "collapsed_sections": []
    },
    "kernelspec": {
      "name": "python3",
      "display_name": "Python 3"
    },
    "language_info": {
      "name": "python"
    }
  },
  "cells": [
    {
      "cell_type": "code",
      "metadata": {
        "id": "nTy2uku7H5JW"
      },
      "source": [
        "import numpy as np\n",
        "import random"
      ],
      "execution_count": null,
      "outputs": []
    },
    {
      "cell_type": "code",
      "metadata": {
        "colab": {
          "base_uri": "https://localhost:8080/"
        },
        "id": "0Bmn6hdLUWHj",
        "outputId": "b1b35102-21a0-433a-fa78-e5517e3e0855"
      },
      "source": [
        "sp = np.ones((10,10))\n",
        "sp[1:-1, 1:-1] = 0\n",
        "print(sp)"
      ],
      "execution_count": null,
      "outputs": [
        {
          "output_type": "stream",
          "name": "stdout",
          "text": [
            "[[1. 1. 1. 1. 1. 1. 1. 1. 1. 1.]\n",
            " [1. 0. 0. 0. 0. 0. 0. 0. 0. 1.]\n",
            " [1. 0. 0. 0. 0. 0. 0. 0. 0. 1.]\n",
            " [1. 0. 0. 0. 0. 0. 0. 0. 0. 1.]\n",
            " [1. 0. 0. 0. 0. 0. 0. 0. 0. 1.]\n",
            " [1. 0. 0. 0. 0. 0. 0. 0. 0. 1.]\n",
            " [1. 0. 0. 0. 0. 0. 0. 0. 0. 1.]\n",
            " [1. 0. 0. 0. 0. 0. 0. 0. 0. 1.]\n",
            " [1. 0. 0. 0. 0. 0. 0. 0. 0. 1.]\n",
            " [1. 1. 1. 1. 1. 1. 1. 1. 1. 1.]]\n"
          ]
        }
      ]
    },
    {
      "cell_type": "code",
      "metadata": {
        "colab": {
          "base_uri": "https://localhost:8080/"
        },
        "id": "uiTs_NkiWvgk",
        "outputId": "22286402-ee0e-4323-c9cf-f3a7e738c57a"
      },
      "source": [
        "sp = np.diag(np.arange(1, 5), k=1)\n",
        "print(sp)"
      ],
      "execution_count": null,
      "outputs": [
        {
          "output_type": "stream",
          "name": "stdout",
          "text": [
            "[[0 1 0 0 0]\n",
            " [0 0 2 0 0]\n",
            " [0 0 0 3 0]\n",
            " [0 0 0 0 4]\n",
            " [0 0 0 0 0]]\n"
          ]
        }
      ]
    },
    {
      "cell_type": "code",
      "metadata": {
        "colab": {
          "base_uri": "https://localhost:8080/"
        },
        "id": "pJWxwQuGYT5z",
        "outputId": "1b3b2ab6-dc19-412e-a4e9-231b0f0b5437"
      },
      "source": [
        "sp = np.random.rand(5, 10)\n",
        "print(sp)"
      ],
      "execution_count": null,
      "outputs": [
        {
          "output_type": "stream",
          "name": "stdout",
          "text": [
            "[[0.34725131 0.17581617 0.2058849  0.37477157 0.53744922 0.69156073\n",
            "  0.62965617 0.05770544 0.15180814 0.79033394]\n",
            " [0.09401097 0.14267663 0.26396701 0.49045177 0.91427794 0.11355711\n",
            "  0.61973368 0.37179589 0.21569289 0.38053366]\n",
            " [0.806622   0.08422735 0.54340402 0.42008518 0.40066023 0.0633795\n",
            "  0.43148964 0.47890682 0.07084378 0.1629606 ]\n",
            " [0.21634602 0.53039769 0.89021891 0.98984102 0.17441316 0.72438917\n",
            "  0.33245026 0.06543857 0.71889049 0.51799123]\n",
            " [0.2431896  0.87468453 0.1481988  0.58581906 0.37174493 0.30207924\n",
            "  0.19643186 0.0751092  0.2906574  0.65499635]]\n"
          ]
        }
      ]
    },
    {
      "cell_type": "code",
      "metadata": {
        "colab": {
          "base_uri": "https://localhost:8080/"
        },
        "id": "Rs5C7iFVYyIT",
        "outputId": "8b099652-4523-4c58-a909-65763b3967f5"
      },
      "source": [
        "print(sp.mean(1))"
      ],
      "execution_count": null,
      "outputs": [
        {
          "output_type": "stream",
          "name": "stdout",
          "text": [
            "[0.39622376 0.36066976 0.34625791 0.51603765 0.3742911 ]\n"
          ]
        }
      ]
    },
    {
      "cell_type": "code",
      "metadata": {
        "colab": {
          "base_uri": "https://localhost:8080/"
        },
        "id": "_xAOtt9taVpD",
        "outputId": "5c0ac7aa-81fc-433b-e00e-230a308e039f"
      },
      "source": [
        "sp = np.random.rand(6, 7)\n",
        "print(sp)\n",
        "print()\n",
        "sp = sp[[0, 1, 5, 3, 4, 2], :]\n",
        "print(sp)"
      ],
      "execution_count": null,
      "outputs": [
        {
          "output_type": "stream",
          "name": "stdout",
          "text": [
            "[[0.36149922 0.99029964 0.12745038 0.44639567 0.33145973 0.55998297\n",
            "  0.66013607]\n",
            " [0.47109272 0.12452537 0.36860869 0.21493298 0.77612513 0.58487094\n",
            "  0.07210995]\n",
            " [0.47807706 0.62154507 0.93843193 0.95178997 0.27841474 0.39258679\n",
            "  0.63424693]\n",
            " [0.74079324 0.8240601  0.94250983 0.87308309 0.72811332 0.27900528\n",
            "  0.4513411 ]\n",
            " [0.31518641 0.91448969 0.88852753 0.37461954 0.39522211 0.76382058\n",
            "  0.21037776]\n",
            " [0.85656565 0.97014745 0.72391159 0.48611333 0.24815101 0.7458456\n",
            "  0.40033973]]\n",
            "\n",
            "[[0.36149922 0.99029964 0.12745038 0.44639567 0.33145973 0.55998297\n",
            "  0.66013607]\n",
            " [0.47109272 0.12452537 0.36860869 0.21493298 0.77612513 0.58487094\n",
            "  0.07210995]\n",
            " [0.85656565 0.97014745 0.72391159 0.48611333 0.24815101 0.7458456\n",
            "  0.40033973]\n",
            " [0.74079324 0.8240601  0.94250983 0.87308309 0.72811332 0.27900528\n",
            "  0.4513411 ]\n",
            " [0.31518641 0.91448969 0.88852753 0.37461954 0.39522211 0.76382058\n",
            "  0.21037776]\n",
            " [0.47807706 0.62154507 0.93843193 0.95178997 0.27841474 0.39258679\n",
            "  0.63424693]]\n"
          ]
        }
      ]
    },
    {
      "cell_type": "code",
      "metadata": {
        "colab": {
          "base_uri": "https://localhost:8080/"
        },
        "id": "k2Jc_ztkmluq",
        "outputId": "d2ebc2e2-961c-49ab-84e0-cd3009387aa8"
      },
      "source": [
        "sp = [[0]*6 for i in range(7)]\n",
        "for i in range(7):\n",
        "  for j in range(6):\n",
        "    sp[i][j] = random.randint(0, 25)\n",
        "print(sp)\n",
        "sp = np.array(sp, int)\n",
        "print(sp)"
      ],
      "execution_count": null,
      "outputs": [
        {
          "output_type": "stream",
          "name": "stdout",
          "text": [
            "[[13, 11, 4, 13, 20, 19], [21, 13, 19, 16, 22, 10], [1, 4, 20, 13, 17, 11], [23, 25, 20, 3, 21, 10], [5, 4, 22, 8, 8, 20], [15, 4, 7, 4, 23, 14], [15, 0, 1, 8, 17, 24]]\n",
            "[[13 11  4 13 20 19]\n",
            " [21 13 19 16 22 10]\n",
            " [ 1  4 20 13 17 11]\n",
            " [23 25 20  3 21 10]\n",
            " [ 5  4 22  8  8 20]\n",
            " [15  4  7  4 23 14]\n",
            " [15  0  1  8 17 24]]\n"
          ]
        }
      ]
    },
    {
      "cell_type": "code",
      "metadata": {
        "colab": {
          "base_uri": "https://localhost:8080/"
        },
        "id": "5v_Oz2Y2sMT0",
        "outputId": "50a0d856-f8f7-430f-cb15-c00fa5d766e6"
      },
      "source": [
        "sp = np.random.randint(-50, 51, (89, 67))\n",
        "sp = sp[sp != 0]\n",
        "print(len(sp))"
      ],
      "execution_count": null,
      "outputs": [
        {
          "output_type": "stream",
          "name": "stdout",
          "text": [
            "5889\n"
          ]
        }
      ]
    },
    {
      "cell_type": "code",
      "metadata": {
        "colab": {
          "base_uri": "https://localhost:8080/"
        },
        "id": "mruOL-jJyXuZ",
        "outputId": "ae0fde77-9ad5-4ccf-f3ab-ce58c95d046b"
      },
      "source": [
        "n, m = map(int, input().split())\n",
        "sp = np.ones((m, n))\n",
        "sp[0:m:2, 0:n:2] = 0\n",
        "sp[1:m-1:2, 1:n-1:2] = 0\n",
        "print(sp)"
      ],
      "execution_count": null,
      "outputs": [
        {
          "output_type": "stream",
          "name": "stdout",
          "text": [
            "7 3\n",
            "[[0. 1. 0. 1. 0. 1. 0.]\n",
            " [1. 0. 1. 0. 1. 0. 1.]\n",
            " [0. 1. 0. 1. 0. 1. 0.]]\n"
          ]
        }
      ]
    },
    {
      "cell_type": "code",
      "metadata": {
        "id": "aLBuan7H2v-k"
      },
      "source": [
        ""
      ],
      "execution_count": null,
      "outputs": []
    }
  ]
}