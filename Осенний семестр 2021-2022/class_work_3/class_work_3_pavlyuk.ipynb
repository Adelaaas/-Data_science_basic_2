{
  "nbformat": 4,
  "nbformat_minor": 0,
  "metadata": {
    "colab": {
      "name": "class_work_3_pavlyuk.ipynb",
      "provenance": [],
      "collapsed_sections": []
    },
    "kernelspec": {
      "name": "python3",
      "display_name": "Python 3"
    },
    "language_info": {
      "name": "python"
    }
  },
  "cells": [
    {
      "cell_type": "code",
      "metadata": {
        "colab": {
          "base_uri": "https://localhost:8080/"
        },
        "id": "g2wdy6TYOV9M",
        "outputId": "9deeabd4-d485-4665-ce0f-1a32ee840d3e"
      },
      "source": [
        "import numpy as np\n",
        "\n",
        "npArray = np.array([[1, 2, 3], [9, 0, 8], [7, 8, 5]], int)\n",
        "print(f'Main diagonal: {npArray[0,0]} {npArray[1,1]} {npArray[2,2]}')\n"
      ],
      "execution_count": 17,
      "outputs": [
        {
          "output_type": "stream",
          "name": "stdout",
          "text": [
            "Main diagonal: 1 0 5\n"
          ]
        }
      ]
    },
    {
      "cell_type": "code",
      "metadata": {
        "colab": {
          "base_uri": "https://localhost:8080/"
        },
        "id": "oHsLtRGpQYj5",
        "outputId": "b6726975-82d4-4729-922d-37e0e4a0207c"
      },
      "source": [
        "print(f'Second stob {npArray[1,]}')\n"
      ],
      "execution_count": 16,
      "outputs": [
        {
          "output_type": "stream",
          "name": "stdout",
          "text": [
            "Second stob [9 0 8]\n"
          ]
        }
      ]
    },
    {
      "cell_type": "code",
      "metadata": {
        "colab": {
          "base_uri": "https://localhost:8080/"
        },
        "id": "dJj0Itp5SV0f",
        "outputId": "5f3d0ca8-50ab-4865-e3f2-d80e1b10c8a7"
      },
      "source": [
        "print(npArray.shape)\n",
        "print(npArray.flatten())\n",
        "print(npArray.shape)\n",
        "npArray = npArray.flatten()\n",
        "print(npArray)\n",
        "print(npArray.shape)"
      ],
      "execution_count": 22,
      "outputs": [
        {
          "output_type": "stream",
          "name": "stdout",
          "text": [
            "(9,)\n",
            "[1 2 3 9 0 8 7 8 5]\n",
            "(9,)\n",
            "[1 2 3 9 0 8 7 8 5]\n",
            "(9,)\n"
          ]
        }
      ]
    },
    {
      "cell_type": "code",
      "metadata": {
        "colab": {
          "base_uri": "https://localhost:8080/"
        },
        "id": "4SFYzJ3jUipz",
        "outputId": "ba7e5331-1b5e-4d8b-a770-98549f1dbec1"
      },
      "source": [
        "npArray2 = np.array([[1, 2, 3], [9, 0, 8], [7, 8, 5]], int)\n",
        "for x in range(0, npArray2.shape[0]):\n",
        "  for y in range(0, npArray2.shape[1]):\n",
        "    print(npArray2[x,y])"
      ],
      "execution_count": 27,
      "outputs": [
        {
          "output_type": "stream",
          "name": "stdout",
          "text": [
            "1\n",
            "2\n",
            "3\n",
            "9\n",
            "0\n",
            "8\n",
            "7\n",
            "8\n",
            "5\n"
          ]
        }
      ]
    }
  ]
}