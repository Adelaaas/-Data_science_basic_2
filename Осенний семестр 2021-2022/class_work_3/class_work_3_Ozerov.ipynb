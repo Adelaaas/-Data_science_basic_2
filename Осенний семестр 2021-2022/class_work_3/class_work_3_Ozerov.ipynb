{
  "nbformat": 4,
  "nbformat_minor": 0,
  "metadata": {
    "colab": {
      "name": "class_work_3_Ozerov.ipynb",
      "provenance": [],
      "collapsed_sections": []
    },
    "kernelspec": {
      "name": "python3",
      "display_name": "Python 3"
    },
    "language_info": {
      "name": "python"
    }
  },
  "cells": [
    {
      "cell_type": "code",
      "metadata": {
        "colab": {
          "base_uri": "https://localhost:8080/"
        },
        "id": "vtktp8h6SVEb",
        "outputId": "386af0ef-4657-4c42-d5fe-32b8c54f829d"
      },
      "source": [
        "import numpy as np\n",
        "import numpy as np\n",
        "a = np.array([[1, 2, 3], [9, 0, 8], [7, 8, 5]], int)\n",
        "print(a[0, 0], a[1, 1], a[2, 2])"
      ],
      "execution_count": 13,
      "outputs": [
        {
          "output_type": "stream",
          "name": "stdout",
          "text": [
            "1 0 5\n"
          ]
        }
      ]
    },
    {
      "cell_type": "code",
      "metadata": {
        "colab": {
          "base_uri": "https://localhost:8080/"
        },
        "id": "99OUnkEbP-Rr",
        "outputId": "a0d8ed09-c8dc-444e-d14f-4b5d0a7877d4"
      },
      "source": [
        "import numpy as np\n",
        "a = np.array([[1,2,3], [9, 0, 8], [7, 8, 5]], int)\n",
        "print(*a[1:2:])"
      ],
      "execution_count": 21,
      "outputs": [
        {
          "output_type": "stream",
          "name": "stdout",
          "text": [
            "[4 5 6]\n"
          ]
        }
      ]
    },
    {
      "cell_type": "code",
      "metadata": {
        "colab": {
          "base_uri": "https://localhost:8080/"
        },
        "id": "27ubkXeRUjHN",
        "outputId": "fdceee71-d3cf-49a1-b911-388e91f38609"
      },
      "source": [
        "import numpy as np\n",
        "a = np.array([[1,2,3], [9, 0, 8], [7, 8, 5]], int)\n",
        "for i in range(a.shape[0]):\n",
        "  for j in range(a[0].shape[0]):\n",
        "    print(a[i][j], end=' ')\n",
        "  print()"
      ],
      "execution_count": 26,
      "outputs": [
        {
          "output_type": "stream",
          "name": "stdout",
          "text": [
            "1 2 3 \n",
            "9 0 8 \n",
            "7 8 5 \n"
          ]
        }
      ]
    }
  ]
}