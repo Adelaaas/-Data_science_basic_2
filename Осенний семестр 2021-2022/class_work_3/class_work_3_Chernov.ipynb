{
  "nbformat": 4,
  "nbformat_minor": 0,
  "metadata": {
    "colab": {
      "name": "class_work_3_Chernov.ipynb",
      "provenance": [],
      "collapsed_sections": []
    },
    "kernelspec": {
      "name": "python3",
      "display_name": "Python 3"
    },
    "language_info": {
      "name": "python"
    }
  },
  "cells": [
    {
      "cell_type": "code",
      "metadata": {
        "colab": {
          "base_uri": "https://localhost:8080/"
        },
        "id": "CgqX8OqxBNkq",
        "outputId": "aba995f3-b13b-43c7-e8f1-daef41acfa6e"
      },
      "source": [
        "!pip install numpy"
      ],
      "execution_count": 1,
      "outputs": [
        {
          "output_type": "stream",
          "name": "stdout",
          "text": [
            "Requirement already satisfied: numpy in /usr/local/lib/python3.7/dist-packages (1.19.5)\n"
          ]
        }
      ]
    },
    {
      "cell_type": "code",
      "metadata": {
        "id": "-TZhkI-lLG0N"
      },
      "source": [
        "import numpy as np\n",
        "from numpy import *"
      ],
      "execution_count": 4,
      "outputs": []
    },
    {
      "cell_type": "code",
      "metadata": {
        "colab": {
          "base_uri": "https://localhost:8080/"
        },
        "id": "jVp2dIt3M9Hx",
        "outputId": "00a9dee3-9cdb-478d-fc18-b2ad4bad2b61"
      },
      "source": [
        "# Задание 1\n",
        "a = np.array([[1, 2, 3], [9, 0, 8], [7, 8, 5]], int)\n",
        "print(a[0, 0], a[1, 1], a[2, 2])"
      ],
      "execution_count": 16,
      "outputs": [
        {
          "output_type": "stream",
          "name": "stdout",
          "text": [
            "1 0 5\n"
          ]
        }
      ]
    },
    {
      "cell_type": "code",
      "metadata": {
        "colab": {
          "base_uri": "https://localhost:8080/"
        },
        "id": "kt9xzSU1QDn3",
        "outputId": "91950b3a-07d5-4d42-ad4c-50fa9d975a9e"
      },
      "source": [
        "# Задание 2\n",
        "print(*a[1,:])"
      ],
      "execution_count": 17,
      "outputs": [
        {
          "output_type": "stream",
          "name": "stdout",
          "text": [
            "9 0 8\n"
          ]
        }
      ]
    },
    {
      "cell_type": "code",
      "metadata": {
        "colab": {
          "base_uri": "https://localhost:8080/"
        },
        "id": "KZWcnQc-SWSC",
        "outputId": "0c085f59-12a9-4596-8e71-6825807d5ac2"
      },
      "source": [
        "# Задание 3\n",
        "for y in range(a.shape[1]):\n",
        "  for x in range(a.shape[0]):\n",
        "    print(a[x,y])"
      ],
      "execution_count": 19,
      "outputs": [
        {
          "output_type": "stream",
          "name": "stdout",
          "text": [
            "1\n",
            "9\n",
            "7\n",
            "2\n",
            "0\n",
            "8\n",
            "3\n",
            "8\n",
            "5\n"
          ]
        }
      ]
    }
  ]
}