{
  "nbformat": 4,
  "nbformat_minor": 0,
  "metadata": {
    "colab": {
      "name": "class_work_3_makeev_jackuzi.ipynb",
      "provenance": []
    },
    "kernelspec": {
      "name": "python3",
      "display_name": "Python 3"
    },
    "language_info": {
      "name": "python"
    }
  },
  "cells": [
    {
      "cell_type": "code",
      "metadata": {
        "colab": {
          "base_uri": "https://localhost:8080/"
        },
        "id": "B-073wLVOk-X",
        "outputId": "560bc4d5-6738-4754-945c-8862e38463c9"
      },
      "source": [
        "import numpy as np\n",
        "a = np.array([[1, 2, 3], [9, 0, 8], [7, 8, 5]], int)\n",
        "print(a[0, 0], a[1, 1], a[2, 2])"
      ],
      "execution_count": 4,
      "outputs": [
        {
          "output_type": "stream",
          "name": "stdout",
          "text": [
            "1 0 5\n"
          ]
        }
      ]
    },
    {
      "cell_type": "code",
      "metadata": {
        "colab": {
          "base_uri": "https://localhost:8080/"
        },
        "id": "6R6Lz0F3QinC",
        "outputId": "b0c6a563-57bb-462e-cd04-3dbb964c8d16"
      },
      "source": [
        "import numpy as np\n",
        "a = np.array([[1, 2, 3], [9, 0, 8], [7, 8, 5]], int)\n",
        "print(a[1:2:])"
      ],
      "execution_count": 5,
      "outputs": [
        {
          "output_type": "stream",
          "name": "stdout",
          "text": [
            "[[9 0 8]]\n"
          ]
        }
      ]
    },
    {
      "cell_type": "code",
      "metadata": {
        "colab": {
          "base_uri": "https://localhost:8080/"
        },
        "id": "2DiokMjnazLg",
        "outputId": "f7de59ab-b338-4f91-b289-ac3ad6f689ca"
      },
      "source": [
        "import numpy as np\n",
        "a = np.array([[1, 2, 3], [9, 0, 8], [7, 8, 5]], int)\n",
        "for i in range(a.shape[0]):\n",
        "    for j in range(a[0].shape[0]):\n",
        "        print(a[i][j], end=' ')\n",
        "    print()"
      ],
      "execution_count": 6,
      "outputs": [
        {
          "output_type": "stream",
          "name": "stdout",
          "text": [
            "1 2 3 \n",
            "9 0 8 \n",
            "7 8 5 \n"
          ]
        }
      ]
    }
  ]
}