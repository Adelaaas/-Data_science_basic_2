{
  "nbformat": 4,
  "nbformat_minor": 0,
  "metadata": {
    "colab": {
      "name": "Titov_classwork",
      "provenance": [],
      "collapsed_sections": []
    },
    "kernelspec": {
      "name": "python3",
      "display_name": "Python 3"
    },
    "language_info": {
      "name": "python"
    }
  },
  "cells": [
    {
      "cell_type": "markdown",
      "metadata": {
        "id": "flM49aLKbYRv"
      },
      "source": [
        "Номер 1\n"
      ]
    },
    {
      "cell_type": "code",
      "metadata": {
        "colab": {
          "base_uri": "https://localhost:8080/"
        },
        "id": "zeMzpY6mOc0Y",
        "outputId": "0349697f-be0c-4dc6-c523-b41f38a204a2"
      },
      "source": [
        "import numpy as np\n",
        "a = np.array([[1, 2, 3], [4, 5, 6],[7,8,9]])\n",
        "print(a[0][0], a[1][1], a[2][2])"
      ],
      "execution_count": 17,
      "outputs": [
        {
          "output_type": "stream",
          "name": "stdout",
          "text": [
            "1 5 9\n"
          ]
        }
      ]
    },
    {
      "cell_type": "markdown",
      "metadata": {
        "id": "KN29hooXba-V"
      },
      "source": [
        "Номер 2"
      ]
    },
    {
      "cell_type": "code",
      "metadata": {
        "colab": {
          "base_uri": "https://localhost:8080/"
        },
        "id": "eLmLRglHbby9",
        "outputId": "e450cea4-d26e-45c6-bdc5-dd6bc267537f"
      },
      "source": [
        "print(a[1][0], a[1][1], a[1][2])"
      ],
      "execution_count": 18,
      "outputs": [
        {
          "output_type": "stream",
          "name": "stdout",
          "text": [
            "4 5 6\n"
          ]
        }
      ]
    },
    {
      "cell_type": "markdown",
      "metadata": {
        "id": "wEop0tT3bnwd"
      },
      "source": [
        "Номер 3"
      ]
    },
    {
      "cell_type": "code",
      "metadata": {
        "colab": {
          "base_uri": "https://localhost:8080/"
        },
        "id": "lupt74HIbpXl",
        "outputId": "126c92d5-c6d3-4122-fe82-3aaae684a0b8"
      },
      "source": [
        "for i in range(a.shape[0]):\n",
        "  for j in range(a[0].shape[0]):\n",
        "    print(a[i][j], end=' ')\n",
        "  print()"
      ],
      "execution_count": 19,
      "outputs": [
        {
          "output_type": "stream",
          "name": "stdout",
          "text": [
            "1 2 3 \n",
            "4 5 6 \n",
            "7 8 9 \n"
          ]
        }
      ]
    }
  ]
}