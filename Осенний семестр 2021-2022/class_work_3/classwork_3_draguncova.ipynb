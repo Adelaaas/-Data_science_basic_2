{
  "nbformat": 4,
  "nbformat_minor": 0,
  "metadata": {
    "colab": {
      "name": "classwork_3_draguncova.ipynb",
      "provenance": []
    },
    "kernelspec": {
      "name": "python3",
      "display_name": "Python 3"
    },
    "language_info": {
      "name": "python"
    }
  },
  "cells": [
    {
      "cell_type": "code",
      "metadata": {
        "colab": {
          "base_uri": "https://localhost:8080/"
        },
        "id": "i1-D5ftk8Hi8",
        "outputId": "52c91ce0-4845-4d76-9935-dde3ca3453c9"
      },
      "source": [
        "import numpy as np\n",
        "a = np.array([[1, 2, 3], [9, 0, 8], [7, 8, 5]], int)\n",
        "print(a[0,0], a[1, 1], a[2, 2])"
      ],
      "execution_count": null,
      "outputs": [
        {
          "output_type": "stream",
          "name": "stdout",
          "text": [
            "1 0 5\n"
          ]
        }
      ]
    },
    {
      "cell_type": "code",
      "metadata": {
        "colab": {
          "base_uri": "https://localhost:8080/"
        },
        "id": "XRZ8lzjwAJgj",
        "outputId": "cf4ad1b8-ad40-4c2b-dda5-92921de86e8d"
      },
      "source": [
        "import numpy as np\n",
        "a = np.array([[1, 2, 3], [9, 0, 8], [7, 8, 5]], int)\n",
        "print(a[:,1])"
      ],
      "execution_count": null,
      "outputs": [
        {
          "output_type": "stream",
          "name": "stdout",
          "text": [
            "[2 0 8]\n"
          ]
        }
      ]
    },
    {
      "cell_type": "code",
      "metadata": {
        "colab": {
          "base_uri": "https://localhost:8080/"
        },
        "id": "TAsSESruDKsE",
        "outputId": "3830bb55-7a80-4781-877e-432e32d68018"
      },
      "source": [
        "import numpy as np\n",
        "a = np.array([[1, 2], [3, 4], [5, 6]], int)\n",
        "for y in range(a.shape[1]):\n",
        "  for x in range(a.shape[0]):\n",
        "    print(a[x, y])"
      ],
      "execution_count": null,
      "outputs": [
        {
          "output_type": "stream",
          "name": "stdout",
          "text": [
            "1\n",
            "3\n",
            "5\n",
            "2\n",
            "4\n",
            "6\n"
          ]
        }
      ]
    }
  ]
}