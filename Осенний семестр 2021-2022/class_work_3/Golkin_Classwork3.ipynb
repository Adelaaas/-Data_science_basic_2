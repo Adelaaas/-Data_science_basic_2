{
  "nbformat": 4,
  "nbformat_minor": 0,
  "metadata": {
    "colab": {
      "name": "Golkin_Classwork3.ipynb",
      "provenance": []
    },
    "kernelspec": {
      "name": "python3",
      "display_name": "Python 3"
    },
    "language_info": {
      "name": "python"
    }
  },
  "cells": [
    {
      "cell_type": "code",
      "metadata": {
        "colab": {
          "base_uri": "https://localhost:8080/"
        },
        "id": "FNVGvPjLR-GE",
        "outputId": "77a1533a-94f6-4106-c76a-02ec79605981"
      },
      "source": [
        "import numpy as np\n",
        "a = np.array([1,2,3], int)\n",
        "b = np.array([4,5,6], int)\n",
        "c = np.array([7,8,9], int)\n",
        "print (a[0])\n",
        "print (b[1])\n",
        "print (c[2])"
      ],
      "execution_count": 1,
      "outputs": [
        {
          "output_type": "stream",
          "name": "stdout",
          "text": [
            "1\n",
            "5\n",
            "9\n"
          ]
        }
      ]
    }
  ]
}