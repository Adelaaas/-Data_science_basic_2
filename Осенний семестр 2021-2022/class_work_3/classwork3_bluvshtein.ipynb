{
  "nbformat": 4,
  "nbformat_minor": 0,
  "metadata": {
    "colab": {
      "name": "classwork3_bluvshtein.ipynb",
      "provenance": [],
      "collapsed_sections": []
    },
    "kernelspec": {
      "name": "python3",
      "display_name": "Python 3"
    },
    "language_info": {
      "name": "python"
    }
  },
  "cells": [
    {
      "cell_type": "markdown",
      "metadata": {
        "id": "hD6SiI-zdZ4E"
      },
      "source": [
        "задание 1"
      ]
    },
    {
      "cell_type": "code",
      "metadata": {
        "colab": {
          "base_uri": "https://localhost:8080/"
        },
        "id": "M0PfGXcnOZ_Q",
        "outputId": "a43144bb-7e8d-4255-903f-ace40e847e05"
      },
      "source": [
        "import numpy as np\n",
        "a=np.array([[0, 1, 2], [4, 5, 6], [7, 8, 9]], int)\n",
        "print(a[0,0], a[1,1], a[2, 2])\n",
        "\n"
      ],
      "execution_count": null,
      "outputs": [
        {
          "output_type": "stream",
          "name": "stdout",
          "text": [
            "0 5 9\n"
          ]
        }
      ]
    },
    {
      "cell_type": "markdown",
      "metadata": {
        "id": "l9fXvaU4dhh7"
      },
      "source": [
        "задание 2"
      ]
    },
    {
      "cell_type": "code",
      "metadata": {
        "colab": {
          "base_uri": "https://localhost:8080/"
        },
        "id": "oKGyOfL6bklN",
        "outputId": "7f1e080f-69c6-4bfe-9140-e64fc52a6492"
      },
      "source": [
        "print(a[:, 1])\n",
        "\n"
      ],
      "execution_count": null,
      "outputs": [
        {
          "output_type": "stream",
          "name": "stdout",
          "text": [
            "[1 5 8]\n"
          ]
        }
      ]
    },
    {
      "cell_type": "markdown",
      "metadata": {
        "id": "QQ69EGccdkah"
      },
      "source": [
        "задание 3"
      ]
    },
    {
      "cell_type": "code",
      "metadata": {
        "colab": {
          "base_uri": "https://localhost:8080/"
        },
        "id": "yY3jZLBsb6jF",
        "outputId": "affd0661-329c-4d7f-cb21-c27f60de92fb"
      },
      "source": [
        "for x in range(a.shape[0]):\n",
        "  for y in range(a.shape[0]):\n",
        "    print(a[x, y], end=' ')\n",
        "  print()"
      ],
      "execution_count": null,
      "outputs": [
        {
          "output_type": "stream",
          "name": "stdout",
          "text": [
            "0 1 2 \n",
            "4 5 6 \n",
            "7 8 9 \n"
          ]
        }
      ]
    }
  ]
}