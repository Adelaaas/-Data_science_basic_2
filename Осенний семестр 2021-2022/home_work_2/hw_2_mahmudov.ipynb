{
  "nbformat": 4,
  "nbformat_minor": 0,
  "metadata": {
    "colab": {
      "name": "Untitled1.ipynb",
      "provenance": [],
      "collapsed_sections": []
    },
    "kernelspec": {
      "name": "python3",
      "display_name": "Python 3"
    },
    "language_info": {
      "name": "python"
    }
  },
  "cells": [
    {
      "cell_type": "code",
      "metadata": {
        "colab": {
          "base_uri": "https://localhost:8080/"
        },
        "id": "KDdfOhqmqhQM",
        "outputId": "65a96e37-0592-4067-f23e-f7d99e70e28e"
      },
      "source": [
        "#1 задача\n",
        "from math import hypot\n",
        "print(\"vvedite координаты x1 y1 x2 y2\")\n",
        "x1=int(input())\n",
        "y1=int(input())\n",
        "x2=int(input(2))\n",
        "y2=int(input())\n",
        "x=(x1-x2)**2\n",
        "y=(y1-y2)**2\n",
        "dist = hypot(x, y)\n",
        "print(dist)"
      ],
      "execution_count": 13,
      "outputs": [
        {
          "output_type": "stream",
          "name": "stdout",
          "text": [
            "vvedite координаты x1 y1 x2 y2\n",
            "1\n",
            "1\n",
            "21\n",
            "1\n",
            "0.0\n"
          ]
        }
      ]
    },
    {
      "cell_type": "code",
      "metadata": {
        "colab": {
          "base_uri": "https://localhost:8080/"
        },
        "id": "7d_sK4JaxrEq",
        "outputId": "12572f76-6ebd-4017-a8e1-2ef3ab533c98"
      },
      "source": [
        "#2 задача\n",
        "def season(month):\n",
        "  if month == 12 or  month == 1 or month==1:\n",
        "      s = ('зима')\n",
        "  elif 3 <= month <= 5:\n",
        "      s = ('весна')\n",
        "  elif 6 <= month <= 8:\n",
        "      s = ('лето')\n",
        "  elif 9 <= month <= 11:\n",
        "      s = ('осень')\n",
        "  return(s)\n",
        "a = int(input())\n",
        "print(season(a))\n"
      ],
      "execution_count": 14,
      "outputs": [
        {
          "output_type": "stream",
          "name": "stdout",
          "text": [
            "4\n",
            "весна\n"
          ]
        }
      ]
    },
    {
      "cell_type": "code",
      "metadata": {
        "colab": {
          "base_uri": "https://localhost:8080/"
        },
        "id": "WWIJJpkLvfI7",
        "outputId": "77584f63-5a45-44f5-9cef-25a7e392694b"
      },
      "source": [
        "#3 задача\n",
        "def Is_prime(n):\n",
        "    d =int(2)\n",
        "    while n % d != 0:\n",
        "        d += 1\n",
        "    return d == n\n",
        "a=int(input())\n",
        "print(Is_prime(a))"
      ],
      "execution_count": 18,
      "outputs": [
        {
          "output_type": "stream",
          "name": "stdout",
          "text": [
            "3\n",
            "3\n"
          ]
        }
      ]
    },
    {
      "cell_type": "code",
      "metadata": {
        "colab": {
          "base_uri": "https://localhost:8080/"
        },
        "id": "Lf-9eE2nvBTN",
        "outputId": "530e8ea1-f7b1-42f9-c17a-ba0421c0890c"
      },
      "source": [
        "# 4 задача\n",
        "lst=[1, 2, 3, 4]\n",
        "def reverse_list(x):\n",
        "  x = list(reversed(x))\n",
        "  return(x)\n",
        "print(reverse_list(lst))\n"
      ],
      "execution_count": 20,
      "outputs": [
        {
          "output_type": "stream",
          "name": "stdout",
          "text": [
            "[4, 3, 2, 1]\n"
          ]
        }
      ]
    },
    {
      "cell_type": "code",
      "metadata": {
        "colab": {
          "base_uri": "https://localhost:8080/"
        },
        "id": "0Ghyk57gDI-q",
        "outputId": "1ce4d68e-d236-41c7-a3ba-d55e7320deff"
      },
      "source": [
        "#5 задача\n",
        "str=\"привет мир\"\n",
        "print(str[3:8])"
      ],
      "execution_count": 25,
      "outputs": [
        {
          "output_type": "stream",
          "name": "stdout",
          "text": [
            "вет м\n"
          ]
        }
      ]
    },
    {
      "cell_type": "code",
      "metadata": {
        "colab": {
          "base_uri": "https://localhost:8080/"
        },
        "id": "JhNH-1VMESN3",
        "outputId": "89239203-aa6c-471e-8d78-7c11275e774f"
      },
      "source": [
        "#7 задача\n",
        "\n",
        "for i in range(500):\n",
        "  if i%7==0 and (i%10==8 or (i//10)%10==8 or (i//100)%10==8):\n",
        "    print(i)\n"
      ],
      "execution_count": 31,
      "outputs": [
        {
          "output_type": "stream",
          "name": "stdout",
          "text": [
            "28\n",
            "84\n",
            "98\n",
            "168\n",
            "182\n",
            "189\n",
            "238\n",
            "280\n",
            "287\n",
            "308\n",
            "378\n",
            "385\n",
            "448\n",
            "483\n"
          ]
        }
      ]
    },
    {
      "cell_type": "code",
      "metadata": {
        "colab": {
          "base_uri": "https://localhost:8080/"
        },
        "id": "3fADPB6LGSe-",
        "outputId": "5e778315-f70c-45d7-dd62-6a9813310b54"
      },
      "source": [
        "#8 задача\n",
        "\n",
        "lst=[1, 10, 51, -51, -23]\n",
        "lt=list()\n",
        "for i in range(len(lst)):\n",
        "  if ((abs(lst[i])) >=10):\n",
        "    lt.append(lst[i])\n",
        "print(lt)"
      ],
      "execution_count": 38,
      "outputs": [
        {
          "output_type": "stream",
          "name": "stdout",
          "text": [
            "[10, 51, -51, -23]\n"
          ]
        }
      ]
    }
  ]
}