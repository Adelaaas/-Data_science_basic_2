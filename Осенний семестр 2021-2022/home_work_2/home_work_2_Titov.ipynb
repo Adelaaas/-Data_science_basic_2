{
  "nbformat": 4,
  "nbformat_minor": 0,
  "metadata": {
    "colab": {
      "name": "home_work_2_Titov.ipynb",
      "provenance": []
    },
    "kernelspec": {
      "name": "python3",
      "display_name": "Python 3"
    },
    "language_info": {
      "name": "python"
    }
  },
  "cells": [
    {
      "cell_type": "markdown",
      "metadata": {
        "id": "jsEtDxaWPHcj"
      },
      "source": [
        "Номер 1"
      ]
    },
    {
      "cell_type": "code",
      "metadata": {
        "colab": {
          "base_uri": "https://localhost:8080/"
        },
        "id": "Tx1IA_HjPS0Y",
        "outputId": "bfcbe9dd-2875-45d5-e874-e5c29ad0c905"
      },
      "source": [
        "import math\n",
        "\n",
        "\n",
        "def distance(x1, y1, x2, y2):\n",
        "    print(math.sqrt(pow((x2 - x1), 2) + pow((y2 - y1), 2)))\n",
        "x1 = float(input())\n",
        "y1 = float(input())\n",
        "x2 = float(input())\n",
        "y2 = float(input())\n",
        "distance(x1, y1, x2, y2)"
      ],
      "execution_count": null,
      "outputs": [
        {
          "output_type": "stream",
          "name": "stdout",
          "text": [
            "1\n",
            "1\n",
            "0\n",
            "1\n",
            "1.0\n"
          ]
        }
      ]
    },
    {
      "cell_type": "markdown",
      "metadata": {
        "id": "yKs5c92rYXoU"
      },
      "source": [
        "Номер 2"
      ]
    },
    {
      "cell_type": "code",
      "metadata": {
        "colab": {
          "base_uri": "https://localhost:8080/"
        },
        "id": "5nlmLwdCYZrs",
        "outputId": "3b2daf17-b462-469b-84df-1af0e6824f9f"
      },
      "source": [
        "s = 0\n",
        "def season(month):\n",
        "    global s\n",
        "    if month == 12 or 1 <= month <= 2:\n",
        "        s = ('зима')\n",
        "    elif 3 <= month <= 5:\n",
        "        s = ('весна')\n",
        "    elif 6 <= month <= 8:\n",
        "        s = ('лето')\n",
        "    elif 9 <= month <= 11:\n",
        "        s = ('осень')\n",
        "a = int(input())\n",
        "season(a)\n",
        "print(s)"
      ],
      "execution_count": null,
      "outputs": [
        {
          "output_type": "stream",
          "name": "stdout",
          "text": [
            "5\n",
            "весна\n"
          ]
        }
      ]
    },
    {
      "cell_type": "markdown",
      "metadata": {
        "id": "Zm5-KwCVexwZ"
      },
      "source": [
        "Номер 3"
      ]
    },
    {
      "cell_type": "code",
      "metadata": {
        "colab": {
          "base_uri": "https://localhost:8080/"
        },
        "id": "-J36qL-iezSE",
        "outputId": "517e056e-a591-4861-b221-e9f0f7a085bb"
      },
      "source": [
        "  import math\n",
        "\n",
        "\n",
        "def is_prime1(n):\n",
        "    for i in range(2, int(math.sqrt(n) + 1)):\n",
        "        if n % i == 0:\n",
        "            return False\n",
        "    return True\n",
        "print(is_prime1(int(input())))"
      ],
      "execution_count": null,
      "outputs": [
        {
          "output_type": "stream",
          "name": "stdout",
          "text": [
            "3301\n",
            "True\n"
          ]
        }
      ]
    },
    {
      "cell_type": "markdown",
      "metadata": {
        "id": "G39DD1FusYK1"
      },
      "source": [
        "Номер 4\n"
      ]
    },
    {
      "cell_type": "code",
      "metadata": {
        "id": "YFD53fY0saEs"
      },
      "source": [
        "def reverse_list(lst):\n",
        "    return lst[::-1]\n",
        "print(reverse_list([8, 1, 0, 4]))"
      ],
      "execution_count": null,
      "outputs": []
    },
    {
      "cell_type": "markdown",
      "metadata": {
        "id": "Wu8h9UqV6gFN"
      },
      "source": [
        "Номер 5"
      ]
    },
    {
      "cell_type": "code",
      "metadata": {
        "colab": {
          "base_uri": "https://localhost:8080/"
        },
        "id": "s1M3CXR06hT9",
        "outputId": "28b30177-3944-4c09-af7c-bee8debb8f76"
      },
      "source": [
        "a = 'Привет мир!'\n",
        "print(a[4:9].upper())"
      ],
      "execution_count": null,
      "outputs": [
        {
          "output_type": "stream",
          "name": "stdout",
          "text": [
            "ЕТ МИ\n"
          ]
        }
      ]
    },
    {
      "cell_type": "markdown",
      "metadata": {
        "id": "Pha4NysKBugK"
      },
      "source": [
        "Номер 6"
      ]
    },
    {
      "cell_type": "code",
      "metadata": {
        "colab": {
          "base_uri": "https://localhost:8080/"
        },
        "id": "G7dnjRrzBwBC",
        "outputId": "7d2df4de-d0cc-4816-f32d-9ec1954746c3"
      },
      "source": [
        "x = [0, 1, 2, 3, 4, 5, 6, 7, 8, 9]\n",
        "x[1::2] = reversed(x[1::2])\n",
        "print(x)"
      ],
      "execution_count": null,
      "outputs": [
        {
          "output_type": "stream",
          "name": "stdout",
          "text": [
            "[0, 9, 2, 7, 4, 5, 6, 3, 8, 1]\n"
          ]
        }
      ]
    },
    {
      "cell_type": "markdown",
      "metadata": {
        "id": "ArffhdPcBx9K"
      },
      "source": [
        "Номер 7"
      ]
    },
    {
      "cell_type": "code",
      "metadata": {
        "colab": {
          "base_uri": "https://localhost:8080/"
        },
        "id": "3whj6f_YBzVC",
        "outputId": "76e59f9e-94d7-4724-cbc4-57cbbd9a662e"
      },
      "source": [
        "for i in range(0, 500):\n",
        "    if i % 7 == 0:\n",
        "        if '8' in str(i):\n",
        "            print(i)"
      ],
      "execution_count": null,
      "outputs": [
        {
          "output_type": "stream",
          "name": "stdout",
          "text": [
            "28\n",
            "84\n",
            "98\n",
            "168\n",
            "182\n",
            "189\n",
            "238\n",
            "280\n",
            "287\n",
            "308\n",
            "378\n",
            "385\n",
            "448\n",
            "483\n"
          ]
        }
      ]
    },
    {
      "cell_type": "markdown",
      "metadata": {
        "id": "gRXepSEkDjMh"
      },
      "source": [
        "Номер 8"
      ]
    },
    {
      "cell_type": "code",
      "metadata": {
        "colab": {
          "base_uri": "https://localhost:8080/"
        },
        "id": "qq6PPP9cDlkx",
        "outputId": "750f3e13-fb5a-41e3-938d-483a2f7c895b"
      },
      "source": [
        "def more_than_five(spisok):\n",
        "    novuy_spisok = []\n",
        "    for i in spisok:\n",
        "        if abs(i) > 10:\n",
        "            novuy_spisok.append(i)\n",
        "    return novuy_spisok\n",
        "print(more_than_five([0, 10, -5, 2, 94, 1024, -1244]))"
      ],
      "execution_count": null,
      "outputs": [
        {
          "output_type": "stream",
          "name": "stdout",
          "text": [
            "[94, 1024, -1244]\n"
          ]
        }
      ]
    }
  ]
}