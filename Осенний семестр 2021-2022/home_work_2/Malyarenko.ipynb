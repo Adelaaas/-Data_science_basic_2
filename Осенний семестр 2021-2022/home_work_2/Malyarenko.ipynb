{
  "nbformat": 4,
  "nbformat_minor": 0,
  "metadata": {
    "colab": {
      "name": "Untitled1.ipynb",
      "provenance": []
    },
    "kernelspec": {
      "name": "python3",
      "display_name": "Python 3"
    },
    "language_info": {
      "name": "python"
    }
  },
  "cells": [
    {
      "cell_type": "markdown",
      "metadata": {
        "id": "aJA4dfhWdR5R"
      },
      "source": [
        "Номер 1\n"
      ]
    },
    {
      "cell_type": "code",
      "metadata": {
        "colab": {
          "base_uri": "https://localhost:8080/"
        },
        "id": "rNeUdZ27dSGQ",
        "outputId": "88297e10-1211-4787-8ab5-030f217c4dd0"
      },
      "source": [
        "import math\n",
        "def distance(x1, y1, x2, y2):\n",
        "  return (math.sqrt((x2-x1)*(x2-x1)+(y2-y1)*(y2-y1)))\n",
        "x1 = float(input())\n",
        "y1 = float(input())\n",
        "x2 = float(input())\n",
        "y2 = float(input())\n",
        "print(distance(x1,y1,x2,y2))"
      ],
      "execution_count": 4,
      "outputs": [
        {
          "output_type": "stream",
          "name": "stdout",
          "text": [
            "0\n",
            "0\n",
            "1\n",
            "1\n",
            "1.4142135623730951\n"
          ]
        }
      ]
    },
    {
      "cell_type": "markdown",
      "metadata": {
        "id": "zmXqu3zLeEGK"
      },
      "source": [
        "Номер 2"
      ]
    },
    {
      "cell_type": "code",
      "metadata": {
        "colab": {
          "base_uri": "https://localhost:8080/"
        },
        "id": "TibM8OVXeFSA",
        "outputId": "66d63d5f-17a2-4cc4-abeb-e9eb2431b6c6"
      },
      "source": [
        "month = int(input())\n",
        "s=''\n",
        "def season(month):\n",
        "  global s\n",
        "  if month==11 or month==12 or month==1: s='Winter'\n",
        "  elif 3<=month<=5: s='Spring'\n",
        "  elif 6<=month<=8: s='Summer'\n",
        "  elif 9<=month<=11: s='Autumn'\n",
        "  else: s='Number of month is incorrect'\n",
        "season(month)\n",
        "print(s)"
      ],
      "execution_count": 22,
      "outputs": [
        {
          "output_type": "stream",
          "name": "stdout",
          "text": [
            "-1\n",
            "Number of month is incorrect\n"
          ]
        }
      ]
    },
    {
      "cell_type": "markdown",
      "metadata": {
        "id": "940hnp0ifnN7"
      },
      "source": [
        "Номер 3"
      ]
    },
    {
      "cell_type": "code",
      "metadata": {
        "colab": {
          "base_uri": "https://localhost:8080/"
        },
        "id": "rIMm91KVfp6s",
        "outputId": "96c807fd-d692-487d-a2cf-131f5bc16e78"
      },
      "source": [
        "def is_prime(n):\n",
        "  k=0\n",
        "  for i in range(1,n):\n",
        "    if n%i==0: k+=1\n",
        "  if k==1: return True\n",
        "  return False\n",
        "n=int(input())\n",
        "print(is_prime(n))\n"
      ],
      "execution_count": 33,
      "outputs": [
        {
          "output_type": "stream",
          "name": "stdout",
          "text": [
            "7\n",
            "True\n"
          ]
        }
      ]
    },
    {
      "cell_type": "markdown",
      "metadata": {
        "id": "2OGWwnougZG-"
      },
      "source": [
        "Номер 4"
      ]
    },
    {
      "cell_type": "code",
      "metadata": {
        "colab": {
          "base_uri": "https://localhost:8080/"
        },
        "id": "5zlt6Ko7fx3Q",
        "outputId": "ec30b372-e1cc-4e22-cb1e-3616507fb7ac"
      },
      "source": [
        "_list = []\n",
        "list = [8,1,0,4]\n",
        "for i in reversed(range(len(list))):\n",
        "  _list.append(list[i])\n",
        "print(_list)"
      ],
      "execution_count": 35,
      "outputs": [
        {
          "output_type": "stream",
          "name": "stdout",
          "text": [
            "[4, 0, 1, 8]\n"
          ]
        }
      ]
    },
    {
      "cell_type": "markdown",
      "metadata": {
        "id": "4WSySTrlk8XT"
      },
      "source": [
        "Номер 5"
      ]
    },
    {
      "cell_type": "code",
      "metadata": {
        "colab": {
          "base_uri": "https://localhost:8080/"
        },
        "id": "WJCgAfULgzJG",
        "outputId": "4624dcd7-bf55-4857-d6e7-96d04ba12796"
      },
      "source": [
        "s = 'Привет мир!'\n",
        "for i in range(3,8):\n",
        "  print(s[i], end='')"
      ],
      "execution_count": 38,
      "outputs": [
        {
          "output_type": "stream",
          "name": "stdout",
          "text": [
            "вет м"
          ]
        }
      ]
    },
    {
      "cell_type": "markdown",
      "metadata": {
        "id": "y6EH-Fg_g0Dg"
      },
      "source": [
        "Номер 6"
      ]
    },
    {
      "cell_type": "code",
      "metadata": {
        "colab": {
          "base_uri": "https://localhost:8080/"
        },
        "id": "1xOLZaFfhmeq",
        "outputId": "29972619-bce4-4aac-ebf7-d55d44a5911a"
      },
      "source": [
        "list = [0, 1, 2, 3, 4, 5, 6, 7, 8, 9,10,11]\n",
        "list2 = list.copy()\n",
        "for i in range(1,len(list2)//2+1):\n",
        "  list2[2*i-1] = list[len(list)-len(list)%2-2*i+1]\n",
        "print(list2)\n",
        "  "
      ],
      "execution_count": 62,
      "outputs": [
        {
          "output_type": "stream",
          "name": "stdout",
          "text": [
            "[0, 11, 2, 9, 4, 7, 6, 5, 8, 3, 10, 1]\n"
          ]
        }
      ]
    },
    {
      "cell_type": "markdown",
      "metadata": {
        "id": "I1seQq76k08e"
      },
      "source": [
        "Номер 7"
      ]
    },
    {
      "cell_type": "code",
      "metadata": {
        "colab": {
          "base_uri": "https://localhost:8080/"
        },
        "id": "6sz3iZyKk2mO",
        "outputId": "a3e2ae23-68a4-4ea5-ac60-e53e85a247c7"
      },
      "source": [
        "i=0\n",
        "while n<=500:\n",
        "  n=7*i\n",
        "  temp=n\n",
        "  while temp>0:\n",
        "    if temp%10==8:\n",
        "      print(n)\n",
        "      break\n",
        "    temp/=10\n",
        "  i+=1"
      ],
      "execution_count": 49,
      "outputs": [
        {
          "output_type": "stream",
          "name": "stdout",
          "text": [
            "28\n",
            "98\n",
            "168\n",
            "238\n",
            "280\n",
            "308\n",
            "378\n",
            "448\n"
          ]
        }
      ]
    },
    {
      "cell_type": "markdown",
      "metadata": {
        "id": "3qOnX3IRmFdQ"
      },
      "source": [
        "Номер 8"
      ]
    },
    {
      "cell_type": "code",
      "metadata": {
        "colab": {
          "base_uri": "https://localhost:8080/"
        },
        "id": "aVzkrm8mmGqt",
        "outputId": "b8b32a57-9f83-4702-d767-ab4ce97c28b8"
      },
      "source": [
        "lst = [1,2,-5,-1100,2332,0,-10,-31]\n",
        "def more_than_five(lst):\n",
        "  for i in lst:\n",
        "    if i>10 or i<-10: print(i)\n",
        "more_than_five(lst)"
      ],
      "execution_count": 67,
      "outputs": [
        {
          "output_type": "stream",
          "name": "stdout",
          "text": [
            "-1100\n",
            "2332\n",
            "-31\n"
          ]
        }
      ]
    }
  ]
}