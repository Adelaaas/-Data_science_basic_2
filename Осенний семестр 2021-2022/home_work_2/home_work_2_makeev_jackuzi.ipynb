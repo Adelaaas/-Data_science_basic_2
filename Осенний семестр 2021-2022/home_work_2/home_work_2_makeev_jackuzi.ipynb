{
  "nbformat": 4,
  "nbformat_minor": 0,
  "metadata": {
    "colab": {
      "name": "home_work_2_makeev_jackuzi.ipynb",
      "provenance": []
    },
    "kernelspec": {
      "name": "python3",
      "display_name": "Python 3"
    },
    "language_info": {
      "name": "python"
    }
  },
  "cells": [
    {
      "cell_type": "code",
      "metadata": {
        "colab": {
          "base_uri": "https://localhost:8080/"
        },
        "id": "s7XQKgD8OQGU",
        "outputId": "59c78add-d94b-43e6-afd2-acf2b57b783a"
      },
      "source": [
        "#num1\n",
        "from math import sqrt\n",
        "def distance(x1, y1, x2, y2):\n",
        "    return ( sqrt((x1-x2)**2 + (y1-y2)**2) )\n",
        "x1,y1,x2,y2=map(float, input().split(' '))\n",
        "print(distance(x1, y1, x2, y2))"
      ],
      "execution_count": 4,
      "outputs": [
        {
          "output_type": "stream",
          "name": "stdout",
          "text": [
            "1 1 2 2\n",
            "1.4142135623730951\n"
          ]
        }
      ]
    },
    {
      "cell_type": "code",
      "metadata": {
        "colab": {
          "base_uri": "https://localhost:8080/"
        },
        "id": "7goEzLWSP3OS",
        "outputId": "5f8888f1-7ce9-4fc1-d6ac-93301044802e"
      },
      "source": [
        "#num2\n",
        "def season(a):\n",
        "    global s\n",
        "    if a == 12 or a == 1 or a == 2: s = 'зима'\n",
        "    if a == 3 or a == 4 or a == 5: s = 'весна'\n",
        "    if a == 6 or a == 7 or a == 8: s = 'лето'\n",
        "    if a == 9 or a == 10 or a == 11: s = 'осень'\n",
        "    return s\n",
        "print( season(int(input())) )"
      ],
      "execution_count": 14,
      "outputs": [
        {
          "output_type": "stream",
          "name": "stdout",
          "text": [
            "2\n",
            "зима\n"
          ]
        }
      ]
    },
    {
      "cell_type": "code",
      "metadata": {
        "colab": {
          "base_uri": "https://localhost:8080/"
        },
        "id": "zt19af41TFGA",
        "outputId": "1c7327bc-3f1f-4838-92cf-19f4dd63cb52"
      },
      "source": [
        "#num3\n",
        "def is_prime(a):\n",
        "    for i in range(2, a//2 + 1): \n",
        "        if a % i == 0:\n",
        "            return False\n",
        "        else: \n",
        "            return True\n",
        "print(is_prime(int(input())))"
      ],
      "execution_count": 17,
      "outputs": [
        {
          "output_type": "stream",
          "name": "stdout",
          "text": [
            "17\n",
            "True\n"
          ]
        }
      ]
    },
    {
      "cell_type": "code",
      "metadata": {
        "colab": {
          "base_uri": "https://localhost:8080/"
        },
        "id": "COiPTn4BU2c0",
        "outputId": "175aa694-95b6-47ef-9b05-e924f160501b"
      },
      "source": [
        "#num4\n",
        "def reverse_list(lst):\n",
        "    arr = lst[:: -1]\n",
        "    return arr\n",
        "print(reverse_list(input()))"
      ],
      "execution_count": 18,
      "outputs": [
        {
          "output_type": "stream",
          "name": "stdout",
          "text": [
            " 8 1 0 4\n",
            "4 0 1 8 \n"
          ]
        }
      ]
    },
    {
      "cell_type": "code",
      "metadata": {
        "colab": {
          "base_uri": "https://localhost:8080/"
        },
        "id": "cXSJpRL8V4Ia",
        "outputId": "3d65662a-d607-463b-a800-fea772cbf055"
      },
      "source": [
        "#num5\n",
        "s = 'Привет мир!'\n",
        "print(s[4: 9])"
      ],
      "execution_count": 24,
      "outputs": [
        {
          "output_type": "stream",
          "name": "stdout",
          "text": [
            "ет ми\n"
          ]
        }
      ]
    },
    {
      "cell_type": "code",
      "metadata": {
        "colab": {
          "base_uri": "https://localhost:8080/"
        },
        "id": "cmlQpCI4XABy",
        "outputId": "77922a49-e203-4ca7-d4d8-f5a316e78ac2"
      },
      "source": [
        "#num6\n",
        "s = list(input())\n",
        "s[1::2] = reversed(s[1::2])\n",
        "print(*s)"
      ],
      "execution_count": 30,
      "outputs": [
        {
          "output_type": "stream",
          "name": "stdout",
          "text": [
            "1234\n",
            "1 4 3 2\n"
          ]
        }
      ]
    },
    {
      "cell_type": "code",
      "metadata": {
        "colab": {
          "base_uri": "https://localhost:8080/"
        },
        "id": "OoC5GNIAZAUD",
        "outputId": "99a34b9f-eb4c-4a28-d8cd-ebdb75c8f05a"
      },
      "source": [
        "#num7\n",
        "for s in range(0, 500):\n",
        "    if s % 7 == 0 and '8' in str(s):\n",
        "        print(s)"
      ],
      "execution_count": 32,
      "outputs": [
        {
          "output_type": "stream",
          "name": "stdout",
          "text": [
            "28\n",
            "84\n",
            "98\n",
            "168\n",
            "182\n",
            "189\n",
            "238\n",
            "280\n",
            "287\n",
            "308\n",
            "378\n",
            "385\n",
            "448\n",
            "483\n"
          ]
        }
      ]
    },
    {
      "cell_type": "code",
      "metadata": {
        "colab": {
          "base_uri": "https://localhost:8080/"
        },
        "id": "Mo8RsYBKayx0",
        "outputId": "668a0fc6-d1cb-4606-fec0-3b6186f1f9b1"
      },
      "source": [
        "#num8\n",
        "def more_than_10(lst):\n",
        "    arr=[]\n",
        "    for i in map(float, lst.split(' ')):\n",
        "        if abs(i) > 10:\n",
        "            arr.append(i)\n",
        "    return arr\n",
        "print(more_than_10(input()))"
      ],
      "execution_count": 39,
      "outputs": [
        {
          "output_type": "stream",
          "name": "stdout",
          "text": [
            "10 45 -89\n",
            "[45.0, -89.0]\n"
          ]
        }
      ]
    }
  ]
}