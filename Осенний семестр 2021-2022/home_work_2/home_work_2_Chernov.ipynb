{
  "nbformat": 4,
  "nbformat_minor": 0,
  "metadata": {
    "colab": {
      "name": "home_work_2_Chernov.ipynb",
      "provenance": [],
      "collapsed_sections": []
    },
    "kernelspec": {
      "name": "python3",
      "display_name": "Python 3"
    },
    "language_info": {
      "name": "python"
    }
  },
  "cells": [
    {
      "cell_type": "code",
      "metadata": {
        "colab": {
          "base_uri": "https://localhost:8080/"
        },
        "id": "kjh1O-Ymnf04",
        "outputId": "331d2fe7-e353-48d6-8010-0472a4cd1abd"
      },
      "source": [
        "# Задание 1\n",
        "def distance(x1, x2, y1, y2):\n",
        "  return (abs(x1-x2)**2 + abs(y1-y2)**2)**0.5\n",
        "print(distance(float(input()), float(input()), float(input()), float(input())))"
      ],
      "execution_count": 43,
      "outputs": [
        {
          "output_type": "stream",
          "name": "stdout",
          "text": [
            "1\n",
            "2\n",
            "1\n",
            "2\n",
            "1.4142135623730951\n"
          ]
        }
      ]
    },
    {
      "cell_type": "code",
      "metadata": {
        "colab": {
          "base_uri": "https://localhost:8080/"
        },
        "id": "0pNXnId3qi4o",
        "outputId": "6e6a0cc5-3ad9-4cc1-fea2-1e0eded4b863"
      },
      "source": [
        "# Задание 2\n",
        "s = [\"зима\", \"весна\", \"лето\", \"осень\"]\n",
        "def season(month):\n",
        "  global s\n",
        "  s = s[month // 3] if month < 12 else s[0]\n",
        "season(int(input()))\n",
        "print(s)"
      ],
      "execution_count": 44,
      "outputs": [
        {
          "output_type": "stream",
          "name": "stdout",
          "text": [
            "12\n",
            "зима\n"
          ]
        }
      ]
    },
    {
      "cell_type": "code",
      "metadata": {
        "colab": {
          "base_uri": "https://localhost:8080/"
        },
        "id": "bO5J7MyXuP5U",
        "outputId": "f5da92b5-4e84-4b8c-b3ce-d1d2aac195e5"
      },
      "source": [
        "# Задание 3\n",
        "def is_prime(num):\n",
        "  for i in range(2, 33):\n",
        "    if (num % i == 0) and num != i:\n",
        "      return False\n",
        "  return True\n",
        "print(is_prime(int(input())))"
      ],
      "execution_count": 45,
      "outputs": [
        {
          "output_type": "stream",
          "name": "stdout",
          "text": [
            "89\n",
            "True\n"
          ]
        }
      ]
    },
    {
      "cell_type": "code",
      "metadata": {
        "colab": {
          "base_uri": "https://localhost:8080/"
        },
        "id": "B6K-pAXh1Xcq",
        "outputId": "22d8225d-8b8b-4bef-bbab-2945028585c0"
      },
      "source": [
        "# Задание 4\n",
        "def reverse_list(lst):\n",
        "  return lst[::-1]\n",
        "print(*reverse_list(input().split(\", \")))"
      ],
      "execution_count": 47,
      "outputs": [
        {
          "output_type": "stream",
          "name": "stdout",
          "text": [
            "8, 1, 0, 4\n",
            "4 0 1 8\n"
          ]
        }
      ]
    },
    {
      "cell_type": "code",
      "metadata": {
        "colab": {
          "base_uri": "https://localhost:8080/"
        },
        "id": "6ADPgD5o2mjv",
        "outputId": "db7ad0af-1fca-4507-82be-2902e1e240a3"
      },
      "source": [
        "# Задание 5\n",
        "print(\"Привет мир!\"[3:8].upper())"
      ],
      "execution_count": 48,
      "outputs": [
        {
          "output_type": "stream",
          "name": "stdout",
          "text": [
            "ВЕТ М\n"
          ]
        }
      ]
    },
    {
      "cell_type": "code",
      "metadata": {
        "colab": {
          "base_uri": "https://localhost:8080/"
        },
        "id": "b5vjw5Q44OY5",
        "outputId": "245b2fb4-f100-4c30-ac66-b6c94e9ae3aa"
      },
      "source": [
        "# Задание 6\n",
        "def reverse_list(lst): \n",
        "  return [[lst[::2], lst[1::2][::-1]][num % 2][num // 2] for num in range(len(lst))]\n",
        "print(*reverse_list(input().split(\", \")))"
      ],
      "execution_count": 57,
      "outputs": [
        {
          "output_type": "stream",
          "name": "stdout",
          "text": [
            "0, 1, 2, 3, 4, 5, 6, 7, 8, 9\n",
            "0 9 2 7 4 5 6 3 8 1\n"
          ]
        }
      ]
    },
    {
      "cell_type": "code",
      "metadata": {
        "colab": {
          "base_uri": "https://localhost:8080/"
        },
        "id": "hldbaGh23etD",
        "outputId": "aec4bf39-23f0-49a8-a534-e8f9f9ff197c"
      },
      "source": [
        "# Задание 7\n",
        "print(*[i for i in range(0, 501) if (i % 7 == 0 and str(i).find(\"8\") != -1)])"
      ],
      "execution_count": 58,
      "outputs": [
        {
          "output_type": "stream",
          "name": "stdout",
          "text": [
            "28 84 98 168 182 189 238 280 287 308 378 385 448 483\n"
          ]
        }
      ]
    },
    {
      "cell_type": "code",
      "metadata": {
        "colab": {
          "base_uri": "https://localhost:8080/"
        },
        "id": "fvGSHbHW6MR1",
        "outputId": "bee45e0f-9de2-4061-83b5-f652a5904e6a"
      },
      "source": [
        "# Задача 8\n",
        "def more_than_five(lst):\n",
        "  return [int(i) for i in lst if abs(int(i)) > 10]\n",
        "print(*more_than_five(input().split(\", \")))"
      ],
      "execution_count": 61,
      "outputs": [
        {
          "output_type": "stream",
          "name": "stdout",
          "text": [
            "29, 19, 0, -14, 7, -1\n",
            "29 19 -14\n"
          ]
        }
      ]
    }
  ]
}