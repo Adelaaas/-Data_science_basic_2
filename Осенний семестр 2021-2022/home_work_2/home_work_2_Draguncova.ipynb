{
  "nbformat": 4,
  "nbformat_minor": 0,
  "metadata": {
    "colab": {
      "name": "home_work_2_Draguncova.ipynb",
      "provenance": []
    },
    "kernelspec": {
      "name": "python3",
      "display_name": "Python 3"
    },
    "language_info": {
      "name": "python"
    }
  },
  "cells": [
    {
      "cell_type": "markdown",
      "metadata": {
        "id": "tM3JKEpntjNn"
      },
      "source": [
        "Даны четыре действительных числа: x1, y1, x2, y2. Напишите функцию distance(x1, y1, x2, y2), вычисляющая расстояние между точкой (x1,y1) и (x2,y2)"
      ]
    },
    {
      "cell_type": "code",
      "metadata": {
        "id": "IH-aXqxKPLK4"
      },
      "source": [
        "from math import sqrt\n",
        "def distance(x1, y1, x2, y2):\n",
        "  D=sqrt((x2-x1)**2+(y2-y1)**2)\n",
        "  print(D)"
      ],
      "execution_count": 9,
      "outputs": []
    },
    {
      "cell_type": "markdown",
      "metadata": {
        "id": "Z7N8iWeZmC7S"
      },
      "source": [
        "Задача 2.\n",
        "\n",
        "Написать функцию season(month), принимающую 1 аргумент — номер месяца (от 1 до 12), которая присваивает глобальной переменной s время года, которому этот месяц принадлежит (зима, весна, лето или осень)."
      ]
    },
    {
      "cell_type": "code",
      "metadata": {
        "id": "Z3C3sirQR1bc"
      },
      "source": [
        "def season(month):\n",
        "  if m==1 or m==2 or m==12:\n",
        "    s='Winter'\n",
        "  elif m==3 or m==4 or m==5:\n",
        "    s='Spring'\n",
        "  elif m==6 or m==7 or m==8:\n",
        "    s='Summer'\n",
        "  elif m==9 or m==10 or m==11:\n",
        "    s=\"Autumn\"\n",
        "\n",
        "\n"
      ],
      "execution_count": 26,
      "outputs": []
    },
    {
      "cell_type": "markdown",
      "metadata": {
        "id": "o_DwpfK3mIsD"
      },
      "source": [
        "Задача 3.\n",
        "\n",
        "Написать функцию is_prime, принимающую 1 аргумент — число от 0 до 1000, и возвращающую True, если оно простое, и False - иначе."
      ]
    },
    {
      "cell_type": "code",
      "metadata": {
        "id": "Aol7UfDBVw3F"
      },
      "source": [
        "def is_prime(n):\n",
        "  k=0\n",
        "  for j in range (1, 1000):\n",
        "    if n%j==0:\n",
        "      k+=1\n",
        "  if k==1:\n",
        "    flag = True \n",
        "  else:\n",
        "    flag = False\n",
        "  return flag"
      ],
      "execution_count": 30,
      "outputs": []
    },
    {
      "cell_type": "markdown",
      "metadata": {
        "id": "du6M6R8lmMOi"
      },
      "source": [
        "\n",
        "Задача 4.\n",
        "\n",
        "Написать функцию reverse_list(lst), которая принимает в качестве аргумента список и возвращаем его в перевернутом виде.\n",
        "\n",
        "Например,\n",
        "\n",
        "исходный спискок: 8, 1, 0, 4\n",
        "полученный спискок: 4, 0, 1, 8\n",
        "Использовать встроенные функции Python нельзя."
      ]
    },
    {
      "cell_type": "code",
      "metadata": {
        "id": "MeN-k8WBizsS"
      },
      "source": [
        "def reverse_list(lst):\n",
        "  print(lst[::-1])\n"
      ],
      "execution_count": 35,
      "outputs": []
    },
    {
      "cell_type": "markdown",
      "metadata": {
        "id": "d_3K2z9cmAqV"
      },
      "source": [
        "\n",
        "Задача 5.\n",
        "\n",
        "Распечатайте с 4 по 8 символ фразы \"Привет мир!\" приведенные к верхнему регистру."
      ]
    },
    {
      "cell_type": "code",
      "metadata": {
        "id": "g9XkzSPgj3re"
      },
      "source": [
        "s = \"Привет мир!\"\n",
        "print(s[4:8].upper())"
      ],
      "execution_count": null,
      "outputs": []
    },
    {
      "cell_type": "markdown",
      "metadata": {
        "id": "ghvHeq_MmR66"
      },
      "source": [
        "\n",
        "Задача 6.\n",
        "\n",
        "Напишите код, который все элементы массива x с нечетными индексами переставит в обратном порядке.\n",
        "\n",
        "Т.е. если x = [0, 1, 2, 3, 4, 5, 6, 7, 8, 9], то код должен получать [0, 9, 2, 7, 4, 5, 6, 3, 8, 1]"
      ]
    },
    {
      "cell_type": "code",
      "metadata": {
        "id": "vXPQIaFUkjjf"
      },
      "source": [
        "A=[int(i) for i in input().split()]\n",
        "A[1::2] = reversed(A[1::2])\n",
        "print(A)"
      ],
      "execution_count": null,
      "outputs": []
    },
    {
      "cell_type": "markdown",
      "metadata": {
        "id": "_o9z7kv4thv-"
      },
      "source": [
        ""
      ]
    },
    {
      "cell_type": "markdown",
      "metadata": {
        "id": "5S2Fif0doVMB"
      },
      "source": [
        "Задача 7.\n",
        "\n",
        "Напишите цикл, который выводит все числа от 0 до 500, делящиеся на 7, если в них есть цифра 8"
      ]
    },
    {
      "cell_type": "code",
      "metadata": {
        "id": "pG5zk1KHoibQ"
      },
      "source": [
        "for j in range(500):\n",
        "  if j%7==0 and (j%10==8 or (j//10)%10==8 or j//100%10==8):\n",
        "    print(j)"
      ],
      "execution_count": null,
      "outputs": []
    },
    {
      "cell_type": "markdown",
      "metadata": {
        "id": "Qd4arYwHobpm"
      },
      "source": [
        "Задача 8.\n",
        "\n",
        "На вход функция more_than_five(lst) получает список из целых чисел. Результатом работы функции должен стать новый список, в котором содержатся только те числа, которые больше 10 по модулю."
      ]
    },
    {
      "cell_type": "code",
      "metadata": {
        "id": "kPa2BzGVoZ2P"
      },
      "source": [
        "def more_than_five(lst):\n",
        "  A=[]\n",
        "  for j in lst:\n",
        "    if abs(j)>=10:\n",
        "      A.append(j)\n",
        "  print(A)\n"
      ],
      "execution_count": 39,
      "outputs": []
    }
  ]
}