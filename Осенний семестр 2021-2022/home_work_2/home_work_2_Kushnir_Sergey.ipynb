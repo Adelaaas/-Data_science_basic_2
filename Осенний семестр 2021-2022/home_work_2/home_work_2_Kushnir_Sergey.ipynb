{
  "nbformat": 4,
  "nbformat_minor": 0,
  "metadata": {
    "colab": {
      "name": "home_work_2_Kushnir_Sergey.ipynb",
      "provenance": []
    },
    "kernelspec": {
      "name": "python3",
      "display_name": "Python 3"
    },
    "language_info": {
      "name": "python"
    }
  },
  "cells": [
    {
      "cell_type": "code",
      "metadata": {
        "colab": {
          "base_uri": "https://localhost:8080/"
        },
        "id": "8anTl0thr-1L",
        "outputId": "b56331ce-87e1-4460-86fa-cfde5ed645af"
      },
      "source": [
        "# Задание №1\n",
        "'''Даны четыре действительных числа: x1, y1, x2, y2. Напишите функцию distance(x1, y1, x2, y2), \n",
        "вычисляющая расстояние между точкой (x1,y1) и (x2,y2).'''\n",
        "\n",
        "import math\n",
        "\n",
        "def distance(x1,y1,x2,y2):\n",
        "  S=math.sqrt((x2-x1)*(x2-x1)+(y2-y1)*(y2-y1))\n",
        "  return S\n",
        "\n",
        "x1=int(input())\n",
        "y1=int(input())\n",
        "x2=int(input())\n",
        "y2=int(input())\n",
        "print(distance(x1,y1,x2,y2))"
      ],
      "execution_count": null,
      "outputs": [
        {
          "output_type": "stream",
          "name": "stdout",
          "text": [
            "1 \n",
            "2 \n",
            "7 \n",
            "8\n",
            "8.48528137423857\n"
          ]
        }
      ]
    },
    {
      "cell_type": "code",
      "metadata": {
        "colab": {
          "base_uri": "https://localhost:8080/"
        },
        "id": "npOto_xBv8lf",
        "outputId": "0e7dcc96-6cc7-4724-c614-69e95a83e354"
      },
      "source": [
        "# Задание №2\n",
        "'''Написать функцию season(month), принимающую 1 аргумент — номер месяца (от 1 до 12), \n",
        "которая присваивает глобальной переменной s время года, которому этот месяц принадлежит (зима, весна, лето или осень).'''\n",
        "\n",
        "def season(s):\n",
        "  if (s<3 or s==12):\n",
        "    s='Зима'\n",
        "    print(s)\n",
        "  elif (s>2 and s<6):\n",
        "    s='Весна'\n",
        "    print(s)\n",
        "  elif (s>5 and s<9):\n",
        "    s='Лето'\n",
        "    print(s)\n",
        "  elif (s>8 and s<12):\n",
        "    s='Осень'\n",
        "    print(s)\n",
        " \n",
        "s = int(input())\n",
        "season(s)"
      ],
      "execution_count": null,
      "outputs": [
        {
          "output_type": "stream",
          "name": "stdout",
          "text": [
            "3\n",
            "Весна\n"
          ]
        }
      ]
    },
    {
      "cell_type": "code",
      "metadata": {
        "colab": {
          "base_uri": "https://localhost:8080/"
        },
        "id": "ZqZk82_qv9gG",
        "outputId": "2ba23663-4261-42d1-8c23-491857955ac8"
      },
      "source": [
        "# Задание №3\n",
        "'''Написать функцию is_prime, принимающую 1 аргумент — число от 0 до 1000, \n",
        "и возвращающую True, если оно простое, и False - иначе.'''\n",
        "\n",
        "def  is_prime(x):\n",
        "  i=2\n",
        "  j=1\n",
        "  while(i<x):\n",
        "    if (x%i==0):\n",
        "      print (False)\n",
        "      j=0\n",
        "      break\n",
        "    \n",
        "    i=i+1\n",
        "  if (j):\n",
        "    print(True)\n",
        "\n",
        "x=int(input())\n",
        "is_prime(x)\n"
      ],
      "execution_count": null,
      "outputs": [
        {
          "output_type": "stream",
          "name": "stdout",
          "text": [
            "5\n",
            "True\n"
          ]
        }
      ]
    },
    {
      "cell_type": "code",
      "metadata": {
        "colab": {
          "base_uri": "https://localhost:8080/"
        },
        "id": "X0fBy1DQ13uU",
        "outputId": "e1330079-e303-4c9b-8e42-edb280877412"
      },
      "source": [
        "# Задание №4\n",
        "\n",
        "'''Написать функцию reverse_list(lst), которая принимает в качестве аргумента список и возвращаем его в перевернутом виде.\n",
        "\n",
        "Например,\n",
        "\n",
        "    исходный спискок: 8, 1, 0, 4\n",
        "    полученный спискок: 4, 0, 1, 8\n",
        "\n",
        "Использовать встроенные функции Python нельзя. '''\n",
        "\n",
        "\n",
        "def reverse_list(lst):\n",
        "  test = []\n",
        "  for i in range(len(lst)-1, -1, -1):\n",
        "    test.append(lst[i])\n",
        "  return test\n",
        "\n",
        "lst = [8, 1, 0, 4]\n",
        "print(reverse_list(lst))\n"
      ],
      "execution_count": 78,
      "outputs": [
        {
          "output_type": "stream",
          "name": "stdout",
          "text": [
            "[4, 0, 1, 8]\n"
          ]
        }
      ]
    },
    {
      "cell_type": "code",
      "metadata": {
        "id": "1RpqrGqsBKpE"
      },
      "source": [
        ""
      ],
      "execution_count": null,
      "outputs": []
    },
    {
      "cell_type": "code",
      "metadata": {
        "colab": {
          "base_uri": "https://localhost:8080/"
        },
        "id": "J8EC1nmt16KM",
        "outputId": "02e8e7ae-9493-48fa-f683-c9c1ad9d037c"
      },
      "source": [
        "# Задание №5\n",
        "\n",
        "'''Распечатайте с 4 по 8 символ фразы \"Привет мир!\" приведенные к верхнему регистру.'''\n",
        "\n",
        "fraza='Привет мир!'\n",
        "fraza2=fraza.upper()\n",
        "print(fraza2[3:8:1])\n",
        "\n"
      ],
      "execution_count": null,
      "outputs": [
        {
          "output_type": "stream",
          "name": "stdout",
          "text": [
            "ВЕТ М\n"
          ]
        }
      ]
    },
    {
      "cell_type": "code",
      "metadata": {
        "colab": {
          "base_uri": "https://localhost:8080/"
        },
        "id": "7K3EE8ND17Wd",
        "outputId": "e3969c68-b407-4082-8e83-6caad32c21c5"
      },
      "source": [
        "# Задание №6\n",
        "\n",
        "'''Напишите код, который все элементы массива x с нечетными индексами переставит в обратном порядке.\n",
        "Т.е. если x = [0, 1, 2, 3, 4, 5, 6, 7, 8, 9], то код должен получать [0, 9, 2, 7, 4, 5, 6, 3, 8, 1]'''\n",
        "\n",
        "x = [0, 1, 2, 3, 4, 5, 6, 7, 8, 9]\n",
        "if (len(x) % 2 == 0):\n",
        "  for i in range(1, len(x), 2):\n",
        "    for j in range(i, len(x), 2):\n",
        "      print(x)\n",
        "      x[i], x[j]=x[j], x[i]\n",
        "\n",
        "print(x)"
      ],
      "execution_count": 89,
      "outputs": [
        {
          "output_type": "stream",
          "name": "stdout",
          "text": [
            "[0, 1, 2, 3, 4, 5, 6, 7, 8, 9]\n",
            "[0, 1, 2, 3, 4, 5, 6, 7, 8, 9]\n",
            "[0, 3, 2, 1, 4, 5, 6, 7, 8, 9]\n",
            "[0, 5, 2, 1, 4, 3, 6, 7, 8, 9]\n",
            "[0, 7, 2, 1, 4, 3, 6, 5, 8, 9]\n",
            "[0, 9, 2, 1, 4, 3, 6, 5, 8, 7]\n",
            "[0, 9, 2, 1, 4, 3, 6, 5, 8, 7]\n",
            "[0, 9, 2, 3, 4, 1, 6, 5, 8, 7]\n",
            "[0, 9, 2, 5, 4, 1, 6, 3, 8, 7]\n",
            "[0, 9, 2, 7, 4, 1, 6, 3, 8, 5]\n",
            "[0, 9, 2, 7, 4, 1, 6, 3, 8, 5]\n",
            "[0, 9, 2, 7, 4, 3, 6, 1, 8, 5]\n",
            "[0, 9, 2, 7, 4, 5, 6, 1, 8, 3]\n",
            "[0, 9, 2, 7, 4, 5, 6, 1, 8, 3]\n",
            "[0, 9, 2, 7, 4, 5, 6, 3, 8, 1]\n",
            "[0, 9, 2, 7, 4, 5, 6, 3, 8, 1]\n"
          ]
        }
      ]
    },
    {
      "cell_type": "code",
      "metadata": {
        "colab": {
          "base_uri": "https://localhost:8080/"
        },
        "id": "_lUDnkcq18TL",
        "outputId": "f23b9331-9ea5-4b79-8d38-c08186dd0ed8"
      },
      "source": [
        "# Задание №7\n",
        "\n",
        "'''Напишите цикл, который выводит все числа от 0 до 500, \n",
        "делящиеся на 7, если в них есть цифра 8.'''\n",
        "\n",
        "y=0\n",
        "while (y<=500):\n",
        "    if (y%7==0):\n",
        "        x=y\n",
        "        while(x>0):\n",
        "            if x%10==8:\n",
        "                print(y)\n",
        "            break\n",
        "        x//10\n",
        "    y=y+1\n",
        "  \n"
      ],
      "execution_count": null,
      "outputs": [
        {
          "output_type": "stream",
          "name": "stdout",
          "text": [
            "28\n",
            "98\n",
            "168\n",
            "238\n",
            "308\n",
            "378\n",
            "448\n"
          ]
        }
      ]
    },
    {
      "cell_type": "code",
      "metadata": {
        "colab": {
          "base_uri": "https://localhost:8080/"
        },
        "id": "rmWdiywn1-WM",
        "outputId": "257df7e6-7315-4ba3-ae1d-06d7e2232a07"
      },
      "source": [
        "# Задание №8\n",
        "\n",
        "'''На вход функция more_than_five(lst) получает список из целых чисел. \n",
        "Результатом работы функции должен стать новый список,в котором \n",
        "содержатся только те числа, которые больше 10 по модулю.'''\n",
        "\n",
        "def  more_than_five(lst):\n",
        "  test=[]\n",
        "  for i in lst:\n",
        "    if 10<abs(i):\n",
        "      test.append(i)\n",
        "  print(test)\n",
        "\n",
        "\n",
        "arr=[2, 45, 45, 2, -3, 0, -11, -4, 9]\n",
        "more_than_five(arr)\n"
      ],
      "execution_count": null,
      "outputs": [
        {
          "output_type": "stream",
          "name": "stdout",
          "text": [
            "[45, 45, -11]\n"
          ]
        }
      ]
    }
  ]
}