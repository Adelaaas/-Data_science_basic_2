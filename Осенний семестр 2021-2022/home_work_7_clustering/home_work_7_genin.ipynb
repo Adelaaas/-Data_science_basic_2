{
  "nbformat": 4,
  "nbformat_minor": 0,
  "metadata": {
    "colab": {
      "name": "home_work_7_genin.ipynb",
      "provenance": []
    },
    "kernelspec": {
      "name": "python3",
      "display_name": "Python 3"
    },
    "language_info": {
      "name": "python"
    }
  },
  "cells": [
    {
      "cell_type": "code",
      "execution_count": null,
      "metadata": {
        "id": "1ZrpiFv-RXXd"
      },
      "outputs": [],
      "source": [
        "from google.colab import files\n",
        "uploaded=files.upload()\n",
        "import pandas as pd\n",
        "df=pd.read_csv(\"Wine.csv\")"
      ]
    },
    {
      "cell_type": "code",
      "source": [
        "sum=0\n",
        "print(\"Размерность:\",df.shape[0],\"x\",df.shape[1])\n",
        "print(\"___________\")\n",
        "print(\"Типы данных по колонкам:\")\n",
        "print(df.dtypes)\n",
        "print(\"___________\")\n",
        "for i in df.isna().sum():\n",
        "  sum+=i\n",
        "if sum==0:\n",
        "  print(\"Пропусков в данных нет\")\n",
        "else:\n",
        "  print(\"Пропуски в данных есть\")\n",
        "  print(\"Новый датафрейм:\")\n",
        "  print(df.dropna(axis=0,how=\"any\"))\n",
        "  "
      ],
      "metadata": {
        "id": "_54xuxWqSr2S"
      },
      "execution_count": null,
      "outputs": []
    },
    {
      "cell_type": "code",
      "source": [
        "from sklearn.cluster import KMeans\n",
        "import matplotlib.pyplot as plt\n",
        "#Для работы выбран наиболее важный параметр для вина - содержание алкоголя, а также наиболее заметный - насыщенность цвета, в сумме это позволяет провести корреляцию, понятную даже простому обывателю\n",
        "x=df.loc[:,['Alcohol','Color_Intensity']]"
      ],
      "metadata": {
        "id": "Nov7J10-TZ29"
      },
      "execution_count": 45,
      "outputs": []
    },
    {
      "cell_type": "code",
      "source": [
        "SSE=[]\n",
        "for k in range(1,9):\n",
        "    kmeans=KMeans(n_clusters=k)\n",
        "    kmeans.fit(x)\n",
        "    SSE.append(kmeans.inertia_)\n",
        "plt.plot(range(1,9),SSE);\n",
        "plt.xlabel('Кол-во кластеров')\n",
        "plt.ylabel('Ср. квадратичное расстояния');\n",
        "plt.show()\n",
        "#Оптимальное кол-во - 5, т.к. график выпрямляется после преодоления отметки в 5 кластеров, больше брать уже смысла не имеет"
      ],
      "metadata": {
        "id": "N9kx4soZYZQU"
      },
      "execution_count": null,
      "outputs": []
    },
    {
      "cell_type": "code",
      "source": [
        "kmeans=KMeans(n_clusters=5)\n",
        "kmeans.fit(x)\n",
        "y=kmeans.labels_\n",
        "df[\"Cluster\"]=y\n",
        "df\n",
        "#Вывод: зависимость содержания алкоголя и насыщенности цвета практически прямая, следовательно вина распределились по кластерам согласно параметру их насыщенности"
      ],
      "metadata": {
        "id": "mu73olzuZZWV"
      },
      "execution_count": null,
      "outputs": []
    },
    {
      "cell_type": "code",
      "source": [
        "plt.plot(df[df['Cluster']==0]['Alcohol'],df[df['Cluster']==0]['Color_Intensity'],'ro',label='0')\n",
        "plt.plot(df[df['Cluster']==1]['Alcohol'],df[df['Cluster']==1]['Color_Intensity'],'yo',label='1')\n",
        "plt.plot(df[df['Cluster']==2]['Alcohol'],df[df['Cluster']==2]['Color_Intensity'],'go',label='2')\n",
        "plt.plot(df[df['Cluster']==3]['Alcohol'],df[df['Cluster']==3]['Color_Intensity'],'co',label='3')\n",
        "plt.plot(df[df['Cluster']==4]['Alcohol'],df[df['Cluster']==4]['Color_Intensity'],'bo',label='4')\n",
        "plt.xlabel('Содержание алкоголя')\n",
        "plt.ylabel('Интенсивность цвета')\n",
        "plt.legend(loc=2)\n",
        "plt.show()"
      ],
      "metadata": {
        "id": "JQK8xc4RakC9"
      },
      "execution_count": null,
      "outputs": []
    }
  ]
}