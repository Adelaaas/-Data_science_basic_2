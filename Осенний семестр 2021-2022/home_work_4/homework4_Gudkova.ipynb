{
  "nbformat": 4,
  "nbformat_minor": 0,
  "metadata": {
    "colab": {
      "name": "homework4_Gudkova.ipynb",
      "provenance": [],
      "collapsed_sections": []
    },
    "kernelspec": {
      "name": "python3",
      "display_name": "Python 3"
    },
    "language_info": {
      "name": "python"
    }
  },
  "cells": [
    {
      "cell_type": "code",
      "metadata": {
        "id": "HWYOw4MAkYug"
      },
      "source": [
        "import pandas as pd\n",
        "import numpy as np"
      ],
      "execution_count": 2,
      "outputs": []
    },
    {
      "cell_type": "markdown",
      "metadata": {
        "id": "mulUFp7w0TWD"
      },
      "source": [
        "Задание 1"
      ]
    },
    {
      "cell_type": "code",
      "metadata": {
        "colab": {
          "base_uri": "https://localhost:8080/"
        },
        "id": "MSmowTYQlkQb",
        "outputId": "f810ab92-d54a-49a4-88f8-3f9462f38995"
      },
      "source": [
        "r = np.random.RandomState(1)\n",
        "s = pd.Series(r.uniform(0, 10, 100))\n",
        "print(s[s > 5].index[0])"
      ],
      "execution_count": 62,
      "outputs": [
        {
          "output_type": "stream",
          "name": "stdout",
          "text": [
            "1\n"
          ]
        }
      ]
    },
    {
      "cell_type": "markdown",
      "metadata": {
        "id": "TZoWbu1E0Vf8"
      },
      "source": [
        "Задание 2"
      ]
    },
    {
      "cell_type": "code",
      "metadata": {
        "id": "76iuSYLNuyra"
      },
      "source": [
        "df = pd.DataFrame({\n",
        "    'имя': ['Петя', 'Вася', 'Аня', 'Света'],\n",
        "    'возраст': [45, 26, 41 , 21],\n",
        "    'доход': [100000, 80000, 150000, 60000],\n",
        "    'надежность клиента (0..1)': [0.65, 0.74, 0.87, 0.68],\n",
        "    'пол': ['муж', 'муж', 'жен', 'жен']},\n",
        "    index=[0, 1, 2, 3])"
      ],
      "execution_count": 131,
      "outputs": []
    },
    {
      "cell_type": "code",
      "metadata": {
        "id": "KdN6iY3Kf3Hd"
      },
      "source": [
        "df['важность клиента'] = ['0', '0', '0', '0']\n",
        "df.iloc[0, 5] = df.iloc[0, 2]*df.iloc[0, 3]\n",
        "df.iloc[1, 5] = df.iloc[1, 2]*df.iloc[1, 3]\n",
        "df.iloc[2, 5] = df.iloc[2, 2]*df.iloc[2, 3]\n",
        "df.iloc[3, 5] = df.iloc[3, 2]*df.iloc[3, 3]"
      ],
      "execution_count": 132,
      "outputs": []
    },
    {
      "cell_type": "code",
      "metadata": {
        "colab": {
          "base_uri": "https://localhost:8080/",
          "height": 190
        },
        "id": "q3nTPxZUg05E",
        "outputId": "e5de9a74-9043-4654-983c-86cfac0d4a2e"
      },
      "source": [
        "df['возможная долгосрочность клиента'] = ['0', '0', '0', '0']\n",
        "df.iloc[0, 6] = df.iloc[0, 5]*(sum(df['возраст'])/(df.index[-1]+1)-df.iloc[0, 1])\n",
        "df.iloc[1, 6] = df.iloc[1, 5]*(sum(df['возраст'])/(df.index[-1]+1)-df.iloc[1, 1])\n",
        "df.iloc[2, 6] = df.iloc[2, 5]*(sum(df['возраст'])/(df.index[-1]+1)-df.iloc[2, 1])\n",
        "df.iloc[3, 6] = df.iloc[3, 5]*(sum(df['возраст'])/(df.index[-1]+1)-df.iloc[3, 1])\n",
        "df"
      ],
      "execution_count": 133,
      "outputs": [
        {
          "output_type": "execute_result",
          "data": {
            "text/html": [
              "<div>\n",
              "<style scoped>\n",
              "    .dataframe tbody tr th:only-of-type {\n",
              "        vertical-align: middle;\n",
              "    }\n",
              "\n",
              "    .dataframe tbody tr th {\n",
              "        vertical-align: top;\n",
              "    }\n",
              "\n",
              "    .dataframe thead th {\n",
              "        text-align: right;\n",
              "    }\n",
              "</style>\n",
              "<table border=\"1\" class=\"dataframe\">\n",
              "  <thead>\n",
              "    <tr style=\"text-align: right;\">\n",
              "      <th></th>\n",
              "      <th>имя</th>\n",
              "      <th>возраст</th>\n",
              "      <th>доход</th>\n",
              "      <th>надежность клиента (0..1)</th>\n",
              "      <th>пол</th>\n",
              "      <th>важность клиента</th>\n",
              "      <th>возможная долгосрочность клиента</th>\n",
              "    </tr>\n",
              "  </thead>\n",
              "  <tbody>\n",
              "    <tr>\n",
              "      <th>0</th>\n",
              "      <td>Петя</td>\n",
              "      <td>45</td>\n",
              "      <td>100000</td>\n",
              "      <td>0.65</td>\n",
              "      <td>муж</td>\n",
              "      <td>65000</td>\n",
              "      <td>-763750</td>\n",
              "    </tr>\n",
              "    <tr>\n",
              "      <th>1</th>\n",
              "      <td>Вася</td>\n",
              "      <td>26</td>\n",
              "      <td>80000</td>\n",
              "      <td>0.74</td>\n",
              "      <td>муж</td>\n",
              "      <td>59200</td>\n",
              "      <td>429200</td>\n",
              "    </tr>\n",
              "    <tr>\n",
              "      <th>2</th>\n",
              "      <td>Аня</td>\n",
              "      <td>41</td>\n",
              "      <td>150000</td>\n",
              "      <td>0.87</td>\n",
              "      <td>жен</td>\n",
              "      <td>130500</td>\n",
              "      <td>-1.01138e+06</td>\n",
              "    </tr>\n",
              "    <tr>\n",
              "      <th>3</th>\n",
              "      <td>Света</td>\n",
              "      <td>21</td>\n",
              "      <td>60000</td>\n",
              "      <td>0.68</td>\n",
              "      <td>жен</td>\n",
              "      <td>40800</td>\n",
              "      <td>499800</td>\n",
              "    </tr>\n",
              "  </tbody>\n",
              "</table>\n",
              "</div>"
            ],
            "text/plain": [
              "     имя  возраст  ...  важность клиента  возможная долгосрочность клиента\n",
              "0   Петя       45  ...             65000                           -763750\n",
              "1   Вася       26  ...             59200                            429200\n",
              "2    Аня       41  ...            130500                      -1.01138e+06\n",
              "3  Света       21  ...             40800                            499800\n",
              "\n",
              "[4 rows x 7 columns]"
            ]
          },
          "metadata": {},
          "execution_count": 133
        }
      ]
    },
    {
      "cell_type": "code",
      "metadata": {
        "colab": {
          "base_uri": "https://localhost:8080/",
          "height": 128
        },
        "id": "YaSnQscbw5Zi",
        "outputId": "b443708b-b806-4bca-d5de-67ab55ef749d"
      },
      "source": [
        "df[df['возраст'] > 40]"
      ],
      "execution_count": 134,
      "outputs": [
        {
          "output_type": "execute_result",
          "data": {
            "text/html": [
              "<div>\n",
              "<style scoped>\n",
              "    .dataframe tbody tr th:only-of-type {\n",
              "        vertical-align: middle;\n",
              "    }\n",
              "\n",
              "    .dataframe tbody tr th {\n",
              "        vertical-align: top;\n",
              "    }\n",
              "\n",
              "    .dataframe thead th {\n",
              "        text-align: right;\n",
              "    }\n",
              "</style>\n",
              "<table border=\"1\" class=\"dataframe\">\n",
              "  <thead>\n",
              "    <tr style=\"text-align: right;\">\n",
              "      <th></th>\n",
              "      <th>имя</th>\n",
              "      <th>возраст</th>\n",
              "      <th>доход</th>\n",
              "      <th>надежность клиента (0..1)</th>\n",
              "      <th>пол</th>\n",
              "      <th>важность клиента</th>\n",
              "      <th>возможная долгосрочность клиента</th>\n",
              "    </tr>\n",
              "  </thead>\n",
              "  <tbody>\n",
              "    <tr>\n",
              "      <th>0</th>\n",
              "      <td>Петя</td>\n",
              "      <td>45</td>\n",
              "      <td>100000</td>\n",
              "      <td>0.65</td>\n",
              "      <td>муж</td>\n",
              "      <td>65000</td>\n",
              "      <td>-763750</td>\n",
              "    </tr>\n",
              "    <tr>\n",
              "      <th>2</th>\n",
              "      <td>Аня</td>\n",
              "      <td>41</td>\n",
              "      <td>150000</td>\n",
              "      <td>0.87</td>\n",
              "      <td>жен</td>\n",
              "      <td>130500</td>\n",
              "      <td>-1.01138e+06</td>\n",
              "    </tr>\n",
              "  </tbody>\n",
              "</table>\n",
              "</div>"
            ],
            "text/plain": [
              "    имя  возраст   доход  ...  пол важность клиента возможная долгосрочность клиента\n",
              "0  Петя       45  100000  ...  муж            65000                          -763750\n",
              "2   Аня       41  150000  ...  жен           130500                     -1.01138e+06\n",
              "\n",
              "[2 rows x 7 columns]"
            ]
          },
          "metadata": {},
          "execution_count": 134
        }
      ]
    },
    {
      "cell_type": "code",
      "metadata": {
        "colab": {
          "base_uri": "https://localhost:8080/",
          "height": 128
        },
        "id": "M3iGbi8Yw3D6",
        "outputId": "a4c8ccdf-b9fb-4359-b03f-96b897249d3a"
      },
      "source": [
        "df[df['доход'] > sum(df['доход'])/(df.index[-1]+1)]"
      ],
      "execution_count": 135,
      "outputs": [
        {
          "output_type": "execute_result",
          "data": {
            "text/html": [
              "<div>\n",
              "<style scoped>\n",
              "    .dataframe tbody tr th:only-of-type {\n",
              "        vertical-align: middle;\n",
              "    }\n",
              "\n",
              "    .dataframe tbody tr th {\n",
              "        vertical-align: top;\n",
              "    }\n",
              "\n",
              "    .dataframe thead th {\n",
              "        text-align: right;\n",
              "    }\n",
              "</style>\n",
              "<table border=\"1\" class=\"dataframe\">\n",
              "  <thead>\n",
              "    <tr style=\"text-align: right;\">\n",
              "      <th></th>\n",
              "      <th>имя</th>\n",
              "      <th>возраст</th>\n",
              "      <th>доход</th>\n",
              "      <th>надежность клиента (0..1)</th>\n",
              "      <th>пол</th>\n",
              "      <th>важность клиента</th>\n",
              "      <th>возможная долгосрочность клиента</th>\n",
              "    </tr>\n",
              "  </thead>\n",
              "  <tbody>\n",
              "    <tr>\n",
              "      <th>0</th>\n",
              "      <td>Петя</td>\n",
              "      <td>45</td>\n",
              "      <td>100000</td>\n",
              "      <td>0.65</td>\n",
              "      <td>муж</td>\n",
              "      <td>65000</td>\n",
              "      <td>-763750</td>\n",
              "    </tr>\n",
              "    <tr>\n",
              "      <th>2</th>\n",
              "      <td>Аня</td>\n",
              "      <td>41</td>\n",
              "      <td>150000</td>\n",
              "      <td>0.87</td>\n",
              "      <td>жен</td>\n",
              "      <td>130500</td>\n",
              "      <td>-1.01138e+06</td>\n",
              "    </tr>\n",
              "  </tbody>\n",
              "</table>\n",
              "</div>"
            ],
            "text/plain": [
              "    имя  возраст   доход  ...  пол важность клиента возможная долгосрочность клиента\n",
              "0  Петя       45  100000  ...  муж            65000                          -763750\n",
              "2   Аня       41  150000  ...  жен           130500                     -1.01138e+06\n",
              "\n",
              "[2 rows x 7 columns]"
            ]
          },
          "metadata": {},
          "execution_count": 135
        }
      ]
    },
    {
      "cell_type": "code",
      "metadata": {
        "colab": {
          "base_uri": "https://localhost:8080/",
          "height": 128
        },
        "id": "T5DxJq6cxCOa",
        "outputId": "a9fcf4f5-621b-4985-a9c5-2abbac13d0c3"
      },
      "source": [
        "df = df[df['доход'] > sum(df['доход'])/(df.index[-1]+1)]\n",
        "df = df[df['надежность клиента (0..1)'] > sum(df['надежность клиента (0..1)'])/(df.index[-1]+1)]\n",
        "df"
      ],
      "execution_count": 136,
      "outputs": [
        {
          "output_type": "execute_result",
          "data": {
            "text/html": [
              "<div>\n",
              "<style scoped>\n",
              "    .dataframe tbody tr th:only-of-type {\n",
              "        vertical-align: middle;\n",
              "    }\n",
              "\n",
              "    .dataframe tbody tr th {\n",
              "        vertical-align: top;\n",
              "    }\n",
              "\n",
              "    .dataframe thead th {\n",
              "        text-align: right;\n",
              "    }\n",
              "</style>\n",
              "<table border=\"1\" class=\"dataframe\">\n",
              "  <thead>\n",
              "    <tr style=\"text-align: right;\">\n",
              "      <th></th>\n",
              "      <th>имя</th>\n",
              "      <th>возраст</th>\n",
              "      <th>доход</th>\n",
              "      <th>надежность клиента (0..1)</th>\n",
              "      <th>пол</th>\n",
              "      <th>важность клиента</th>\n",
              "      <th>возможная долгосрочность клиента</th>\n",
              "    </tr>\n",
              "  </thead>\n",
              "  <tbody>\n",
              "    <tr>\n",
              "      <th>0</th>\n",
              "      <td>Петя</td>\n",
              "      <td>45</td>\n",
              "      <td>100000</td>\n",
              "      <td>0.65</td>\n",
              "      <td>муж</td>\n",
              "      <td>65000</td>\n",
              "      <td>-763750</td>\n",
              "    </tr>\n",
              "    <tr>\n",
              "      <th>2</th>\n",
              "      <td>Аня</td>\n",
              "      <td>41</td>\n",
              "      <td>150000</td>\n",
              "      <td>0.87</td>\n",
              "      <td>жен</td>\n",
              "      <td>130500</td>\n",
              "      <td>-1.01138e+06</td>\n",
              "    </tr>\n",
              "  </tbody>\n",
              "</table>\n",
              "</div>"
            ],
            "text/plain": [
              "    имя  возраст   доход  ...  пол важность клиента возможная долгосрочность клиента\n",
              "0  Петя       45  100000  ...  муж            65000                          -763750\n",
              "2   Аня       41  150000  ...  жен           130500                     -1.01138e+06\n",
              "\n",
              "[2 rows x 7 columns]"
            ]
          },
          "metadata": {},
          "execution_count": 136
        }
      ]
    },
    {
      "cell_type": "markdown",
      "metadata": {
        "id": "IRFDYPjs0YAz"
      },
      "source": [
        "Задание 3"
      ]
    },
    {
      "cell_type": "code",
      "metadata": {
        "id": "1GcsQGXOE77q"
      },
      "source": [
        "df1 = pd.DataFrame({'fruit': ['apple', 'banana', 'orange'] * 3,\n",
        "                    'weight': ['low', 'medium', 'high'] * 3,\n",
        "                    'price': np.random.randint(0, 100, 9)})\n",
        "\n",
        "df2 = pd.DataFrame({'frukt': ['apple', 'banana', 'melon'] * 2,\n",
        "                    'ves': ['low', 'high'] * 3,\n",
        "                    'price': np.random.randint(0, 100, 6)})"
      ],
      "execution_count": 114,
      "outputs": []
    },
    {
      "cell_type": "code",
      "metadata": {
        "id": "_nuJPJOTJrlI"
      },
      "source": [
        "df2 = df2.rename(columns={'frukt': 'fruit', 'ves':'weight', 'price':'price'})"
      ],
      "execution_count": 115,
      "outputs": []
    },
    {
      "cell_type": "code",
      "metadata": {
        "colab": {
          "base_uri": "https://localhost:8080/",
          "height": 514
        },
        "id": "i47ekDMsFTmD",
        "outputId": "8fd6b85b-9c3e-4181-8084-cd2f34ac42f9"
      },
      "source": [
        "df = pd.concat([df1, df2], ignore_index=True)\n",
        "df"
      ],
      "execution_count": 116,
      "outputs": [
        {
          "output_type": "execute_result",
          "data": {
            "text/html": [
              "<div>\n",
              "<style scoped>\n",
              "    .dataframe tbody tr th:only-of-type {\n",
              "        vertical-align: middle;\n",
              "    }\n",
              "\n",
              "    .dataframe tbody tr th {\n",
              "        vertical-align: top;\n",
              "    }\n",
              "\n",
              "    .dataframe thead th {\n",
              "        text-align: right;\n",
              "    }\n",
              "</style>\n",
              "<table border=\"1\" class=\"dataframe\">\n",
              "  <thead>\n",
              "    <tr style=\"text-align: right;\">\n",
              "      <th></th>\n",
              "      <th>fruit</th>\n",
              "      <th>weight</th>\n",
              "      <th>price</th>\n",
              "    </tr>\n",
              "  </thead>\n",
              "  <tbody>\n",
              "    <tr>\n",
              "      <th>0</th>\n",
              "      <td>apple</td>\n",
              "      <td>low</td>\n",
              "      <td>25</td>\n",
              "    </tr>\n",
              "    <tr>\n",
              "      <th>1</th>\n",
              "      <td>banana</td>\n",
              "      <td>medium</td>\n",
              "      <td>37</td>\n",
              "    </tr>\n",
              "    <tr>\n",
              "      <th>2</th>\n",
              "      <td>orange</td>\n",
              "      <td>high</td>\n",
              "      <td>34</td>\n",
              "    </tr>\n",
              "    <tr>\n",
              "      <th>3</th>\n",
              "      <td>apple</td>\n",
              "      <td>low</td>\n",
              "      <td>2</td>\n",
              "    </tr>\n",
              "    <tr>\n",
              "      <th>4</th>\n",
              "      <td>banana</td>\n",
              "      <td>medium</td>\n",
              "      <td>71</td>\n",
              "    </tr>\n",
              "    <tr>\n",
              "      <th>5</th>\n",
              "      <td>orange</td>\n",
              "      <td>high</td>\n",
              "      <td>83</td>\n",
              "    </tr>\n",
              "    <tr>\n",
              "      <th>6</th>\n",
              "      <td>apple</td>\n",
              "      <td>low</td>\n",
              "      <td>77</td>\n",
              "    </tr>\n",
              "    <tr>\n",
              "      <th>7</th>\n",
              "      <td>banana</td>\n",
              "      <td>medium</td>\n",
              "      <td>0</td>\n",
              "    </tr>\n",
              "    <tr>\n",
              "      <th>8</th>\n",
              "      <td>orange</td>\n",
              "      <td>high</td>\n",
              "      <td>6</td>\n",
              "    </tr>\n",
              "    <tr>\n",
              "      <th>9</th>\n",
              "      <td>apple</td>\n",
              "      <td>low</td>\n",
              "      <td>41</td>\n",
              "    </tr>\n",
              "    <tr>\n",
              "      <th>10</th>\n",
              "      <td>banana</td>\n",
              "      <td>high</td>\n",
              "      <td>59</td>\n",
              "    </tr>\n",
              "    <tr>\n",
              "      <th>11</th>\n",
              "      <td>melon</td>\n",
              "      <td>low</td>\n",
              "      <td>5</td>\n",
              "    </tr>\n",
              "    <tr>\n",
              "      <th>12</th>\n",
              "      <td>apple</td>\n",
              "      <td>high</td>\n",
              "      <td>90</td>\n",
              "    </tr>\n",
              "    <tr>\n",
              "      <th>13</th>\n",
              "      <td>banana</td>\n",
              "      <td>low</td>\n",
              "      <td>59</td>\n",
              "    </tr>\n",
              "    <tr>\n",
              "      <th>14</th>\n",
              "      <td>melon</td>\n",
              "      <td>high</td>\n",
              "      <td>90</td>\n",
              "    </tr>\n",
              "  </tbody>\n",
              "</table>\n",
              "</div>"
            ],
            "text/plain": [
              "     fruit  weight  price\n",
              "0    apple     low     25\n",
              "1   banana  medium     37\n",
              "2   orange    high     34\n",
              "3    apple     low      2\n",
              "4   banana  medium     71\n",
              "5   orange    high     83\n",
              "6    apple     low     77\n",
              "7   banana  medium      0\n",
              "8   orange    high      6\n",
              "9    apple     low     41\n",
              "10  banana    high     59\n",
              "11   melon     low      5\n",
              "12   apple    high     90\n",
              "13  banana     low     59\n",
              "14   melon    high     90"
            ]
          },
          "metadata": {},
          "execution_count": 116
        }
      ]
    },
    {
      "cell_type": "markdown",
      "metadata": {
        "id": "8MF7eS5JYpBn"
      },
      "source": [
        "Задание 4"
      ]
    },
    {
      "cell_type": "code",
      "metadata": {
        "id": "jqFUxwCoYslQ"
      },
      "source": [
        "df = pd.DataFrame({\n",
        "    'country': ['Kazakhstan', 'Russia', 'Belarus', 'Ukraine'],\n",
        "    'population': [17.04, 143.5, 9.5, 45.5],\n",
        "    'square': [2724902, 17125191, 207600, 603628]})"
      ],
      "execution_count": 106,
      "outputs": []
    },
    {
      "cell_type": "code",
      "metadata": {
        "id": "lSyB701NY60q"
      },
      "source": [
        "df['Code'] = ['KZ', 'RU', 'BY', 'UA']"
      ],
      "execution_count": 107,
      "outputs": []
    },
    {
      "cell_type": "code",
      "metadata": {
        "id": "cKtvf_4aZVDO"
      },
      "source": [
        "df['plotnost'] = ['0', '0', '0', '0']\n",
        "df.iloc[0, 4] = df.iloc[0, 1]*1000000/df.iloc[0, 2]\n",
        "df.iloc[1, 4] = df.iloc[1, 1]*1000000/df.iloc[1, 2]\n",
        "df.iloc[2, 4] = df.iloc[2, 1]*1000000/df.iloc[2, 2]\n",
        "df.iloc[3, 4] = df.iloc[3, 1]*1000000/df.iloc[3, 2]"
      ],
      "execution_count": 108,
      "outputs": []
    },
    {
      "cell_type": "code",
      "metadata": {
        "id": "l7blzSNFbdgf"
      },
      "source": [
        "df1 = pd.DataFrame({\n",
        "    'country': ['USA', 'United Kingdom'],\n",
        "    'population': [329.5, 55.98],\n",
        "    'square': [9834, 130279],\n",
        "    'Code': ['USA', 'UK'],\n",
        "    'plotnost': [0, 0]})\n",
        "df1.iloc[0, 4] = df1.iloc[0, 1]*1000000/df1.iloc[0, 2]\n",
        "df1.iloc[1, 4] = df1.iloc[1, 1]*1000000/df1.iloc[1, 2]"
      ],
      "execution_count": 109,
      "outputs": []
    },
    {
      "cell_type": "code",
      "metadata": {
        "colab": {
          "base_uri": "https://localhost:8080/",
          "height": 235
        },
        "id": "AQDkzy9Yebwc",
        "outputId": "6bf286cb-786a-4e51-d025-bcb3d4ae55e5"
      },
      "source": [
        "df2 = pd.concat([df, df1], ignore_index=True)\n",
        "df2"
      ],
      "execution_count": 110,
      "outputs": [
        {
          "output_type": "execute_result",
          "data": {
            "text/html": [
              "<div>\n",
              "<style scoped>\n",
              "    .dataframe tbody tr th:only-of-type {\n",
              "        vertical-align: middle;\n",
              "    }\n",
              "\n",
              "    .dataframe tbody tr th {\n",
              "        vertical-align: top;\n",
              "    }\n",
              "\n",
              "    .dataframe thead th {\n",
              "        text-align: right;\n",
              "    }\n",
              "</style>\n",
              "<table border=\"1\" class=\"dataframe\">\n",
              "  <thead>\n",
              "    <tr style=\"text-align: right;\">\n",
              "      <th></th>\n",
              "      <th>country</th>\n",
              "      <th>population</th>\n",
              "      <th>square</th>\n",
              "      <th>Code</th>\n",
              "      <th>plotnost</th>\n",
              "    </tr>\n",
              "  </thead>\n",
              "  <tbody>\n",
              "    <tr>\n",
              "      <th>0</th>\n",
              "      <td>Kazakhstan</td>\n",
              "      <td>17.04</td>\n",
              "      <td>2724902</td>\n",
              "      <td>KZ</td>\n",
              "      <td>6.25344</td>\n",
              "    </tr>\n",
              "    <tr>\n",
              "      <th>1</th>\n",
              "      <td>Russia</td>\n",
              "      <td>143.50</td>\n",
              "      <td>17125191</td>\n",
              "      <td>RU</td>\n",
              "      <td>8.37947</td>\n",
              "    </tr>\n",
              "    <tr>\n",
              "      <th>2</th>\n",
              "      <td>Belarus</td>\n",
              "      <td>9.50</td>\n",
              "      <td>207600</td>\n",
              "      <td>BY</td>\n",
              "      <td>45.7611</td>\n",
              "    </tr>\n",
              "    <tr>\n",
              "      <th>3</th>\n",
              "      <td>Ukraine</td>\n",
              "      <td>45.50</td>\n",
              "      <td>603628</td>\n",
              "      <td>UA</td>\n",
              "      <td>75.3776</td>\n",
              "    </tr>\n",
              "    <tr>\n",
              "      <th>4</th>\n",
              "      <td>USA</td>\n",
              "      <td>329.50</td>\n",
              "      <td>9834</td>\n",
              "      <td>USA</td>\n",
              "      <td>33506.2</td>\n",
              "    </tr>\n",
              "    <tr>\n",
              "      <th>5</th>\n",
              "      <td>United Kingdom</td>\n",
              "      <td>55.98</td>\n",
              "      <td>130279</td>\n",
              "      <td>UK</td>\n",
              "      <td>429.693</td>\n",
              "    </tr>\n",
              "  </tbody>\n",
              "</table>\n",
              "</div>"
            ],
            "text/plain": [
              "          country  population    square Code plotnost\n",
              "0      Kazakhstan       17.04   2724902   KZ  6.25344\n",
              "1          Russia      143.50  17125191   RU  8.37947\n",
              "2         Belarus        9.50    207600   BY  45.7611\n",
              "3         Ukraine       45.50    603628   UA  75.3776\n",
              "4             USA      329.50      9834  USA  33506.2\n",
              "5  United Kingdom       55.98    130279   UK  429.693"
            ]
          },
          "metadata": {},
          "execution_count": 110
        }
      ]
    },
    {
      "cell_type": "code",
      "metadata": {
        "colab": {
          "base_uri": "https://localhost:8080/"
        },
        "id": "Ho4OzDNffA9B",
        "outputId": "c1f54c1f-53af-4c41-9125-d010dc64cbe6"
      },
      "source": [
        "sum(df2['square'])/(df2.index[-1]+1)"
      ],
      "execution_count": 112,
      "outputs": [
        {
          "output_type": "execute_result",
          "data": {
            "text/plain": [
              "3466905.6666666665"
            ]
          },
          "metadata": {},
          "execution_count": 112
        }
      ]
    }
  ]
}