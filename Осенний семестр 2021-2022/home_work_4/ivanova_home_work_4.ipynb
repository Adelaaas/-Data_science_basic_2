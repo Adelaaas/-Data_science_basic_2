{
  "nbformat": 4,
  "nbformat_minor": 0,
  "metadata": {
    "colab": {
      "name": "ivanova_home_work_4.ipynb",
      "provenance": []
    },
    "kernelspec": {
      "name": "python3",
      "display_name": "Python 3"
    },
    "language_info": {
      "name": "python"
    }
  },
  "cells": [
    {
      "cell_type": "markdown",
      "metadata": {
        "id": "ESsDLlEsriva"
      },
      "source": [
        "Задание 1.\n",
        "\n",
        "Задан Series объект s, найти индекс первого элемента отсортированного s, где значения больше 5."
      ]
    },
    {
      "cell_type": "code",
      "metadata": {
        "colab": {
          "base_uri": "https://localhost:8080/"
        },
        "id": "G-MihODVrbPT",
        "outputId": "e3f42207-2aaf-4634-97dd-b58107b75ec4"
      },
      "source": [
        "import numpy as np\n",
        "import pandas as pd\n",
        "\n",
        "r = np.random.RandomState(1)\n",
        "s = pd.Series(r.uniform(0, 10, 100))\n",
        "\n",
        "s1 = s[s > 5]\n",
        "\n",
        "#print(s)\n",
        "#print(s1)\n",
        "\n",
        "ans = s1.index[0]\n",
        "print(ans)"
      ],
      "execution_count": 9,
      "outputs": [
        {
          "output_type": "stream",
          "name": "stdout",
          "text": [
            "1\n"
          ]
        }
      ]
    },
    {
      "cell_type": "markdown",
      "metadata": {
        "id": "d13CzFFHsH6x"
      },
      "source": [
        "Задание 2.\n",
        "\n",
        "Имеется небольшой игрушечный DataFrame, в котором необходимо провести несколько типов фильтраций и отобразить результат:\n",
        "\n",
        "всех, кто старше 40\n",
        "\n",
        "всех, кто имеет доход выше среднего по датасету\n",
        "\n",
        "всех, кто имеет доход выше среднего по датасету, но надежность ниже среднего по датасету\n",
        "\n",
        "создать новые столбцы:\n",
        "\n",
        "важность клиента = доход * надежность\n",
        "\n",
        "возможная долгосрочность клиента = важность клиента * (средний возраст по датасету - возраст клиента)"
      ]
    },
    {
      "cell_type": "code",
      "metadata": {
        "colab": {
          "base_uri": "https://localhost:8080/"
        },
        "id": "2QsLLHMQtFGV",
        "outputId": "3a11c91e-ffbb-44b7-c44f-dc75c3c2c6ef"
      },
      "source": [
        "# создадим тестовый датасет\n",
        "df = pd.DataFrame({\n",
        "    'имя': ['Петя', 'Вася', 'Аня', 'Света'],\n",
        "    'возраст': [45, 26, 41 , 21],\n",
        "    'доход': [100000, 80000, 150000, 60000],\n",
        "    'надежность клиента (0..1)': [0.65, 0.74, 0.87, 0.68],\n",
        "    'пол': ['муж', 'муж', 'жен', 'жен']},\n",
        "    index=[0, 1, 2, 3])\n",
        "\n",
        "mean_income = df['доход'].astype(float).mean()\n",
        "#print(mean_income)\n",
        "\n",
        "mean_rlb = df['надежность клиента (0..1)'].astype(float).mean()\n",
        "mean_age = df['возраст'].astype(float).mean()\n",
        "\n",
        "df1 = df[df['возраст'] > 40]\n",
        "print(df1)\n",
        "\n",
        "print('-'*20)\n",
        "\n",
        "df2 = df[df['доход'] > mean_income]\n",
        "print(df2)\n",
        "\n",
        "print('-'*20)\n",
        "\n",
        "df3 = df[(df['доход'] > mean_income) & (df['надежность клиента (0..1)'] < mean_rlb)]\n",
        "print(df3)\n",
        "\n",
        "print('-'*20)\n",
        "\n",
        "df['важность клиента'] = df['доход'] * df['надежность клиента (0..1)']\n",
        "df['возможная долгосрочность клиента'] = df['важность клиента'] * (mean_age - df['возраст'])\n",
        "print(df)"
      ],
      "execution_count": 26,
      "outputs": [
        {
          "output_type": "stream",
          "name": "stdout",
          "text": [
            "    имя  возраст   доход  надежность клиента (0..1)  пол\n",
            "0  Петя       45  100000                       0.65  муж\n",
            "2   Аня       41  150000                       0.87  жен\n",
            "--------------------\n",
            "    имя  возраст   доход  надежность клиента (0..1)  пол\n",
            "0  Петя       45  100000                       0.65  муж\n",
            "2   Аня       41  150000                       0.87  жен\n",
            "--------------------\n",
            "    имя  возраст   доход  надежность клиента (0..1)  пол\n",
            "0  Петя       45  100000                       0.65  муж\n",
            "--------------------\n",
            "     имя  возраст  ...  важность клиента  возможная долгосрочность клиента\n",
            "0   Петя       45  ...           65000.0                         -763750.0\n",
            "1   Вася       26  ...           59200.0                          429200.0\n",
            "2    Аня       41  ...          130500.0                        -1011375.0\n",
            "3  Света       21  ...           40800.0                          499800.0\n",
            "\n",
            "[4 rows x 7 columns]\n"
          ]
        }
      ]
    },
    {
      "cell_type": "markdown",
      "metadata": {
        "id": "yYw90nj21n6M"
      },
      "source": [
        "Задание 3.\n",
        "\n",
        "Как объединить два DataFrame по двум столбцам так, чтобы остались только общие строки?\n",
        "\n",
        "Объедините df1 и df2 по столбцам fruit-frukt и weight-ves."
      ]
    },
    {
      "cell_type": "code",
      "metadata": {
        "colab": {
          "base_uri": "https://localhost:8080/"
        },
        "id": "F_bxHIJc1q60",
        "outputId": "1e1ab5e0-d54b-4b8b-b869-155544939f05"
      },
      "source": [
        "ddf1 = pd.DataFrame({'fruit': ['apple', 'banana', 'orange'] * 3,\n",
        "                    'weight': ['low', 'medium', 'high'] * 3,\n",
        "                    'price': np.random.randint(0, 100, 9)})\n",
        "\n",
        "ddf2 = pd.DataFrame({'frukt': ['apple', 'banana', 'melon'] * 2,\n",
        "                    'ves': ['low', 'high'] * 3,\n",
        "                    'price': np.random.randint(0, 100, 6)})\n",
        "\n",
        "ddff2 = pd.DataFrame({'fruit': ddf2['frukt'],\n",
        "                      'weight': ddf2['ves'],\n",
        "                      'price': ddf2['price']})\n",
        "\n",
        "print(ddf1)\n",
        "print('-'*20)\n",
        "print(ddf2)\n",
        "print('-'*20)\n",
        "\n",
        "ddf3 = pd.concat([ddf1, ddff2], ignore_index=True)\n",
        "print(ddf3)"
      ],
      "execution_count": 53,
      "outputs": [
        {
          "output_type": "stream",
          "name": "stdout",
          "text": [
            "    fruit  weight  price\n",
            "0   apple     low     34\n",
            "1  banana  medium     33\n",
            "2  orange    high     56\n",
            "3   apple     low     83\n",
            "4  banana  medium     57\n",
            "5  orange    high      2\n",
            "6   apple     low      7\n",
            "7  banana  medium     60\n",
            "8  orange    high     38\n",
            "--------------------\n",
            "    frukt   ves  price\n",
            "0   apple   low     68\n",
            "1  banana  high     59\n",
            "2   melon   low     34\n",
            "3   apple  high     22\n",
            "4  banana   low     12\n",
            "5   melon  high     74\n",
            "--------------------\n",
            "     fruit  weight  price\n",
            "0    apple     low     34\n",
            "1   banana  medium     33\n",
            "2   orange    high     56\n",
            "3    apple     low     83\n",
            "4   banana  medium     57\n",
            "5   orange    high      2\n",
            "6    apple     low      7\n",
            "7   banana  medium     60\n",
            "8   orange    high     38\n",
            "9    apple     low     68\n",
            "10  banana    high     59\n",
            "11   melon     low     34\n",
            "12   apple    high     22\n",
            "13  banana     low     12\n",
            "14   melon    high     74\n"
          ]
        }
      ]
    },
    {
      "cell_type": "markdown",
      "metadata": {
        "id": "wlCB7jxs_CMV"
      },
      "source": [
        "Задание 4.2.\n",
        "\n",
        "Кто делает: Иванова, Мозговой, Озеров, Павлюк, Полосин, Чернов\n",
        "\n",
        "Имеется датасет со следующими столбцами:\n",
        "\n",
        "fruit: название фрукта\n",
        "\n",
        "price: цена за кг\n",
        "\n",
        "quantity: сколько кг имеется сейчас на складе\n",
        "\n",
        "1. Посчитать сколько пропусков в датасете и удалить строки которые содержат пропуски\n",
        "\n",
        "2. Добавить новый столбец:\n",
        "\n",
        "Общая стоимость фрукта = количество на складе*цену за кг\n",
        "3. Создать новый датасет, в котором содержать данные еще о трех фруктах:\n",
        "\n",
        "Apple; 25; 100\n",
        "Melon; 30; 55\n",
        "Peach; 98; 11\n",
        "Соединить два датафрейма и удалить повторы."
      ]
    },
    {
      "cell_type": "code",
      "metadata": {
        "colab": {
          "base_uri": "https://localhost:8080/"
        },
        "id": "0UKsGLCC_MIH",
        "outputId": "7bb5b378-f638-42f9-95d8-1b91f8ae7d8f"
      },
      "source": [
        "ddf = pd.DataFrame({\n",
        "    'fruit': ['Apple', 'Watermelon', 'Cherry', 'Orange', 'Banana'],\n",
        "    'price': [25, 33.5, 19.5, 9.6, 10],\n",
        "    'quantity': [100, 34, np.NaN, 56, 120]})\n",
        "\n",
        "print(ddf)\n",
        "print('-'*20)\n",
        "\n",
        "null_numb = sum(ddf.isna().sum())\n",
        "print('Количество пустых ячеек: ', null_numb)\n",
        "\n",
        "print('-'*20)\n",
        "\n",
        "ddf.dropna(axis = 0, how='any', inplace=True)\n",
        "print(ddf)\n",
        "\n",
        "ddf['общая стоимость'] = ddf['price'] * ddf['quantity']\n",
        "print('-'*20)\n",
        "print(ddf)\n",
        "\n",
        "newddf = pd.DataFrame({\n",
        "    'fruit': ['Apple', 'Melon', 'Peach'],\n",
        "    'price': [25, 30, 98],\n",
        "    'quantity': [100, 55, 11],\n",
        "    'общая стоимость': newddf['price'] * newddf['quantity']})\n",
        "print('-'*20)\n",
        "print(newddf)\n",
        "\n",
        "ansddf = pd.concat([ddf, newddf], ignore_index=True)\n",
        "print('-'*20)\n",
        "print(ansddf)\n",
        "\n",
        "ansddf = ansddf.drop_duplicates()\n",
        "\n",
        "print('-'*20)\n",
        "print(ansddf)"
      ],
      "execution_count": 82,
      "outputs": [
        {
          "output_type": "stream",
          "name": "stdout",
          "text": [
            "        fruit  price  quantity\n",
            "0       Apple   25.0     100.0\n",
            "1  Watermelon   33.5      34.0\n",
            "2      Cherry   19.5       NaN\n",
            "3      Orange    9.6      56.0\n",
            "4      Banana   10.0     120.0\n",
            "--------------------\n",
            "Количество пустых ячеек:  1\n",
            "--------------------\n",
            "        fruit  price  quantity\n",
            "0       Apple   25.0     100.0\n",
            "1  Watermelon   33.5      34.0\n",
            "3      Orange    9.6      56.0\n",
            "4      Banana   10.0     120.0\n",
            "--------------------\n",
            "        fruit  price  quantity  общая стоимость\n",
            "0       Apple   25.0     100.0           2500.0\n",
            "1  Watermelon   33.5      34.0           1139.0\n",
            "3      Orange    9.6      56.0            537.6\n",
            "4      Banana   10.0     120.0           1200.0\n",
            "--------------------\n",
            "   fruit  price  quantity  общая стоимость\n",
            "0  Apple     25       100             2500\n",
            "1  Melon     30        55             1650\n",
            "2  Peach     98        11             1078\n",
            "--------------------\n",
            "        fruit  price  quantity  общая стоимость\n",
            "0       Apple   25.0     100.0           2500.0\n",
            "1  Watermelon   33.5      34.0           1139.0\n",
            "2      Orange    9.6      56.0            537.6\n",
            "3      Banana   10.0     120.0           1200.0\n",
            "4       Apple   25.0     100.0           2500.0\n",
            "5       Melon   30.0      55.0           1650.0\n",
            "6       Peach   98.0      11.0           1078.0\n",
            "--------------------\n",
            "        fruit  price  quantity  общая стоимость\n",
            "0       Apple   25.0     100.0           2500.0\n",
            "1  Watermelon   33.5      34.0           1139.0\n",
            "2      Orange    9.6      56.0            537.6\n",
            "3      Banana   10.0     120.0           1200.0\n",
            "5       Melon   30.0      55.0           1650.0\n",
            "6       Peach   98.0      11.0           1078.0\n"
          ]
        }
      ]
    }
  ]
}