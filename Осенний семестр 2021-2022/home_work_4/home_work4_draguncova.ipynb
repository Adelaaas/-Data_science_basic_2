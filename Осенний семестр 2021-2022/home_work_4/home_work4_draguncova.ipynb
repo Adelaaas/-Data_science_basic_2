{
  "nbformat": 4,
  "nbformat_minor": 0,
  "metadata": {
    "colab": {
      "name": "home_work4_draguncova.ipynb",
      "provenance": []
    },
    "kernelspec": {
      "name": "python3",
      "display_name": "Python 3"
    },
    "language_info": {
      "name": "python"
    }
  },
  "cells": [
    {
      "cell_type": "markdown",
      "metadata": {
        "id": "vyBZpEsFvYbM"
      },
      "source": [
        "\n",
        "\n",
        "**Задание 1.**\n",
        "\n",
        "Задан Series объект s, найти индекс первого элемента отсортированного s, где значения больше 5.\n",
        "\n"
      ]
    },
    {
      "cell_type": "code",
      "metadata": {
        "colab": {
          "base_uri": "https://localhost:8080/"
        },
        "id": "WaEuaUu1Z89k",
        "outputId": "5af9ef94-0b6c-41ce-bf7b-e1817213985d"
      },
      "source": [
        "import pandas as pd\n",
        "import numpy as np\n",
        "r = np.random.RandomState(1)\n",
        "s = pd.Series(r.uniform(0, 10, 100))\n",
        "s1 = s.sort_values()[s>5]\n",
        "s1.index[0]"
      ],
      "execution_count": null,
      "outputs": [
        {
          "output_type": "execute_result",
          "data": {
            "text/plain": [
              "67"
            ]
          },
          "metadata": {},
          "execution_count": 1
        }
      ]
    },
    {
      "cell_type": "markdown",
      "metadata": {
        "id": "hTh9UAnJvetL"
      },
      "source": [
        "\n",
        "**Задание 2.**\n",
        "\n",
        "Имеется небольшой игрушечный DataFrame, в котором необходимо провести несколько типов фильтраций и отобразить результат:\n",
        "\n",
        "*всех, кто старше 40:*"
      ]
    },
    {
      "cell_type": "code",
      "metadata": {
        "colab": {
          "base_uri": "https://localhost:8080/",
          "height": 111
        },
        "id": "jBsWgxXffueB",
        "outputId": "f92d1217-0457-43e5-e4eb-df656e1d5238"
      },
      "source": [
        "import pandas as pd\n",
        "import numpy as np\n",
        "df = pd.DataFrame({\n",
        "    'имя': ['Петя', 'Вася', 'Аня', 'Света'],\n",
        "    'возраст': [45, 26, 41 , 21],\n",
        "    'доход': [100000, 80000, 150000, 60000],\n",
        "    'надежность клиента (0..1)': [0.65, 0.74, 0.87, 0.68],\n",
        "    'пол': ['муж', 'муж', 'жен', 'жен']},\n",
        "    index=[0, 1, 2, 3])\n",
        "\n",
        "df[df[\"возраст\"]>40]"
      ],
      "execution_count": null,
      "outputs": [
        {
          "output_type": "execute_result",
          "data": {
            "text/html": [
              "<div>\n",
              "<style scoped>\n",
              "    .dataframe tbody tr th:only-of-type {\n",
              "        vertical-align: middle;\n",
              "    }\n",
              "\n",
              "    .dataframe tbody tr th {\n",
              "        vertical-align: top;\n",
              "    }\n",
              "\n",
              "    .dataframe thead th {\n",
              "        text-align: right;\n",
              "    }\n",
              "</style>\n",
              "<table border=\"1\" class=\"dataframe\">\n",
              "  <thead>\n",
              "    <tr style=\"text-align: right;\">\n",
              "      <th></th>\n",
              "      <th>имя</th>\n",
              "      <th>возраст</th>\n",
              "      <th>доход</th>\n",
              "      <th>надежность клиента (0..1)</th>\n",
              "      <th>пол</th>\n",
              "    </tr>\n",
              "  </thead>\n",
              "  <tbody>\n",
              "    <tr>\n",
              "      <th>0</th>\n",
              "      <td>Петя</td>\n",
              "      <td>45</td>\n",
              "      <td>100000</td>\n",
              "      <td>0.65</td>\n",
              "      <td>муж</td>\n",
              "    </tr>\n",
              "    <tr>\n",
              "      <th>2</th>\n",
              "      <td>Аня</td>\n",
              "      <td>41</td>\n",
              "      <td>150000</td>\n",
              "      <td>0.87</td>\n",
              "      <td>жен</td>\n",
              "    </tr>\n",
              "  </tbody>\n",
              "</table>\n",
              "</div>"
            ],
            "text/plain": [
              "    имя  возраст   доход  надежность клиента (0..1)  пол\n",
              "0  Петя       45  100000                       0.65  муж\n",
              "2   Аня       41  150000                       0.87  жен"
            ]
          },
          "metadata": {},
          "execution_count": 6
        }
      ]
    },
    {
      "cell_type": "markdown",
      "metadata": {
        "id": "nkzmqDS_vnqS"
      },
      "source": [
        "*всех, кто имеет доход выше среднего по датасету:*"
      ]
    },
    {
      "cell_type": "code",
      "metadata": {
        "colab": {
          "base_uri": "https://localhost:8080/",
          "height": 111
        },
        "id": "lffQonTxhvUW",
        "outputId": "8737d3c8-e2a1-4f74-84d3-1b7ffdbe478e"
      },
      "source": [
        "import pandas as pd\n",
        "import numpy as np\n",
        "df = pd.DataFrame({\n",
        "    'имя': ['Петя', 'Вася', 'Аня', 'Света'],\n",
        "    'возраст': [45, 26, 41 , 21],\n",
        "    'доход': [100000, 80000, 150000, 60000],\n",
        "    'надежность клиента (0..1)': [0.65, 0.74, 0.87, 0.68],\n",
        "    'пол': ['муж', 'муж', 'жен', 'жен']},\n",
        "    index=[0, 1, 2, 3])\n",
        "df[df[\"доход\"]>df[\"доход\"].mean()]"
      ],
      "execution_count": null,
      "outputs": [
        {
          "output_type": "execute_result",
          "data": {
            "text/html": [
              "<div>\n",
              "<style scoped>\n",
              "    .dataframe tbody tr th:only-of-type {\n",
              "        vertical-align: middle;\n",
              "    }\n",
              "\n",
              "    .dataframe tbody tr th {\n",
              "        vertical-align: top;\n",
              "    }\n",
              "\n",
              "    .dataframe thead th {\n",
              "        text-align: right;\n",
              "    }\n",
              "</style>\n",
              "<table border=\"1\" class=\"dataframe\">\n",
              "  <thead>\n",
              "    <tr style=\"text-align: right;\">\n",
              "      <th></th>\n",
              "      <th>имя</th>\n",
              "      <th>возраст</th>\n",
              "      <th>доход</th>\n",
              "      <th>надежность клиента (0..1)</th>\n",
              "      <th>пол</th>\n",
              "    </tr>\n",
              "  </thead>\n",
              "  <tbody>\n",
              "    <tr>\n",
              "      <th>0</th>\n",
              "      <td>Петя</td>\n",
              "      <td>45</td>\n",
              "      <td>100000</td>\n",
              "      <td>0.65</td>\n",
              "      <td>муж</td>\n",
              "    </tr>\n",
              "    <tr>\n",
              "      <th>2</th>\n",
              "      <td>Аня</td>\n",
              "      <td>41</td>\n",
              "      <td>150000</td>\n",
              "      <td>0.87</td>\n",
              "      <td>жен</td>\n",
              "    </tr>\n",
              "  </tbody>\n",
              "</table>\n",
              "</div>"
            ],
            "text/plain": [
              "    имя  возраст   доход  надежность клиента (0..1)  пол\n",
              "0  Петя       45  100000                       0.65  муж\n",
              "2   Аня       41  150000                       0.87  жен"
            ]
          },
          "metadata": {},
          "execution_count": 15
        }
      ]
    },
    {
      "cell_type": "markdown",
      "metadata": {
        "id": "4eXsVMUJvtd7"
      },
      "source": [
        "*всех, кто имеет доход выше среднего по датасету, но надежность ниже среднего по датасету:*"
      ]
    },
    {
      "cell_type": "code",
      "metadata": {
        "id": "WAW9ixRPkv8A"
      },
      "source": [
        "import pandas as pd\n",
        "import numpy as np\n",
        "df = pd.DataFrame({\n",
        "    'имя': ['Петя', 'Вася', 'Аня', 'Света'],\n",
        "    'возраст': [45, 26, 41 , 21],\n",
        "    'доход': [100000, 80000, 150000, 60000],\n",
        "    'надежность клиента (0..1)': [0.65, 0.74, 0.87, 0.68],\n",
        "    'пол': ['муж', 'муж', 'жен', 'жен']},\n",
        "    index=[0, 1, 2, 3])\n",
        "df[(df['доход']>df['доход'].mean()) & (df['надежность клиента (0..1)']<df['надежность клиента (0..1)'].mean())]"
      ],
      "execution_count": null,
      "outputs": []
    },
    {
      "cell_type": "markdown",
      "metadata": {
        "id": "b6VZ24VBvzs6"
      },
      "source": [
        "создать новые столбцы:\n",
        "\n",
        "важность клиента = доход * надежность:"
      ]
    },
    {
      "cell_type": "code",
      "metadata": {
        "id": "VEX6TMvsvH2I"
      },
      "source": [
        "import pandas as pd\n",
        "import numpy as np\n",
        "df = pd.DataFrame({\n",
        "    'имя': ['Петя', 'Вася', 'Аня', 'Света'],\n",
        "    'возраст': [45, 26, 41 , 21],\n",
        "    'доход': [100000, 80000, 150000, 60000],\n",
        "    'надежность клиента (0..1)': [0.65, 0.74, 0.87, 0.68],\n",
        "    'пол': ['муж', 'муж', 'жен', 'жен']},\n",
        "    index=[0, 1, 2, 3])\n",
        "df['важность клиента'] = df['надежность клиента (0..1)']*df['доход']\n",
        "df\n"
      ],
      "execution_count": null,
      "outputs": []
    },
    {
      "cell_type": "markdown",
      "metadata": {
        "id": "8ympStkbv8nT"
      },
      "source": [
        "возможная долгосрочность клиента = важность клиента * (средний возраст по датасету - возраст клиента):"
      ]
    },
    {
      "cell_type": "code",
      "metadata": {
        "id": "NC6lPKOovMG9"
      },
      "source": [
        "import pandas as pd\n",
        "import numpy as np\n",
        "df = pd.DataFrame({\n",
        "    'имя': ['Петя', 'Вася', 'Аня', 'Света'],\n",
        "    'возраст': [45, 26, 41 , 21],\n",
        "    'доход': [100000, 80000, 150000, 60000],\n",
        "    'надежность клиента (0..1)': [0.65, 0.74, 0.87, 0.68],\n",
        "    'пол': ['муж', 'муж', 'жен', 'жен']},\n",
        "    index=[0, 1, 2, 3])\n",
        "df['важность клиента'] = df['надежность клиента (0..1)']*df['доход']\n",
        "df['возможная долгосрочность клиента'] = df['важность клиента']*(df['возраст'].mean()-df['возраст'])\n",
        "df\n",
        " "
      ],
      "execution_count": null,
      "outputs": []
    },
    {
      "cell_type": "markdown",
      "metadata": {
        "id": "_MHTgG29vW4X"
      },
      "source": [
        "**Задание 4.1.**\n",
        "\n",
        "Имеется датафрейм со столбцами:\n",
        "\n",
        "страна\n",
        "население данной страны\n",
        "площадь\n",
        "1. Создайте новые столбцы, которые будут содержать:\n",
        "\n",
        "Коды страны: 'KZ', 'RU', 'BY', 'UA'\n",
        "Плотность населения = население (в миллионах) поделить на площадь страны\n",
        "2. Добавьте в датафрейм данные еще о двух странах:\n",
        "\n",
        "USA; 329,5; 9834\n",
        "United Kingdom; 55,98; 130279\n",
        "3. Найдите среднюю площадь всех стран"
      ]
    },
    {
      "cell_type": "code",
      "metadata": {
        "colab": {
          "base_uri": "https://localhost:8080/"
        },
        "id": "KM6kUREQwQ9Z",
        "outputId": "fc689a46-d134-4501-b99f-5453af35deb6"
      },
      "source": [
        "import pandas as pd\n",
        "import numpy as np\n",
        "df = pd.DataFrame({\n",
        "    'country': ['Kazakhstan', 'Russia', 'Belarus', 'Ukraine'],\n",
        "    'population': [17.04, 143.5, 9.5, 45.5],\n",
        "    'square': [2724902, 17125191, 207600, 603628]})\n",
        "df['код страны'] =  ['KZ', 'RU', 'BY', 'UA']\n",
        "df['Плотность населения'] = df['population']*10**6/df['square']\n",
        "df2 = pd.DataFrame([['USA', 329.5, 9834], ['United Kingdom', 55.98, 130279]], columns=['country', 'population', 'square'])\n",
        "df_new = pd.concat([df, df2], ignore_index=True)\n",
        "print(df_new)\n",
        "print()\n",
        "print(df_new['square'].mean())"
      ],
      "execution_count": null,
      "outputs": [
        {
          "output_type": "stream",
          "name": "stdout",
          "text": [
            "          country  population    square код страны  Плотность населения\n",
            "0      Kazakhstan       17.04   2724902         KZ             6.253436\n",
            "1          Russia      143.50  17125191         RU             8.379469\n",
            "2         Belarus        9.50    207600         BY            45.761079\n",
            "3         Ukraine       45.50    603628         UA            75.377550\n",
            "4             USA      329.50      9834        NaN                  NaN\n",
            "5  United Kingdom       55.98    130279        NaN                  NaN\n",
            "\n",
            "3466905.6666666665\n"
          ]
        }
      ]
    }
  ]
}