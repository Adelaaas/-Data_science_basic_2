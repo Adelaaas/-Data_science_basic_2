{
  "nbformat": 4,
  "nbformat_minor": 0,
  "metadata": {
    "colab": {
      "name": "Untitled0.ipynb",
      "provenance": [],
      "collapsed_sections": []
    },
    "kernelspec": {
      "name": "python3",
      "display_name": "Python 3"
    },
    "language_info": {
      "name": "python"
    }
  },
  "cells": [
    {
      "cell_type": "code",
      "metadata": {
        "colab": {
          "base_uri": "https://localhost:8080/"
        },
        "id": "gJGOhv73Slaj",
        "outputId": "a8aa142c-1604-444b-d380-06d934503f9b"
      },
      "source": [
        "lst=['I','n','n','a']\n",
        "print(lst[2])\n",
        "name=['I','n','n','a', 16]\n",
        "print(name[1:-1])\n",
        "cl='10П'\n",
        "name.append(cl)\n",
        "print(name)\n",
        "name+=list('Draguncova')\n",
        "print(name)"
      ],
      "execution_count": 3,
      "outputs": [
        {
          "output_type": "stream",
          "name": "stdout",
          "text": [
            "n\n",
            "['n', 'n', 'a']\n",
            "['I', 'n', 'n', 'a', 16, '10П']\n",
            "['I', 'n', 'n', 'a', 16, '10П', 'D', 'r', 'a', 'g', 'u', 'n', 'c', 'o', 'v', 'a']\n"
          ]
        }
      ]
    }
  ]
}
