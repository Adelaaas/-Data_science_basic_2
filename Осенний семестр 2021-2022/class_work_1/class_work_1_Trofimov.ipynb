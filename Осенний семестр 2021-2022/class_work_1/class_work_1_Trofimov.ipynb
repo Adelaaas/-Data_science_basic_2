{
  "nbformat": 4,
  "nbformat_minor": 0,
  "metadata": {
    "colab": {
      "name": "Untitled2.ipynb",
      "provenance": []
    },
    "kernelspec": {
      "name": "python3",
      "display_name": "Python 3"
    },
    "language_info": {
      "name": "python"
    }
  },
  "cells": [
    {
      "cell_type": "code",
      "metadata": {
        "colab": {
          "base_uri": "https://localhost:8080/"
        },
        "id": "tomKC2OY8Glt",
        "outputId": "621c1635-cab7-4d42-f7d7-5ae0c9912824"
      },
      "source": [
        "name = ['f','e','d','y','a', 17 ]\n",
        "name[1:-1]"
      ],
      "execution_count": 19,
      "outputs": [
        {
          "output_type": "execute_result",
          "data": {
            "text/plain": [
              "['e', 'd', 'y', 'a']"
            ]
          },
          "metadata": {},
          "execution_count": 19
        }
      ]
    },
    {
      "cell_type": "code",
      "metadata": {
        "colab": {
          "base_uri": "https://localhost:8080/"
        },
        "id": "nG54DR3jEIrv",
        "outputId": "1f062288-58ce-48b5-d8c9-292443ec2f51"
      },
      "source": [
        "a = '11П'\n",
        "name.append(a)\n",
        "name\n",
        "\n"
      ],
      "execution_count": 20,
      "outputs": [
        {
          "output_type": "execute_result",
          "data": {
            "text/plain": [
              "['f', 'e', 'd', 'y', 'a', 17, '11П']"
            ]
          },
          "metadata": {},
          "execution_count": 20
        }
      ]
    },
    {
      "cell_type": "code",
      "metadata": {
        "colab": {
          "base_uri": "https://localhost:8080/"
        },
        "id": "2ZxqcuQQTd_-",
        "outputId": "3cd6941a-f420-43dd-d452-d4e387fab998"
      },
      "source": [
        "surname = 'trofimov'\n",
        "name += list(surname)\n",
        "name"
      ],
      "execution_count": 21,
      "outputs": [
        {
          "output_type": "execute_result",
          "data": {
            "text/plain": [
              "['f', 'e', 'd', 'y', 'a', 17, '11П', 't', 'r', 'o', 'f', 'i', 'm', 'o', 'v']"
            ]
          },
          "metadata": {},
          "execution_count": 21
        }
      ]
    }
  ]
}