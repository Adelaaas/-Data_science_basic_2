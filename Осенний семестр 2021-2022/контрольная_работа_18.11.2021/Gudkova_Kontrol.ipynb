{
  "nbformat": 4,
  "nbformat_minor": 0,
  "metadata": {
    "colab": {
      "name": "Gudkova_Kontrol.ipynb",
      "provenance": [],
      "collapsed_sections": []
    },
    "kernelspec": {
      "name": "python3",
      "display_name": "Python 3"
    },
    "language_info": {
      "name": "python"
    }
  },
  "cells": [
    {
      "cell_type": "code",
      "metadata": {
        "colab": {
          "resources": {
            "http://localhost:8080/nbextensions/google.colab/files.js": {
              "data": "Ly8gQ29weXJpZ2h0IDIwMTcgR29vZ2xlIExMQwovLwovLyBMaWNlbnNlZCB1bmRlciB0aGUgQXBhY2hlIExpY2Vuc2UsIFZlcnNpb24gMi4wICh0aGUgIkxpY2Vuc2UiKTsKLy8geW91IG1heSBub3QgdXNlIHRoaXMgZmlsZSBleGNlcHQgaW4gY29tcGxpYW5jZSB3aXRoIHRoZSBMaWNlbnNlLgovLyBZb3UgbWF5IG9idGFpbiBhIGNvcHkgb2YgdGhlIExpY2Vuc2UgYXQKLy8KLy8gICAgICBodHRwOi8vd3d3LmFwYWNoZS5vcmcvbGljZW5zZXMvTElDRU5TRS0yLjAKLy8KLy8gVW5sZXNzIHJlcXVpcmVkIGJ5IGFwcGxpY2FibGUgbGF3IG9yIGFncmVlZCB0byBpbiB3cml0aW5nLCBzb2Z0d2FyZQovLyBkaXN0cmlidXRlZCB1bmRlciB0aGUgTGljZW5zZSBpcyBkaXN0cmlidXRlZCBvbiBhbiAiQVMgSVMiIEJBU0lTLAovLyBXSVRIT1VUIFdBUlJBTlRJRVMgT1IgQ09ORElUSU9OUyBPRiBBTlkgS0lORCwgZWl0aGVyIGV4cHJlc3Mgb3IgaW1wbGllZC4KLy8gU2VlIHRoZSBMaWNlbnNlIGZvciB0aGUgc3BlY2lmaWMgbGFuZ3VhZ2UgZ292ZXJuaW5nIHBlcm1pc3Npb25zIGFuZAovLyBsaW1pdGF0aW9ucyB1bmRlciB0aGUgTGljZW5zZS4KCi8qKgogKiBAZmlsZW92ZXJ2aWV3IEhlbHBlcnMgZm9yIGdvb2dsZS5jb2xhYiBQeXRob24gbW9kdWxlLgogKi8KKGZ1bmN0aW9uKHNjb3BlKSB7CmZ1bmN0aW9uIHNwYW4odGV4dCwgc3R5bGVBdHRyaWJ1dGVzID0ge30pIHsKICBjb25zdCBlbGVtZW50ID0gZG9jdW1lbnQuY3JlYXRlRWxlbWVudCgnc3BhbicpOwogIGVsZW1lbnQudGV4dENvbnRlbnQgPSB0ZXh0OwogIGZvciAoY29uc3Qga2V5IG9mIE9iamVjdC5rZXlzKHN0eWxlQXR0cmlidXRlcykpIHsKICAgIGVsZW1lbnQuc3R5bGVba2V5XSA9IHN0eWxlQXR0cmlidXRlc1trZXldOwogIH0KICByZXR1cm4gZWxlbWVudDsKfQoKLy8gTWF4IG51bWJlciBvZiBieXRlcyB3aGljaCB3aWxsIGJlIHVwbG9hZGVkIGF0IGEgdGltZS4KY29uc3QgTUFYX1BBWUxPQURfU0laRSA9IDEwMCAqIDEwMjQ7CgpmdW5jdGlvbiBfdXBsb2FkRmlsZXMoaW5wdXRJZCwgb3V0cHV0SWQpIHsKICBjb25zdCBzdGVwcyA9IHVwbG9hZEZpbGVzU3RlcChpbnB1dElkLCBvdXRwdXRJZCk7CiAgY29uc3Qgb3V0cHV0RWxlbWVudCA9IGRvY3VtZW50LmdldEVsZW1lbnRCeUlkKG91dHB1dElkKTsKICAvLyBDYWNoZSBzdGVwcyBvbiB0aGUgb3V0cHV0RWxlbWVudCB0byBtYWtlIGl0IGF2YWlsYWJsZSBmb3IgdGhlIG5leHQgY2FsbAogIC8vIHRvIHVwbG9hZEZpbGVzQ29udGludWUgZnJvbSBQeXRob24uCiAgb3V0cHV0RWxlbWVudC5zdGVwcyA9IHN0ZXBzOwoKICByZXR1cm4gX3VwbG9hZEZpbGVzQ29udGludWUob3V0cHV0SWQpOwp9CgovLyBUaGlzIGlzIHJvdWdobHkgYW4gYXN5bmMgZ2VuZXJhdG9yIChub3Qgc3VwcG9ydGVkIGluIHRoZSBicm93c2VyIHlldCksCi8vIHdoZXJlIHRoZXJlIGFyZSBtdWx0aXBsZSBhc3luY2hyb25vdXMgc3RlcHMgYW5kIHRoZSBQeXRob24gc2lkZSBpcyBnb2luZwovLyB0byBwb2xsIGZvciBjb21wbGV0aW9uIG9mIGVhY2ggc3RlcC4KLy8gVGhpcyB1c2VzIGEgUHJvbWlzZSB0byBibG9jayB0aGUgcHl0aG9uIHNpZGUgb24gY29tcGxldGlvbiBvZiBlYWNoIHN0ZXAsCi8vIHRoZW4gcGFzc2VzIHRoZSByZXN1bHQgb2YgdGhlIHByZXZpb3VzIHN0ZXAgYXMgdGhlIGlucHV0IHRvIHRoZSBuZXh0IHN0ZXAuCmZ1bmN0aW9uIF91cGxvYWRGaWxlc0NvbnRpbnVlKG91dHB1dElkKSB7CiAgY29uc3Qgb3V0cHV0RWxlbWVudCA9IGRvY3VtZW50LmdldEVsZW1lbnRCeUlkKG91dHB1dElkKTsKICBjb25zdCBzdGVwcyA9IG91dHB1dEVsZW1lbnQuc3RlcHM7CgogIGNvbnN0IG5leHQgPSBzdGVwcy5uZXh0KG91dHB1dEVsZW1lbnQubGFzdFByb21pc2VWYWx1ZSk7CiAgcmV0dXJuIFByb21pc2UucmVzb2x2ZShuZXh0LnZhbHVlLnByb21pc2UpLnRoZW4oKHZhbHVlKSA9PiB7CiAgICAvLyBDYWNoZSB0aGUgbGFzdCBwcm9taXNlIHZhbHVlIHRvIG1ha2UgaXQgYXZhaWxhYmxlIHRvIHRoZSBuZXh0CiAgICAvLyBzdGVwIG9mIHRoZSBnZW5lcmF0b3IuCiAgICBvdXRwdXRFbGVtZW50Lmxhc3RQcm9taXNlVmFsdWUgPSB2YWx1ZTsKICAgIHJldHVybiBuZXh0LnZhbHVlLnJlc3BvbnNlOwogIH0pOwp9CgovKioKICogR2VuZXJhdG9yIGZ1bmN0aW9uIHdoaWNoIGlzIGNhbGxlZCBiZXR3ZWVuIGVhY2ggYXN5bmMgc3RlcCBvZiB0aGUgdXBsb2FkCiAqIHByb2Nlc3MuCiAqIEBwYXJhbSB7c3RyaW5nfSBpbnB1dElkIEVsZW1lbnQgSUQgb2YgdGhlIGlucHV0IGZpbGUgcGlja2VyIGVsZW1lbnQuCiAqIEBwYXJhbSB7c3RyaW5nfSBvdXRwdXRJZCBFbGVtZW50IElEIG9mIHRoZSBvdXRwdXQgZGlzcGxheS4KICogQHJldHVybiB7IUl0ZXJhYmxlPCFPYmplY3Q+fSBJdGVyYWJsZSBvZiBuZXh0IHN0ZXBzLgogKi8KZnVuY3Rpb24qIHVwbG9hZEZpbGVzU3RlcChpbnB1dElkLCBvdXRwdXRJZCkgewogIGNvbnN0IGlucHV0RWxlbWVudCA9IGRvY3VtZW50LmdldEVsZW1lbnRCeUlkKGlucHV0SWQpOwogIGlucHV0RWxlbWVudC5kaXNhYmxlZCA9IGZhbHNlOwoKICBjb25zdCBvdXRwdXRFbGVtZW50ID0gZG9jdW1lbnQuZ2V0RWxlbWVudEJ5SWQob3V0cHV0SWQpOwogIG91dHB1dEVsZW1lbnQuaW5uZXJIVE1MID0gJyc7CgogIGNvbnN0IHBpY2tlZFByb21pc2UgPSBuZXcgUHJvbWlzZSgocmVzb2x2ZSkgPT4gewogICAgaW5wdXRFbGVtZW50LmFkZEV2ZW50TGlzdGVuZXIoJ2NoYW5nZScsIChlKSA9PiB7CiAgICAgIHJlc29sdmUoZS50YXJnZXQuZmlsZXMpOwogICAgfSk7CiAgfSk7CgogIGNvbnN0IGNhbmNlbCA9IGRvY3VtZW50LmNyZWF0ZUVsZW1lbnQoJ2J1dHRvbicpOwogIGlucHV0RWxlbWVudC5wYXJlbnRFbGVtZW50LmFwcGVuZENoaWxkKGNhbmNlbCk7CiAgY2FuY2VsLnRleHRDb250ZW50ID0gJ0NhbmNlbCB1cGxvYWQnOwogIGNvbnN0IGNhbmNlbFByb21pc2UgPSBuZXcgUHJvbWlzZSgocmVzb2x2ZSkgPT4gewogICAgY2FuY2VsLm9uY2xpY2sgPSAoKSA9PiB7CiAgICAgIHJlc29sdmUobnVsbCk7CiAgICB9OwogIH0pOwoKICAvLyBXYWl0IGZvciB0aGUgdXNlciB0byBwaWNrIHRoZSBmaWxlcy4KICBjb25zdCBmaWxlcyA9IHlpZWxkIHsKICAgIHByb21pc2U6IFByb21pc2UucmFjZShbcGlja2VkUHJvbWlzZSwgY2FuY2VsUHJvbWlzZV0pLAogICAgcmVzcG9uc2U6IHsKICAgICAgYWN0aW9uOiAnc3RhcnRpbmcnLAogICAgfQogIH07CgogIGNhbmNlbC5yZW1vdmUoKTsKCiAgLy8gRGlzYWJsZSB0aGUgaW5wdXQgZWxlbWVudCBzaW5jZSBmdXJ0aGVyIHBpY2tzIGFyZSBub3QgYWxsb3dlZC4KICBpbnB1dEVsZW1lbnQuZGlzYWJsZWQgPSB0cnVlOwoKICBpZiAoIWZpbGVzKSB7CiAgICByZXR1cm4gewogICAgICByZXNwb25zZTogewogICAgICAgIGFjdGlvbjogJ2NvbXBsZXRlJywKICAgICAgfQogICAgfTsKICB9CgogIGZvciAoY29uc3QgZmlsZSBvZiBmaWxlcykgewogICAgY29uc3QgbGkgPSBkb2N1bWVudC5jcmVhdGVFbGVtZW50KCdsaScpOwogICAgbGkuYXBwZW5kKHNwYW4oZmlsZS5uYW1lLCB7Zm9udFdlaWdodDogJ2JvbGQnfSkpOwogICAgbGkuYXBwZW5kKHNwYW4oCiAgICAgICAgYCgke2ZpbGUudHlwZSB8fCAnbi9hJ30pIC0gJHtmaWxlLnNpemV9IGJ5dGVzLCBgICsKICAgICAgICBgbGFzdCBtb2RpZmllZDogJHsKICAgICAgICAgICAgZmlsZS5sYXN0TW9kaWZpZWREYXRlID8gZmlsZS5sYXN0TW9kaWZpZWREYXRlLnRvTG9jYWxlRGF0ZVN0cmluZygpIDoKICAgICAgICAgICAgICAgICAgICAgICAgICAgICAgICAgICAgJ24vYSd9IC0gYCkpOwogICAgY29uc3QgcGVyY2VudCA9IHNwYW4oJzAlIGRvbmUnKTsKICAgIGxpLmFwcGVuZENoaWxkKHBlcmNlbnQpOwoKICAgIG91dHB1dEVsZW1lbnQuYXBwZW5kQ2hpbGQobGkpOwoKICAgIGNvbnN0IGZpbGVEYXRhUHJvbWlzZSA9IG5ldyBQcm9taXNlKChyZXNvbHZlKSA9PiB7CiAgICAgIGNvbnN0IHJlYWRlciA9IG5ldyBGaWxlUmVhZGVyKCk7CiAgICAgIHJlYWRlci5vbmxvYWQgPSAoZSkgPT4gewogICAgICAgIHJlc29sdmUoZS50YXJnZXQucmVzdWx0KTsKICAgICAgfTsKICAgICAgcmVhZGVyLnJlYWRBc0FycmF5QnVmZmVyKGZpbGUpOwogICAgfSk7CiAgICAvLyBXYWl0IGZvciB0aGUgZGF0YSB0byBiZSByZWFkeS4KICAgIGxldCBmaWxlRGF0YSA9IHlpZWxkIHsKICAgICAgcHJvbWlzZTogZmlsZURhdGFQcm9taXNlLAogICAgICByZXNwb25zZTogewogICAgICAgIGFjdGlvbjogJ2NvbnRpbnVlJywKICAgICAgfQogICAgfTsKCiAgICAvLyBVc2UgYSBjaHVua2VkIHNlbmRpbmcgdG8gYXZvaWQgbWVzc2FnZSBzaXplIGxpbWl0cy4gU2VlIGIvNjIxMTU2NjAuCiAgICBsZXQgcG9zaXRpb24gPSAwOwogICAgZG8gewogICAgICBjb25zdCBsZW5ndGggPSBNYXRoLm1pbihmaWxlRGF0YS5ieXRlTGVuZ3RoIC0gcG9zaXRpb24sIE1BWF9QQVlMT0FEX1NJWkUpOwogICAgICBjb25zdCBjaHVuayA9IG5ldyBVaW50OEFycmF5KGZpbGVEYXRhLCBwb3NpdGlvbiwgbGVuZ3RoKTsKICAgICAgcG9zaXRpb24gKz0gbGVuZ3RoOwoKICAgICAgY29uc3QgYmFzZTY0ID0gYnRvYShTdHJpbmcuZnJvbUNoYXJDb2RlLmFwcGx5KG51bGwsIGNodW5rKSk7CiAgICAgIHlpZWxkIHsKICAgICAgICByZXNwb25zZTogewogICAgICAgICAgYWN0aW9uOiAnYXBwZW5kJywKICAgICAgICAgIGZpbGU6IGZpbGUubmFtZSwKICAgICAgICAgIGRhdGE6IGJhc2U2NCwKICAgICAgICB9LAogICAgICB9OwoKICAgICAgbGV0IHBlcmNlbnREb25lID0gZmlsZURhdGEuYnl0ZUxlbmd0aCA9PT0gMCA/CiAgICAgICAgICAxMDAgOgogICAgICAgICAgTWF0aC5yb3VuZCgocG9zaXRpb24gLyBmaWxlRGF0YS5ieXRlTGVuZ3RoKSAqIDEwMCk7CiAgICAgIHBlcmNlbnQudGV4dENvbnRlbnQgPSBgJHtwZXJjZW50RG9uZX0lIGRvbmVgOwoKICAgIH0gd2hpbGUgKHBvc2l0aW9uIDwgZmlsZURhdGEuYnl0ZUxlbmd0aCk7CiAgfQoKICAvLyBBbGwgZG9uZS4KICB5aWVsZCB7CiAgICByZXNwb25zZTogewogICAgICBhY3Rpb246ICdjb21wbGV0ZScsCiAgICB9CiAgfTsKfQoKc2NvcGUuZ29vZ2xlID0gc2NvcGUuZ29vZ2xlIHx8IHt9OwpzY29wZS5nb29nbGUuY29sYWIgPSBzY29wZS5nb29nbGUuY29sYWIgfHwge307CnNjb3BlLmdvb2dsZS5jb2xhYi5fZmlsZXMgPSB7CiAgX3VwbG9hZEZpbGVzLAogIF91cGxvYWRGaWxlc0NvbnRpbnVlLAp9Owp9KShzZWxmKTsK",
              "ok": true,
              "headers": [
                [
                  "content-type",
                  "application/javascript"
                ]
              ],
              "status": 200,
              "status_text": ""
            }
          },
          "base_uri": "https://localhost:8080/",
          "height": 73
        },
        "id": "PPQcz7PqYBHt",
        "outputId": "8841c629-fb72-4313-fe3c-21f30c9da208"
      },
      "source": [
        "from google.colab import files\n",
        "uploaded = files.upload()"
      ],
      "execution_count": 5,
      "outputs": [
        {
          "output_type": "display_data",
          "data": {
            "text/html": [
              "\n",
              "     <input type=\"file\" id=\"files-ebb85da1-3bf2-4a09-bd43-577526d03ff9\" name=\"files[]\" multiple disabled\n",
              "        style=\"border:none\" />\n",
              "     <output id=\"result-ebb85da1-3bf2-4a09-bd43-577526d03ff9\">\n",
              "      Upload widget is only available when the cell has been executed in the\n",
              "      current browser session. Please rerun this cell to enable.\n",
              "      </output>\n",
              "      <script src=\"/nbextensions/google.colab/files.js\"></script> "
            ],
            "text/plain": [
              "<IPython.core.display.HTML object>"
            ]
          },
          "metadata": {}
        },
        {
          "output_type": "stream",
          "name": "stdout",
          "text": [
            "Saving sixclass.csv to sixclass (2).csv\n"
          ]
        }
      ]
    },
    {
      "cell_type": "code",
      "metadata": {
        "colab": {
          "base_uri": "https://localhost:8080/",
          "height": 206
        },
        "id": "SnbFeRgPZjUR",
        "outputId": "23af76ae-f1f4-4316-9c1a-d2f9a5f4061f"
      },
      "source": [
        "import pandas as pd\n",
        "\n",
        "df = pd.read_csv(\"sixclass.csv\")\n",
        "df.head()"
      ],
      "execution_count": 109,
      "outputs": [
        {
          "output_type": "execute_result",
          "data": {
            "text/html": [
              "<div>\n",
              "<style scoped>\n",
              "    .dataframe tbody tr th:only-of-type {\n",
              "        vertical-align: middle;\n",
              "    }\n",
              "\n",
              "    .dataframe tbody tr th {\n",
              "        vertical-align: top;\n",
              "    }\n",
              "\n",
              "    .dataframe thead th {\n",
              "        text-align: right;\n",
              "    }\n",
              "</style>\n",
              "<table border=\"1\" class=\"dataframe\">\n",
              "  <thead>\n",
              "    <tr style=\"text-align: right;\">\n",
              "      <th></th>\n",
              "      <th>Temperature (K)</th>\n",
              "      <th>Luminosity(L/Lo)</th>\n",
              "      <th>Radius(R/Ro)</th>\n",
              "      <th>Absolute magnitude(Mv)</th>\n",
              "      <th>Star type</th>\n",
              "      <th>Star color</th>\n",
              "      <th>Spectral Class</th>\n",
              "    </tr>\n",
              "  </thead>\n",
              "  <tbody>\n",
              "    <tr>\n",
              "      <th>0</th>\n",
              "      <td>3068</td>\n",
              "      <td>0.002400</td>\n",
              "      <td>0.1700</td>\n",
              "      <td>16.12</td>\n",
              "      <td>0</td>\n",
              "      <td>Red</td>\n",
              "      <td>M</td>\n",
              "    </tr>\n",
              "    <tr>\n",
              "      <th>1</th>\n",
              "      <td>3042</td>\n",
              "      <td>0.000500</td>\n",
              "      <td>0.1542</td>\n",
              "      <td>16.60</td>\n",
              "      <td>0</td>\n",
              "      <td>Red</td>\n",
              "      <td>M</td>\n",
              "    </tr>\n",
              "    <tr>\n",
              "      <th>2</th>\n",
              "      <td>2600</td>\n",
              "      <td>0.000300</td>\n",
              "      <td>0.1020</td>\n",
              "      <td>18.70</td>\n",
              "      <td>0</td>\n",
              "      <td>Red</td>\n",
              "      <td>M</td>\n",
              "    </tr>\n",
              "    <tr>\n",
              "      <th>3</th>\n",
              "      <td>2800</td>\n",
              "      <td>0.000200</td>\n",
              "      <td>0.1600</td>\n",
              "      <td>16.65</td>\n",
              "      <td>0</td>\n",
              "      <td>Red</td>\n",
              "      <td>M</td>\n",
              "    </tr>\n",
              "    <tr>\n",
              "      <th>4</th>\n",
              "      <td>1939</td>\n",
              "      <td>0.000138</td>\n",
              "      <td>0.1030</td>\n",
              "      <td>20.06</td>\n",
              "      <td>0</td>\n",
              "      <td>Red</td>\n",
              "      <td>M</td>\n",
              "    </tr>\n",
              "  </tbody>\n",
              "</table>\n",
              "</div>"
            ],
            "text/plain": [
              "   Temperature (K)  Luminosity(L/Lo)  ...  Star color  Spectral Class\n",
              "0             3068          0.002400  ...         Red               M\n",
              "1             3042          0.000500  ...         Red               M\n",
              "2             2600          0.000300  ...         Red               M\n",
              "3             2800          0.000200  ...         Red               M\n",
              "4             1939          0.000138  ...         Red               M\n",
              "\n",
              "[5 rows x 7 columns]"
            ]
          },
          "metadata": {},
          "execution_count": 109
        }
      ]
    },
    {
      "cell_type": "code",
      "metadata": {
        "id": "D9NCE-YOv52L"
      },
      "source": [
        "import numpy as np"
      ],
      "execution_count": 110,
      "outputs": []
    },
    {
      "cell_type": "code",
      "metadata": {
        "colab": {
          "base_uri": "https://localhost:8080/",
          "height": 424
        },
        "id": "wQOhcj1Ptglc",
        "outputId": "371ee237-18a3-4002-e9a8-903072e775bf"
      },
      "source": [
        "df.rename(columns={'Spectral Class': 'SpectralClass'}, inplace=True)\n",
        "df"
      ],
      "execution_count": 111,
      "outputs": [
        {
          "output_type": "execute_result",
          "data": {
            "text/html": [
              "<div>\n",
              "<style scoped>\n",
              "    .dataframe tbody tr th:only-of-type {\n",
              "        vertical-align: middle;\n",
              "    }\n",
              "\n",
              "    .dataframe tbody tr th {\n",
              "        vertical-align: top;\n",
              "    }\n",
              "\n",
              "    .dataframe thead th {\n",
              "        text-align: right;\n",
              "    }\n",
              "</style>\n",
              "<table border=\"1\" class=\"dataframe\">\n",
              "  <thead>\n",
              "    <tr style=\"text-align: right;\">\n",
              "      <th></th>\n",
              "      <th>Temperature (K)</th>\n",
              "      <th>Luminosity(L/Lo)</th>\n",
              "      <th>Radius(R/Ro)</th>\n",
              "      <th>Absolute magnitude(Mv)</th>\n",
              "      <th>Star type</th>\n",
              "      <th>Star color</th>\n",
              "      <th>SpectralClass</th>\n",
              "    </tr>\n",
              "  </thead>\n",
              "  <tbody>\n",
              "    <tr>\n",
              "      <th>0</th>\n",
              "      <td>3068</td>\n",
              "      <td>0.002400</td>\n",
              "      <td>0.1700</td>\n",
              "      <td>16.12</td>\n",
              "      <td>0</td>\n",
              "      <td>Red</td>\n",
              "      <td>M</td>\n",
              "    </tr>\n",
              "    <tr>\n",
              "      <th>1</th>\n",
              "      <td>3042</td>\n",
              "      <td>0.000500</td>\n",
              "      <td>0.1542</td>\n",
              "      <td>16.60</td>\n",
              "      <td>0</td>\n",
              "      <td>Red</td>\n",
              "      <td>M</td>\n",
              "    </tr>\n",
              "    <tr>\n",
              "      <th>2</th>\n",
              "      <td>2600</td>\n",
              "      <td>0.000300</td>\n",
              "      <td>0.1020</td>\n",
              "      <td>18.70</td>\n",
              "      <td>0</td>\n",
              "      <td>Red</td>\n",
              "      <td>M</td>\n",
              "    </tr>\n",
              "    <tr>\n",
              "      <th>3</th>\n",
              "      <td>2800</td>\n",
              "      <td>0.000200</td>\n",
              "      <td>0.1600</td>\n",
              "      <td>16.65</td>\n",
              "      <td>0</td>\n",
              "      <td>Red</td>\n",
              "      <td>M</td>\n",
              "    </tr>\n",
              "    <tr>\n",
              "      <th>4</th>\n",
              "      <td>1939</td>\n",
              "      <td>0.000138</td>\n",
              "      <td>0.1030</td>\n",
              "      <td>20.06</td>\n",
              "      <td>0</td>\n",
              "      <td>Red</td>\n",
              "      <td>M</td>\n",
              "    </tr>\n",
              "    <tr>\n",
              "      <th>...</th>\n",
              "      <td>...</td>\n",
              "      <td>...</td>\n",
              "      <td>...</td>\n",
              "      <td>...</td>\n",
              "      <td>...</td>\n",
              "      <td>...</td>\n",
              "      <td>...</td>\n",
              "    </tr>\n",
              "    <tr>\n",
              "      <th>235</th>\n",
              "      <td>38940</td>\n",
              "      <td>374830.000000</td>\n",
              "      <td>1356.0000</td>\n",
              "      <td>-9.93</td>\n",
              "      <td>5</td>\n",
              "      <td>Blue</td>\n",
              "      <td>O</td>\n",
              "    </tr>\n",
              "    <tr>\n",
              "      <th>236</th>\n",
              "      <td>30839</td>\n",
              "      <td>834042.000000</td>\n",
              "      <td>1194.0000</td>\n",
              "      <td>-10.63</td>\n",
              "      <td>5</td>\n",
              "      <td>Blue</td>\n",
              "      <td>O</td>\n",
              "    </tr>\n",
              "    <tr>\n",
              "      <th>237</th>\n",
              "      <td>8829</td>\n",
              "      <td>537493.000000</td>\n",
              "      <td>1423.0000</td>\n",
              "      <td>-10.73</td>\n",
              "      <td>5</td>\n",
              "      <td>White</td>\n",
              "      <td>A</td>\n",
              "    </tr>\n",
              "    <tr>\n",
              "      <th>238</th>\n",
              "      <td>9235</td>\n",
              "      <td>404940.000000</td>\n",
              "      <td>1112.0000</td>\n",
              "      <td>-11.23</td>\n",
              "      <td>5</td>\n",
              "      <td>White</td>\n",
              "      <td>A</td>\n",
              "    </tr>\n",
              "    <tr>\n",
              "      <th>239</th>\n",
              "      <td>37882</td>\n",
              "      <td>294903.000000</td>\n",
              "      <td>1783.0000</td>\n",
              "      <td>-7.80</td>\n",
              "      <td>5</td>\n",
              "      <td>Blue</td>\n",
              "      <td>O</td>\n",
              "    </tr>\n",
              "  </tbody>\n",
              "</table>\n",
              "<p>240 rows × 7 columns</p>\n",
              "</div>"
            ],
            "text/plain": [
              "     Temperature (K)  Luminosity(L/Lo)  ...  Star color  SpectralClass\n",
              "0               3068          0.002400  ...         Red              M\n",
              "1               3042          0.000500  ...         Red              M\n",
              "2               2600          0.000300  ...         Red              M\n",
              "3               2800          0.000200  ...         Red              M\n",
              "4               1939          0.000138  ...         Red              M\n",
              "..               ...               ...  ...         ...            ...\n",
              "235            38940     374830.000000  ...        Blue              O\n",
              "236            30839     834042.000000  ...        Blue              O\n",
              "237             8829     537493.000000  ...       White              A\n",
              "238             9235     404940.000000  ...       White              A\n",
              "239            37882     294903.000000  ...        Blue              O\n",
              "\n",
              "[240 rows x 7 columns]"
            ]
          },
          "metadata": {},
          "execution_count": 111
        }
      ]
    },
    {
      "cell_type": "code",
      "metadata": {
        "colab": {
          "base_uri": "https://localhost:8080/"
        },
        "id": "i50YMsO2gtB9",
        "outputId": "76d78c10-d81b-43fc-a9b9-175e90d560f8"
      },
      "source": [
        "def funct(df):\n",
        "  return (sum(df.loc[df['SpectralClass'] == 'M'].shape), sum(df.loc[df['SpectralClass'] == 'M']['Temperature (K)']) / sum(df.loc[df['SpectralClass'] == 'M'].shape))\n",
        "print(funct(df))"
      ],
      "execution_count": 112,
      "outputs": [
        {
          "output_type": "stream",
          "name": "stdout",
          "text": [
            "(118, 3064.101694915254)\n"
          ]
        }
      ]
    },
    {
      "cell_type": "code",
      "metadata": {
        "colab": {
          "base_uri": "https://localhost:8080/",
          "height": 295
        },
        "id": "M8T7SjXfvSAt",
        "outputId": "dafd0fcb-7164-4ea2-98f6-6cbee7086542"
      },
      "source": [
        "import matplotlib.pyplot as plt\n",
        "plt.title(\"SpectralClass\")\n",
        "plt.hist(df['SpectralClass'])\n",
        "plt.ylabel(\"colvo\")\n",
        "plt.xlabel(\"type\")\n",
        "plt.show()"
      ],
      "execution_count": 131,
      "outputs": [
        {
          "output_type": "display_data",
          "data": {
            "image/png": "[encoded data removed]",
            "text/plain": [
              "<Figure size 432x288 with 1 Axes>"
            ]
          },
          "metadata": {
            "needs_background": "light"
          }
        }
      ]
    },
    {
      "cell_type": "code",
      "metadata": {
        "colab": {
          "base_uri": "https://localhost:8080/",
          "height": 286
        },
        "id": "HjuxmNusxegN",
        "outputId": "ed05f0dc-d273-47b1-e0a2-227f2e2c665a"
      },
      "source": [
        "plt.figure(figsize=(25, 5))\n",
        "plt.hist(df['Star color'])\n",
        "plt.title(\"Star color\")\n",
        "plt.ylabel(\"colvo\")\n",
        "plt.xlabel(\"color\")\n",
        "plt.show()"
      ],
      "execution_count": 130,
      "outputs": [
        {
          "output_type": "display_data",
          "data": {
            "image/png": "[encoded data removed]",
            "text/plain": [
              "<Figure size 1800x360 with 1 Axes>"
            ]
          },
          "metadata": {
            "needs_background": "light"
          }
        }
      ]
    },
    {
      "cell_type": "code",
      "metadata": {
        "colab": {
          "base_uri": "https://localhost:8080/"
        },
        "id": "H553kgSOtGLp",
        "outputId": "c2766bb7-b231-4607-cbc2-bc280d6e25ed"
      },
      "source": [
        "print(df.shape)\n",
        "print(df.dtypes)"
      ],
      "execution_count": 115,
      "outputs": [
        {
          "output_type": "stream",
          "name": "stdout",
          "text": [
            "(240, 7)\n",
            "Temperature (K)             int64\n",
            "Luminosity(L/Lo)          float64\n",
            "Radius(R/Ro)              float64\n",
            "Absolute magnitude(Mv)    float64\n",
            "Star type                   int64\n",
            "Star color                 object\n",
            "SpectralClass              object\n",
            "dtype: object\n"
          ]
        }
      ]
    },
    {
      "cell_type": "code",
      "metadata": {
        "colab": {
          "base_uri": "https://localhost:8080/",
          "height": 563
        },
        "id": "9fqGSavlg7AM",
        "outputId": "d59912d2-566e-4dfa-9a99-7e88e54b0714"
      },
      "source": [
        "print(df.isna().sum())\n",
        "df = df.dropna(axis=0, how='any')\n",
        "df"
      ],
      "execution_count": 116,
      "outputs": [
        {
          "output_type": "stream",
          "name": "stdout",
          "text": [
            "Temperature (K)           0\n",
            "Luminosity(L/Lo)          0\n",
            "Radius(R/Ro)              0\n",
            "Absolute magnitude(Mv)    0\n",
            "Star type                 0\n",
            "Star color                0\n",
            "SpectralClass             0\n",
            "dtype: int64\n"
          ]
        },
        {
          "output_type": "execute_result",
          "data": {
            "text/html": [
              "<div>\n",
              "<style scoped>\n",
              "    .dataframe tbody tr th:only-of-type {\n",
              "        vertical-align: middle;\n",
              "    }\n",
              "\n",
              "    .dataframe tbody tr th {\n",
              "        vertical-align: top;\n",
              "    }\n",
              "\n",
              "    .dataframe thead th {\n",
              "        text-align: right;\n",
              "    }\n",
              "</style>\n",
              "<table border=\"1\" class=\"dataframe\">\n",
              "  <thead>\n",
              "    <tr style=\"text-align: right;\">\n",
              "      <th></th>\n",
              "      <th>Temperature (K)</th>\n",
              "      <th>Luminosity(L/Lo)</th>\n",
              "      <th>Radius(R/Ro)</th>\n",
              "      <th>Absolute magnitude(Mv)</th>\n",
              "      <th>Star type</th>\n",
              "      <th>Star color</th>\n",
              "      <th>SpectralClass</th>\n",
              "    </tr>\n",
              "  </thead>\n",
              "  <tbody>\n",
              "    <tr>\n",
              "      <th>0</th>\n",
              "      <td>3068</td>\n",
              "      <td>0.002400</td>\n",
              "      <td>0.1700</td>\n",
              "      <td>16.12</td>\n",
              "      <td>0</td>\n",
              "      <td>Red</td>\n",
              "      <td>M</td>\n",
              "    </tr>\n",
              "    <tr>\n",
              "      <th>1</th>\n",
              "      <td>3042</td>\n",
              "      <td>0.000500</td>\n",
              "      <td>0.1542</td>\n",
              "      <td>16.60</td>\n",
              "      <td>0</td>\n",
              "      <td>Red</td>\n",
              "      <td>M</td>\n",
              "    </tr>\n",
              "    <tr>\n",
              "      <th>2</th>\n",
              "      <td>2600</td>\n",
              "      <td>0.000300</td>\n",
              "      <td>0.1020</td>\n",
              "      <td>18.70</td>\n",
              "      <td>0</td>\n",
              "      <td>Red</td>\n",
              "      <td>M</td>\n",
              "    </tr>\n",
              "    <tr>\n",
              "      <th>3</th>\n",
              "      <td>2800</td>\n",
              "      <td>0.000200</td>\n",
              "      <td>0.1600</td>\n",
              "      <td>16.65</td>\n",
              "      <td>0</td>\n",
              "      <td>Red</td>\n",
              "      <td>M</td>\n",
              "    </tr>\n",
              "    <tr>\n",
              "      <th>4</th>\n",
              "      <td>1939</td>\n",
              "      <td>0.000138</td>\n",
              "      <td>0.1030</td>\n",
              "      <td>20.06</td>\n",
              "      <td>0</td>\n",
              "      <td>Red</td>\n",
              "      <td>M</td>\n",
              "    </tr>\n",
              "    <tr>\n",
              "      <th>...</th>\n",
              "      <td>...</td>\n",
              "      <td>...</td>\n",
              "      <td>...</td>\n",
              "      <td>...</td>\n",
              "      <td>...</td>\n",
              "      <td>...</td>\n",
              "      <td>...</td>\n",
              "    </tr>\n",
              "    <tr>\n",
              "      <th>235</th>\n",
              "      <td>38940</td>\n",
              "      <td>374830.000000</td>\n",
              "      <td>1356.0000</td>\n",
              "      <td>-9.93</td>\n",
              "      <td>5</td>\n",
              "      <td>Blue</td>\n",
              "      <td>O</td>\n",
              "    </tr>\n",
              "    <tr>\n",
              "      <th>236</th>\n",
              "      <td>30839</td>\n",
              "      <td>834042.000000</td>\n",
              "      <td>1194.0000</td>\n",
              "      <td>-10.63</td>\n",
              "      <td>5</td>\n",
              "      <td>Blue</td>\n",
              "      <td>O</td>\n",
              "    </tr>\n",
              "    <tr>\n",
              "      <th>237</th>\n",
              "      <td>8829</td>\n",
              "      <td>537493.000000</td>\n",
              "      <td>1423.0000</td>\n",
              "      <td>-10.73</td>\n",
              "      <td>5</td>\n",
              "      <td>White</td>\n",
              "      <td>A</td>\n",
              "    </tr>\n",
              "    <tr>\n",
              "      <th>238</th>\n",
              "      <td>9235</td>\n",
              "      <td>404940.000000</td>\n",
              "      <td>1112.0000</td>\n",
              "      <td>-11.23</td>\n",
              "      <td>5</td>\n",
              "      <td>White</td>\n",
              "      <td>A</td>\n",
              "    </tr>\n",
              "    <tr>\n",
              "      <th>239</th>\n",
              "      <td>37882</td>\n",
              "      <td>294903.000000</td>\n",
              "      <td>1783.0000</td>\n",
              "      <td>-7.80</td>\n",
              "      <td>5</td>\n",
              "      <td>Blue</td>\n",
              "      <td>O</td>\n",
              "    </tr>\n",
              "  </tbody>\n",
              "</table>\n",
              "<p>240 rows × 7 columns</p>\n",
              "</div>"
            ],
            "text/plain": [
              "     Temperature (K)  Luminosity(L/Lo)  ...  Star color  SpectralClass\n",
              "0               3068          0.002400  ...         Red              M\n",
              "1               3042          0.000500  ...         Red              M\n",
              "2               2600          0.000300  ...         Red              M\n",
              "3               2800          0.000200  ...         Red              M\n",
              "4               1939          0.000138  ...         Red              M\n",
              "..               ...               ...  ...         ...            ...\n",
              "235            38940     374830.000000  ...        Blue              O\n",
              "236            30839     834042.000000  ...        Blue              O\n",
              "237             8829     537493.000000  ...       White              A\n",
              "238             9235     404940.000000  ...       White              A\n",
              "239            37882     294903.000000  ...        Blue              O\n",
              "\n",
              "[240 rows x 7 columns]"
            ]
          },
          "metadata": {},
          "execution_count": 116
        }
      ]
    },
    {
      "cell_type": "code",
      "metadata": {
        "colab": {
          "base_uri": "https://localhost:8080/",
          "height": 424
        },
        "id": "Rh8TzeoukPMq",
        "outputId": "fa115fca-b905-4657-8e58-fe18b9995734"
      },
      "source": [
        "df = df.loc[df['Absolute magnitude(Mv)'] >= 0]\n",
        "df"
      ],
      "execution_count": 117,
      "outputs": [
        {
          "output_type": "execute_result",
          "data": {
            "text/html": [
              "<div>\n",
              "<style scoped>\n",
              "    .dataframe tbody tr th:only-of-type {\n",
              "        vertical-align: middle;\n",
              "    }\n",
              "\n",
              "    .dataframe tbody tr th {\n",
              "        vertical-align: top;\n",
              "    }\n",
              "\n",
              "    .dataframe thead th {\n",
              "        text-align: right;\n",
              "    }\n",
              "</style>\n",
              "<table border=\"1\" class=\"dataframe\">\n",
              "  <thead>\n",
              "    <tr style=\"text-align: right;\">\n",
              "      <th></th>\n",
              "      <th>Temperature (K)</th>\n",
              "      <th>Luminosity(L/Lo)</th>\n",
              "      <th>Radius(R/Ro)</th>\n",
              "      <th>Absolute magnitude(Mv)</th>\n",
              "      <th>Star type</th>\n",
              "      <th>Star color</th>\n",
              "      <th>SpectralClass</th>\n",
              "    </tr>\n",
              "  </thead>\n",
              "  <tbody>\n",
              "    <tr>\n",
              "      <th>0</th>\n",
              "      <td>3068</td>\n",
              "      <td>0.002400</td>\n",
              "      <td>0.17000</td>\n",
              "      <td>16.120</td>\n",
              "      <td>0</td>\n",
              "      <td>Red</td>\n",
              "      <td>M</td>\n",
              "    </tr>\n",
              "    <tr>\n",
              "      <th>1</th>\n",
              "      <td>3042</td>\n",
              "      <td>0.000500</td>\n",
              "      <td>0.15420</td>\n",
              "      <td>16.600</td>\n",
              "      <td>0</td>\n",
              "      <td>Red</td>\n",
              "      <td>M</td>\n",
              "    </tr>\n",
              "    <tr>\n",
              "      <th>2</th>\n",
              "      <td>2600</td>\n",
              "      <td>0.000300</td>\n",
              "      <td>0.10200</td>\n",
              "      <td>18.700</td>\n",
              "      <td>0</td>\n",
              "      <td>Red</td>\n",
              "      <td>M</td>\n",
              "    </tr>\n",
              "    <tr>\n",
              "      <th>3</th>\n",
              "      <td>2800</td>\n",
              "      <td>0.000200</td>\n",
              "      <td>0.16000</td>\n",
              "      <td>16.650</td>\n",
              "      <td>0</td>\n",
              "      <td>Red</td>\n",
              "      <td>M</td>\n",
              "    </tr>\n",
              "    <tr>\n",
              "      <th>4</th>\n",
              "      <td>1939</td>\n",
              "      <td>0.000138</td>\n",
              "      <td>0.10300</td>\n",
              "      <td>20.060</td>\n",
              "      <td>0</td>\n",
              "      <td>Red</td>\n",
              "      <td>M</td>\n",
              "    </tr>\n",
              "    <tr>\n",
              "      <th>...</th>\n",
              "      <td>...</td>\n",
              "      <td>...</td>\n",
              "      <td>...</td>\n",
              "      <td>...</td>\n",
              "      <td>...</td>\n",
              "      <td>...</td>\n",
              "      <td>...</td>\n",
              "    </tr>\n",
              "    <tr>\n",
              "      <th>207</th>\n",
              "      <td>23092</td>\n",
              "      <td>0.001320</td>\n",
              "      <td>0.01040</td>\n",
              "      <td>10.180</td>\n",
              "      <td>2</td>\n",
              "      <td>Blue</td>\n",
              "      <td>B</td>\n",
              "    </tr>\n",
              "    <tr>\n",
              "      <th>208</th>\n",
              "      <td>17920</td>\n",
              "      <td>0.001110</td>\n",
              "      <td>0.01060</td>\n",
              "      <td>11.660</td>\n",
              "      <td>2</td>\n",
              "      <td>Blue</td>\n",
              "      <td>B</td>\n",
              "    </tr>\n",
              "    <tr>\n",
              "      <th>209</th>\n",
              "      <td>19360</td>\n",
              "      <td>0.001250</td>\n",
              "      <td>0.00998</td>\n",
              "      <td>11.620</td>\n",
              "      <td>2</td>\n",
              "      <td>Blue</td>\n",
              "      <td>B</td>\n",
              "    </tr>\n",
              "    <tr>\n",
              "      <th>211</th>\n",
              "      <td>10012</td>\n",
              "      <td>552.000000</td>\n",
              "      <td>5.85600</td>\n",
              "      <td>0.013</td>\n",
              "      <td>3</td>\n",
              "      <td>Blue-white</td>\n",
              "      <td>A</td>\n",
              "    </tr>\n",
              "    <tr>\n",
              "      <th>216</th>\n",
              "      <td>9320</td>\n",
              "      <td>29.000000</td>\n",
              "      <td>1.91000</td>\n",
              "      <td>1.236</td>\n",
              "      <td>3</td>\n",
              "      <td>Blue-white</td>\n",
              "      <td>A</td>\n",
              "    </tr>\n",
              "  </tbody>\n",
              "</table>\n",
              "<p>138 rows × 7 columns</p>\n",
              "</div>"
            ],
            "text/plain": [
              "     Temperature (K)  Luminosity(L/Lo)  ...  Star color  SpectralClass\n",
              "0               3068          0.002400  ...         Red              M\n",
              "1               3042          0.000500  ...         Red              M\n",
              "2               2600          0.000300  ...         Red              M\n",
              "3               2800          0.000200  ...         Red              M\n",
              "4               1939          0.000138  ...         Red              M\n",
              "..               ...               ...  ...         ...            ...\n",
              "207            23092          0.001320  ...        Blue              B\n",
              "208            17920          0.001110  ...        Blue              B\n",
              "209            19360          0.001250  ...        Blue              B\n",
              "211            10012        552.000000  ...  Blue-white              A\n",
              "216             9320         29.000000  ...  Blue-white              A\n",
              "\n",
              "[138 rows x 7 columns]"
            ]
          },
          "metadata": {},
          "execution_count": 117
        }
      ]
    },
    {
      "cell_type": "code",
      "metadata": {
        "colab": {
          "base_uri": "https://localhost:8080/"
        },
        "id": "DYtxZaMZmTOc",
        "outputId": "7653e69d-526a-4d70-9483-aa22caecbb83"
      },
      "source": [
        "df['SpectralClass'].unique()"
      ],
      "execution_count": 118,
      "outputs": [
        {
          "output_type": "execute_result",
          "data": {
            "text/plain": [
              "array(['M', 'B', 'A', 'F', 'K'], dtype=object)"
            ]
          },
          "metadata": {},
          "execution_count": 118
        }
      ]
    },
    {
      "cell_type": "code",
      "metadata": {
        "id": "znI0aw2hr-bA"
      },
      "source": [
        "mm = sum(df.loc[df['SpectralClass'] == 'M']['Temperature (K)']) / sum(df.loc[df['SpectralClass'] == 'M'].shape)\n",
        "bb = sum(df.loc[df['SpectralClass'] == 'B']['Temperature (K)']) / sum(df.loc[df['SpectralClass'] == 'B'].shape)\n",
        "aa = sum(df.loc[df['SpectralClass'] == 'A']['Temperature (K)']) / sum(df.loc[df['SpectralClass'] == 'A'].shape)\n",
        "ff = sum(df.loc[df['SpectralClass'] == 'F']['Temperature (K)']) / sum(df.loc[df['SpectralClass'] == 'F'].shape)\n",
        "kk = sum(df.loc[df['SpectralClass'] == 'K']['Temperature (K)']) / sum(df.loc[df['SpectralClass'] == 'K'].shape)"
      ],
      "execution_count": 119,
      "outputs": []
    },
    {
      "cell_type": "code",
      "metadata": {
        "colab": {
          "base_uri": "https://localhost:8080/",
          "height": 632
        },
        "id": "8bjkA5ZRls-K",
        "outputId": "509e5410-eb2b-424d-cf6b-509c9b183b54"
      },
      "source": [
        "df['new'] = sum(df.iloc[:, 0])/216\n",
        "df.loc[(df.SpectralClass == 'M'), ('new')] = mm\n",
        "df.loc[(df.SpectralClass == 'B'), ('new')] = bb\n",
        "df.loc[(df.SpectralClass == 'A'), ('new')] = aa\n",
        "df.loc[(df.SpectralClass == 'F'), ('new')] = ff\n",
        "df.loc[(df.SpectralClass == 'K'), ('new')] = kk\n",
        "df"
      ],
      "execution_count": 120,
      "outputs": [
        {
          "output_type": "stream",
          "name": "stderr",
          "text": [
            "/usr/local/lib/python3.7/dist-packages/ipykernel_launcher.py:1: SettingWithCopyWarning: \n",
            "A value is trying to be set on a copy of a slice from a DataFrame.\n",
            "Try using .loc[row_indexer,col_indexer] = value instead\n",
            "\n",
            "See the caveats in the documentation: https://pandas.pydata.org/pandas-docs/stable/user_guide/indexing.html#returning-a-view-versus-a-copy\n",
            "  \"\"\"Entry point for launching an IPython kernel.\n",
            "/usr/local/lib/python3.7/dist-packages/pandas/core/indexing.py:1763: SettingWithCopyWarning: \n",
            "A value is trying to be set on a copy of a slice from a DataFrame.\n",
            "Try using .loc[row_indexer,col_indexer] = value instead\n",
            "\n",
            "See the caveats in the documentation: https://pandas.pydata.org/pandas-docs/stable/user_guide/indexing.html#returning-a-view-versus-a-copy\n",
            "  isetter(loc, value)\n"
          ]
        },
        {
          "output_type": "execute_result",
          "data": {
            "text/html": [
              "<div>\n",
              "<style scoped>\n",
              "    .dataframe tbody tr th:only-of-type {\n",
              "        vertical-align: middle;\n",
              "    }\n",
              "\n",
              "    .dataframe tbody tr th {\n",
              "        vertical-align: top;\n",
              "    }\n",
              "\n",
              "    .dataframe thead th {\n",
              "        text-align: right;\n",
              "    }\n",
              "</style>\n",
              "<table border=\"1\" class=\"dataframe\">\n",
              "  <thead>\n",
              "    <tr style=\"text-align: right;\">\n",
              "      <th></th>\n",
              "      <th>Temperature (K)</th>\n",
              "      <th>Luminosity(L/Lo)</th>\n",
              "      <th>Radius(R/Ro)</th>\n",
              "      <th>Absolute magnitude(Mv)</th>\n",
              "      <th>Star type</th>\n",
              "      <th>Star color</th>\n",
              "      <th>SpectralClass</th>\n",
              "      <th>new</th>\n",
              "    </tr>\n",
              "  </thead>\n",
              "  <tbody>\n",
              "    <tr>\n",
              "      <th>0</th>\n",
              "      <td>3068</td>\n",
              "      <td>0.002400</td>\n",
              "      <td>0.17000</td>\n",
              "      <td>16.120</td>\n",
              "      <td>0</td>\n",
              "      <td>Red</td>\n",
              "      <td>M</td>\n",
              "      <td>2888.172414</td>\n",
              "    </tr>\n",
              "    <tr>\n",
              "      <th>1</th>\n",
              "      <td>3042</td>\n",
              "      <td>0.000500</td>\n",
              "      <td>0.15420</td>\n",
              "      <td>16.600</td>\n",
              "      <td>0</td>\n",
              "      <td>Red</td>\n",
              "      <td>M</td>\n",
              "      <td>2888.172414</td>\n",
              "    </tr>\n",
              "    <tr>\n",
              "      <th>2</th>\n",
              "      <td>2600</td>\n",
              "      <td>0.000300</td>\n",
              "      <td>0.10200</td>\n",
              "      <td>18.700</td>\n",
              "      <td>0</td>\n",
              "      <td>Red</td>\n",
              "      <td>M</td>\n",
              "      <td>2888.172414</td>\n",
              "    </tr>\n",
              "    <tr>\n",
              "      <th>3</th>\n",
              "      <td>2800</td>\n",
              "      <td>0.000200</td>\n",
              "      <td>0.16000</td>\n",
              "      <td>16.650</td>\n",
              "      <td>0</td>\n",
              "      <td>Red</td>\n",
              "      <td>M</td>\n",
              "      <td>2888.172414</td>\n",
              "    </tr>\n",
              "    <tr>\n",
              "      <th>4</th>\n",
              "      <td>1939</td>\n",
              "      <td>0.000138</td>\n",
              "      <td>0.10300</td>\n",
              "      <td>20.060</td>\n",
              "      <td>0</td>\n",
              "      <td>Red</td>\n",
              "      <td>M</td>\n",
              "      <td>2888.172414</td>\n",
              "    </tr>\n",
              "    <tr>\n",
              "      <th>...</th>\n",
              "      <td>...</td>\n",
              "      <td>...</td>\n",
              "      <td>...</td>\n",
              "      <td>...</td>\n",
              "      <td>...</td>\n",
              "      <td>...</td>\n",
              "      <td>...</td>\n",
              "      <td>...</td>\n",
              "    </tr>\n",
              "    <tr>\n",
              "      <th>207</th>\n",
              "      <td>23092</td>\n",
              "      <td>0.001320</td>\n",
              "      <td>0.01040</td>\n",
              "      <td>10.180</td>\n",
              "      <td>2</td>\n",
              "      <td>Blue</td>\n",
              "      <td>B</td>\n",
              "      <td>12932.500000</td>\n",
              "    </tr>\n",
              "    <tr>\n",
              "      <th>208</th>\n",
              "      <td>17920</td>\n",
              "      <td>0.001110</td>\n",
              "      <td>0.01060</td>\n",
              "      <td>11.660</td>\n",
              "      <td>2</td>\n",
              "      <td>Blue</td>\n",
              "      <td>B</td>\n",
              "      <td>12932.500000</td>\n",
              "    </tr>\n",
              "    <tr>\n",
              "      <th>209</th>\n",
              "      <td>19360</td>\n",
              "      <td>0.001250</td>\n",
              "      <td>0.00998</td>\n",
              "      <td>11.620</td>\n",
              "      <td>2</td>\n",
              "      <td>Blue</td>\n",
              "      <td>B</td>\n",
              "      <td>12932.500000</td>\n",
              "    </tr>\n",
              "    <tr>\n",
              "      <th>211</th>\n",
              "      <td>10012</td>\n",
              "      <td>552.000000</td>\n",
              "      <td>5.85600</td>\n",
              "      <td>0.013</td>\n",
              "      <td>3</td>\n",
              "      <td>Blue-white</td>\n",
              "      <td>A</td>\n",
              "      <td>5875.950000</td>\n",
              "    </tr>\n",
              "    <tr>\n",
              "      <th>216</th>\n",
              "      <td>9320</td>\n",
              "      <td>29.000000</td>\n",
              "      <td>1.91000</td>\n",
              "      <td>1.236</td>\n",
              "      <td>3</td>\n",
              "      <td>Blue-white</td>\n",
              "      <td>A</td>\n",
              "      <td>5875.950000</td>\n",
              "    </tr>\n",
              "  </tbody>\n",
              "</table>\n",
              "<p>138 rows × 8 columns</p>\n",
              "</div>"
            ],
            "text/plain": [
              "     Temperature (K)  Luminosity(L/Lo)  ...  SpectralClass           new\n",
              "0               3068          0.002400  ...              M   2888.172414\n",
              "1               3042          0.000500  ...              M   2888.172414\n",
              "2               2600          0.000300  ...              M   2888.172414\n",
              "3               2800          0.000200  ...              M   2888.172414\n",
              "4               1939          0.000138  ...              M   2888.172414\n",
              "..               ...               ...  ...            ...           ...\n",
              "207            23092          0.001320  ...              B  12932.500000\n",
              "208            17920          0.001110  ...              B  12932.500000\n",
              "209            19360          0.001250  ...              B  12932.500000\n",
              "211            10012        552.000000  ...              A   5875.950000\n",
              "216             9320         29.000000  ...              A   5875.950000\n",
              "\n",
              "[138 rows x 8 columns]"
            ]
          },
          "metadata": {},
          "execution_count": 120
        }
      ]
    }
  ]
}