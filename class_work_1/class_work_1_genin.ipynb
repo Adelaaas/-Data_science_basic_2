{
  "nbformat": 4,
  "nbformat_minor": 0,
  "metadata": {
    "colab": {
      "name": "class_work_1_genin.ipynb",
      "provenance": [],
      "collapsed_sections": []
    },
    "kernelspec": {
      "name": "python3",
      "display_name": "Python 3"
    },
    "language_info": {
      "name": "python"
    }
  },
  "cells": [
    {
      "cell_type": "code",
      "metadata": {
        "colab": {
          "base_uri": "https://localhost:8080/",
          "height": 36
        },
        "id": "7jH1vDA1D4qy",
        "outputId": "99a09b2a-a92c-485d-e954-dd23af88e1da"
      },
      "source": [
        "list=['Н', 'и', 'к', 'о', 'л', 'а', 'й']\n",
        "list[3]"
      ],
      "execution_count": 19,
      "outputs": [
        {
          "output_type": "execute_result",
          "data": {
            "application/vnd.google.colaboratory.intrinsic+json": {
              "type": "string"
            },
            "text/plain": [
              "'о'"
            ]
          },
          "metadata": {},
          "execution_count": 19
        }
      ]
    },
    {
      "cell_type": "code",
      "metadata": {
        "colab": {
          "base_uri": "https://localhost:8080/"
        },
        "id": "mls_EM_GGWVr",
        "outputId": "d1c8c407-d977-463c-f858-d81eefda0714"
      },
      "source": [
        "l=['Н', 'и', 'к', 'о', 'л', 'а', 'й', 15]\n",
        "print(l[1:-1])\n",
        "l.append('10И2')\n",
        "print(l)\n",
        "for i in 'Генин':\n",
        "  l.append(i)\n",
        "l"
      ],
      "execution_count": 18,
      "outputs": [
        {
          "output_type": "stream",
          "name": "stdout",
          "text": [
            "['и', 'к', 'о', 'л', 'а', 'й']\n",
            "['Н', 'и', 'к', 'о', 'л', 'а', 'й', 15, '10И2']\n"
          ]
        },
        {
          "output_type": "execute_result",
          "data": {
            "text/plain": [
              "['Н', 'и', 'к', 'о', 'л', 'а', 'й', 15, '10И2', 'Г', 'е', 'н', 'и', 'н']"
            ]
          },
          "metadata": {},
          "execution_count": 18
        }
      ]
    }
  ]
}