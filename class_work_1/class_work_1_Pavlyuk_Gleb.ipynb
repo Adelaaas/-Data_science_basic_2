{
  "nbformat": 4,
  "nbformat_minor": 0,
  "metadata": {
    "colab": {
      "name": "Untitled0.ipynb",
      "provenance": [],
      "collapsed_sections": []
    },
    "kernelspec": {
      "display_name": "Python 3",
      "name": "python3"
    },
    "language_info": {
      "name": "python"
    }
  },
  "cells": [
    {
      "cell_type": "code",
      "metadata": {
        "colab": {
          "base_uri": "https://localhost:8080/"
        },
        "id": "9gpCFYgE-I7J",
        "outputId": "7ad19488-9147-4afd-ce28-dda3f2a6115b"
      },
      "source": [
        "print (\"hello world, \\\" hi \\\", he sad\")"
      ],
      "execution_count": null,
      "outputs": [
        {
          "name": "stdout",
          "output_type": "stream",
          "text": [
            "hello world, \" hi \", he sad\n"
          ]
        }
      ]
    },
    {
      "cell_type": "code",
      "metadata": {
        "colab": {
          "base_uri": "https://localhost:8080/"
        },
        "id": "to0qoEwkDSf4",
        "outputId": "100e6bbb-5b12-4fbb-d8fa-5594c296b7a9"
      },
      "source": [
        "lst = ['G', 'l', 'e', 'b']\n",
        "print(f'the fourth letter is {lst[3]} ')"
      ],
      "execution_count": 34,
      "outputs": [
        {
          "output_type": "stream",
          "name": "stdout",
          "text": [
            "the fourth letter is b \n"
          ]
        }
      ]
    },
    {
      "cell_type": "code",
      "metadata": {
        "colab": {
          "base_uri": "https://localhost:8080/"
        },
        "id": "5aohCcRnGTvl",
        "outputId": "8f7a17ce-1d90-4505-cc3e-d56c4799fe02"
      },
      "source": [
        "lst = ['G', 'l', 'e', 'b', 17]\n",
        "print(lst[1:-1])"
      ],
      "execution_count": 35,
      "outputs": [
        {
          "output_type": "stream",
          "name": "stdout",
          "text": [
            "['l', 'e', 'b']\n"
          ]
        }
      ]
    },
    {
      "cell_type": "code",
      "metadata": {
        "colab": {
          "base_uri": "https://localhost:8080/"
        },
        "id": "sFIDVaUPG_rR",
        "outputId": "74b7a42f-a5a9-4e4a-9cdd-5bfd32558c1e"
      },
      "source": [
        "lst.append('11И')\n",
        "print(lst)"
      ],
      "execution_count": 36,
      "outputs": [
        {
          "output_type": "stream",
          "name": "stdout",
          "text": [
            "['G', 'l', 'e', 'b', 17, '11И']\n"
          ]
        }
      ]
    },
    {
      "cell_type": "code",
      "metadata": {
        "colab": {
          "base_uri": "https://localhost:8080/"
        },
        "id": "cXLd7wLzHVKQ",
        "outputId": "e3d0edc5-7ca9-48d2-99c5-81107a0d24cf"
      },
      "source": [
        "lst += list('Pavlyuk')\n",
        "print(lst)"
      ],
      "execution_count": 37,
      "outputs": [
        {
          "output_type": "stream",
          "name": "stdout",
          "text": [
            "['G', 'l', 'e', 'b', 17, '11И', 'P', 'a', 'v', 'l', 'y', 'u', 'k']\n"
          ]
        }
      ]
    }
  ]
}