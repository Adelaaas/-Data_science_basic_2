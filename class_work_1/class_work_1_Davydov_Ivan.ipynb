{
  "nbformat": 4,
  "nbformat_minor": 0,
  "metadata": {
    "colab": {
      "name": "class_work_1_Davydov_Ivan.ipynb",
      "provenance": []
    },
    "kernelspec": {
      "name": "python3",
      "display_name": "Python 3"
    },
    "language_info": {
      "name": "python"
    }
  },
  "cells": [
    {
      "cell_type": "code",
      "metadata": {
        "id": "itihuwiT71yx",
        "colab": {
          "base_uri": "https://localhost:8080/"
        },
        "outputId": "48cff0b9-3b95-4f90-ab5f-76e738734d18"
      },
      "source": [
        "lst = ['I', 'V', 'A', 'N']\n",
        "lst[3:4]"
      ],
      "execution_count": 24,
      "outputs": [
        {
          "output_type": "execute_result",
          "data": {
            "text/plain": [
              "['N']"
            ]
          },
          "metadata": {},
          "execution_count": 24
        }
      ]
    },
    {
      "cell_type": "code",
      "metadata": {
        "colab": {
          "base_uri": "https://localhost:8080/"
        },
        "id": "lxdYpoloGTDv",
        "outputId": "299bee20-f82b-4f41-e8d3-b1af72f69bbe"
      },
      "source": [
        "lst = ['I', 'V', 'A', 'N']\n",
        "age = 17\n",
        "lst.append(age)\n",
        "lst[1:-1]"
      ],
      "execution_count": 25,
      "outputs": [
        {
          "output_type": "execute_result",
          "data": {
            "text/plain": [
              "['V', 'A', 'N']"
            ]
          },
          "metadata": {},
          "execution_count": 25
        }
      ]
    },
    {
      "cell_type": "code",
      "metadata": {
        "colab": {
          "base_uri": "https://localhost:8080/"
        },
        "id": "GUr59f3EGhby",
        "outputId": "a3e9eb79-e8ec-4357-8e7a-de0e30cc6521"
      },
      "source": [
        "lst = ['I', 'V', 'A', 'N', '17']\n",
        "a = '11П'\n",
        "lst.append(a)\n",
        "lst"
      ],
      "execution_count": 26,
      "outputs": [
        {
          "output_type": "execute_result",
          "data": {
            "text/plain": [
              "['I', 'V', 'A', 'N', '17', '11П']"
            ]
          },
          "metadata": {},
          "execution_count": 26
        }
      ]
    },
    {
      "cell_type": "code",
      "metadata": {
        "colab": {
          "base_uri": "https://localhost:8080/"
        },
        "id": "CeHskXhqGjOs",
        "outputId": "ce4e8cee-8b31-4173-f1dd-4ec812a547ae"
      },
      "source": [
        "lst = ['I', 'V', 'A', 'N', '17', '11П']\n",
        "surname = 'Davydov'\n",
        "lst += list(surname)\n",
        "lst"
      ],
      "execution_count": 27,
      "outputs": [
        {
          "output_type": "execute_result",
          "data": {
            "text/plain": [
              "['I', 'V', 'A', 'N', '17', '11П', 'D', 'a', 'v', 'y', 'd', 'o', 'v']"
            ]
          },
          "metadata": {},
          "execution_count": 27
        }
      ]
    }
  ]
}