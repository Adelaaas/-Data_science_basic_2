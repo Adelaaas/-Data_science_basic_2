{
  "nbformat": 4,
  "nbformat_minor": 0,
  "metadata": {
    "colab": {
      "name": "Untitled0.ipynb",
      "provenance": [],
      "collapsed_sections": []
    },
    "kernelspec": {
      "name": "python3",
      "display_name": "Python 3"
    },
    "language_info": {
      "name": "python"
    }
  },
  "cells": [
    {
      "cell_type": "code",
      "metadata": {
        "id": "KD8wcuXHA_qG"
      },
      "source": [
        "a ="
      ],
      "execution_count": null,
      "outputs": []
    },
    {
      "cell_type": "code",
      "metadata": {
        "id": "3iI7tBA3DqxO",
        "colab": {
          "base_uri": "https://localhost:8080/"
        },
        "outputId": "2f1b15bb-78cf-4297-e8fe-abd000833036"
      },
      "source": [
        "a = [\"R\",\"u\",\"s\",\"l\",\"a\",\"n\"]\n",
        "print(a[3])"
      ],
      "execution_count": 1,
      "outputs": [
        {
          "output_type": "stream",
          "name": "stdout",
          "text": [
            "l\n"
          ]
        }
      ]
    },
    {
      "cell_type": "code",
      "metadata": {
        "colab": {
          "base_uri": "https://localhost:8080/"
        },
        "id": "-zDLM1x3GV-2",
        "outputId": "c7dc8446-f9fc-4b30-c617-b815f9a71277"
      },
      "source": [
        "a = ['R','u','s','l','a','n',16]\n",
        "print(a[1:6])\n",
        "a.append(\"10И\")\n",
        "print(a)\n",
        "surname = \"Kosolapov\"\n",
        "a.append(list(surname))\n",
        "print(a)"
      ],
      "execution_count": 15,
      "outputs": [
        {
          "output_type": "stream",
          "name": "stdout",
          "text": [
            "['u', 's', 'l', 'a', 'n']\n",
            "['R', 'u', 's', 'l', 'a', 'n', 16, '10И']\n",
            "['R', 'u', 's', 'l', 'a', 'n', 16, '10И', ['K', 'o', 's', 'o', 'l', 'a', 'p', 'o', 'v']]\n"
          ]
        }
      ]
    }
  ]
}