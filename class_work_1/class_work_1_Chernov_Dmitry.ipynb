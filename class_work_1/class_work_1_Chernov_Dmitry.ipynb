{
  "nbformat": 4,
  "nbformat_minor": 0,
  "metadata": {
    "colab": {
      "name": "001.ipynb",
      "provenance": [],
      "collapsed_sections": []
    },
    "kernelspec": {
      "name": "python3",
      "display_name": "Python 3"
    },
    "language_info": {
      "name": "python"
    }
  },
  "cells": [
    {
      "cell_type": "code",
      "metadata": {
        "colab": {
          "base_uri": "https://localhost:8080/",
          "height": 36
        },
        "id": "o-SL1P35-WxS",
        "outputId": "773abee3-7b87-4e58-fdf8-0f772bc47934"
      },
      "source": [
        "# Вывод 4 буквы имени\n",
        "lst = ['D', 'm', 'i', 't', 'r', 'y']\n",
        "print(f'4 буква имени {lst[3]}')"
      ],
      "execution_count": 5,
      "outputs": [
        {
          "output_type": "execute_result",
          "data": {
            "application/vnd.google.colaboratory.intrinsic+json": {
              "type": "string"
            },
            "text/plain": [
              "'t'"
            ]
          },
          "metadata": {},
          "execution_count": 5
        }
      ]
    },
    {
      "cell_type": "code",
      "metadata": {
        "colab": {
          "base_uri": "https://localhost:8080/"
        },
        "id": "iaroSaG1GVbO",
        "outputId": "db8bb5cd-2513-4449-c8c6-47d7a972fe5f"
      },
      "source": [
        "### ЗАДАНИЕ ###\n",
        "name = ['d', 'm', 'i', 't', 'r', 'y', 16]\n",
        "srez = name[1:-1]\n",
        "print(srez)\n",
        "\n",
        "c = '10И'\n",
        "name.append(c)\n",
        "print(name)\n",
        "\n",
        "surname = 'Chernov'\n",
        "name[len(name)::1] = list(surname)\n",
        "print(name)"
      ],
      "execution_count": 30,
      "outputs": [
        {
          "output_type": "stream",
          "name": "stdout",
          "text": [
            "['m', 'i', 't', 'r']\n",
            "['d', 'm', 'i', 't', 'r', 'y', 16, '10И']\n",
            "['d', 'm', 'i', 't', 'r', 'y', 16, '10И', 'C', 'h', 'e', 'r', 'n', 'o', 'v']\n"
          ]
        }
      ]
    }
  ]
}