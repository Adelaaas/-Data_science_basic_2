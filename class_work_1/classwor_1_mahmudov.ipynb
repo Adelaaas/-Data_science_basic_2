{
  "nbformat": 4,
  "nbformat_minor": 0,
  "metadata": {
    "colab": {
      "name": "Untitled0.ipynb",
      "provenance": []
    },
    "kernelspec": {
      "name": "python3",
      "display_name": "Python 3"
    },
    "language_info": {
      "name": "python"
    }
  },
  "cells": [
    {
      "cell_type": "code",
      "metadata": {
        "colab": {
          "base_uri": "https://localhost:8080/"
        },
        "id": "yLGopj1m-_Dk",
        "outputId": "4b22cf52-0d42-4706-e69c-316ba3b9b2e3"
      },
      "source": [
        "lst=['М', 'и', 'х', 'а', 'и', 'л']\n",
        "lst[3]\n",
        "name=['М', 'и', 'х', 'а', 'и', 'л', 15]\n",
        "print(name[1:-1])\n",
        "name.append('11И2')\n",
        "print(name)\n",
        "for i in 'Махмудов':\n",
        "  name.append(i)\n",
        "print(name)"
      ],
      "execution_count": 3,
      "outputs": [
        {
          "output_type": "stream",
          "name": "stdout",
          "text": [
            "['и', 'х', 'а', 'и', 'л']\n",
            "['М', 'и', 'х', 'а', 'и', 'л', 15, '11И2']\n",
            "['М', 'и', 'х', 'а', 'и', 'л', 15, '11И2', 'М', 'а', 'х', 'м', 'у', 'д', 'о', 'в']\n"
          ]
        }
      ]
    },
    {
      "cell_type": "code",
      "metadata": {
        "id": "_T5F4nC8A7k5"
      },
      "source": [
        ""
      ],
      "execution_count": null,
      "outputs": []
    }
  ]
}