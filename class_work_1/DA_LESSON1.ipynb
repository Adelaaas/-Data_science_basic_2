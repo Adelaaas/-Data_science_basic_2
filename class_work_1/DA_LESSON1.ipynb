{
  "nbformat": 4,
  "nbformat_minor": 0,
  "metadata": {
    "colab": {
      "name": "DA_LESSON1.ipynb",
      "provenance": [],
      "collapsed_sections": []
    },
    "kernelspec": {
      "name": "python3",
      "display_name": "Python 3"
    },
    "language_info": {
      "name": "python"
    }
  },
  "cells": [
    {
      "cell_type": "code",
      "metadata": {
        "colab": {
          "base_uri": "https://localhost:8080/",
          "height": 35
        },
        "id": "CYYOy2Ch-H-E",
        "outputId": "a5fdd3c0-9427-473b-a3ed-ffd1261961bf"
      },
      "source": [
        "# Task 1\n",
        "lst = ['p', 'a', 's', 'h', 'a']\n",
        "lst[3]\n"
      ],
      "execution_count": 6,
      "outputs": [
        {
          "output_type": "execute_result",
          "data": {
            "application/vnd.google.colaboratory.intrinsic+json": {
              "type": "string"
            },
            "text/plain": [
              "'h'"
            ]
          },
          "metadata": {},
          "execution_count": 6
        }
      ]
    },
    {
      "cell_type": "code",
      "metadata": {
        "colab": {
          "base_uri": "https://localhost:8080/"
        },
        "id": "C5bqx-LpD1o3",
        "outputId": "3c3b2182-7a37-42bb-e7ed-4849ec265f59"
      },
      "source": [
        "name = \"pasha\"\n",
        "lst = list(name)\n",
        "age = 16\n",
        "lst.append(age)\n",
        "\n",
        "srez_1 = lst[1:-1] # task 2.1\n",
        "print(\"TASK 2.1: \", srez_1)\n",
        "\n",
        "form = \"10И\"\n",
        "lst.append(form) # task 2.2\n",
        "print(\"TASK 2.2: \", lst)\n",
        "\n",
        "\n",
        "# task 2.3\n",
        "surname = \"Polosin\"\n",
        "surname = list(surname)\n",
        "for letter in surname:\n",
        "  lst.append(letter)\n",
        "print(\"TASK 2.3: \", lst)\n",
        "\n"
      ],
      "execution_count": 15,
      "outputs": [
        {
          "output_type": "stream",
          "name": "stdout",
          "text": [
            "TASK 2.1:  ['a', 's', 'h', 'a']\n",
            "TASK 2.2:  ['p', 'a', 's', 'h', 'a', 16, '10И']\n",
            "TASK 2.3:  ['p', 'a', 's', 'h', 'a', 16, '10И', 'P', 'o', 'l', 'o', 's', 'i', 'n']\n"
          ]
        }
      ]
    },
    {
      "cell_type": "code",
      "metadata": {
        "id": "InNMYPiGIEfa"
      },
      "source": [
        ""
      ],
      "execution_count": null,
      "outputs": []
    },
    {
      "cell_type": "code",
      "metadata": {
        "id": "2vkNi4UrOukk"
      },
      "source": [
        ""
      ],
      "execution_count": null,
      "outputs": []
    }
  ]
}