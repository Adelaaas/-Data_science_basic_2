{
  "nbformat": 4,
  "nbformat_minor": 0,
  "metadata": {
    "colab": {
      "name": "Untitled0.ipynb",
      "provenance": [],
      "collapsed_sections": []
    },
    "kernelspec": {
      "name": "python3",
      "display_name": "Python 3"
    },
    "language_info": {
      "name": "python"
    }
  },
  "cells": [
    {
      "cell_type": "code",
      "metadata": {
        "colab": {
          "base_uri": "https://localhost:8080/"
        },
        "id": "jgc8cv56H9bZ",
        "outputId": "e39b1a38-727e-4091-ac37-cac0be4c04f2"
      },
      "source": [
        "name = ['A','n','d','r','e','y', 17 ]\n",
        "name[1:-1]"
      ],
      "execution_count": 17,
      "outputs": [
        {
          "output_type": "execute_result",
          "data": {
            "text/plain": [
              "['n', 'd', 'r', 'e', 'y']"
            ]
          },
          "metadata": {},
          "execution_count": 17
        }
      ]
    },
    {
      "cell_type": "code",
      "metadata": {
        "colab": {
          "base_uri": "https://localhost:8080/"
        },
        "id": "1Ubo_vo7V5Ch",
        "outputId": "e15d55a2-f3a3-42a1-e076-9a3e1ebc0e58"
      },
      "source": [
        "a = '11П'\n",
        "name.append(a)\n",
        "name\n",
        " "
      ],
      "execution_count": 18,
      "outputs": [
        {
          "output_type": "execute_result",
          "data": {
            "text/plain": [
              "['A', 'n', 'd', 'r', 'e', 'y', 17, '11П']"
            ]
          },
          "metadata": {},
          "execution_count": 18
        }
      ]
    },
    {
      "cell_type": "code",
      "metadata": {
        "colab": {
          "base_uri": "https://localhost:8080/"
        },
        "id": "rrffRb8fU03M",
        "outputId": "2b4f010b-2ca7-4db0-f09e-dc78a76dd099"
      },
      "source": [
        "surname = 'Ozerov'\n",
        "name += list(surname)\n",
        "name"
      ],
      "execution_count": 19,
      "outputs": [
        {
          "output_type": "execute_result",
          "data": {
            "text/plain": [
              "['A', 'n', 'd', 'r', 'e', 'y', 17, '11П', 'O', 'z', 'e', 'r', 'o', 'v']"
            ]
          },
          "metadata": {},
          "execution_count": 19
        }
      ]
    }
  ]
}
