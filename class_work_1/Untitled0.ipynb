{
  "nbformat": 4,
  "nbformat_minor": 0,
  "metadata": {
    "colab": {
      "name": "Untitled0.ipynb",
      "provenance": [],
      "collapsed_sections": []
    },
    "kernelspec": {
      "name": "python3",
      "display_name": "Python 3"
    },
    "language_info": {
      "name": "python"
    }
  },
  "cells": [
    {
      "cell_type": "code",
      "metadata": {
        "id": "qlClZCp6-MJc"
      },
      "source": [
        ""
      ],
      "execution_count": null,
      "outputs": []
    },
    {
      "cell_type": "markdown",
      "metadata": {
        "id": "IawrUp2r-OhS"
      },
      "source": [
        ""
      ]
    },
    {
      "cell_type": "code",
      "metadata": {
        "colab": {
          "base_uri": "https://localhost:8080/"
        },
        "id": "vFNCQa0q-Ozh",
        "outputId": "5b9d52c3-625c-4402-99c9-a3a7b724fac4"
      },
      "source": [
        "lst= ['l', 'i', 'z', 'a' ]\n",
        "print ( lst[2] )"
      ],
      "execution_count": 7,
      "outputs": [
        {
          "output_type": "stream",
          "name": "stdout",
          "text": [
            "z\n"
          ]
        }
      ]
    },
    {
      "cell_type": "code",
      "metadata": {
        "colab": {
          "base_uri": "https://localhost:8080/"
        },
        "id": "AZgtS7JAGpOL",
        "outputId": "a8275c53-470b-4c35-9d6b-485bf35e0b8a"
      },
      "source": [
        "lst = ['l', 'i', 'z', 'a', 16 ]\n",
        "print (lst[1:-1])\n",
        "a='10p'\n",
        "lst.append(a)\n",
        "print(lst)\n",
        "lst+=list('Bluvshtein')\n",
        "print(lst)"
      ],
      "execution_count": 30,
      "outputs": [
        {
          "output_type": "stream",
          "name": "stdout",
          "text": [
            "['i', 'z', 'a']\n",
            "['l', 'i', 'z', 'a', 16, '10p']\n",
            "['l', 'i', 'z', 'a', 16, '10p', 'B', 'l', 'u', 'v', 's', 'h', 't', 'e', 'i', 'n']\n"
          ]
        }
      ]
    },
    {
      "cell_type": "code",
      "metadata": {
        "id": "Y6BrM4L0FO-L"
      },
      "source": [
        ""
      ],
      "execution_count": null,
      "outputs": []
    }
  ]
}