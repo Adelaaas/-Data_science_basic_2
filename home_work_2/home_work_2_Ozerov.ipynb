{
  "nbformat": 4,
  "nbformat_minor": 0,
  "metadata": {
    "colab": {
      "name": "home_work_2_Ozerov.ipynb",
      "provenance": [],
      "collapsed_sections": []
    },
    "kernelspec": {
      "name": "python3",
      "display_name": "Python 3"
    },
    "language_info": {
      "name": "python"
    }
  },
  "cells": [
    {
      "cell_type": "code",
      "metadata": {
        "colab": {
          "base_uri": "https://localhost:8080/"
        },
        "id": "vtktp8h6SVEb",
        "outputId": "a5d7b26c-cd48-40f3-9275-0b7b70201d5b"
      },
      "source": [
        "from math import sqrt\n",
        "def f(x1,y1,x2,y2):\n",
        "  return sqrt((x1-x2)**2+(y1-y2)**2)\n",
        "x1,y1,x2,y2=map(float,input().split(' '))\n",
        "print(f(x1,y1,x2,y2))"
      ],
      "execution_count": null,
      "outputs": [
        {
          "name": "stdout",
          "output_type": "stream",
          "text": [
            "1 1 2 2\n"
          ]
        }
      ]
    },
    {
      "cell_type": "code",
      "metadata": {
        "colab": {
          "base_uri": "https://localhost:8080/"
        },
        "id": "pbVe2aj4TcsD",
        "outputId": "c547fb5f-ae58-4136-b12d-fc88e50e5cf1"
      },
      "source": [
        "def season(month):\n",
        "  if month==12 and month>=1 and month<=2:\n",
        "    return(\"ЗИМА\")\n",
        "  elif month>=3 and month<=5:\n",
        "    return(\"ВЕСНА\")\n",
        "  elif month>=6 and month <=8:\n",
        "    return(\"ЛЕТО\")\n",
        "  else:\n",
        "    return(\"ОСЕНЬ\")\n",
        "month=int(input())\n",
        "print(season(month))"
      ],
      "execution_count": 5,
      "outputs": [
        {
          "output_type": "stream",
          "name": "stdout",
          "text": [
            "6\n",
            "ЛЕТО\n"
          ]
        }
      ]
    },
    {
      "cell_type": "code",
      "metadata": {
        "colab": {
          "base_uri": "https://localhost:8080/"
        },
        "id": "v_V-mwPxUiQQ",
        "outputId": "f157364b-8433-47e6-86a2-e7f73f90d404"
      },
      "source": [
        "def is_prime(number):\n",
        "  c=0\n",
        "  for i in range(1,number+1):\n",
        "    if number%i==0:\n",
        "      c+=1\n",
        "  if c==2:\n",
        "    return(True)\n",
        "  else:\n",
        "    return(False)\n",
        "number=int(input())\n",
        "print(is_prime(number))"
      ],
      "execution_count": 7,
      "outputs": [
        {
          "output_type": "stream",
          "name": "stdout",
          "text": [
            "15\n",
            "False\n"
          ]
        }
      ]
    },
    {
      "cell_type": "code",
      "metadata": {
        "colab": {
          "base_uri": "https://localhost:8080/"
        },
        "id": "dTueQTfXVkl_",
        "outputId": "e8e31d78-68d3-4a3c-fbe2-18c3aea2fc50"
      },
      "source": [
        "def reverse_list(lst):\n",
        "    newlst=lst[::-1]\n",
        "    return newlst\n",
        "lst = [8, 1, 0, 4]\n",
        "print (reverse_list(lst))\n"
      ],
      "execution_count": 17,
      "outputs": [
        {
          "output_type": "stream",
          "name": "stdout",
          "text": [
            "[4, 0, 1, 8]\n"
          ]
        }
      ]
    },
    {
      "cell_type": "code",
      "metadata": {
        "colab": {
          "base_uri": "https://localhost:8080/"
        },
        "id": "lLTW4Er4aal0",
        "outputId": "074f3e8e-e64f-4124-f5f2-ac5b15e63e1b"
      },
      "source": [
        "s=\"Привет мир!\"\n",
        "print(s[4:9])"
      ],
      "execution_count": 21,
      "outputs": [
        {
          "output_type": "stream",
          "name": "stdout",
          "text": [
            "ет ми\n"
          ]
        }
      ]
    },
    {
      "cell_type": "code",
      "metadata": {
        "colab": {
          "base_uri": "https://localhost:8080/"
        },
        "id": "tdVTJ0mpbi_7",
        "outputId": "eadc2489-d083-4910-d2ca-8a37bf55fd4c"
      },
      "source": [
        "x=[0, 1, 2, 3, 4, 5, 6, 7, 8, 9]\n",
        "x[1::2]=reversed(x[1::2])\n",
        "print(x)\n"
      ],
      "execution_count": 23,
      "outputs": [
        {
          "output_type": "stream",
          "name": "stdout",
          "text": [
            "[0, 9, 2, 7, 4, 5, 6, 3, 8, 1]\n"
          ]
        }
      ]
    },
    {
      "cell_type": "code",
      "metadata": {
        "colab": {
          "base_uri": "https://localhost:8080/"
        },
        "id": "_UqR9XJBgnTu",
        "outputId": "ece71116-0761-4287-c5d3-3eb95277df70"
      },
      "source": [
        "for i in range(500):\n",
        "  if i%7==0 and '8' in str(i):\n",
        "    print(i)"
      ],
      "execution_count": 24,
      "outputs": [
        {
          "output_type": "stream",
          "name": "stdout",
          "text": [
            "28\n",
            "84\n",
            "98\n",
            "168\n",
            "182\n",
            "189\n",
            "238\n",
            "280\n",
            "287\n",
            "308\n",
            "378\n",
            "385\n",
            "448\n",
            "483\n"
          ]
        }
      ]
    },
    {
      "cell_type": "code",
      "metadata": {
        "colab": {
          "base_uri": "https://localhost:8080/"
        },
        "id": "WUc3pYpjhVvN",
        "outputId": "1c6301c9-3314-4027-8030-e322051a4eed"
      },
      "source": [
        "def more_than_10(lst):\n",
        "  arr=[]\n",
        "  for i in lst:\n",
        "    if abs(i)>10:\n",
        "      arr.append(i)\n",
        "  return arr\n",
        "lst=[1,15,-120,76,98]\n",
        "print(more_than_10(lst))"
      ],
      "execution_count": 25,
      "outputs": [
        {
          "output_type": "stream",
          "name": "stdout",
          "text": [
            "[15, -120, 76, 98]\n"
          ]
        }
      ]
    }
  ]
}