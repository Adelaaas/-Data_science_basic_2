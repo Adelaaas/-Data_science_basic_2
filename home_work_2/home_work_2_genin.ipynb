{
  "nbformat": 4,
  "nbformat_minor": 0,
  "metadata": {
    "colab": {
      "name": "home_work_2_genin.ipynb",
      "provenance": [],
      "collapsed_sections": []
    },
    "kernelspec": {
      "name": "python3",
      "display_name": "Python 3"
    },
    "language_info": {
      "name": "python"
    }
  },
  "cells": [
    {
      "cell_type": "markdown",
      "metadata": {
        "id": "Nq5GCg9lf4U_"
      },
      "source": [
        "В номерах 1, 2, 3, 4 и 8 я написал только функции согласно формулировкам условий задачи. Если помимо этого также необходимо добавить возможность продемонстрировать их работу на примерах, прошу вас дать об этом знать в личных сообщениях, пока у меня есть время всё поправить. Либо на следующем занятии, чтобы в будущем я имел это в виду."
      ]
    },
    {
      "cell_type": "code",
      "metadata": {
        "id": "e22wtFe4a8MP"
      },
      "source": [
        "#№1\n",
        "def distance(x1,y1,x2,y2):\n",
        "  a=((x1-x2)**2+(y1-y2)**2)**0.5\n",
        "  return a"
      ],
      "execution_count": null,
      "outputs": []
    },
    {
      "cell_type": "code",
      "metadata": {
        "id": "jT4kL-h8cCeQ"
      },
      "source": [
        "#№2\n",
        "s=0\n",
        "def season(month):\n",
        "  if 1<=month<=12:\n",
        "    global s\n",
        "    a=('зима','весна','лето','осень','зима')\n",
        "    s=a[month//3]\n",
        "  else:\n",
        "    print('Не существует месяца с таким номером.')"
      ],
      "execution_count": null,
      "outputs": []
    },
    {
      "cell_type": "code",
      "metadata": {
        "id": "u2E8LD-Af0yF"
      },
      "source": [
        "#№3\n",
        "def is_prime(x):\n",
        "  if 0<=x<=1000:\n",
        "    a=True\n",
        "    if x>3:\n",
        "      for i in range(2,int(x**0.5)+1):\n",
        "        if x%i==0:\n",
        "          a=False\n",
        "          break\n",
        "    elif x=1:\n",
        "      a=False\n",
        "    return a\n",
        "  else:\n",
        "    print('Число не подходит по условию.')"
      ],
      "execution_count": 88,
      "outputs": []
    },
    {
      "cell_type": "code",
      "metadata": {
        "id": "tWR-6jo2qp2_"
      },
      "source": [
        "#№4\n",
        "def reverse_list(lst):\n",
        "  return lst[::-1]"
      ],
      "execution_count": null,
      "outputs": []
    },
    {
      "cell_type": "code",
      "metadata": {
        "id": "QDc0V4KgNSPy"
      },
      "source": [
        "#№5\n",
        "'Привет мир!'[3:8].upper()"
      ],
      "execution_count": null,
      "outputs": []
    },
    {
      "cell_type": "code",
      "metadata": {
        "id": "N03LX9nmt89t"
      },
      "source": [
        "#№6\n",
        "number_of_elements=int(input())\n",
        "x=[int(input()) for i in range(number_of_elements)]\n",
        "x[1::2]=x[1::2][::-1]\n",
        "x\n",
        "\n",
        "\n"
      ],
      "execution_count": null,
      "outputs": []
    },
    {
      "cell_type": "code",
      "metadata": {
        "id": "V4Kj8O1n97FH"
      },
      "source": [
        "#№7\n",
        "for i in range(501):\n",
        "  if i%7==0 and '8' in str(i):\n",
        "    print(i)"
      ],
      "execution_count": null,
      "outputs": []
    },
    {
      "cell_type": "code",
      "metadata": {
        "id": "wVyW9hXpAUfq"
      },
      "source": [
        "#№8\n",
        "def more_than_five(lst):\n",
        "  a=[]\n",
        "  for i in range(len(lst)):\n",
        "    if abs(lst[i])>10:\n",
        "      a.append(lst[i])\n",
        "  return a"
      ],
      "execution_count": null,
      "outputs": []
    }
  ]
}