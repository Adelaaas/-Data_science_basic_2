{
  "nbformat": 4,
  "nbformat_minor": 0,
  "metadata": {
    "colab": {
      "name": "DA_LESSON2.ipynb",
      "provenance": [],
      "collapsed_sections": []
    },
    "kernelspec": {
      "name": "python3",
      "display_name": "Python 3"
    },
    "language_info": {
      "name": "python"
    }
  },
  "cells": [
    {
      "cell_type": "markdown",
      "metadata": {
        "id": "PCpjE16M6h-9"
      },
      "source": [
        "\n",
        "\n",
        "Задача 1.\n",
        "\n",
        "Даны четыре действительных числа: x1, y1, x2, y2. Напишите функцию distance(x1, y1, x2, y2), вычисляющая расстояние между точкой (x1,y1) и (x2,y2).\n"
      ]
    },
    {
      "cell_type": "code",
      "metadata": {
        "id": "mgKeIwJwJPza"
      },
      "source": [
        "def distance(x1, y1, x2, y2):\n",
        "  return ((x1-x2)**2 + (y1-y2)**2)**(0.5)\n",
        " "
      ],
      "execution_count": 2,
      "outputs": []
    },
    {
      "cell_type": "markdown",
      "metadata": {
        "id": "ImuBAeke6y8X"
      },
      "source": [
        "\n",
        "\n",
        "Задача 2.\n",
        "\n",
        "Написать функцию season(month), принимающую 1 аргумент — номер месяца (от 1 до 12), которая присваивает глобальной переменной s время года, которому этот месяц принадлежит (зима, весна, лето или осень).\n"
      ]
    },
    {
      "cell_type": "code",
      "metadata": {
        "colab": {
          "base_uri": "https://localhost:8080/"
        },
        "id": "8A0RNw7V6yqV",
        "outputId": "8881cc5d-5c74-4ecc-eb14-9d05c3648c87"
      },
      "source": [
        "s = \"\"\n",
        "def season(month):\n",
        "  global s\n",
        "  if month in [1, 2, 12]:\n",
        "    s = \"Зима\"\n",
        "  if month in [3, 4, 5]:\n",
        "    s = \"Весна\"\n",
        "  if month in [6, 7, 8]:\n",
        "    s = \"Лето\"\n",
        "  if month in [9, 10, 11]:\n",
        "    s = \"Осень\"\n",
        "season(10)\n",
        "print(s)"
      ],
      "execution_count": 7,
      "outputs": [
        {
          "output_type": "stream",
          "name": "stdout",
          "text": [
            "Осень\n"
          ]
        }
      ]
    },
    {
      "cell_type": "markdown",
      "metadata": {
        "id": "Atajn2xg8Wme"
      },
      "source": [
        "Написать функцию is_prime, принимающую 1 аргумент — число от 0 до 1000, и возвращающую True, если оно простое, и False - иначе."
      ]
    },
    {
      "cell_type": "code",
      "metadata": {
        "colab": {
          "base_uri": "https://localhost:8080/"
        },
        "id": "NYSw36558V5p",
        "outputId": "219cb1ef-2297-49a7-a665-8f9e98611c1c"
      },
      "source": [
        "def is_prime(n):\n",
        "    i = 2\n",
        "    while i * i <= n and n % i != 0:\n",
        "        i += 1\n",
        "    return i * i > n\n"
      ],
      "execution_count": 10,
      "outputs": [
        {
          "output_type": "stream",
          "name": "stdout",
          "text": [
            "False\n"
          ]
        }
      ]
    },
    {
      "cell_type": "markdown",
      "metadata": {
        "id": "rQn0-6_v9bxz"
      },
      "source": [
        "Написать функцию reverse_list(lst), которая принимает в качестве аргумента список и возвращаем его в перевернутом виде.\n",
        "\n",
        "Например,\n",
        "\n",
        "    исходный спискок: 8, 1, 0, 4\n",
        "    полученный спискок: 4, 0, 1, 8\n",
        "\n",
        "Использовать встроенные функции Python нельзя."
      ]
    },
    {
      "cell_type": "code",
      "metadata": {
        "colab": {
          "base_uri": "https://localhost:8080/"
        },
        "id": "tJ3m9toP8V99",
        "outputId": "55fd2e38-de8b-4147-d388-2da59cbc05c8"
      },
      "source": [
        "lst = [8, 1, 0, 4]\n",
        "def reverse_list(lst):\n",
        "  temp = []\n",
        "  for i in range(len(lst)-1, -1, -1):\n",
        "    temp.append(lst[i])\n",
        "  return temp\n",
        "\n",
        "print(reverse_list(lst))"
      ],
      "execution_count": 12,
      "outputs": [
        {
          "output_type": "stream",
          "name": "stdout",
          "text": [
            "[4, 0, 1, 8]\n"
          ]
        }
      ]
    },
    {
      "cell_type": "markdown",
      "metadata": {
        "id": "60AlwUIl-Y4c"
      },
      "source": [
        "\n",
        "\n",
        "Задача 5.\n",
        "\n",
        "Распечатайте с 4 по 8 символ фразы \"Привет мир!\" приведенные к верхнему регистру.\n"
      ]
    },
    {
      "cell_type": "code",
      "metadata": {
        "colab": {
          "base_uri": "https://localhost:8080/"
        },
        "id": "D2niZlIN-Tbf",
        "outputId": "3ecf7f17-7355-4f50-d95d-a625d6025dd8"
      },
      "source": [
        "s = 'Привет мир!'\n",
        "for i in range(len(s)):\n",
        "  if ( 3 <= i <= 7):\n",
        "    print(str(s[i]).upper(), end = \"\")\n",
        "  else:\n",
        "    print(s[i], end = \"\")"
      ],
      "execution_count": 19,
      "outputs": [
        {
          "output_type": "stream",
          "name": "stdout",
          "text": [
            "ПриВЕТ Мир!"
          ]
        }
      ]
    },
    {
      "cell_type": "markdown",
      "metadata": {
        "id": "l96jPE3D_ofS"
      },
      "source": [
        "\n",
        "\n",
        "Задача 6.\n",
        "\n",
        "Напишите код, который все элементы массива x с нечетными индексами переставит в обратном порядке.\n",
        "\n",
        "Т.е. если x = [0, 1, 2, 3, 4, 5, 6, 7, 8, 9], то код должен получать [0, 9, 2, 7, 4, 5, 6, 3, 8, 1]\n"
      ]
    },
    {
      "cell_type": "code",
      "metadata": {
        "colab": {
          "base_uri": "https://localhost:8080/"
        },
        "id": "6zMY_7cx_pd-",
        "outputId": "aa1dec5d-d12f-4927-8839-0e2de65c9b9a"
      },
      "source": [
        "x = [0, 1, 2, 3, 4, 5, 6, 7, 8, 9]\n",
        "if (len(x) % 2 == 0):\n",
        "  for i in range(1, len(x), 2):\n",
        "    for j in range(i, len(x), 2):\n",
        "      x[i], x[j] = x[j], x[i]\n",
        "x"
      ],
      "execution_count": 23,
      "outputs": [
        {
          "output_type": "execute_result",
          "data": {
            "text/plain": [
              "[0, 9, 2, 7, 4, 5, 6, 3, 8, 1]"
            ]
          },
          "metadata": {},
          "execution_count": 23
        }
      ]
    },
    {
      "cell_type": "markdown",
      "metadata": {
        "id": "87zYhvVRAwTp"
      },
      "source": [
        "\n",
        "\n",
        "Задача 7.\n",
        "\n",
        "Напишите цикл, который выводит все числа от 0 до 500, делящиеся на 7, если в них есть цифра 8.\n"
      ]
    },
    {
      "cell_type": "code",
      "metadata": {
        "colab": {
          "base_uri": "https://localhost:8080/"
        },
        "id": "KTR4YQTHAsy6",
        "outputId": "352d7b67-844f-40be-960f-a4d7e2a6baa4"
      },
      "source": [
        "for i in range(501):\n",
        "  s = str(i)\n",
        "  if \"8\" in s and i%7 == 0:\n",
        "    print(i, end = \" \")"
      ],
      "execution_count": 26,
      "outputs": [
        {
          "output_type": "stream",
          "name": "stdout",
          "text": [
            "28 84 98 168 182 189 238 280 287 308 378 385 448 483 "
          ]
        }
      ]
    },
    {
      "cell_type": "markdown",
      "metadata": {
        "id": "FhxqK4ICBQs1"
      },
      "source": [
        "\n",
        "\n",
        "Задача 8.\n",
        "\n",
        "На вход функция more_than_five(lst) получает список из целых чисел. Результатом работы функции должен стать новый список, в котором содержатся только те числа, которые больше 10 по модулю.\n"
      ]
    },
    {
      "cell_type": "code",
      "metadata": {
        "id": "q4Y0vQgsAwts"
      },
      "source": [
        "def more_than_five(lst):\n",
        "  b = []\n",
        "  for i in range(len(lst)):\n",
        "    if (abs(lst[i]) > 10):\n",
        "      b.append(lst[i])\n",
        "  return b\n"
      ],
      "execution_count": 30,
      "outputs": []
    }
  ]
}