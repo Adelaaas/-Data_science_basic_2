{
  "nbformat": 4,
  "nbformat_minor": 0,
  "metadata": {
    "colab": {
      "name": "homework_2_Bluvshtein.ipynb",
      "provenance": [],
      "collapsed_sections": []
    },
    "kernelspec": {
      "name": "python3",
      "display_name": "Python 3"
    },
    "language_info": {
      "name": "python"
    }
  },
  "cells": [
    {
      "cell_type": "markdown",
      "metadata": {
        "id": "yL78Mu-r9Ezc"
      },
      "source": [
        "**задание 1**\n",
        "Даны четыре действительных числа: x1, y1, x2, y2. Напишите функцию distance(x1, y1, x2, y2), вычисляющая расстояние между точкой (x1,y1) и (x2,y2)."
      ]
    },
    {
      "cell_type": "code",
      "metadata": {
        "id": "ClNMIKJC9Jnt"
      },
      "source": [
        "from math import sqrt\n",
        "def distance(x1, y1, x2, y2):\n",
        "  d=sqrt((x2-x1)**2+(y2-y1)**2)\n",
        "  print(d)\n",
        "\n",
        "\n"
      ],
      "execution_count": null,
      "outputs": []
    },
    {
      "cell_type": "markdown",
      "metadata": {
        "id": "SK-jNh5wAijd"
      },
      "source": [
        "**задание 2**\n",
        "\n",
        "Написать функцию season(month), принимающую 1 аргумент — номер месяца (от 1 до 12), которая присваивает глобальной переменной s время года, которому этот месяц принадлежит (зима, весна, лето или осень)."
      ]
    },
    {
      "cell_type": "code",
      "metadata": {
        "id": "teDnbTwKAjkN"
      },
      "source": [
        "def season(month):\n",
        "  global s\n",
        "  if month=1 or month=2 or month=12:\n",
        "    s='зима'\n",
        "  elif month=3 or month=4 or month=5:\n",
        "    s='весна'\n",
        "  elif month=6 or month=7 or month=8:\n",
        "    s='лето'\n",
        "  elif month=9 or month=10 or month=11:\n",
        "    s='осень'\n",
        "  print(s)\n",
        "\n"
      ],
      "execution_count": null,
      "outputs": []
    },
    {
      "cell_type": "markdown",
      "metadata": {
        "id": "YjmPCGTjCSu3"
      },
      "source": [
        "**задание 3**\n",
        "\n",
        "Написать функцию is_prime, принимающую 1 аргумент — число от 0 до 1000, и возвращающую True, если оно простое, и False - иначе."
      ]
    },
    {
      "cell_type": "code",
      "metadata": {
        "id": "lRbm3U-wCWHU"
      },
      "source": [
        "def is_prime(a):\n",
        "  c=0\n",
        "  for i in range (1, a):\n",
        "    if a%i==0:\n",
        "      c+=1\n",
        "  if c==1:\n",
        "    flag= True \n",
        "  else:\n",
        "    flag= False\n",
        "  return flag\n"
      ],
      "execution_count": null,
      "outputs": []
    },
    {
      "cell_type": "markdown",
      "metadata": {
        "id": "IE-aTBt7DR9l"
      },
      "source": [
        "**задание 4**\n",
        "\n",
        "Написать функцию reverse_list(lst), которая принимает в качестве аргумента список и возвращаем его в перевернутом виде\n",
        "Использовать встроенные функции Python нельзя."
      ]
    },
    {
      "cell_type": "code",
      "metadata": {
        "id": "HeQHzKQZI3zb"
      },
      "source": [
        "def reverse_list(lst):\n",
        "  print(lst[::-1])\n",
        "reverse_list(lst)\n",
        "\n",
        "\n"
      ],
      "execution_count": null,
      "outputs": []
    },
    {
      "cell_type": "markdown",
      "metadata": {
        "id": "Jkab-LfiHNCB"
      },
      "source": [
        "**задание 5**\n",
        "\n",
        "Распечатайте с 4 по 8 символ фразы \"Привет мир!\" приведенные к верхнему регистру."
      ]
    },
    {
      "cell_type": "code",
      "metadata": {
        "id": "In-p6EraHO1v"
      },
      "source": [
        "a = 'Привет мир!'\n",
        "print(a[4:9].upper())"
      ],
      "execution_count": null,
      "outputs": []
    },
    {
      "cell_type": "markdown",
      "metadata": {
        "id": "SJsGg0vtH8RF"
      },
      "source": [
        "**задание 6**\n",
        "\n",
        "Напишите код, который все элементы массива x с нечетными индексами переставит в обратном порядке.\n",
        "\n",
        "Т.е. если x = [0, 1, 2, 3, 4, 5, 6, 7, 8, 9], то код должен получать [0, 9, 2, 7, 4, 5, 6, 3, 8, 1]"
      ]
    },
    {
      "cell_type": "code",
      "metadata": {
        "id": "k0BcN6AVQDsQ"
      },
      "source": [
        "x=[int(i) for i in input().split()]\n",
        "for i in range(1, len(x)//2, 2):\n",
        "  if len(x)%2==0:\n",
        "    x[i], x[-(i)]=x[-(i)], x[i]\n",
        "  else:\n",
        "    x[i], x[-(i+1)]=x[-(i+1)], x[i]\n",
        "\n",
        "list(x)"
      ],
      "execution_count": null,
      "outputs": []
    },
    {
      "cell_type": "markdown",
      "metadata": {
        "id": "O4BgC5JJH-07"
      },
      "source": [
        "**задание 7**\n",
        "\n",
        "Напишите цикл, который выводит все числа от 0 до 500, делящиеся на 7, если в них есть цифра 8."
      ]
    },
    {
      "cell_type": "code",
      "metadata": {
        "id": "usmBY7L5IA3x"
      },
      "source": [
        "for i in range(500):\n",
        "  if i%7==0 and (i%10==8 or i//10%10==8 or i//100%10==8):\n",
        "    print(i)"
      ],
      "execution_count": null,
      "outputs": []
    },
    {
      "cell_type": "markdown",
      "metadata": {
        "id": "tUo8lOucIBeS"
      },
      "source": [
        "**задание 8**\n",
        "\n",
        "На вход функция more_than_five(lst) получает список из целых чисел. Результатом работы функции должен стать новый список, в котором содержатся только те числа, которые больше 10 по модулю."
      ]
    },
    {
      "cell_type": "code",
      "metadata": {
        "id": "Cx2mjAqbIDkE"
      },
      "source": [
        "def more_than_five(lst):\n",
        "  b=[]\n",
        "  for i in lst:\n",
        "    if abs(lst[i])>=10:\n",
        "      b.append(lst(i))\n",
        "  print(b)\n"
      ],
      "execution_count": 16,
      "outputs": []
    }
  ]
}