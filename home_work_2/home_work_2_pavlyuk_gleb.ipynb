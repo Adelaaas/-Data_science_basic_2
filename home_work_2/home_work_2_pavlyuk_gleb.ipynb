{
  "nbformat": 4,
  "nbformat_minor": 0,
  "metadata": {
    "colab": {
      "name": "homeWork_2_pavlyuk_gleb.ipynb",
      "provenance": [],
      "collapsed_sections": []
    },
    "kernelspec": {
      "name": "python3",
      "display_name": "Python 3"
    },
    "language_info": {
      "name": "python"
    }
  },
  "cells": [
    {
      "cell_type": "markdown",
      "metadata": {
        "id": "UKMb1g4LnJzO"
      },
      "source": [
        "**Домашяя работа №2**\n",
        "\n",
        "***Задача 1.***\n",
        "\n",
        "Даны четыре действительных числа: x1, y1, x2, y2. Напишите функцию distance(x1, y1, x2, y2), вычисляющая расстояние между точкой (x1,y1) и (x2,y2)."
      ]
    },
    {
      "cell_type": "code",
      "metadata": {
        "colab": {
          "base_uri": "https://localhost:8080/"
        },
        "id": "TjGzDQ_LnC9M",
        "outputId": "0c095ec8-e22d-462d-896b-ad102d4a08af"
      },
      "source": [
        "def distance(x1, y1, x2, y2):\n",
        "  return ((((x1 - x2) ** 2) + ((y1 - y2) ** 2)) ** 0.5)\n",
        "\n",
        "pointOne = (1, 1)\n",
        "pointTwo = (2, 2)\n",
        "\n",
        "print(distance(pointOne[0], pointOne[1], pointTwo[0], pointTwo[1]))"
      ],
      "execution_count": 21,
      "outputs": [
        {
          "output_type": "stream",
          "name": "stdout",
          "text": [
            "1.4142135623730951\n"
          ]
        }
      ]
    },
    {
      "cell_type": "markdown",
      "metadata": {
        "id": "socIrxstqsoJ"
      },
      "source": [
        "***Задача 2.***\n",
        "\n",
        "Написать функцию season(month), принимающую 1 аргумент — номер месяца (от 1 до 12), которая присваивает глобальной переменной s время года, которому этот месяц принадлежит (зима, весна, лето или осень)."
      ]
    },
    {
      "cell_type": "code",
      "metadata": {
        "colab": {
          "base_uri": "https://localhost:8080/"
        },
        "id": "c6UIPs0_qsY6",
        "outputId": "5ea05215-cca6-44ef-9997-806351fd11a7"
      },
      "source": [
        "def season(month):\n",
        "  global s\n",
        "  if (month >= 3 and month <= 5):\n",
        "    s = \"Весна\"\n",
        "  elif (month >= 6 and month <= 8):\n",
        "    s = \"Лето\"\n",
        "  elif (month >= 9 and month <= 11):\n",
        "    s = \"Осень\"\n",
        "  else:\n",
        "    s = \"Зима\"\n",
        "\n",
        "s = \"\"\n",
        "season(6)\n",
        "print(s) "
      ],
      "execution_count": 25,
      "outputs": [
        {
          "output_type": "stream",
          "name": "stdout",
          "text": [
            "Лето\n"
          ]
        }
      ]
    },
    {
      "cell_type": "markdown",
      "metadata": {
        "id": "aevarF5pswyh"
      },
      "source": [
        "***Задача 3.***\n",
        "\n",
        "Написать функцию is_prime, принимающую 1 аргумент — число от 0 до 1000, и возвращающую True, если оно простое, и False - иначе."
      ]
    },
    {
      "cell_type": "code",
      "metadata": {
        "colab": {
          "base_uri": "https://localhost:8080/"
        },
        "id": "IsYzl0hNszES",
        "outputId": "9f64bfe6-fae9-4c99-a70f-4664f2947210"
      },
      "source": [
        "def is_prime(num):\n",
        "  for i in range(2, int(num/2)):\n",
        "    if num % i == 0:\n",
        "      return True\n",
        "  return False\n",
        "\n",
        "num = 37\n",
        "print(f\"число {num}  ---  {is_prime(num)}\")\n",
        "num = 15\n",
        "print(f\"число {num}  ---  {is_prime(num)}\")"
      ],
      "execution_count": 31,
      "outputs": [
        {
          "output_type": "stream",
          "name": "stdout",
          "text": [
            "число 37  ---  False\n",
            "число 15  ---  True\n"
          ]
        }
      ]
    },
    {
      "cell_type": "markdown",
      "metadata": {
        "id": "X6niuIWruKxx"
      },
      "source": [
        "***Задача 4.***\n",
        "\n",
        "Написать функцию reverse_list(lst), которая принимает в качестве аргумента список и возвращаем его в перевернутом виде.\n",
        "\n",
        "Например,\n",
        "\n",
        "исходный спискок: 8, 1, 0, 4\n",
        "полученный спискок: 4, 0, 1, 8\n",
        "Использовать встроенные функции Python нельзя."
      ]
    },
    {
      "cell_type": "code",
      "metadata": {
        "colab": {
          "base_uri": "https://localhost:8080/"
        },
        "id": "xcSATIiquOjl",
        "outputId": "4fb6b8f3-fdcf-46eb-848e-b0853da11dfc"
      },
      "source": [
        "def reveseList(mList):\n",
        "  listLen = len(mList)\n",
        "  for idx in range(int(listLen/2)):\n",
        "    bufVal =  mList[idx]\n",
        "    mList[idx] = mList[listLen - 1 - idx]\n",
        "    mList[listLen - 1 - idx] = bufVal\n",
        "\n",
        "mList = [1, 2, 3, 4, 5]\n",
        "print(f\"Before reverse - {mList}\")\n",
        "reveseList(mList)\n",
        "print(f\"After reverse  - {mList}\")"
      ],
      "execution_count": 36,
      "outputs": [
        {
          "output_type": "stream",
          "name": "stdout",
          "text": [
            "Before reverse - [1, 2, 3, 4, 5]\n",
            "After reverse  - [5, 4, 3, 2, 1]\n"
          ]
        }
      ]
    },
    {
      "cell_type": "markdown",
      "metadata": {
        "id": "XpokkKC-v4RY"
      },
      "source": [
        "***Задача 5.***\n",
        "\n",
        "Распечатайте с 4 по 8 символ фразы \"Привет мир!\" приведенные к верхнему регистру."
      ]
    },
    {
      "cell_type": "code",
      "metadata": {
        "colab": {
          "base_uri": "https://localhost:8080/"
        },
        "id": "y18HfKtYv7AV",
        "outputId": "9a86631a-5b7c-4f8b-9308-bc6f50cad963"
      },
      "source": [
        "phrase = list(\"Привет мир!\")\n",
        "outPhrase = \"\"\n",
        "\n",
        "for idx in range(len(phrase)):\n",
        "  if (idx >= 3 and idx <= 7):\n",
        "    phrase[idx] = phrase[idx].upper()\n",
        "  outPhrase += phrase[idx]\n",
        "\n",
        "print(outPhrase)"
      ],
      "execution_count": 44,
      "outputs": [
        {
          "output_type": "stream",
          "name": "stdout",
          "text": [
            "ПриВЕТ Мир!\n"
          ]
        }
      ]
    },
    {
      "cell_type": "markdown",
      "metadata": {
        "id": "eveOd4LYxqmZ"
      },
      "source": [
        "\n",
        "***Задача 6.***\n",
        "\n",
        "Напишите код, который все элементы массива x с нечетными индексами переставит в обратном порядке.\n",
        "\n",
        "Т.е. если x = [0, 1, 2, 3, 4, 5, 6, 7, 8, 9], то код должен получать [0, 9, 2, 7, 4, 5, 6, 3, 8, 1]"
      ]
    },
    {
      "cell_type": "code",
      "metadata": {
        "colab": {
          "base_uri": "https://localhost:8080/"
        },
        "id": "WWwffx6zxthv",
        "outputId": "19292ec0-4667-4632-fc56-cf7bf6602941"
      },
      "source": [
        "mList = [0, 1, 2, 3, 4, 5, 6, 7, 8, 9]\n",
        "\n",
        "for idx in range(int(len(mList)/2)):\n",
        "  if (idx % 2 == 1):\n",
        "    addOne = 0\n",
        "    buf = mList[len(mList) - (len(mList) % 2) - idx]\n",
        "    mList[len(mList) - (len(mList) % 2) - idx] = mList[idx]\n",
        "    mList[idx] = buf\n",
        "\n",
        "print(mList) "
      ],
      "execution_count": 49,
      "outputs": [
        {
          "output_type": "stream",
          "name": "stdout",
          "text": [
            "[0, 9, 2, 7, 4, 5, 6, 3, 8, 1]\n"
          ]
        }
      ]
    },
    {
      "cell_type": "markdown",
      "metadata": {
        "id": "N0eJUHY_1CDE"
      },
      "source": [
        "***Задача 7.***\n",
        "\n",
        "Напишите цикл, который выводит все числа от 0 до 500, делящиеся на 7, если в них есть цифра 8."
      ]
    },
    {
      "cell_type": "code",
      "metadata": {
        "colab": {
          "base_uri": "https://localhost:8080/"
        },
        "id": "EUxWeixu1FS3",
        "outputId": "4c3018b2-dbd0-465c-82d8-fbc923b0cb6e"
      },
      "source": [
        "for i in range(0, 501):\n",
        "  if (i % 7 == 0 and str(i).find(\"8\") != -1):\n",
        "    print(i)"
      ],
      "execution_count": 51,
      "outputs": [
        {
          "output_type": "stream",
          "name": "stdout",
          "text": [
            "28\n",
            "84\n",
            "98\n",
            "168\n",
            "182\n",
            "189\n",
            "238\n",
            "280\n",
            "287\n",
            "308\n",
            "378\n",
            "385\n",
            "448\n",
            "483\n"
          ]
        }
      ]
    },
    {
      "cell_type": "markdown",
      "metadata": {
        "id": "YKphjznX2JdS"
      },
      "source": [
        "\n",
        "***Задача 8.***\n",
        "\n",
        "На вход функция more_than_five(lst) получает список из целых чисел. Результатом работы функции должен стать новый список, в котором содержатся только те числа, которые больше 10 по модулю."
      ]
    },
    {
      "cell_type": "code",
      "metadata": {
        "colab": {
          "base_uri": "https://localhost:8080/"
        },
        "id": "hfmxJteb2Kz6",
        "outputId": "b405c923-4dd0-4a12-ea03-7011b86320d7"
      },
      "source": [
        "def moreThenFive(mList):\n",
        "  outList = []\n",
        "  for i in mList:\n",
        "    if (abs(i) > 10):\n",
        "      outList.append(i)\n",
        "  return outList \n",
        "\n",
        "mList = [-12, -213, -3, 3, 56, 10, 30]\n",
        "print(moreThenFive(mList))"
      ],
      "execution_count": 52,
      "outputs": [
        {
          "output_type": "stream",
          "name": "stdout",
          "text": [
            "[-12, -213, 56, 30]\n"
          ]
        }
      ]
    }
  ]
}