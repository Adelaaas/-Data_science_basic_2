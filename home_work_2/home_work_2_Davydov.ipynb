{
  "nbformat": 4,
  "nbformat_minor": 0,
  "metadata": {
    "colab": {
      "name": "home_work_2_Davydov.ipynb",
      "provenance": []
    },
    "kernelspec": {
      "name": "python3",
      "display_name": "Python 3"
    },
    "language_info": {
      "name": "python"
    }
  },
  "cells": [
    {
      "cell_type": "code",
      "metadata": {
        "id": "2lrHBS_Rjqlh"
      },
      "source": [
        "#1\n",
        "from math import sqrt\n",
        "def distance(x1, y1, x2, y2):\n",
        " return sqrt((x1-x2)**2+(y1-y2)**2)\n",
        "x1,y1,x2,y2=map(int, input().split())\n",
        "print(distance(x1, y1, x2, y2))"
      ],
      "execution_count": null,
      "outputs": []
    },
    {
      "cell_type": "code",
      "metadata": {
        "colab": {
          "base_uri": "https://localhost:8080/"
        },
        "id": "u12xiIiXoRs2",
        "outputId": "8c350d43-ad57-43d8-fe48-4798aae08e96"
      },
      "source": [
        "#2\n",
        "def season(month):\n",
        "  global s\n",
        "  if month == 1 or month == 2 or month == 12:\n",
        "    s = 'Зима'\n",
        "  if month == 3 or month == 4 or month == 5:\n",
        "    s = 'Весна'\n",
        "  if month == 6 or month == 7 or month == 8:\n",
        "    s = 'Лето'\n",
        "  if month == 9 or month == 10 or month == 11:\n",
        "    s = 'Осень'\n",
        "month = int(input())\n",
        "season(month)\n",
        "print(s)"
      ],
      "execution_count": 84,
      "outputs": [
        {
          "output_type": "stream",
          "name": "stdout",
          "text": [
            "4\n",
            "Весна\n"
          ]
        }
      ]
    },
    {
      "cell_type": "code",
      "metadata": {
        "colab": {
          "base_uri": "https://localhost:8080/"
        },
        "id": "pMcjxjVMnFve",
        "outputId": "42efe319-73df-49ab-8550-f1d5f7b02e22"
      },
      "source": [
        "#3\n",
        "def is_prime(n):\n",
        "    global flag, i\n",
        "    i = 2\n",
        "    while i < n:\n",
        "        s = n%i\n",
        "        i ++ 1\n",
        "        if s == 0:\n",
        "            flag = False\n",
        "            return flag\n",
        "        else:\n",
        "            s = n%i\n",
        "            if s != 0:\n",
        "                flag = True\n",
        "                return flag\n",
        "n=int(input())\n",
        "is_prime(n)\n",
        "print(flag)"
      ],
      "execution_count": 82,
      "outputs": [
        {
          "output_type": "stream",
          "name": "stdout",
          "text": [
            "7\n",
            "True\n"
          ]
        }
      ]
    },
    {
      "cell_type": "code",
      "metadata": {
        "colab": {
          "base_uri": "https://localhost:8080/"
        },
        "id": "lZ4qUPzFsofJ",
        "outputId": "0c16cdc4-a449-4a52-cfb3-96f45c95ce0d"
      },
      "source": [
        "#4\n",
        "def reverse_list(lst):\n",
        "  lst_2 = lst[::-1]\n",
        "  return lst_2\n",
        "lst = [3,4,5]\n",
        "print(reverse_list(lst))"
      ],
      "execution_count": 81,
      "outputs": [
        {
          "output_type": "stream",
          "name": "stdout",
          "text": [
            "[5, 4, 3]\n"
          ]
        }
      ]
    },
    {
      "cell_type": "code",
      "metadata": {
        "colab": {
          "base_uri": "https://localhost:8080/"
        },
        "id": "Ptz3s0KQs7SA",
        "outputId": "92f281e4-9682-40f6-ce2b-3c6cdccf00aa"
      },
      "source": [
        "#5\n",
        "s = \"Привет мир!\"\n",
        "print (s[4:9].upper())"
      ],
      "execution_count": 68,
      "outputs": [
        {
          "output_type": "stream",
          "name": "stdout",
          "text": [
            "ЕТ МИ\n"
          ]
        }
      ]
    },
    {
      "cell_type": "code",
      "metadata": {
        "colab": {
          "base_uri": "https://localhost:8080/"
        },
        "id": "6EcmbCV7ur-8",
        "outputId": "5d918039-d6c6-4ea3-cb26-826e21986c43"
      },
      "source": [
        "#6\n",
        "lst = [0, 1, 2, 3, 4, 5, 6, 7, 8, 9]\n",
        "for i in lst:\n",
        "  if lst[i] % 2 == 1:\n",
        "    lst = [lst[i] for i in range(len(lst) - 1, -1, -1)]\n",
        "    i += 1\n",
        "print(lst)"
      ],
      "execution_count": 89,
      "outputs": [
        {
          "output_type": "stream",
          "name": "stdout",
          "text": [
            "[9, 8, 7, 6, 5, 4, 3, 2, 1, 0]\n"
          ]
        }
      ]
    },
    {
      "cell_type": "code",
      "metadata": {
        "colab": {
          "base_uri": "https://localhost:8080/"
        },
        "id": "dPLdxWQLv1oO",
        "outputId": "d43ecd82-6e7e-4c22-a5da-3c1f88a99170"
      },
      "source": [
        "#7\n",
        "for i in range(0,500):\n",
        "  if i%7==0 and '8' in str(i):\n",
        "    print(i)"
      ],
      "execution_count": 94,
      "outputs": [
        {
          "output_type": "stream",
          "name": "stdout",
          "text": [
            "28\n",
            "84\n",
            "98\n",
            "168\n",
            "182\n",
            "189\n",
            "238\n",
            "280\n",
            "287\n",
            "308\n",
            "378\n",
            "385\n",
            "448\n",
            "483\n"
          ]
        }
      ]
    },
    {
      "cell_type": "code",
      "metadata": {
        "colab": {
          "base_uri": "https://localhost:8080/"
        },
        "id": "qbyVrzCUxBmt",
        "outputId": "75689630-251b-43fb-8118-dd9e627ddc3c"
      },
      "source": [
        "#8\n",
        "def more_than_five(lst):\n",
        "  lst_2 = [i for i in lst if abs(i)>10]\n",
        "  return lst_2\n",
        "print(more_than_five([0,1,2,4,23,32,34,38,39,53,60]))"
      ],
      "execution_count": 101,
      "outputs": [
        {
          "output_type": "stream",
          "name": "stdout",
          "text": [
            "[23, 32, 34, 38, 39, 53, 60]\n"
          ]
        }
      ]
    }
  ]
}